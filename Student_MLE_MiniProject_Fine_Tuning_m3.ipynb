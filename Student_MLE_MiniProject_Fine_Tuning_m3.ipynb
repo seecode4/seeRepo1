{
  "cells": [
    {
      "cell_type": "markdown",
      "metadata": {
        "id": "view-in-github",
        "colab_type": "text"
      },
      "source": [
        "<a href=\"https://colab.research.google.com/github/seecode4/seeRepo1/blob/main/Student_MLE_MiniProject_Fine_Tuning_m3.ipynb\" target=\"_parent\"><img src=\"https://colab.research.google.com/assets/colab-badge.svg\" alt=\"Open In Colab\"/></a>"
      ]
    },
    {
      "cell_type": "code",
      "execution_count": null,
      "metadata": {
        "id": "6GNi-C2GV6JT"
      },
      "outputs": [],
      "source": [
        "import numpy as np\n",
        "import tensorflow as tf\n",
        "from tensorflow.keras.datasets import cifar10\n",
        "from tensorflow.keras.applications import VGG16\n",
        "from tensorflow.keras.models import Model\n",
        "from tensorflow.keras.layers import Dense, GlobalAveragePooling2D\n",
        "from tensorflow.keras.optimizers import Adam\n",
        "from tensorflow.keras.utils import to_categorical\n",
        "from tensorflow.keras.backend import resize_images\n",
        "from sklearn.model_selection import train_test_split\n",
        "\n",
        "from tensorflow import keras as K\n",
        "from tensorflow.keras.optimizers import Adagrad\n",
        "from tensorflow.keras.layers import Input, Lambda, Flatten\n",
        "from tensorflow.keras.preprocessing.image import ImageDataGenerator\n",
        "from keras.models import Sequential\n",
        "from keras.initializers import RandomNormal, RandomUniform"
      ]
    },
    {
      "cell_type": "code",
      "execution_count": null,
      "metadata": {
        "colab": {
          "base_uri": "https://localhost:8080/"
        },
        "id": "iZhRH8cBWGLL",
        "outputId": "07204e4e-6cc0-4fad-dc4c-f41c78aa5eb2"
      },
      "outputs": [
        {
          "output_type": "stream",
          "name": "stdout",
          "text": [
            "/content\n",
            "/content\n",
            "sample_data\n",
            "---------\n",
            "Downloading data from https://www.cs.toronto.edu/~kriz/cifar-10-python.tar.gz\n",
            "170498071/170498071 [==============================] - 2s 0us/step\n",
            "x_train_val type: <class 'numpy.ndarray'>, ndim:4, shape:(50000, 32, 32, 3)\n",
            "[[ 59  62  63]\n",
            " [ 43  46  45]\n",
            " [ 50  48  43]\n",
            " [ 68  54  42]\n",
            " [ 98  73  52]\n",
            " [119  91  63]\n",
            " [139 107  75]\n",
            " [145 110  80]\n",
            " [149 117  89]\n",
            " [149 120  93]]\n"
          ]
        }
      ],
      "source": [
        "# Load the CIFAR-10 dataset\n",
        "cifar_home = 'https://www.cs.toronto.edu/~kriz/cifar.html'\n",
        "# from tensorflow.keras.datasets import cifar10\n",
        "%cd /content\n",
        "!pwd\n",
        "!rm -fr cifar*\n",
        "!ls\n",
        "print('---------')\n",
        "(x_train_val, y_train_val), (x_test, y_test) = cifar10.load_data()\n",
        "assert x_train_val.shape == (50000, 32, 32, 3)\n",
        "assert x_test.shape == (10000, 32, 32, 3)\n",
        "assert y_train_val.shape == (50000, 1)\n",
        "assert y_test.shape == (10000, 1)\n",
        "print(f'x_train_val type: {type(x_train_val)}, ndim:{x_train_val.ndim}, shape:{x_train_val.shape}')\n",
        "print(f'{x_train_val[0][0][0:10]}')"
      ]
    },
    {
      "cell_type": "code",
      "execution_count": null,
      "metadata": {
        "colab": {
          "base_uri": "https://localhost:8080/"
        },
        "id": "kPGm0Q8VWN38",
        "outputId": "b927d467-a3ee-4d7f-e500-548d6fb86ebb"
      },
      "outputs": [
        {
          "output_type": "stream",
          "name": "stdout",
          "text": [
            "(50000, 10) (10000, 10)\n"
          ]
        }
      ],
      "source": [
        "# One-hot encode the labels - with to_categorical\n",
        "num_classes = 10\n",
        "y_train_val_1hot = to_categorical(y_train_val, num_classes)\n",
        "y_test_1hot= to_categorical(y_test, num_classes)\n",
        "print(y_train_val_1hot.shape, y_test_1hot.shape)"
      ]
    },
    {
      "cell_type": "code",
      "execution_count": null,
      "metadata": {
        "colab": {
          "base_uri": "https://localhost:8080/"
        },
        "id": "rE64JR6JXSof",
        "outputId": "23df2555-cc7a-407f-9cb2-cfc390a8bce6"
      },
      "outputs": [
        {
          "output_type": "stream",
          "name": "stdout",
          "text": [
            "X_train_val:\n",
            " [[0.2314 0.2431 0.2471]\n",
            " [0.1686 0.1804 0.1765]\n",
            " [0.1961 0.1882 0.1686]\n",
            " [0.2667 0.2118 0.1647]\n",
            " [0.3843 0.2863 0.2039]\n",
            " [0.4667 0.3569 0.2471]\n",
            " [0.5451 0.4196 0.2941]\n",
            " [0.5686 0.4314 0.3137]\n",
            " [0.5843 0.4588 0.349 ]\n",
            " [0.5843 0.4706 0.3647]]...\n",
            "X_test:\n",
            " [[0.6196 0.4392 0.1922]\n",
            " [0.6235 0.4353 0.1843]\n",
            " [0.6471 0.4549 0.2   ]\n",
            " [0.651  0.4627 0.2078]\n",
            " [0.6275 0.4392 0.1804]\n",
            " [0.6118 0.4275 0.1608]\n",
            " [0.6353 0.451  0.1843]\n",
            " [0.6235 0.4431 0.1765]\n",
            " [0.6196 0.4353 0.1725]\n",
            " [0.6235 0.4431 0.1608]]...\n"
          ]
        }
      ],
      "source": [
        "# Normalize the pixel values to [0, 1]\n",
        "np.set_printoptions(precision=4)\n",
        "X_train_val = x_train_val/255\n",
        "print(f'X_train_val:\\n {X_train_val[0][0][0:10]}...')\n",
        "X_test = x_test/255\n",
        "print(f'X_test:\\n {X_test[0][0][0:10]}...')"
      ]
    },
    {
      "cell_type": "code",
      "execution_count": null,
      "metadata": {
        "id": "SBnRli_0WUV1"
      },
      "outputs": [],
      "source": [
        "# Config to make results repeatable/deterministic\n",
        "tf.config.experimental.enable_op_determinism()\n",
        "SEED=42\n",
        "np.random.seed(SEED)\n",
        "tf.random.set_seed(SEED)\n",
        "tf.keras.utils.set_random_seed(SEED)"
      ]
    },
    {
      "cell_type": "code",
      "execution_count": null,
      "metadata": {
        "colab": {
          "base_uri": "https://localhost:8080/"
        },
        "id": "t04XxoQRWYVk",
        "outputId": "34102f9f-ce12-4c31-bc9f-b2e5a5ab7582"
      },
      "outputs": [
        {
          "output_type": "stream",
          "name": "stdout",
          "text": [
            "Model: \"sequential_2\"\n",
            "_________________________________________________________________\n",
            " Layer (type)                Output Shape              Param #   \n",
            "=================================================================\n",
            " block1_conv1 (Conv2D)       (None, 32, 32, 64)        1792      \n",
            "                                                                 \n",
            " block1_conv2 (Conv2D)       (None, 32, 32, 64)        36928     \n",
            "                                                                 \n",
            " block1_pool (MaxPooling2D)  (None, 16, 16, 64)        0         \n",
            "                                                                 \n",
            " block2_conv1 (Conv2D)       (None, 16, 16, 128)       73856     \n",
            "                                                                 \n",
            " block2_conv2 (Conv2D)       (None, 16, 16, 128)       147584    \n",
            "                                                                 \n",
            " block2_pool (MaxPooling2D)  (None, 8, 8, 128)         0         \n",
            "                                                                 \n",
            " block3_conv1 (Conv2D)       (None, 8, 8, 256)         295168    \n",
            "                                                                 \n",
            " block3_conv2 (Conv2D)       (None, 8, 8, 256)         590080    \n",
            "                                                                 \n",
            " block3_conv3 (Conv2D)       (None, 8, 8, 256)         590080    \n",
            "                                                                 \n",
            " block3_pool (MaxPooling2D)  (None, 4, 4, 256)         0         \n",
            "                                                                 \n",
            " block4_conv1 (Conv2D)       (None, 4, 4, 512)         1180160   \n",
            "                                                                 \n",
            " block4_conv2 (Conv2D)       (None, 4, 4, 512)         2359808   \n",
            "                                                                 \n",
            " block4_conv3 (Conv2D)       (None, 4, 4, 512)         2359808   \n",
            "                                                                 \n",
            " block4_pool (MaxPooling2D)  (None, 2, 2, 512)         0         \n",
            "                                                                 \n",
            " block5_conv1 (Conv2D)       (None, 2, 2, 512)         2359808   \n",
            "                                                                 \n",
            " block5_conv2 (Conv2D)       (None, 2, 2, 512)         2359808   \n",
            "                                                                 \n",
            " block5_conv3 (Conv2D)       (None, 2, 2, 512)         2359808   \n",
            "                                                                 \n",
            " block5_pool (MaxPooling2D)  (None, 1, 1, 512)         0         \n",
            "                                                                 \n",
            " global_average_pooling2d_1  (None, 512)               0         \n",
            "  (GlobalAveragePooling2D)                                       \n",
            "                                                                 \n",
            " dense_3 (Dense)             (None, 256)               131328    \n",
            "                                                                 \n",
            " dropout_1 (Dropout)         (None, 256)               0         \n",
            "                                                                 \n",
            " dense_4 (Dense)             (None, 256)               65792     \n",
            "                                                                 \n",
            " dense_5 (Dense)             (None, 10)                2570      \n",
            "                                                                 \n",
            "=================================================================\n",
            "Total params: 14914378 (56.89 MB)\n",
            "Trainable params: 199690 (780.04 KB)\n",
            "Non-trainable params: 14714688 (56.13 MB)\n",
            "_________________________________________________________________\n",
            "None\n"
          ]
        }
      ],
      "source": [
        "base_model = VGG16(\n",
        "    weights='imagenet',  # load weights pretrained on ImageNet\n",
        "    include_top=False,   # exclude the top classifier\n",
        "    input_shape=(32, 32, 3),\n",
        "    pooling='max'        # add a global max pooling layer after each layer\n",
        ")\n",
        "# Freeze the the trainable param (weights and biases) so they are not retrained\n",
        "for layer in base_model.layers:\n",
        "   layer.trainable = False\n",
        "# print(base_model.summary())\n",
        "\n",
        "model3 = Sequential()\n",
        "initializer = RandomNormal(mean=0.0, stddev=1.0, seed=SEED)\n",
        "for layer in base_model.layers[:-1]:\n",
        "    model3.add(layer)\n",
        "\n",
        "# model3.add(Flatten())\n",
        "model3.add(GlobalAveragePooling2D(data_format='channels_last'))\n",
        "model3.add(Dense(256, activation=\"relu\", kernel_initializer='he_normal'))\n",
        "\n",
        "# Try to prevent overfitting\n",
        "model3.add(tf.keras.layers.Dropout(.5))\n",
        "model3.add(Dense(256, activation=\"relu\", kernel_initializer='he_normal'))\n",
        "\n",
        "# Add the final classification layer with 10 units (for CIFAR-10 classes) and softmax activation\n",
        "model3.add(Dense(10, activation='softmax', kernel_initializer=initializer))\n",
        "\n",
        "# Compile the model - use Adagrad optimizer\n",
        "model3.compile(Adagrad(learning_rate=0.001, use_ema=True, ema_momentum=0.9),\n",
        "               loss='categorical_crossentropy', metrics=['accuracy'])\n",
        "print(model3.summary())"
      ]
    },
    {
      "cell_type": "code",
      "execution_count": null,
      "metadata": {
        "id": "uck5vuelY_6w"
      },
      "outputs": [],
      "source": [
        "# # Data Augmentation\n",
        "# datagen_aug = ImageDataGenerator(rotation_range=20,\n",
        "#                              width_shift_range=0.2,\n",
        "#                              height_shift_range=0.2,\n",
        "#                              horizontal_flip=True\n",
        "#                              )\n",
        "# datagen_aug.fit(X_train_val)"
      ]
    },
    {
      "cell_type": "code",
      "execution_count": null,
      "metadata": {
        "colab": {
          "base_uri": "https://localhost:8080/"
        },
        "id": "lp1ILkCGYMEb",
        "outputId": "84b53df5-b24c-4709-f2c0-a568ce19c8c5"
      },
      "outputs": [
        {
          "output_type": "stream",
          "name": "stdout",
          "text": [
            "(50000, 32, 32, 3) (50000, 10)\n",
            "Epoch 1/50\n",
            "625/625 [==============================] - 34s 53ms/step - loss: 4.2886 - accuracy: 0.1921\n",
            "Epoch 2/50\n",
            "625/625 [==============================] - 42s 67ms/step - loss: 2.3882 - accuracy: 0.2560 - val_loss: 1.8594 - val_accuracy: 0.3371\n",
            "Epoch 3/50\n",
            "625/625 [==============================] - 34s 54ms/step - loss: 2.1282 - accuracy: 0.2839\n",
            "Epoch 4/50\n",
            "625/625 [==============================] - 41s 66ms/step - loss: 2.0281 - accuracy: 0.2982 - val_loss: 1.7654 - val_accuracy: 0.3761\n",
            "Epoch 5/50\n",
            "625/625 [==============================] - 34s 54ms/step - loss: 1.9715 - accuracy: 0.3154\n",
            "Epoch 6/50\n",
            "625/625 [==============================] - 41s 66ms/step - loss: 1.9181 - accuracy: 0.3304 - val_loss: 1.7091 - val_accuracy: 0.4055\n",
            "Epoch 7/50\n",
            "625/625 [==============================] - 34s 54ms/step - loss: 1.8769 - accuracy: 0.3443\n",
            "Epoch 8/50\n",
            "625/625 [==============================] - 41s 66ms/step - loss: 1.8540 - accuracy: 0.3553 - val_loss: 1.6650 - val_accuracy: 0.4234\n",
            "Epoch 9/50\n",
            "625/625 [==============================] - 33s 53ms/step - loss: 1.8427 - accuracy: 0.3576\n",
            "Epoch 10/50\n",
            "625/625 [==============================] - 41s 66ms/step - loss: 1.8167 - accuracy: 0.3664 - val_loss: 1.6361 - val_accuracy: 0.4338\n",
            "Epoch 11/50\n",
            "625/625 [==============================] - 34s 54ms/step - loss: 1.7919 - accuracy: 0.3738\n",
            "Epoch 12/50\n",
            "625/625 [==============================] - 42s 67ms/step - loss: 1.7787 - accuracy: 0.3796 - val_loss: 1.6039 - val_accuracy: 0.4444\n",
            "Epoch 13/50\n",
            "625/625 [==============================] - 34s 54ms/step - loss: 1.7678 - accuracy: 0.3815\n",
            "Epoch 14/50\n",
            "625/625 [==============================] - 42s 67ms/step - loss: 1.7564 - accuracy: 0.3861 - val_loss: 1.5819 - val_accuracy: 0.4515\n",
            "Epoch 15/50\n",
            "625/625 [==============================] - 34s 54ms/step - loss: 1.7421 - accuracy: 0.3936\n",
            "Epoch 16/50\n",
            "625/625 [==============================] - 42s 67ms/step - loss: 1.7279 - accuracy: 0.3947 - val_loss: 1.5628 - val_accuracy: 0.4563\n",
            "Epoch 17/50\n",
            "625/625 [==============================] - 34s 54ms/step - loss: 1.7211 - accuracy: 0.3998\n",
            "Epoch 18/50\n",
            "625/625 [==============================] - 42s 67ms/step - loss: 1.7065 - accuracy: 0.4008 - val_loss: 1.5472 - val_accuracy: 0.4620\n",
            "Epoch 19/50\n",
            "625/625 [==============================] - 34s 55ms/step - loss: 1.6994 - accuracy: 0.4061\n",
            "Epoch 20/50\n",
            "625/625 [==============================] - 42s 67ms/step - loss: 1.6916 - accuracy: 0.4077 - val_loss: 1.5319 - val_accuracy: 0.4663\n",
            "Epoch 21/50\n",
            "625/625 [==============================] - 34s 55ms/step - loss: 1.6897 - accuracy: 0.4115\n",
            "Epoch 22/50\n",
            "625/625 [==============================] - 42s 67ms/step - loss: 1.6702 - accuracy: 0.4162 - val_loss: 1.5201 - val_accuracy: 0.4704\n",
            "Epoch 23/50\n",
            "625/625 [==============================] - 34s 54ms/step - loss: 1.6710 - accuracy: 0.4161\n",
            "Epoch 24/50\n",
            "625/625 [==============================] - 42s 67ms/step - loss: 1.6604 - accuracy: 0.4206 - val_loss: 1.5105 - val_accuracy: 0.4735\n",
            "Epoch 25/50\n",
            "625/625 [==============================] - 35s 55ms/step - loss: 1.6549 - accuracy: 0.4220\n",
            "Epoch 26/50\n",
            "625/625 [==============================] - 42s 67ms/step - loss: 1.6480 - accuracy: 0.4241 - val_loss: 1.4989 - val_accuracy: 0.4775\n",
            "Epoch 27/50\n",
            "625/625 [==============================] - 34s 55ms/step - loss: 1.6406 - accuracy: 0.4229\n",
            "Epoch 28/50\n",
            "625/625 [==============================] - 42s 67ms/step - loss: 1.6358 - accuracy: 0.4295 - val_loss: 1.4881 - val_accuracy: 0.4809\n",
            "Epoch 29/50\n",
            "625/625 [==============================] - 34s 54ms/step - loss: 1.6354 - accuracy: 0.4254\n",
            "Epoch 30/50\n",
            "625/625 [==============================] - 42s 68ms/step - loss: 1.6255 - accuracy: 0.4307 - val_loss: 1.4804 - val_accuracy: 0.4826\n",
            "Epoch 31/50\n",
            "625/625 [==============================] - 34s 54ms/step - loss: 1.6166 - accuracy: 0.4320\n",
            "Epoch 32/50\n",
            "625/625 [==============================] - 42s 67ms/step - loss: 1.6182 - accuracy: 0.4361 - val_loss: 1.4739 - val_accuracy: 0.4844\n",
            "Epoch 33/50\n",
            "625/625 [==============================] - 34s 54ms/step - loss: 1.6137 - accuracy: 0.4359\n",
            "Epoch 34/50\n",
            "625/625 [==============================] - 42s 67ms/step - loss: 1.6064 - accuracy: 0.4375 - val_loss: 1.4645 - val_accuracy: 0.4872\n",
            "Epoch 35/50\n",
            "625/625 [==============================] - 34s 54ms/step - loss: 1.6043 - accuracy: 0.4393\n",
            "Epoch 36/50\n",
            "625/625 [==============================] - 42s 67ms/step - loss: 1.6019 - accuracy: 0.4400 - val_loss: 1.4599 - val_accuracy: 0.4865\n",
            "Epoch 37/50\n",
            "625/625 [==============================] - 34s 54ms/step - loss: 1.5953 - accuracy: 0.4399\n",
            "Epoch 38/50\n",
            "625/625 [==============================] - 42s 67ms/step - loss: 1.5920 - accuracy: 0.4430 - val_loss: 1.4533 - val_accuracy: 0.4901\n",
            "Epoch 39/50\n",
            "625/625 [==============================] - 34s 54ms/step - loss: 1.5834 - accuracy: 0.4455\n",
            "Epoch 40/50\n",
            "625/625 [==============================] - 42s 67ms/step - loss: 1.5843 - accuracy: 0.4464 - val_loss: 1.4470 - val_accuracy: 0.4931\n",
            "Epoch 41/50\n",
            "625/625 [==============================] - 34s 54ms/step - loss: 1.5806 - accuracy: 0.4422\n",
            "Epoch 42/50\n",
            "625/625 [==============================] - 42s 67ms/step - loss: 1.5780 - accuracy: 0.4462 - val_loss: 1.4418 - val_accuracy: 0.4938\n",
            "Epoch 43/50\n",
            "625/625 [==============================] - 33s 53ms/step - loss: 1.5729 - accuracy: 0.4494\n",
            "Epoch 44/50\n",
            "625/625 [==============================] - 42s 67ms/step - loss: 1.5691 - accuracy: 0.4493 - val_loss: 1.4351 - val_accuracy: 0.4982\n",
            "Epoch 45/50\n",
            "625/625 [==============================] - 34s 54ms/step - loss: 1.5672 - accuracy: 0.4501\n",
            "Epoch 46/50\n",
            "625/625 [==============================] - 42s 67ms/step - loss: 1.5593 - accuracy: 0.4529 - val_loss: 1.4301 - val_accuracy: 0.4989\n",
            "Epoch 47/50\n",
            "625/625 [==============================] - 34s 54ms/step - loss: 1.5587 - accuracy: 0.4553\n",
            "Epoch 48/50\n",
            "625/625 [==============================] - 42s 67ms/step - loss: 1.5590 - accuracy: 0.4544 - val_loss: 1.4266 - val_accuracy: 0.5011\n",
            "Epoch 49/50\n",
            "625/625 [==============================] - 34s 54ms/step - loss: 1.5549 - accuracy: 0.4564\n",
            "Epoch 50/50\n",
            "625/625 [==============================] - 42s 67ms/step - loss: 1.5434 - accuracy: 0.4579 - val_loss: 1.4221 - val_accuracy: 0.5021\n",
            "CPU times: user 13h 36min 49s, sys: 14h 19min 55s, total: 1d 3h 56min 45s\n",
            "Wall time: 31min 32s\n"
          ]
        },
        {
          "output_type": "execute_result",
          "data": {
            "text/plain": [
              "<keras.src.callbacks.History at 0x7e99d43cdb10>"
            ]
          },
          "metadata": {},
          "execution_count": 12
        }
      ],
      "source": [
        "%%time\n",
        "from tensorflow.keras.callbacks import EarlyStopping, LearningRateScheduler, ModelCheckpoint\n",
        "# def lr_scheduler(epoch):\n",
        "#     return 0.002 * (0.5 ** (epoch // 20))\n",
        "# reduce_lr = LearningRateScheduler(lr_scheduler)\n",
        "\n",
        "# Define a callback to monitor val_accuracy\n",
        "monitor_acc = EarlyStopping(monitor='accuracy',\n",
        "                       min_delta=0.001, patience=4)\n",
        "\n",
        "# Train the model\n",
        "print(X_train_val.shape, y_train_val_1hot.shape)\n",
        "model3.fit(X_train_val, y_train_val_1hot, epochs=50, batch_size=64,\n",
        "          validation_split=0.2, validation_freq=2, verbose=1,\n",
        "          callbacks= [monitor_acc])"
      ]
    },
    {
      "cell_type": "code",
      "source": [
        "# Train the model\n",
        "print(X_train_val.shape, y_train_val_1hot.shape)\n",
        "model3.fit(X_train_val, y_train_val_1hot, epochs=50, batch_size=64,\n",
        "          validation_split=0.2, validation_freq=2, verbose=1,\n",
        "          callbacks= [monitor_acc])"
      ],
      "metadata": {
        "colab": {
          "base_uri": "https://localhost:8080/"
        },
        "id": "aaZwcngy-LIt",
        "outputId": "bf8d5f0f-2334-4d6b-f8ed-98180ec21489"
      },
      "execution_count": null,
      "outputs": [
        {
          "output_type": "stream",
          "name": "stdout",
          "text": [
            "(50000, 32, 32, 3) (50000, 10)\n",
            "Epoch 1/50\n",
            "625/625 [==============================] - 34s 54ms/step - loss: 1.5473 - accuracy: 0.4580\n",
            "Epoch 2/50\n",
            "625/625 [==============================] - 43s 68ms/step - loss: 1.5437 - accuracy: 0.4582 - val_loss: 1.4190 - val_accuracy: 0.5032\n",
            "Epoch 3/50\n",
            "625/625 [==============================] - 34s 55ms/step - loss: 1.5450 - accuracy: 0.4582\n",
            "Epoch 4/50\n",
            "625/625 [==============================] - 42s 67ms/step - loss: 1.5425 - accuracy: 0.4590 - val_loss: 1.4142 - val_accuracy: 0.5050\n",
            "Epoch 5/50\n",
            "625/625 [==============================] - 34s 54ms/step - loss: 1.5322 - accuracy: 0.4627\n",
            "Epoch 6/50\n",
            "625/625 [==============================] - 42s 67ms/step - loss: 1.5321 - accuracy: 0.4651 - val_loss: 1.4101 - val_accuracy: 0.5080\n",
            "Epoch 7/50\n",
            "625/625 [==============================] - 34s 54ms/step - loss: 1.5300 - accuracy: 0.4601\n",
            "Epoch 8/50\n",
            "625/625 [==============================] - 42s 67ms/step - loss: 1.5267 - accuracy: 0.4643 - val_loss: 1.4071 - val_accuracy: 0.5090\n",
            "Epoch 9/50\n",
            "625/625 [==============================] - 34s 54ms/step - loss: 1.5266 - accuracy: 0.4641\n",
            "Epoch 10/50\n",
            "625/625 [==============================] - 42s 67ms/step - loss: 1.5230 - accuracy: 0.4659 - val_loss: 1.4043 - val_accuracy: 0.5107\n"
          ]
        },
        {
          "output_type": "execute_result",
          "data": {
            "text/plain": [
              "<keras.src.callbacks.History at 0x7e99d428afb0>"
            ]
          },
          "metadata": {},
          "execution_count": 13
        }
      ]
    },
    {
      "cell_type": "code",
      "source": [
        "# Train the model\n",
        "print(X_train_val.shape, y_train_val_1hot.shape)\n",
        "model3.fit(X_train_val, y_train_val_1hot, epochs=50, batch_size=64,\n",
        "          validation_split=0.2, validation_freq=2, verbose=1,\n",
        "          callbacks= [monitor_acc])"
      ],
      "metadata": {
        "colab": {
          "base_uri": "https://localhost:8080/"
        },
        "id": "MA2XaHR3AMlp",
        "outputId": "9eb66f38-c570-41bd-f705-2fbf0a8634f5"
      },
      "execution_count": null,
      "outputs": [
        {
          "output_type": "stream",
          "name": "stdout",
          "text": [
            "(50000, 32, 32, 3) (50000, 10)\n",
            "Epoch 1/50\n",
            "625/625 [==============================] - 34s 54ms/step - loss: 1.5233 - accuracy: 0.4658\n",
            "Epoch 2/50\n",
            "625/625 [==============================] - 42s 68ms/step - loss: 1.5254 - accuracy: 0.4651 - val_loss: 1.3999 - val_accuracy: 0.5118\n",
            "Epoch 3/50\n",
            "625/625 [==============================] - 34s 54ms/step - loss: 1.5164 - accuracy: 0.4688\n",
            "Epoch 4/50\n",
            "625/625 [==============================] - 42s 68ms/step - loss: 1.5172 - accuracy: 0.4682 - val_loss: 1.3972 - val_accuracy: 0.5133\n",
            "Epoch 5/50\n",
            "625/625 [==============================] - 34s 54ms/step - loss: 1.5128 - accuracy: 0.4699\n",
            "Epoch 6/50\n",
            "625/625 [==============================] - 42s 67ms/step - loss: 1.5119 - accuracy: 0.4699 - val_loss: 1.3935 - val_accuracy: 0.5121\n",
            "Epoch 7/50\n",
            "625/625 [==============================] - 34s 54ms/step - loss: 1.5060 - accuracy: 0.4719\n",
            "Epoch 8/50\n",
            "625/625 [==============================] - 42s 67ms/step - loss: 1.5096 - accuracy: 0.4733 - val_loss: 1.3906 - val_accuracy: 0.5144\n",
            "Epoch 9/50\n",
            "625/625 [==============================] - 34s 54ms/step - loss: 1.5035 - accuracy: 0.4698\n",
            "Epoch 10/50\n",
            "625/625 [==============================] - 42s 67ms/step - loss: 1.5005 - accuracy: 0.4730 - val_loss: 1.3882 - val_accuracy: 0.5144\n",
            "Epoch 11/50\n",
            "625/625 [==============================] - 34s 54ms/step - loss: 1.4996 - accuracy: 0.4745\n",
            "Epoch 12/50\n",
            "625/625 [==============================] - 41s 66ms/step - loss: 1.5017 - accuracy: 0.4753 - val_loss: 1.3847 - val_accuracy: 0.5154\n",
            "Epoch 13/50\n",
            "625/625 [==============================] - 34s 54ms/step - loss: 1.4956 - accuracy: 0.4744\n",
            "Epoch 14/50\n",
            "625/625 [==============================] - 41s 66ms/step - loss: 1.4918 - accuracy: 0.4780 - val_loss: 1.3814 - val_accuracy: 0.5172\n",
            "Epoch 15/50\n",
            "625/625 [==============================] - 33s 54ms/step - loss: 1.4932 - accuracy: 0.4781\n",
            "Epoch 16/50\n",
            "625/625 [==============================] - 41s 66ms/step - loss: 1.4922 - accuracy: 0.4756 - val_loss: 1.3785 - val_accuracy: 0.5172\n",
            "Epoch 17/50\n",
            "625/625 [==============================] - 34s 54ms/step - loss: 1.4919 - accuracy: 0.4778\n",
            "Epoch 18/50\n",
            "625/625 [==============================] - 41s 66ms/step - loss: 1.4888 - accuracy: 0.4780 - val_loss: 1.3767 - val_accuracy: 0.5203\n"
          ]
        },
        {
          "output_type": "execute_result",
          "data": {
            "text/plain": [
              "<keras.src.callbacks.History at 0x7e99c447dc60>"
            ]
          },
          "metadata": {},
          "execution_count": 14
        }
      ]
    },
    {
      "cell_type": "code",
      "source": [
        "# Train the model\n",
        "print(X_train_val.shape, y_train_val_1hot.shape)\n",
        "model3.fit(X_train_val, y_train_val_1hot, epochs=50, batch_size=1024,\n",
        "          validation_split=0.2, validation_freq=2, verbose=1,\n",
        "          callbacks= [monitor_acc])"
      ],
      "metadata": {
        "colab": {
          "base_uri": "https://localhost:8080/"
        },
        "id": "f1Mlk1IcFQYD",
        "outputId": "a150557b-6904-4ff3-8657-628683ad2d87"
      },
      "execution_count": null,
      "outputs": [
        {
          "output_type": "stream",
          "name": "stdout",
          "text": [
            "(50000, 32, 32, 3) (50000, 10)\n",
            "Epoch 1/50\n",
            "40/40 [==============================] - 16s 381ms/step - loss: 1.4877 - accuracy: 0.4777\n",
            "Epoch 2/50\n",
            "40/40 [==============================] - 19s 478ms/step - loss: 1.4828 - accuracy: 0.4793 - val_loss: 1.3765 - val_accuracy: 0.5205\n",
            "Epoch 3/50\n",
            "40/40 [==============================] - 15s 377ms/step - loss: 1.4881 - accuracy: 0.4778\n",
            "Epoch 4/50\n",
            "40/40 [==============================] - 19s 474ms/step - loss: 1.4840 - accuracy: 0.4813 - val_loss: 1.3763 - val_accuracy: 0.5205\n",
            "Epoch 5/50\n",
            "40/40 [==============================] - 15s 373ms/step - loss: 1.4906 - accuracy: 0.4774\n",
            "Epoch 6/50\n",
            "40/40 [==============================] - 19s 479ms/step - loss: 1.4840 - accuracy: 0.4790 - val_loss: 1.3762 - val_accuracy: 0.5208\n",
            "Epoch 7/50\n",
            "40/40 [==============================] - 15s 382ms/step - loss: 1.4871 - accuracy: 0.4799\n",
            "Epoch 8/50\n",
            "40/40 [==============================] - 19s 478ms/step - loss: 1.4861 - accuracy: 0.4805 - val_loss: 1.3763 - val_accuracy: 0.5206\n"
          ]
        },
        {
          "output_type": "execute_result",
          "data": {
            "text/plain": [
              "<keras.src.callbacks.History at 0x7e99c42a72b0>"
            ]
          },
          "metadata": {},
          "execution_count": 15
        }
      ]
    },
    {
      "cell_type": "code",
      "execution_count": null,
      "metadata": {
        "id": "gizF4wI3YTao",
        "colab": {
          "base_uri": "https://localhost:8080/"
        },
        "outputId": "ac5677e8-2c6f-46b9-9d56-b4a53824c031"
      },
      "outputs": [
        {
          "output_type": "stream",
          "name": "stdout",
          "text": [
            "313/313 [==============================] - 11s 34ms/step\n",
            "(10000, 10) (10000, 10)\n"
          ]
        }
      ],
      "source": [
        "# Evaluate the model on the test set\n",
        "from sklearn.metrics import roc_auc_score, confusion_matrix\n",
        "\n",
        "y_test_pred = model3.predict(X_test)\n",
        "print(y_test_1hot.shape, y_test_pred.shape)"
      ]
    },
    {
      "cell_type": "code",
      "execution_count": null,
      "metadata": {
        "id": "maS0qO0VYZSS",
        "colab": {
          "base_uri": "https://localhost:8080/"
        },
        "outputId": "9967c16b-803a-4b67-f9f5-5a0371036b9e"
      },
      "outputs": [
        {
          "output_type": "stream",
          "name": "stdout",
          "text": [
            "roc_auc_score: 0.8899618222222221\n",
            "(10000,) (10000,)\n",
            "<class 'numpy.ndarray'> <class 'numpy.ndarray'>\n",
            "[[542  40 104  33  34   6  13  21 141  66]\n",
            " [ 23 577  19  39  13  18  35  26  47 203]\n",
            " [ 69  32 405  61 189  48 114  38  21  23]\n",
            " [ 12  69  86 313 133 107 122  39  22  97]\n",
            " [ 18  17  72  43 621  20  69  71  36  33]\n",
            " [  9  38 110 195 110 347  53  85   9  44]\n",
            " [  8  38  61  68 148  30 601   6  13  27]\n",
            " [ 13  22  74  53 166  46  12 495  16 103]\n",
            " [ 82  83  19  18  38   2  11   6 644  97]\n",
            " [ 32 156  14  38  35   8  23  40  57 597]]\n"
          ]
        }
      ],
      "source": [
        "test_score = roc_auc_score(y_test_1hot, y_test_pred)\n",
        "print(\"roc_auc_score:\", test_score)\n",
        "\n",
        "y_test_pred_val = np.argmax(y_test_pred, axis=1).reshape(-1,)\n",
        "y_test_val = np.ravel(y_test)\n",
        "print(y_test_val.shape, y_test_pred_val.shape)\n",
        "print(type(y_test), type(y_test_pred_val))\n",
        "\n",
        "cm = confusion_matrix(y_test_val, y_test_pred_val)\n",
        "print(cm)"
      ]
    },
    {
      "cell_type": "markdown",
      "source": [
        "Summary in Student_MLE_MiniProject_Fine_Tuning_m3a.ipynb"
      ],
      "metadata": {
        "id": "vILMXxLqYTQr"
      }
    }
  ],
  "metadata": {
    "accelerator": "TPU",
    "colab": {
      "gpuType": "V28",
      "provenance": [],
      "authorship_tag": "ABX9TyOmCmei9cBfT5xMQqnF/+SF",
      "include_colab_link": true
    },
    "kernelspec": {
      "display_name": "Python 3",
      "name": "python3"
    },
    "language_info": {
      "name": "python"
    }
  },
  "nbformat": 4,
  "nbformat_minor": 0
}