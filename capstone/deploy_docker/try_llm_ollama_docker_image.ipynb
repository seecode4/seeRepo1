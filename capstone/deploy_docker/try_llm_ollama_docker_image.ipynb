{
  "nbformat": 4,
  "nbformat_minor": 0,
  "metadata": {
    "colab": {
      "provenance": [],
      "gpuType": "T4",
      "mount_file_id": "1BNccX1ercw9zpNMjnDUXT2T4K4E6R1Lh",
      "authorship_tag": "ABX9TyMu7DhWYpweHjpAeGZ026dj",
      "include_colab_link": true
    },
    "kernelspec": {
      "name": "python3",
      "display_name": "Python 3"
    },
    "language_info": {
      "name": "python"
    },
    "accelerator": "GPU"
  },
  "cells": [
    {
      "cell_type": "markdown",
      "metadata": {
        "id": "view-in-github",
        "colab_type": "text"
      },
      "source": [
        "<a href=\"https://colab.research.google.com/github/seecode4/seeRepo1/blob/main/capstone/deploy_docker/try_llm_ollama_docker_image.ipynb\" target=\"_parent\"><img src=\"https://colab.research.google.com/assets/colab-badge.svg\" alt=\"Open In Colab\"/></a>"
      ]
    },
    {
      "cell_type": "markdown",
      "source": [
        "### Capstone Steps 10, 11 - Deployment Solution and Implementation\n",
        "\n"
      ],
      "metadata": {
        "id": "l0tJukA_45sc"
      }
    },
    {
      "cell_type": "markdown",
      "source": [
        "## Using a LLM with Ollama Api for Triviaqa\n",
        "Example below is to do the following using udocker in colab\n",
        "* enable GPU use for running a docker image (see a spike in GPU RAM usage when the model runs)\n",
        "* download docker image (seedock4/my-llm-ollama-app:01) from docker hub\n",
        "* create docker container\n",
        "* create .env file to use llama3.1:8b LLM model, numques=1000\n",
        "* run container and check output files in test dir\n",
        "* display results from the test files  \n",
        "\n",
        "With this image, the [llama3.1 with 8B parameters](https://huggingface.co/meta-llama/Llama-3.1-8B)\n",
        "large language models (LLM) is used to answer questions from the\n",
        " [triviaqa](https://github.com/mandarjoshi90/triviaqa) dataset.\n",
        " [Ollama](https://ollama.com/) is used to download the llm model and use it.\n",
        "\n",
        "Summary results using a T4 GPU below. Note that minor variations will be seen in different runs. </br>\n",
        "\n",
        "Model: llama3.1:8b</br>\n",
        ">Num qa: 1000</br>\n",
        "Got correct ans for 689 (68.90%) </br>\n",
        "Average TimetoAnswer: 0.25sec. </br>\n",
        "A bar plot based on the BLUE-1gram score is shown as well</br>\n",
        "\n",
        "Model: gemma2 </br>\n",
        ">Num qa: 1000</br>\n",
        "Got correct ans for 672 (67.20%) </br>\n",
        "Average TimetoAnswer: 0.37sec. </br>\n",
        "A bar plot based on the BLUE-1gram score is shown as well</br>\n"
      ],
      "metadata": {
        "id": "suUNnh_TFPUa"
      }
    },
    {
      "cell_type": "code",
      "source": [
        "# sudo apt install pciutils from terminal for each new runtime session\n",
        "# needed to allow use of GPU - using T4 GPU in colab\n",
        "!lspci\n",
        "gpu_info = !nvidia-smi\n",
        "gpu_info = '\\n'.join(gpu_info)\n",
        "if gpu_info.find('failed') >= 0:\n",
        "  print('Not connected to a GPU')\n",
        "else:\n",
        "  print(gpu_info)"
      ],
      "metadata": {
        "colab": {
          "base_uri": "https://localhost:8080/"
        },
        "id": "qNYbDbURc_f3",
        "outputId": "a9b7f1f1-d708-46bb-f746-5f7ff8945e25"
      },
      "execution_count": 1,
      "outputs": [
        {
          "output_type": "stream",
          "name": "stdout",
          "text": [
            "00:00.0 Host bridge: Intel Corporation 440FX - 82441FX PMC [Natoma] (rev 02)\n",
            "00:01.0 ISA bridge: Intel Corporation 82371AB/EB/MB PIIX4 ISA (rev 03)\n",
            "00:01.3 Bridge: Intel Corporation 82371AB/EB/MB PIIX4 ACPI (rev 03)\n",
            "00:03.0 Non-VGA unclassified device: Red Hat, Inc. Virtio SCSI\n",
            "00:04.0 3D controller: NVIDIA Corporation TU104GL [Tesla T4] (rev a1)\n",
            "00:05.0 Ethernet controller: Red Hat, Inc. Virtio network device\n",
            "00:06.0 Unclassified device [00ff]: Red Hat, Inc. Virtio RNG\n",
            "Sun Jan  5 23:48:05 2025       \n",
            "+---------------------------------------------------------------------------------------+\n",
            "| NVIDIA-SMI 535.104.05             Driver Version: 535.104.05   CUDA Version: 12.2     |\n",
            "|-----------------------------------------+----------------------+----------------------+\n",
            "| GPU  Name                 Persistence-M | Bus-Id        Disp.A | Volatile Uncorr. ECC |\n",
            "| Fan  Temp   Perf          Pwr:Usage/Cap |         Memory-Usage | GPU-Util  Compute M. |\n",
            "|                                         |                      |               MIG M. |\n",
            "|=========================================+======================+======================|\n",
            "|   0  Tesla T4                       Off | 00000000:00:04.0 Off |                    0 |\n",
            "| N/A   44C    P8              11W /  70W |      0MiB / 15360MiB |      0%      Default |\n",
            "|                                         |                      |                  N/A |\n",
            "+-----------------------------------------+----------------------+----------------------+\n",
            "                                                                                         \n",
            "+---------------------------------------------------------------------------------------+\n",
            "| Processes:                                                                            |\n",
            "|  GPU   GI   CI        PID   Type   Process name                            GPU Memory |\n",
            "|        ID   ID                                                             Usage      |\n",
            "|=======================================================================================|\n",
            "|  No running processes found                                                           |\n",
            "+---------------------------------------------------------------------------------------+\n"
          ]
        }
      ]
    },
    {
      "cell_type": "code",
      "source": [
        "# Install docker.io\n",
        "from IPython.display import clear_output\n",
        "!apt-get update\n",
        "!apt-get install docker.io -y\n",
        "clear_output()"
      ],
      "metadata": {
        "id": "spASGYS55KDF"
      },
      "execution_count": 3,
      "outputs": []
    },
    {
      "cell_type": "code",
      "source": [
        "# Mount google drive and copy needed files to the local space\n",
        "# Create working directory and data and test folders under it\n",
        "# Copy triviaqa input json file to data\n",
        "!mkdir /content/for_step11_deploy\n",
        "!mkdir /content/for_step11_deploy/data\n",
        "!mkdir /content/for_step11_deploy/test"
      ],
      "metadata": {
        "colab": {
          "base_uri": "https://localhost:8080/"
        },
        "id": "jhURfgLC4eTE",
        "outputId": "11c17eba-b8fe-4f61-d3c7-2122dbad1931"
      },
      "execution_count": 6,
      "outputs": [
        {
          "output_type": "stream",
          "name": "stdout",
          "text": [
            "mkdir: cannot create directory ‘/content/for_step11_deploy’: File exists\n",
            "mkdir: cannot create directory ‘/content/for_step11_deploy/data’: File exists\n",
            "mkdir: cannot create directory ‘/content/for_step11_deploy/test’: File exists\n"
          ]
        }
      ]
    },
    {
      "cell_type": "code",
      "source": [
        "# Create .env file in local space and check\n",
        "%cd /content/for_step11_deploy\n",
        "!pwd\n",
        "!ls -alrt . ./data ./test\n",
        "!echo \"................\"\n",
        "!grep EVAR .env"
      ],
      "metadata": {
        "colab": {
          "base_uri": "https://localhost:8080/"
        },
        "id": "IEwekFfbAbi_",
        "outputId": "dcf38457-cd35-45d5-93e2-89fcf949fa44"
      },
      "execution_count": 27,
      "outputs": [
        {
          "output_type": "stream",
          "name": "stdout",
          "text": [
            "/content/for_step11_deploy\n",
            "/content/for_step11_deploy\n",
            "./test:\n",
            "total 8\n",
            "drwxr-xr-x 2 root root 4096 Jan  5 23:54 .\n",
            "drwxr-xr-x 4 root root 4096 Jan  6 00:24 ..\n",
            "\n",
            "./data:\n",
            "total 16924\n",
            "-rw------- 1 root root 17318460 Dec 14 03:55 wikipedia-dev.json\n",
            "drwxr-xr-x 2 root root     4096 Jan  6 00:21 .\n",
            "drwxr-xr-x 4 root root     4096 Jan  6 00:24 ..\n",
            "\n",
            ".:\n",
            "total 20\n",
            "drwxr-xr-x 2 root root 4096 Jan  5 23:54 test\n",
            "drwxr-xr-x 1 root root 4096 Jan  5 23:54 ..\n",
            "-rw-r--r-- 1 root root  195 Jan  5 23:58 .env\n",
            "drwxr-xr-x 2 root root 4096 Jan  6 00:21 data\n",
            "drwxr-xr-x 4 root root 4096 Jan  6 00:24 .\n",
            "................\n",
            "EVAR_VERBOSE=1\n",
            "# EVAR_DATAPATH\n",
            "EVAR_NUMQUES=1000\n",
            "# EVAR_MODELNAME=\"gemma2\"\n",
            "EVAR_EVAL=1\n",
            "EVAR_ISDOCKER=1\n",
            "EVAR_FLASK_NGROK=0\n"
          ]
        }
      ]
    },
    {
      "cell_type": "code",
      "source": [
        "# Need udocker to run docker image in colab\n",
        "# Ref: https://indigo-dc.github.io/udocker/user_manual.html\n",
        "!docker --version\n",
        "# !apt-get install -y udocker\n",
        "!pip install udocker\n",
        "!udocker --allow-root install\n",
        "!udocker --allow-root --version"
      ],
      "metadata": {
        "colab": {
          "base_uri": "https://localhost:8080/"
        },
        "id": "7cp3l6pjJiKe",
        "outputId": "8bf215fa-bf30-4b39-f6cf-bba90a248412"
      },
      "execution_count": 8,
      "outputs": [
        {
          "output_type": "stream",
          "name": "stdout",
          "text": [
            "Docker version 24.0.7, build 24.0.7-0ubuntu2~22.04.1\n",
            "Collecting udocker\n",
            "  Downloading udocker-1.3.17-py2.py3-none-any.whl.metadata (37 kB)\n",
            "Downloading udocker-1.3.17-py2.py3-none-any.whl (119 kB)\n",
            "\u001b[2K   \u001b[90m━━━━━━━━━━━━━━━━━━━━━━━━━━━━━━━━━━━━━━━━\u001b[0m \u001b[32m119.6/119.6 kB\u001b[0m \u001b[31m13.8 MB/s\u001b[0m eta \u001b[36m0:00:00\u001b[0m\n",
            "\u001b[?25hInstalling collected packages: udocker\n",
            "Successfully installed udocker-1.3.17\n",
            "Info: creating repo: /root/.udocker\n",
            "Info: udocker command line interface 1.3.17\n",
            "Info: searching for udockertools >= 1.2.11\n",
            "Info: installing udockertools 1.2.11\n",
            "Info: installation of udockertools successful\n",
            "version: 1.3.17\n",
            "tarball: https://download.a.incd.pt/udocker/udocker-englib-1.2.11.tar.gz https://raw.githubusercontent.com/jorge-lip/udocker-builds/master/tarballs/udocker-englib-1.2.11.tar.gz\n",
            "tarball_release: 1.2.11\n"
          ]
        }
      ]
    },
    {
      "cell_type": "code",
      "source": [
        "%%time\n",
        "# Ensure docker image download is good\n",
        "!udocker  --allow-root pull hello-world\n",
        "!udocker  --allow-root run hello-world"
      ],
      "metadata": {
        "colab": {
          "base_uri": "https://localhost:8080/"
        },
        "id": "VUIGWeBwNsjK",
        "outputId": "895ed167-5fee-42c0-d44e-e56fa25e9670"
      },
      "execution_count": 9,
      "outputs": [
        {
          "output_type": "stream",
          "name": "stdout",
          "text": [
            "Info: downloading layer sha256:d2c94e258dcb3c5ac2798d32e1249e42ef01cba4841c2234249495f87264ac5a\n",
            "Info: downloading layer sha256:c1ec31eb59444d78df06a974d155e597c894ab4cda84f08294145e845394988e\n",
            "Warning: check container content: cfbfed05-6f69-3b41-89a0-a90995efc021\n",
            " \n",
            " ****************************************************************************** \n",
            " *                                                                            * \n",
            " *               STARTING cfbfed05-6f69-3b41-89a0-a90995efc021                * \n",
            " *                                                                            * \n",
            " ****************************************************************************** \n",
            " executing: hello\n",
            "\n",
            "Hello from Docker!\n",
            "This message shows that your installation appears to be working correctly.\n",
            "\n",
            "To generate this message, Docker took the following steps:\n",
            " 1. The Docker client contacted the Docker daemon.\n",
            " 2. The Docker daemon pulled the \"hello-world\" image from the Docker Hub.\n",
            "    (amd64)\n",
            " 3. The Docker daemon created a new container from that image which runs the\n",
            "    executable that produces the output you are currently reading.\n",
            " 4. The Docker daemon streamed that output to the Docker client, which sent it\n",
            "    to your terminal.\n",
            "\n",
            "To try something more ambitious, you can run an Ubuntu container with:\n",
            " $ docker run -it ubuntu bash\n",
            "\n",
            "Share images, automate workflows, and more with a free Docker ID:\n",
            " https://hub.docker.com/\n",
            "\n",
            "For more examples and ideas, visit:\n",
            " https://docs.docker.com/get-started/\n",
            "\n",
            "CPU times: user 66.3 ms, sys: 8.37 ms, total: 74.6 ms\n",
            "Wall time: 11.4 s\n"
          ]
        }
      ]
    },
    {
      "cell_type": "code",
      "source": [
        "# !mkdir /content/for_step11_deploy/test\n",
        "!ls -lart /content/for_step11_deploy/\n",
        "!pwd\n",
        "# !ls ./*.tar"
      ],
      "metadata": {
        "colab": {
          "base_uri": "https://localhost:8080/"
        },
        "id": "20V1WE8dOWPG",
        "outputId": "3460ebf0-c737-4482-d0d5-e07efe743cf8"
      },
      "execution_count": 11,
      "outputs": [
        {
          "output_type": "stream",
          "name": "stdout",
          "text": [
            "total 16936\n",
            "-rw------- 1 root root 17318460 Dec 14 03:55 wikipedia-dev.json\n",
            "drwxr-xr-x 2 root root     4096 Jan  5 23:54 test\n",
            "drwxr-xr-x 2 root root     4096 Jan  5 23:54 data\n",
            "drwxr-xr-x 1 root root     4096 Jan  5 23:54 ..\n",
            "-rw-r--r-- 1 root root      195 Jan  5 23:58 .env\n",
            "drwxr-xr-x 4 root root     4096 Jan  5 23:58 .\n",
            "/content/for_step11_deploy\n"
          ]
        }
      ]
    },
    {
      "cell_type": "code",
      "source": [
        "%%time\n",
        "# Pull my-llm-ollama-app docker image from docker hub\n",
        "!udocker --allow-root pull seedock4/my-llm-ollama-app:01"
      ],
      "metadata": {
        "colab": {
          "base_uri": "https://localhost:8080/"
        },
        "id": "vPb64PACAll_",
        "outputId": "65ea0ed7-5447-437e-cb4f-8b6da9caf6b9"
      },
      "execution_count": 12,
      "outputs": [
        {
          "output_type": "stream",
          "name": "stdout",
          "text": [
            "Info: downloading layer sha256:28a77408351e8a6b13f592e2a350a4a7d7745032d489fedb5961ecdb5eb69981\n",
            "Info: downloading layer sha256:22a5e694c34e5977d38a7a5d06324dc25ab2e0cd508b06ea73cfe0bce202ff41\n",
            "Info: downloading layer sha256:6e16d395333f9a995e7ca1f97c4c1f335909efff4569257691e528ffff1cd09b\n",
            "Info: downloading layer sha256:f719af828b8d7d9255cafda857092423fb1163abc853b8753e32eedf433a01fa\n",
            "Info: downloading layer sha256:d564b881ce3054bc1796b7574ba4f650fe2262a1b902c0d5bb74da2662f933b8\n",
            "Info: downloading layer sha256:f56e1ca20e4dfcc929d47fd61b8012ae729f636b46f2bf61012b3ebe72bbb613\n",
            "Info: downloading layer sha256:aa759fe8607db6a9219c4db9a25ffeed18a8e0bb9ad53021670e5edfc10c2069\n",
            "Info: downloading layer sha256:0b70a6bde9571eb7cbea78f67cbbbe52ab8f12c177f3f102302b36acaab34502\n",
            "Info: downloading layer sha256:27486011ab6e200aa307387beda4a31a139d8f57ad11b930cee64cd03916a857\n",
            "Info: downloading layer sha256:0b8fdaf3b4890e681f76faa79c32a1eb3218e062cd93d43e0f0af2da294a8bb8\n",
            "Info: downloading layer sha256:0aa4295d6be3889d6ea22d37b21d6688425b551d10f1884cfc5276c9a9586072\n",
            "Info: downloading layer sha256:69ed005984ad205e06a84a3d971df9b0452c0661441676c055913f36e3e80203\n",
            "Info: downloading layer sha256:30c7a22033ca54c533f968d640864c2605cfa2643e0934ad13ca8d346701e574\n",
            "Info: downloading layer sha256:9c94b131279a02de1f5c2eb72e9cda9830b128840470843e0761a45d7bebbefe\n",
            "Info: downloading layer sha256:c485c4ba383179db59368a8a4d2df3e783620647fe0b014331c7fd2bd8526e5b\n",
            "Info: downloading layer sha256:9b1fd34c30b75e7edb20c2fd09a9862697f302ef9ae357e521ef3c84d5534e3f\n",
            "Info: downloading layer sha256:d31b0195ec5f04dfc78eca9d73b5d223fc36a29f54ee888bc4e0615b5839e692\n",
            "Info: downloading layer sha256:de4cac68b6165c40cf6f8b30417948c31be03a968e233e55ee40221553a5e570\n",
            "CPU times: user 401 ms, sys: 58.3 ms, total: 460 ms\n",
            "Wall time: 1min 18s\n"
          ]
        }
      ]
    },
    {
      "cell_type": "code",
      "source": [
        "%%time\n",
        "# List docker images\n",
        "!udocker --allow-root images"
      ],
      "metadata": {
        "colab": {
          "base_uri": "https://localhost:8080/"
        },
        "id": "oy9r8hbudqaE",
        "outputId": "7e91722a-3061-42ff-8b62-ecb04ba5c96e"
      },
      "execution_count": 13,
      "outputs": [
        {
          "output_type": "stream",
          "name": "stdout",
          "text": [
            "REPOSITORY\n",
            "seedock4/my-llm-ollama-app:01    .\n",
            "hello-world:latest    .\n",
            "CPU times: user 5.21 ms, sys: 0 ns, total: 5.21 ms\n",
            "Wall time: 105 ms\n"
          ]
        }
      ]
    },
    {
      "cell_type": "code",
      "source": [
        "%%time\n",
        "# # Create docker container\n",
        "!udocker --allow-root create --name=my-llm-ollama-cont seedock4/my-llm-ollama-app:01"
      ],
      "metadata": {
        "colab": {
          "base_uri": "https://localhost:8080/"
        },
        "id": "rc7U0x66Etk5",
        "outputId": "6a99348e-878a-4122-bae6-a3deaacdaa0e"
      },
      "execution_count": 14,
      "outputs": [
        {
          "output_type": "stream",
          "name": "stdout",
          "text": [
            "9d6a6aa4-a6f2-3231-a457-7c05e036d9e6\n",
            "CPU times: user 764 ms, sys: 98.1 ms, total: 862 ms\n",
            "Wall time: 2min 31s\n"
          ]
        }
      ]
    },
    {
      "cell_type": "code",
      "source": [
        "%%time\n",
        "# Setup for GPU use\n",
        "!udocker --allow-root setup --nvidia my-llm-ollama-cont"
      ],
      "metadata": {
        "colab": {
          "base_uri": "https://localhost:8080/"
        },
        "id": "K6V8_PeMEyJ5",
        "outputId": "5f09aeea-7c4e-42f6-b820-4e1846725f5a"
      },
      "execution_count": 15,
      "outputs": [
        {
          "output_type": "stream",
          "name": "stdout",
          "text": [
            "Info: Cont, has files from previous nvidia install\n",
            "Error: creating nvidia dir /root/.udocker/containers/my-llm-ollama-cont/ROOT//etc/vulkan/icd.d\n",
            "Warn: nvidia file in config not found /etc/vulkan/icd.d/nvidia_icd.json\n",
            "Error: creating nvidia dir /root/.udocker/containers/my-llm-ollama-cont/ROOT//etc/OpenCL/vendors\n",
            "Warn: nvidia file in config not found /etc/OpenCL/vendors/nvidia.icd\n",
            "Info: nvidia mode set\n",
            "CPU times: user 7.85 ms, sys: 698 µs, total: 8.55 ms\n",
            "Wall time: 506 ms\n"
          ]
        }
      ]
    },
    {
      "cell_type": "code",
      "source": [
        "# Check if docker image is present locally\n",
        "!pwd\n",
        "!ls -lrt\n",
        "!ls  /root/.udocker/repos/seedock4/my-llm-ollama-app/01"
      ],
      "metadata": {
        "colab": {
          "base_uri": "https://localhost:8080/"
        },
        "id": "hO2jnk6H6_cD",
        "outputId": "d7a41c30-5819-4734-c0ae-aca931d7d1b7"
      },
      "execution_count": 16,
      "outputs": [
        {
          "output_type": "stream",
          "name": "stdout",
          "text": [
            "/content/for_step11_deploy\n",
            "total 16924\n",
            "-rw------- 1 root root 17318460 Dec 14 03:55 wikipedia-dev.json\n",
            "drwxr-xr-x 2 root root     4096 Jan  5 23:54 test\n",
            "drwxr-xr-x 2 root root     4096 Jan  5 23:54 data\n",
            "manifest\n",
            "sha256:0aa4295d6be3889d6ea22d37b21d6688425b551d10f1884cfc5276c9a9586072\n",
            "sha256:0b70a6bde9571eb7cbea78f67cbbbe52ab8f12c177f3f102302b36acaab34502\n",
            "sha256:0b8fdaf3b4890e681f76faa79c32a1eb3218e062cd93d43e0f0af2da294a8bb8\n",
            "sha256:22a5e694c34e5977d38a7a5d06324dc25ab2e0cd508b06ea73cfe0bce202ff41\n",
            "sha256:27486011ab6e200aa307387beda4a31a139d8f57ad11b930cee64cd03916a857\n",
            "sha256:28a77408351e8a6b13f592e2a350a4a7d7745032d489fedb5961ecdb5eb69981\n",
            "sha256:30c7a22033ca54c533f968d640864c2605cfa2643e0934ad13ca8d346701e574\n",
            "sha256:69ed005984ad205e06a84a3d971df9b0452c0661441676c055913f36e3e80203\n",
            "sha256:6e16d395333f9a995e7ca1f97c4c1f335909efff4569257691e528ffff1cd09b\n",
            "sha256:9b1fd34c30b75e7edb20c2fd09a9862697f302ef9ae357e521ef3c84d5534e3f\n",
            "sha256:9c94b131279a02de1f5c2eb72e9cda9830b128840470843e0761a45d7bebbefe\n",
            "sha256:aa759fe8607db6a9219c4db9a25ffeed18a8e0bb9ad53021670e5edfc10c2069\n",
            "sha256:c485c4ba383179db59368a8a4d2df3e783620647fe0b014331c7fd2bd8526e5b\n",
            "sha256:d31b0195ec5f04dfc78eca9d73b5d223fc36a29f54ee888bc4e0615b5839e692\n",
            "sha256:d564b881ce3054bc1796b7574ba4f650fe2262a1b902c0d5bb74da2662f933b8\n",
            "sha256:de4cac68b6165c40cf6f8b30417948c31be03a968e233e55ee40221553a5e570\n",
            "sha256:f56e1ca20e4dfcc929d47fd61b8012ae729f636b46f2bf61012b3ebe72bbb613\n",
            "sha256:f719af828b8d7d9255cafda857092423fb1163abc853b8753e32eedf433a01fa\n",
            "TAG\n",
            "v2\n"
          ]
        }
      ]
    },
    {
      "cell_type": "code",
      "source": [
        "%%time\n",
        "!udocker --allow-root run --env-file=/content/for_step11_deploy/.env \\\n",
        "  -v=/content/for_step11_deploy:/target \\\n",
        "  -p 5000:5000 -p 53:53 my-llm-ollama-cont > output_app_log.txt 2>&1\n",
        "clear_output()"
      ],
      "metadata": {
        "colab": {
          "base_uri": "https://localhost:8080/"
        },
        "id": "5FoTB4odHivS",
        "outputId": "60afb4dd-831f-4d89-e061-6e4b732346d6"
      },
      "execution_count": 28,
      "outputs": [
        {
          "output_type": "stream",
          "name": "stdout",
          "text": [
            "CPU times: user 1.82 s, sys: 243 ms, total: 2.06 s\n",
            "Wall time: 6min 4s\n"
          ]
        }
      ]
    },
    {
      "cell_type": "code",
      "source": [
        "# Ensure ollama process is terminated\n",
        "!ps -aux |grep ollama\n",
        "!pwd\n",
        "!ls -lrt test\n",
        "# !curl http://127.0.0.1:5000/ -v"
      ],
      "metadata": {
        "id": "z-9JHl-MgdV1",
        "colab": {
          "base_uri": "https://localhost:8080/"
        },
        "outputId": "ab384e8f-2324-413e-df2c-3d2cf7ff38e1"
      },
      "execution_count": 29,
      "outputs": [
        {
          "output_type": "stream",
          "name": "stdout",
          "text": [
            "root       17683  0.0  0.0   7376  3576 ?        S    00:31   0:00 /bin/bash -c ps -aux |grep ollama\n",
            "root       17685  0.0  0.0   6484  2240 ?        S    00:31   0:00 grep ollama\n",
            "/content/for_step11_deploy\n",
            "total 580\n",
            "-rw-r--r-- 1 root root      0 Jan  6 00:24 output_ollama_pull.txt\n",
            "-rw-r--r-- 1 root root    115 Jan  6 00:26 output_ollama_list.txt\n",
            "-rw-r--r-- 1 root root    199 Jan  6 00:30 test-llama3.1-8b-wikipedia-dev-metrics.txt\n",
            "-rw-r--r-- 1 root root  25746 Jan  6 00:30 test-llama3.1-8b-wikipedia-dev-bar_plot.png\n",
            "-rw-r--r-- 1 root root 549928 Jan  6 00:30 test-llama3.1-8b-wikipedia-dev.json\n",
            "-rw-r--r-- 1 root root     22 Jan  6 00:30 output_ollama_rm.txt\n"
          ]
        }
      ]
    },
    {
      "cell_type": "code",
      "source": [
        "# Display Metrics from saved files\n",
        "!pwd\n",
        "!cat ./test/test-llama3.1-8b-wikipedia-dev-metrics.txt\n",
        "!echo \"................\"\n",
        "\n",
        "from IPython.display import Image\n",
        "import base64\n",
        "\n",
        "def read_b64_image_from_file(file_path):\n",
        "  \"\"\"Reads a base64 encoded image string from a file and decodes it.\"\"\"\n",
        "\n",
        "  with open(file_path, \"r\") as f:\n",
        "    base64_string = f.read()\n",
        "\n",
        "  # Decode the base64 string\n",
        "  image_bytes = base64.b64decode(base64_string)\n",
        "  return image_bytes\n",
        "\n",
        "# Example usage\n",
        "fname = \"/content/for_step11_deploy/test/test-llama3.1-8b-wikipedia-dev-bar_plot.png\"\n",
        "with open(fname, \"rb\") as img_file:\n",
        "    b64_bytes = base64.b64encode(img_file.read())\n",
        "    b64_string = b64_bytes.decode('utf-8')\n",
        "\n",
        "# Decode the base64 string\n",
        "decoded_image = base64.b64decode(b64_string)\n",
        "\n",
        "# Display the image\n",
        "display(Image(data=decoded_image, format='png'))"
      ],
      "metadata": {
        "colab": {
          "base_uri": "https://localhost:8080/",
          "height": 714
        },
        "id": "DPBaMq75wOeT",
        "outputId": "7e2342de-33fe-4e2b-b9c2-c7992c6974ec"
      },
      "execution_count": 30,
      "outputs": [
        {
          "output_type": "stream",
          "name": "stdout",
          "text": [
            "/content/for_step11_deploy\n",
            "----------\n",
            "Num qa: 1000, Got correct ans for 689 (68.90%) \n",
            "Average TimetoAnswer: 0.25sec. \n",
            "MetricBLEUscore \n",
            "(-0.001, 0.2]: 238\n",
            "(0.2, 0.4]: 18\n",
            "(0.4, 0.6]: 29\n",
            "(0.6, 0.8]: 24\n",
            "(0.8, 1.0]: 691\n",
            "----------\n",
            "................\n"
          ]
        },
        {
          "output_type": "display_data",
          "data": {
            "image/png": "[encoded data removed]",
            "text/plain": [
              "<IPython.core.display.Image object>"
            ]
          },
          "metadata": {}
        }
      ]
    },
    {
      "cell_type": "code",
      "source": [
        "# Try gemma2 model\n",
        "%%time\n",
        "!grep EVAR .env_gemma2"
      ],
      "metadata": {
        "colab": {
          "base_uri": "https://localhost:8080/"
        },
        "id": "mVAFS_UmJOWe",
        "outputId": "bfe4ed05-6f39-416b-bcbe-4a9fc84ebeea"
      },
      "execution_count": 34,
      "outputs": [
        {
          "output_type": "stream",
          "name": "stdout",
          "text": [
            "EVAR_VERBOSE=1\n",
            "# EVAR_DATAPATH\n",
            "EVAR_NUMQUES=1000\n",
            "EVAR_MODELNAME=gemma2\n",
            "EVAR_EVAL=1\n",
            "EVAR_ISDOCKER=1\n",
            "EVAR_FLASK_NGROK=0\n",
            "CPU times: user 5.13 ms, sys: 0 ns, total: 5.13 ms\n",
            "Wall time: 106 ms\n"
          ]
        }
      ]
    },
    {
      "cell_type": "code",
      "source": [
        "%%time\n",
        "!udocker --allow-root run --env-file=/content/for_step11_deploy/.env_gemma2 \\\n",
        "  -v=/content/for_step11_deploy:/target \\\n",
        "  -p 5000:5000 -p 53:53 my-llm-ollama-cont > output_app_log.txt 2>&1\n",
        "clear_output()"
      ],
      "metadata": {
        "colab": {
          "base_uri": "https://localhost:8080/"
        },
        "id": "44QiFs5_Jqlp",
        "outputId": "000ff66f-a5f1-42b1-9700-de976e3b3e0b"
      },
      "execution_count": 35,
      "outputs": [
        {
          "output_type": "stream",
          "name": "stdout",
          "text": [
            "CPU times: user 2.1 s, sys: 322 ms, total: 2.42 s\n",
            "Wall time: 8min 8s\n"
          ]
        }
      ]
    },
    {
      "cell_type": "code",
      "source": [
        "# Display Metrics from saved files\n",
        "!pwd\n",
        "!cat ./test/test-gemma2-wikipedia-dev-metrics.txt\n",
        "!echo \"................\"\n",
        "\n",
        "# Example usage\n",
        "fname = \"/content/for_step11_deploy/test/test-gemma2-wikipedia-dev-bar_plot.png\"\n",
        "with open(fname, \"rb\") as img_file:\n",
        "    b64_bytes = base64.b64encode(img_file.read())\n",
        "    b64_string = b64_bytes.decode('utf-8')\n",
        "\n",
        "# Decode the base64 string\n",
        "decoded_image = base64.b64decode(b64_string)\n",
        "\n",
        "# Display the image\n",
        "display(Image(data=decoded_image, format='png'))"
      ],
      "metadata": {
        "colab": {
          "base_uri": "https://localhost:8080/",
          "height": 714
        },
        "id": "N8AUF2DEJuoi",
        "outputId": "518dea8e-1d85-4505-9a19-5f9d39f80217"
      },
      "execution_count": 36,
      "outputs": [
        {
          "output_type": "stream",
          "name": "stdout",
          "text": [
            "/content/for_step11_deploy\n",
            "----------\n",
            "Num qa: 1000, Got correct ans for 672 (67.20%) \n",
            "Average TimetoAnswer: 0.37sec. \n",
            "MetricBLEUscore \n",
            "(-0.001, 0.2]: 257\n",
            "(0.2, 0.4]: 22\n",
            "(0.4, 0.6]: 34\n",
            "(0.6, 0.8]: 12\n",
            "(0.8, 1.0]: 675\n",
            "----------\n",
            "................\n"
          ]
        },
        {
          "output_type": "display_data",
          "data": {
            "image/png": "[encoded data removed]",
            "text/plain": [
              "<IPython.core.display.Image object>"
            ]
          },
          "metadata": {}
        }
      ]
    }
  ]
}