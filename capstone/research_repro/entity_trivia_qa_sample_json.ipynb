{
  "nbformat": 4,
  "nbformat_minor": 0,
  "metadata": {
    "colab": {
      "provenance": [],
      "mount_file_id": "1LRTg8NfsyKcfLWLErqHviPYsWYrCQaL0",
      "authorship_tag": "ABX9TyPQqmDfhutT6qswY3/LEHo4",
      "include_colab_link": true
    },
    "kernelspec": {
      "name": "python3",
      "display_name": "Python 3"
    },
    "language_info": {
      "name": "python"
    }
  },
  "cells": [
    {
      "cell_type": "markdown",
      "metadata": {
        "id": "view-in-github",
        "colab_type": "text"
      },
      "source": [
        "<a href=\"https://colab.research.google.com/github/seecode4/seeRepo1/blob/main/capstone/research_repro/entity_trivia_qa_sample_json.ipynb\" target=\"_parent\"><img src=\"https://colab.research.google.com/assets/colab-badge.svg\" alt=\"Open In Colab\"/></a>"
      ]
    },
    {
      "cell_type": "markdown",
      "source": [
        "## Capstone Step4 - Try [triviaqa](https://github.com/mandarjoshi90/triviaqa) Entity Classifier  \n",
        "\n",
        "As specified in github, the Entity Classifier was run using the following command. Due to version differences some minor changes needed to be made in the code, to allow a run.  \n",
        "\n",
        "*python3 -m evaluation.triviaqa_evaluation --dataset_file samples/triviaqa_sample.json --prediction_file samples/sample_predictions.json*  \n",
        "\n",
        "Samples for these two QA pairs were tried.  \n",
        "\n",
        "\"Question\": \"Which Lloyd Webber musical premiered in the US on 10th December 1993?\"  \n",
        "Answer: Sunset Boulevard  \n",
        "  \n",
        "\"Question\": \"In which country would you find the original Legoland?\"   \n",
        "Answer: Denmark  \n",
        "  \n",
        "Sample1 was given in the github example. Since some of  the wiki entries used were outdated, created another version of sample1 with a better prediction document pointer. Also created an example sample2 similar to the one provided to try.\n"
      ],
      "metadata": {
        "id": "Ym4H8jcDbTDv"
      }
    },
    {
      "cell_type": "code",
      "source": [
        "# Mount GDrive from left folder icon as needed OR\n",
        "# do the following\n",
        "from google.colab import drive\n",
        "drive.mount(\"/content/drive\")\n",
        "!ls /content/drive\n",
        "!pwd\n",
        "!ls /content"
      ],
      "metadata": {
        "colab": {
          "base_uri": "https://localhost:8080/"
        },
        "id": "4CN9I8InbPsH",
        "outputId": "0a533878-cc16-4db0-c7aa-b63f02b12d4d"
      },
      "execution_count": 2,
      "outputs": [
        {
          "output_type": "stream",
          "name": "stdout",
          "text": [
            "Drive already mounted at /content/drive; to attempt to forcibly remount, call drive.mount(\"/content/drive\", force_remount=True).\n",
            "MyDrive\n",
            "/content\n",
            "drive  sample_data\n"
          ]
        }
      ]
    },
    {
      "cell_type": "code",
      "source": [
        "# https://github.com/mandarjoshi90/triviaqa\n",
        "#   !npx degit fredzett/rmqa/data data\n",
        "\n",
        "%cd /content/drive/MyDrive/GDcc4/ColabNotebooks/cc4_capstone/see_trivia_qa_try1"
      ],
      "metadata": {
        "colab": {
          "base_uri": "https://localhost:8080/"
        },
        "id": "-eNAm1i0eZ_F",
        "outputId": "180967ad-8b68-41f5-c2bf-d1ff0fd09cbb"
      },
      "execution_count": 2,
      "outputs": [
        {
          "output_type": "stream",
          "name": "stdout",
          "text": [
            "/content/drive/MyDrive/GDcc4/ColabNotebooks/cc4_capstone/see_trivia_qa_try1\n"
          ]
        }
      ]
    },
    {
      "cell_type": "code",
      "source": [
        "!pwd\n",
        "!ls -lrt"
      ],
      "metadata": {
        "colab": {
          "base_uri": "https://localhost:8080/"
        },
        "id": "Z-wdOzsyamZI",
        "outputId": "28200f71-d499-44d6-98d7-db9892b39c11"
      },
      "execution_count": 3,
      "outputs": [
        {
          "output_type": "stream",
          "name": "stdout",
          "text": [
            "/content/drive/MyDrive/GDcc4/ColabNotebooks/cc4_capstone/see_trivia_qa_try1\n",
            "total 145\n",
            "-rw------- 1 root root    33 Aug  8 04:06 requirements.txt\n",
            "-rw------- 1 root root  1691 Aug  8 04:06 README.md\n",
            "-rw------- 1 root root 11340 Aug  8 04:06 LICENSE\n",
            "drwx------ 2 root root  4096 Aug 12 17:30 utils\n",
            "drwx------ 2 root root  4096 Aug 12 17:30 samples\n",
            "drwx------ 2 root root  4096 Aug 12 17:30 evaluation\n",
            "drwx------ 2 root root  4096 Aug 15 01:29 data_local\n",
            "-rw------- 1 root root 51828 Aug 31 01:10 bidaf-triviaqa-squad_try1.ipynb\n",
            "-rw------- 1 root root 64856 Oct  8 23:24 eval_trivia_qa_sample_json.ipynb\n"
          ]
        }
      ]
    },
    {
      "cell_type": "code",
      "source": [
        "!cat README.md"
      ],
      "metadata": {
        "colab": {
          "base_uri": "https://localhost:8080/"
        },
        "id": "Eg0TLzkTPdTm",
        "outputId": "3e54bfc7-4357-4773-f0cf-8be91b56f42e"
      },
      "execution_count": 4,
      "outputs": [
        {
          "output_type": "stream",
          "name": "stdout",
          "text": [
            "# TriviaQA: A Large Scale Distantly Supervised Challenge Dataset for Reading Comprehension\n",
            "- This repo contains code for the paper\n",
            "Mandar Joshi, Eunsol Choi, Daniel Weld, Luke Zettlemoyer.\n",
            "\n",
            "[TriviaQA: A Large Scale Distantly Supervised Challenge Dataset for Reading Comprehension][triviaqa-arxiv] \n",
            "In Association for Computational Linguistics (ACL) 2017, Vancouver, Canada.\n",
            "\n",
            "- The data can be downloaded from the [TriviaQA website][triviaqa-website]. The Apache 2.0 License applies to both the code and the data.\n",
            "- Please contact [Mandar Joshi][mandar-home] (\\<first-name\\>90@cs.washington.edu) for suggestions and comments.\n",
            "\n",
            "## Requirements\n",
            "#### General\n",
            "- Python 3. You should be able to run the evaluation scripts using Python 2.7 if you take care of unicode in ```utils.utils.py```.\n",
            "- BiDAF requires Python 3 -- check the [original repository][bidaf-orig-github] for more details.\n",
            "\n",
            "#### Python Packages\n",
            "- tensorflow (only if you want to run BiDAF, verified on r0.11)\n",
            "- nltk\n",
            "- tqdm\n",
            "\n",
            "## Evaluation\n",
            "The ```dataset file``` parameter refers to files in the ```qa``` directory of the data (e.g., ```wikipedia-dev.json```). For file format, check out the ```sample``` directory in the repo.\n",
            "```\n",
            "python3 -m evaluation.triviaqa_evaluation --dataset_file samples/triviaqa_sample.json --prediction_file samples/sample_predictions.json\n",
            "```\n",
            "## Miscellaneous\n",
            "- If you have a SQuAD model and want to run on TriviaQA, please refer to ```utils.convert_to_squad_format.py```\n",
            "\n",
            "\n",
            "\n",
            "[bidaf-orig-github]: https://github.com/allenai/bi-att-flow/\n",
            "[triviaqa-arxiv]: https://arxiv.org/abs/1705.03551\n",
            "[mandar-home]: http://homes.cs.washington.edu/~mandar90/\n",
            "[triviaqa-website]: http://nlp.cs.washington.edu/triviaqa/\n"
          ]
        }
      ]
    },
    {
      "cell_type": "code",
      "source": [
        "!pwd\n",
        "!ls -lrt\n",
        "print(\"data_local/triviaqa-unfiltered\")\n",
        "!ls -lrt \"data_local/triviaqa-unfiltered\"\n",
        "print(\"data_local/triviaqa-rc/qa/wikipedia-train.json\")\n",
        "!ls -lrt \"data_local/triviaqa-rc/qa/wikipedia-train.json\""
      ],
      "metadata": {
        "colab": {
          "base_uri": "https://localhost:8080/"
        },
        "id": "FhlYRhrIf8FR",
        "outputId": "08bf5849-e5fb-49f3-fc80-7031c82e19c8"
      },
      "execution_count": 5,
      "outputs": [
        {
          "output_type": "stream",
          "name": "stdout",
          "text": [
            "/content/drive/MyDrive/GDcc4/ColabNotebooks/cc4_capstone/see_trivia_qa_try1\n",
            "total 145\n",
            "-rw------- 1 root root    33 Aug  8 04:06 requirements.txt\n",
            "-rw------- 1 root root  1691 Aug  8 04:06 README.md\n",
            "-rw------- 1 root root 11340 Aug  8 04:06 LICENSE\n",
            "drwx------ 2 root root  4096 Aug 12 17:30 utils\n",
            "drwx------ 2 root root  4096 Aug 12 17:30 samples\n",
            "drwx------ 2 root root  4096 Aug 12 17:30 evaluation\n",
            "drwx------ 2 root root  4096 Aug 15 01:29 data_local\n",
            "-rw------- 1 root root 51828 Aug 31 01:10 bidaf-triviaqa-squad_try1.ipynb\n",
            "-rw------- 1 root root 64856 Oct  8 23:24 eval_trivia_qa_sample_json.ipynb\n",
            "data_local/triviaqa-unfiltered\n",
            "total 2938238\n",
            "-rw------- 1 root root       3260 May  4  2017 README\n",
            "-rw------- 1 root root 2414078634 Jul 18  2017 unfiltered-web-train.json\n",
            "-rw------- 1 root root  311475524 Jul 18  2017 unfiltered-web-dev.json\n",
            "-rw------- 1 root root  283196950 Jul 18  2017 unfiltered-web-test-without-answers.json\n",
            "data_local/triviaqa-rc/qa/wikipedia-train.json\n",
            "-rw------- 1 root root 132411311 May  4  2017 data_local/triviaqa-rc/qa/wikipedia-train.json\n"
          ]
        }
      ]
    },
    {
      "cell_type": "markdown",
      "source": [
        "## Sample 1:  \n",
        "**Question**: \"Which Lloyd Webber musical premiered in the US on 10th December 1993?\"  \n",
        "**Answer**: Sunset Boulevard"
      ],
      "metadata": {
        "id": "uo2Bfl_0a1u2"
      }
    },
    {
      "cell_type": "code",
      "source": [
        "# Evidence - Sample1\n",
        "!cat data_local/triviaqa-rc/evidence/wikipedia/Andrew_Lloyd_Webber.txt"
      ],
      "metadata": {
        "colab": {
          "base_uri": "https://localhost:8080/"
        },
        "id": "j5jyfYLNYd-o",
        "outputId": "24afb5d2-6bc7-4880-fa90-b6ca30ed5716"
      },
      "execution_count": 6,
      "outputs": [
        {
          "output_type": "stream",
          "name": "stdout",
          "text": [
            "Andrew Lloyd Webber, Baron Lloyd-Webber   (born 22 March 1948) is an English composer and impresario of musical theatre. \n",
            "\n",
            "Several of his musicals have run for more than a decade both in the West End and on Broadway. He has composed 13 musicals, a song cycle, a set of variations, two film scores, and a Latin Requiem Mass. Several of his songs have been widely recorded and were hits outside of their parent musicals, notably \"The Music of the Night\" from The Phantom of the Opera, \"I Don't Know How to Love Him\" from Jesus Christ Superstar, \"Don't Cry for Me, Argentina\" and \"You Must Love Me\" from Evita, \"Any Dream Will Do\" from Joseph and the Amazing Technicolor Dreamcoat and \"Memory\" from Cats.\n",
            "\n",
            "He has received a number of awards, including a knighthood in 1992, followed by a peerage from Queen Elizabeth II for services to Music, seven Tonys, three Grammys (as well as the Grammy Legend Award), an Academy Award, fourteen Ivor Novello Awards, seven Olivier Awards, a Golden Globe, a Brit Award, the 2006 Kennedy Center Honors, and the 2008 Classic Brit Award for Outstanding Contribution to Music.    He has a star on the Hollywood Walk of Fame, is an inductee into the Songwriter's Hall of Fame, and is a fellow of the British Academy of Songwriters, Composers and Authors. \n",
            "\n",
            "His company, the Really Useful Group, is one of the largest theatre operators in London. Producers in several parts of the UK have staged productions, including national tours, of the Lloyd Webber musicals under licence from the Really Useful Group. Lloyd Webber is also the president of the Arts Educational Schools London, a performing arts school located in Chiswick, West London. He is involved in a number of charitable activities, including the Elton John AIDS Foundation, Nordoff Robbins, Prostate Cancer UK and War Child. In 1992 he set up the Andrew Lloyd Webber Foundation which supports the arts, culture and heritage in the UK. \n",
            "\n",
            "Early life\n",
            "\n",
            "Andrew Lloyd Webber was born in Kensington, London, the elder son of William Lloyd Webber (1914–1982), a composer and organist, and Jean Hermione Johnstone (1921–1993), a violinist and pianist.  His younger brother, Julian Lloyd Webber, is a renowned solo cellist.\n",
            "\n",
            "Lloyd Webber started writing his own music at a young age, a suite of six pieces at the age of nine. He also put on \"productions\" with Julian and his Aunt Viola in his toy theatre (which he built at Viola's suggestion). Later, he would be the owner of a number of West End theatres, including the Palace. His aunt Viola, an actress, took him to see many of her shows and through the stage door into the world of the theatre. He also had originally set music to Old Possum's Book of Practical Cats at the age of 15.\n",
            "\n",
            "In 1965, Lloyd Webber was a Queen's Scholar at Westminster School and studied history for a term at Magdalen College, Oxford, although he abandoned the course in Winter 1965 to study at the Royal College of Music and pursue his interest in musical theatre.  \n",
            "\n",
            "Professional career\n",
            "\n",
            "Early years\n",
            "\n",
            "Lloyd Webber's first collaboration with lyricist Tim Rice was The Likes of Us, a musical based on the true story of Thomas John Barnardo. Although composed in 1965, it was not publicly performed until 2005, when a production was staged at Lloyd Webber's Sydmonton Festival. In 2008, amateur rights were released by the National Operatic and Dramatic Association (NODA) in association with the Really Useful Group. The first amateur performance was by a children's theatre group in Cornwall called \"Kidz R Us\". Stylistically, The Likes of Us is fashioned after the Broadway musical of the 1940s and 1950s; it opens with a traditional overture comprising a medley of tunes from the show, and the score reflects some of Lloyd Webber's early influences, particularly Richard Rodgers, Frederick Loewe, and Lionel Bart. In this respect, it is markedly different from the composer's later work, which tends to be either predominantly or wholly through-composed, and closer in form to opera than to the Broadway musical.\n",
            "\n",
            "In 1968, Rice and Lloyd Webber were commissioned to write a piece for the Colet Court preparatory school, which resulted in Joseph and the Amazing Technicolor Dreamcoat, a retelling of the biblical story of Joseph in which Lloyd Webber and Rice humorously pastiche a number of musical styles such as Elvis-style rock'n'roll, Calypso and country music. Joseph began life as a short cantata that gained some recognition on its second staging with a favourable review in The Times. For its subsequent performances, Rice and Lloyd Webber revised the show and added new songs to expand it to a more substantial length. This culminated in a two-hour-long production being staged in the West End on the back of the success of Jesus Christ Superstar.\n",
            "\n",
            "In 1969 Rice and Lloyd Webber wrote a song for the Eurovision Song Contest called \"Try It and See,\" which was not selected. With rewritten lyrics it became \"King Herod's Song\" in their third musical, Jesus Christ Superstar (1970).\n",
            "\n",
            "The planned follow-up to Jesus Christ Superstar was a musical comedy based on the Jeeves and Wooster novels by P. G. Wodehouse. Tim Rice was uncertain about this venture, partly because of his concern that he might not be able to do justice to the novels that he and Lloyd Webber so admired.  After doing some initial work on the lyrics, he pulled out of the project and Lloyd Webber subsequently wrote the musical with Alan Ayckbourn, who provided the book and lyrics. Jeeves failed to make any impact at the box office and closed after a short run of only three weeks. Many years later, Lloyd Webber and Ayckbourn revisited this project, producing a thoroughly reworked and more successful version entitled By Jeeves (1996). Only two of the songs from the original production remained (\"Half a Moment\" and \"Banjo Boy\").\n",
            "\n",
            "Mid-1970s\n",
            "\n",
            "Lloyd Webber collaborated with Rice once again to write Evita (1978 in London/1979 in U.S.), a musical based on the life of Eva Perón. As with Jesus Christ Superstar, Evita was released first as a concept album (1976) and featured Julie Covington singing the part of Eva Perón. The song \"Don't Cry for Me Argentina\" became a hit single and the musical was staged at the Prince Edward Theatre in a production directed by Harold Prince and starring Elaine Paige in the title role.\n",
            "\n",
            "Patti LuPone created the role of Eva on Broadway for which she won a Tony.  Evita was a highly successful show that ran for ten years in the West End. It transferred to Broadway in 1979. Rice and Lloyd Webber parted ways soon after Evita. In an interview in 2011, LuPone commented \"He writes crap music... Evita was his best score, Evita in its bizarreness - when I first heard it I thought 'I swear to God, he hated women' [...] There are some very romantic moments in his music, and there is some real...trash that he doesn't even think about parting with. He's not a very good editor of his own stuff.\" \n",
            "\n",
            "In 1978, Lloyd Webber embarked on a solo project, the \"Variations\", with his cellist brother Julian based on the 24th Caprice by Paganini, which reached number two in the pop album chart in the United Kingdom. The main theme was used as the theme tune for ITV's long-running South Bank Show throughout its 32-year run. The same year, Lloyd Webber also composed a new theme tune for the long-running documentary series Whicker's World, which was used from 1978-80.\n",
            "\n",
            "1980s\n",
            "\n",
            "Lloyd Webber was the subject of This Is Your Life in November 1980 when he was surprised by Eamonn Andrews in the foyer of Thames Television's Euston Road Studios. He would be honoured a second time by the television programme in November 1994 when Michael Aspel surprised him at the Adelphi Theatre.\n",
            "\n",
            "Lloyd Webber embarked on his next project without a lyricist, turning instead to the poetry of T. S. Eliot. Cats (1981) was to become the longest running musical in London, where it ran for 21 years before closing. On Broadway, Cats ran for 18 years, a record which would ultimately be broken by another Lloyd Webber musical, The Phantom of the Opera. \n",
            "\n",
            "Starlight Express (1984) was a commercial hit, but received negative reviews from the critics. It enjoyed a record run in the West End, but ran for less than two years on Broadway. The show has also seen two tours of the US, as well as an Australian/Japanese production, a three-year UK touring production, which transferred to New Zealand later in 2009. The show also runs full-time in a custom-built theatre in Bochum, Germany, where it has been running since 1988.\n",
            "\n",
            "Lloyd Webber wrote a Requiem Mass dedicated to his father, William, who had died in 1982. It premiered at St. Thomas Church in New York on 24 February 1985. Church music had been a part of the composer's upbringing and the composition was inspired by an article he had read about the plight of Cambodian orphans. Lloyd Webber had on a number of occasions written sacred music for the annual Sydmonton Festival.  Lloyd Webber received a Grammy Award in 1986 for Requiem in the category of best classical composition. Pie Jesu from Requiem achieved a high placing on the UK pop charts. Perhaps because of its large orchestration, live performances of the Requiem are rare.\n",
            "\n",
            "Cricket (1986), also called Cricket (Hearts and Wickets), reunited Lloyd Webber with Tim Rice to create this short musical for Queen Elizabeth's 60th birthday, first performed at Windsor Castle. Several of the tunes were later used for Aspects of Love and Sunset Boulevard.\n",
            "\n",
            "Lloyd Webber also premiered The Phantom of the Opera in 1986, inspired by the 1911 Gaston Leroux novel. He wrote the part of Christine for his then-wife, Sarah Brightman, who played the role in the original London and Broadway productions alongside Michael Crawford as the Phantom. The production was directed by Harold Prince, who had also earlier directed Evita. Charles Hart wrote the lyrics for Phantom with some additional material provided by Richard Stilgoe, with whom Lloyd-Webber co-wrote the book of the musical. It became a hit and is still running in both the West End and on Broadway; in January 2006 it overtook Cats as the longest-running musical on Broadway. On 11 February 2012, Phantom of the Opera played its 10,000th show on Broadway.\n",
            "\n",
            "Aspects of Love followed in 1989, a musical based on the story by David Garnett. The lyrics were by Don Black and Charles Hart and the original production was directed by Trevor Nunn. Aspects had a run of four years in London, but closed after less than a year on Broadway. It has since gone on a tour of the UK.\n",
            "\n",
            "1990s\n",
            "\n",
            "Lloyd Webber was asked to write a song for the 1992 Barcelona Olympics and composed \"Amigos Para Siempre — Friends for Life\" with Don Black providing the lyrics. This song was performed by Sarah Brightman and José Carreras.\n",
            "\n",
            "Lloyd Webber had toyed with the idea of writing a musical based on Billy Wilder's critically acclaimed movie, Sunset Boulevard, since the early 1970s when he saw the film, but the project didn't come to fruition until after the completion of Aspects of Love when the composer finally managed to secure the rights from Paramount Pictures,  The composer worked with two collaborators, as he had done on Aspects of Love; this time Christopher Hampton and Don Black shared equal credit for the book and lyrics. The show opened at the Adelphi Theatre in London on 12 July 1993, and ran for 1,529 performances. In spite of the show's popularity and extensive run in London's West End, it lost money due to the sheer expense of the production.\n",
            "\n",
            "In 1994, Sunset Boulevard became a successful Broadway show, opening with the largest advance in Broadway history, and winning seven Tony Awards that year. Even so, by its closing in 1997, \"it had not recouped its reported $13 million investment.\" \n",
            "From 1995-2000, Lloyd Webber wrote the Matters of Taste column in The Daily Telegraph where he reviewed restaurants and hotels, and these were illustrated by Lucinda Rogers. \n",
            "\n",
            "In 1998, Lloyd Webber released a film version of \"Cats\", which was filmed at the Adelphi Theatre in London. David Mallet directed the film, and Gillian Lynne choreographed it. The cast consisted of performers who had been in the show before, including Ken Page (the original Old Deuteronomy on Broadway), Elaine Paige (original Grizabella in London) and Sir John Mills as Gus: the Theatre Cat.\n",
            "\n",
            "In 1998 Whistle Down the Wind made its debut, a musical written with lyrics supplied by Jim Steinman. Originally opening in Washington, Lloyd Webber was reportedly not happy with the casting or Harold Prince's production and the show was subsequently revised for a London staging directed by Gale Edwards, the production is probably most notable for the number-one hit from Boyzone \"No Matter What\" which left only the UK charts when the price of the CD single was changed to drop it out of the official top ten. His The Beautiful Game opened in London and has never been seen on Broadway. The show had a respectable run at The Cambridge Theatre in London. The show has been re-worked into a new musical, The Boys in the Photograph, which had its world première at The Liverpool Institute for Performing Arts in April 2008.\n",
            "\n",
            "2000s\n",
            "\n",
            "Having achieved great popular success in musical theatre, Lloyd Webber was referred to by The New York Times in 2001 as \"the most commercially successful composer in history.\" \n",
            "\n",
            "In 2002 he turned producer, bringing the musical Bombay Dreams to London. With music by Bollywood composer A.R. Rahman and lyrics by Don Black, iIt ran for two years at the Apollo Victoria Theatre. A revised Broadway production at the Broadway Theatre two years later ran for only 284 performances.\n",
            "\n",
            "On 16 September 2004, his production of The Woman in White opened at the Palace Theatre in London. It ran for 19 months and 500 performances. A revised production opened on Broadway at the Marquis Theatre on 17 November 2005. Garnering mixed reviews from critics, due in part to the frequent absences of the show's star Maria Friedman due to breast cancer treatment, it closed only a brief three months later on 19 February 2006.\n",
            "\n",
            "Lloyd Webber produced a staging of The Sound of Music, which débuted November 2006. He made the controversial decision to choose an unknown to play leading lady Maria, who was found through the BBC's reality television show How Do You Solve a Problem like Maria?, in which he was a judge.  The winner of the show was Connie Fisher.\n",
            "\n",
            "It was announced on 25 August 2006, on his personal website, that his next project would be The Master and Margarita; however, it was announced in late March 2007 that he had abandoned the project. \n",
            "\n",
            "In September 2006, Lloyd Webber was named to be a recipient of the prestigious Kennedy Center Honors with Zubin Mehta, Dolly Parton, Steven Spielberg, and Smokey Robinson. He was recognised for his outstanding contribution to American performing arts.[http://www.kennedy-center.org/programs/specialevents/honors/home.html The Kennedy Center Honors] He attended the ceremony on 3 December 2006; it aired on 26 December 2006. On 11 February 2007, Lloyd Webber was featured as a guest judge on the reality television show Grease: You're the One that I Want!  The contestants all sang \"The Phantom of the Opera\".\n",
            "\n",
            "Between April and June 2007, he appeared in BBC One's Any Dream Will Do!, which followed the same format as How Do You Solve a Problem Like Maria?. Its aim was to find a new Joseph for his revival of Joseph and the Amazing Technicolor Dreamcoat. Lee Mead won the contest after quitting his part in the ensemble – and as understudy in The Phantom of the Opera – to compete for the role. Viewers' telephone voting during the series raised more than £500,000 for the BBC's annual Children in Need charity appeal, according to host Graham Norton on air during the final.\n",
            "\n",
            "On 1 July 2007, Lloyd Webber presented excerpts from his musicals as part of the Concert for Diana held at Wembley Stadium, London, an event organised to celebrate the life of Princess Diana almost 10 years after her death.   BBC Radio 2 broadcast a concert of music from the Lloyd-Webber musicals on 24 August 2007.  Denise Van Outen introduced songs from Whistle Down the Wind, The Beautiful Game, Tell Me on a Sunday, The Woman in White, Evita  and Joseph and the Amazing Technicolor Dreamcoat – as well as Rodgers and Hammerstein's The Sound of Music, which Lloyd Webber revived in 2006 at the London Palladium, and the 2002 musical Bombay Dreams.\n",
            "\n",
            "In April 2008, Lloyd Webber reprised his role as judge, this time in the BBC musical talent show I'd Do Anything. The show followed a similar format to its Maria and Joseph predecessors, this time involving a search for an actress to play the role of Nancy in an upcoming West End production of the Lionel Bart musical Oliver! The show also featured a search for three young actors to play and share the title character's role, but the show's main focus was on the search for Nancy. The role was won by Jodie Prenger despite Lloyd Webber's stated preference for one of the other contestants; the winners of the Oliver role were Harry Stott, Gwion Wyn-Jones and Laurence Jeffcoate. Also in April 2008. Lloyd Webber was featured on the U.S. talent show American Idol, acting as a mentor when the 6 finalists had to select one of his songs to perform for the judges that week. \n",
            "\n",
            "Lloyd Webber accepted the challenge of managing the UK's entry for the 2009 Eurovision Song Contest, to be held in Moscow. In early 2009 a series, called Eurovision: Your Country Needs You, was broadcast to find a performer for a song that he would compose for the competition. Jade Ewen won the right to represent Britain, winning with It's My Time, by Lloyd Webber and Diane Warren. At the contest, Lloyd Webber accompanied her on the piano during the performance. The United Kingdom finished 5th in the contest. The winner was Norway's Alexander Rybak with his world record composition \"Fairytale\".\n",
            "\n",
            "On 8 October 2009, Lloyd Webber launched the musical Love Never Dies at a press conference held at Her Majesty's Theatre, where the original Phantom has been running since 1986. Also present were Sierra Boggess, who has been cast as Christine Daaé, and Ramin Karimloo, who portrayed Phantom, a role he most recently played in the West End.\n",
            "\n",
            "2010s\n",
            "\n",
            "Following the opening of Love Never Dies, Lloyd Webber again began a search for a new musical theatre performer in the BBC One series Over the Rainbow. He cast the winner, Danielle Hope, in the role of Dorothy and a dog to play Toto in his forthcoming stage production of The Wizard of Oz. He and lyricist and composer Tim Rice wrote a number of new songs for the production to supplement the songs from the film.\n",
            "\n",
            "On 26 February 2010, he appeared on BBC's Friday Night with Jonathan Ross to promote Love Never Dies.\n",
            "\n",
            "On 1 March 2011, The Wizard of Oz opened at The Palladium Theatre, starring Danielle Hope as Dorothy and Michael Crawford as the Wizard.\n",
            "\n",
            "In 2012 Lloyd Webber fronted a new ITV primetime show Superstar which gave the UK public the chance to decide who would play the starring role of Jesus in an upcoming arena tour of Jesus Christ Superstar. The arena tour started in September 2012 and also starred comedian Tim Minchin as Judas Iscariot, former Spice Girl Melanie C as Mary Magdalene and BBC Radio 1 DJ Chris Moyles as King Herod.  Tickets for most venues went on sale on 18 May 2012.\n",
            "\n",
            "Webber caused controversy with a series of comments about Eurovision in a Radio Times interview. He said: \"I don't think there's any point in beating around the bush. I saw no black faces on the programme Eurovision 2012. I was questioned by the press over Jade Ewen's race, and I think we would have placed second, but there is a problem when you go further east. If you're talking about Western Europe it's fine, but Ukraine, not so good.\" The EBU corrected Webber, telling him Ukraine's singer Gaitana was black, that year's winner Loreen for Sweden was of North African background and accompanied by a black backing dancer, and France's contestant Anggun was Indonesian. The contest organisers also told Webber that black singer Dave Benton won for Estonia in 2001. The EBU thoroughly denied racism in its show, and insisted it unites Europe for three nights in a year.\n",
            "\n",
            "In 2013, Webber reunited with Christopher Hampton and Don Black on Stephen Ward the Musical. \n",
            "\n",
            "In 2014, it was announced that Webber's next project would be a musical adaptation of the 2003 film School of Rock.  On January 19, 2015, auditions opened for children aged nine to fifteen in cooperation with the School of Rock music education program, which predated the film by several years. \n",
            "\n",
            "Accusations of plagiarism\n",
            "\n",
            "Lloyd Webber has been accused of plagiarism in his works. The Dutch composer Louis Andriessen commented that: \"There are two sorts of stealing (in music) – taking something and doing nothing with it, or going to work on what you've stolen. The first is plagiarism. Andrew Lloyd Webber has yet to think up a single note; in fact, the poor guy's never invented one note by himself. That's rather poor\".\n",
            " \n",
            "However, Lloyd Webber's biographer, John Snelson, countered such accusations. He acknowledged a similarity between the Andante movement of Mendelssohn's Violin Concerto in E minor and the Jesus Christ Superstar song \"I Don't Know How to Love Him\", but wrote that Lloyd Webber:\n",
            "\n",
            "...brings a new dramatic tension to Mendelssohn's original melody through the confused emotions of Mary Magdalene. The opening theme may be Mendelssohn, but the rhythmic and harmonic treatment along with new lines of highly effective melodic development are Lloyd Webber's. The song works in its own right as its many performers and audiences can witness. \n",
            "\n",
            "In interviews promoting Amused to Death, Roger Waters, formerly of Pink Floyd, claimed that Lloyd Webber had copied a short chromatic riff from the 1971 song \"Echoes\" for sections of The Phantom of the Opera, released in 1986; nevertheless, he decided he did not want to file a lawsuit.  The songwriter Ray Repp also claimed that Lloyd Webber stole a different melody from his own song \"Till You\". Unlike Roger Waters, Ray Repp did decide to sue, but the court ruled in Lloyd Webber's favour. \n",
            "\n",
            "Personal life\n",
            "\n",
            "Lloyd Webber has married three times. He married first Sarah Hugill on 24 July 1971 and they divorced on 14 November 1983. Together they had two children; a daughter and a son:\n",
            "*Hon. Imogen Lloyd Webber (born 31 March 1977)\n",
            "*Hon. Nicholas Lloyd Webber (born 2 July 1979)\n",
            "\n",
            "He then married singer Sarah Brightman on 22 March 1984 in Hampshire. He cast Brightman in the lead role in his musical The Phantom of the Opera, among other notable roles. They divorced on 3 January 1990.\n",
            "\n",
            "Thirdly, he married Madeleine Gurdon in Westminster on 9 February 1991. They have three children, two sons and one daughter, all of whom were born in Westminster:\n",
            "*Hon. Alastair Adam Lloyd Webber (born 3 May 1992)\n",
            "*Hon. William Richard Lloyd Webber (born 24 August 1993)\n",
            "*Hon. Isabella Aurora Lloyd Webber (born 30 April 1996).\n",
            "\n",
            "The Sunday Times Rich List 2006 ranked him the 87th-richest man in Britain with an estimated fortune of £700 million. His wealth increased to £750 million in 2007, but the publication ranked him 101st in 2008.  He lives at Sydmonton Court, Hampshire, and owns much of nearby Watership Down.\n",
            "\n",
            "Lloyd Webber is an art collector, with a passion for Victorian art. An exhibition of works from his collection was presented at the Royal Academy in 2003 under the title Pre-Raphaelite and Other Masters – The Andrew Lloyd Webber Collection. In 2006, Lloyd Webber planned to sell Portrait of Angel Fernández de Soto by Pablo Picasso to benefit the Andrew Lloyd Webber Foundation.  In November 2006, he withdrew the painting from auction after a claim that the previous owner had been forced to sell it under duress in Nazi Germany.  An out-of-court settlement was reached, where the foundation retained ownership rights.  On 23 June 2010, the painting was sold at auction for £34.7 million to an anonymous telephone bidder. \n",
            "\n",
            "Lloyd Webber was made a Conservative life peer in 1997, however by the end of 2015, he had voted only 33 times.  Politically, Lloyd Webber has supported the UK's Conservative Party, allowing his song \"Take That Look Off Your Face\" to be used on a party promotional film seen by an estimated 1 million people before the 2005 general election.  In 2009, he publicly criticised the Labour government's introduction of a new 50% rate of income tax on Britain's top earners, claiming it would damage the country by encouraging talented people to leave.  In August 2014, Lloyd Webber was one of 200 public figures who were signatories to a letter to The Guardian opposing Scottish independence in the run-up to September's referendum on that issue. \n",
            "In October 2015 Lloyd Webber was involved in a controversial House of Lords vote over proposed cuts to tax credits, voting with the Government in favour of the plan.  \n",
            "\n",
            "In late 2009, Lloyd Webber had surgery for early-stage prostate cancer,  but had to be readmitted to hospital with post-operative infection in November. In January 2010, he declared he was cancer-free.  He had his prostate completely removed as a preventative measure. \n",
            "\n",
            "Honours and styles of address\n",
            "\n",
            "Honours\n",
            "\n",
            "Andrew Lloyd Webber was knighted by the Queen in 1992.  In 1997, he was created a life peer as Baron Lloyd-Webber, of Sydmonton in the County of Hampshire.  He is properly styled as The Lord Lloyd-Webber; the title is hyphenated, although his surname is not. He sits as a Conservative member of the House of Lords.\n",
            "\n",
            "Styles of address\n",
            "\n",
            "*1948–1992: Mister Andrew Lloyd Webber\n",
            "*1992–1997: Sir Andrew Lloyd Webber Kt\n",
            "*1997–present: The Right Honourable The Lord Lloyd-Webber Kt\n",
            "\n",
            "Awards\n",
            "\n",
            "Academy Awards\n",
            "\n",
            "*1996 – Best Original Song for \"You Must Love Me\" from Evita (award shared with Sir Tim Rice)\n",
            "One nomination for Best Original Song Score and Adaptation: 1973 motion picture Jesus Christ Superstar\n",
            "\n",
            "One nomination for Best Original Song: \"Learn to Be Lonely\" from the 2004 motion picture The Phantom of the Opera .\n",
            "\n",
            "Golden Globes\n",
            "\n",
            "* 1997 – Best Original Song for \"You Must Love Me\" from Evita (award shared with Sir Tim Rice)\n",
            "Plus one nomination for Best Original Song: \"Learn to Be Lonely\" from the 2004 motion picture The Phantom of the Opera.\n",
            "\n",
            "Grammy Awards\n",
            "\n",
            "*1980 – Best Cast Show Album for Evita\n",
            "*1983 – Best Cast Show Album for Cats\n",
            "*1986 – Grammy Award for Best Contemporary Composition for Requiem\n",
            "*1990 – Grammy Legend Award\n",
            "\n",
            "Tony Awards\n",
            "\n",
            "*1979 – Best Musical for Evita\n",
            "*1980 – Best Original Score for Evita (award shared with Tim Rice)\n",
            "*1983 – Best Musical for Cats\n",
            "*1983 – Best Original Score for Cats\n",
            "*1988 – Best Musical for The Phantom of the Opera\n",
            "*1995 – Best Musical for Sunset Boulevard\n",
            "*1995 – Best Original Score for Sunset Boulevard\n",
            "\n",
            "Olivier Awards\n",
            "\n",
            "*1978 - Best Musical for Evita\n",
            "*1981 - Best Musical for Cats\n",
            "*1986 - Best Musical for The Phantom of the Opera\n",
            "*2008 - Society's Special Award\n",
            "*Three other Production Awards\n",
            "\n",
            "Other Awards\n",
            "\n",
            "* 1988 - Drama Desk Award for Outstanding Orchestrations for The Phantom of the Opera\n",
            "* 1993 - Star on the Hollywood Walk of Fame for live theatre\n",
            "* 1995 - Praemium Imperiale\n",
            "* 1995 - Songwriter's Hall of Fame\n",
            "* 2006 - Kennedy Center Honors\n",
            "* 2008 - Woodrow Wilson Award for Public Service \n",
            "* 2009 - American Theatre Hall of Fame. \n",
            "* 14 Ivor Novello Awards from the British Academy of Songwriters, Composers and Authors\n",
            "* 7 Laurence Olivier Awards (including Special Award presented for his 60th birthday in 2008)\n",
            "\n",
            "Shows\n",
            "\n",
            "Note: Music composed by Andrew Lloyd Webber unless otherwise noted.\n",
            "\n",
            "* The Likes of Us (1965)\n",
            "Lyrics by Tim Rice\n",
            "Not produced until 2005\n",
            "* Joseph and the Amazing Technicolor Dreamcoat (1968)\n",
            "Lyrics by Tim Rice\n",
            "* Jesus Christ Superstar (1970)\n",
            "Lyrics by Tim Rice\n",
            "* Jeeves (1975)\n",
            "Lyrics by Alan Ayckbourn\n",
            "Revised in 1996 as By Jeeves\n",
            "* Evita (1976)\n",
            "Lyrics by Tim Rice\n",
            "* Tell Me on a Sunday (1979)\n",
            "Lyrics by Don Black\n",
            "* Cats (1981)\n",
            "Lyrics based on Old Possum's Book of Practical Cats by T. S. Eliot \n",
            "Additional lyrics after Eliot by Richard Stilgoe and Trevor Nunn\n",
            "* Song and Dance (1982)\n",
            "Lyrics by Don Black (revised by Richard Maltby, Jr. for Broadway)\n",
            "Combination of Variations (1978) and Tell Me On A Sunday (1979)\n",
            "* Starlight Express (1984)\n",
            "Lyrics by Richard Stilgoe\n",
            "Later revisions by Don Black and David Yazbek\n",
            "Inspired by the Thomas the Tank Engine and Friends books by The Rev. W. Awdry.\n",
            "*Cricket (1986)\n",
            "Lyrics by Tim Rice\n",
            "First performed for Queen Elizabeth II's 60th birthday\n",
            "* The Phantom of the Opera (1986)\n",
            "Lyrics by Charles Hart\n",
            "Additional Lyrics by Richard Stilgoe\n",
            "Based on the Gaston Leroux novel\n",
            "\n",
            "* Aspects of Love (1989)\n",
            "Lyrics by Don Black and Charles Hart\n",
            "Based on the David Garnett novel\n",
            "* Sunset Boulevard (1993)\n",
            "Book and lyrics by Christopher Hampton and Don Black\n",
            "Based on the Billy Wilder film (1950)\n",
            "* Whistle Down the Wind (1996)\n",
            "Lyrics by Jim Steinman\n",
            "* The Beautiful Game (2000)\n",
            "Lyrics by Ben Elton\n",
            "Updated as The Boys in the Photograph (2009)\n",
            "* The Woman in White (2004)\n",
            "Lyrics by David Zippel\n",
            "Based on the Wilkie Collins novel\n",
            "* Love Never Dies (2010)\n",
            "Book & Lyrics by Glenn Slater\n",
            "Book by Ben Elton & Frederick Forsyth\n",
            "Additional lyrics by Charles Hart\n",
            "* The Wizard of Oz (2011)\n",
            "Adapted from the 1939 Motion Picture The Wizard of Oz\n",
            "Music by Harold Arlen\n",
            "Lyrics by E.Y. Harburg\n",
            "Additional music by Andrew Lloyd Webber\n",
            "Additional lyrics by Tim Rice\n",
            "* Stephen Ward the Musical (2013)\n",
            "Book and lyrics by Christopher Hampton and Don Black\n",
            "* School of Rock (2015)\n",
            "Lyrics by Glenn Slater\n",
            "Book by Julian Fellowes\n",
            "Based on the 2003 film\n",
            "\n",
            "Film adaptations\n",
            "\n",
            "There have been a number of film adaptations of the Lloyd Webber musicals. Jesus Christ Superstar (1973) was directed by Norman Jewison; Evita (1996) was directed by Alan Parker; and The Phantom of the Opera (2004) was directed by Joel Schumacher and co-produced by Lloyd Webber. Cats, Joseph and the Amazing Technicolor Dreamcoat, Jesus Christ Superstar and By Jeeves have been adapted into made for television films that have been released on DVD and VHS and often air on BBC.\n",
            "\n",
            "A special performance of The Phantom of the Opera at the Royal Albert Hall for the 25th anniversary was broadcast live to cinemas in early October 2011 and later released on DVD and Blu-ray in February 2012. The same was also done with a reworked version of Love Never Dies. Filmed in Melbourne, Australia, it received a limited cinema release in the US and Canada in 2012, to see if it would be viable to bring the show to Broadway. It received positive reviews and was No.1 on DVD charts in the UK and Ireland, and did well in America.\n",
            "\n",
            "In February 2014, it was announced that Elton John's production company had acquired the rights to Joseph and the Amazing Technicolor Dreamcoat, and is planning to adapt it as a new theatrical animated musical film. \n",
            "\n",
            "Other works\n",
            "\n",
            "*Variations (1978) – A set of musical variations on Niccolò Paganini's Caprice in A minor that Lloyd Webber composed for his brother, cellist Julian. This album featured fifteen rock musicians including guitarist Gary Moore and pianist Rod Argent and reached number 2 in the UK album chart upon its release. It was later combined with Tell Me on a Sunday to form one show, Song and Dance. Lloyd Webber also used variation five as the basis for Unexpected Song in Song and Dance. The main theme is used as the theme music to The South Bank Show.\n",
            "*Requiem (1985) – A classical choral work composed in honour of his father, William.\n",
            "*Watership Down (1999) - Lloyd Webber and Mike Batt, main soundtrack composer of the animated series adaptation of Richard Adams' novel of the same name, composed the song \"Fields of Sun\". The actual song was never used on the show, nor was it available on the CD soundtrack that was released at the time. He was however still credited for the unused song in the show's opening titles."
          ]
        }
      ]
    },
    {
      "cell_type": "code",
      "source": [
        "# ## Evaluation\n",
        "# The ```dataset file``` parameter refers to files in the ```qa``` directory of the data (e.g., ```wikipedia-dev.json```).\n",
        "# For file format, check out the ```sample``` directory in the repo.\n",
        "!python --version\n",
        "!python -m evaluation.triviaqa_evaluation \\\n",
        "        --dataset_file samples/triviaqa_sample.json \\\n",
        "        --prediction_file samples/sample_predictions.json"
      ],
      "metadata": {
        "colab": {
          "base_uri": "https://localhost:8080/"
        },
        "id": "qifKpXg9e2tA",
        "outputId": "d7831b08-5823-490e-c1ad-233ee7063df3"
      },
      "execution_count": 7,
      "outputs": [
        {
          "output_type": "stream",
          "name": "stdout",
          "text": [
            "Python 3.10.12\n",
            "SK_DBG {'tc_33--Andrew_Lloyd_Webber.txt': {'Aliases': ['Sunset Blvd', 'West Sunset Boulevard', 'Sunset Boulevard', 'Sunset Bulevard', 'Sunset Blvd.'], 'MatchedWikiEntityName': 'Sunset Boulevard', 'NormalizedAliases': ['west sunset boulevard', 'sunset blvd', 'sunset boulevard', 'sunset bulevard'], 'NormalizedMatchedWikiEntityName': 'sunset boulevard', 'NormalizedValue': 'sunset boulevard', 'Type': 'WikipediaEntity', 'Value': 'Sunset Boulevard'}, 'tc_33--35/35_995.txt': {'Aliases': ['Sunset Blvd', 'West Sunset Boulevard', 'Sunset Boulevard', 'Sunset Bulevard', 'Sunset Blvd.'], 'MatchedWikiEntityName': 'Sunset Boulevard', 'NormalizedAliases': ['west sunset boulevard', 'sunset blvd', 'sunset boulevard', 'sunset bulevard'], 'NormalizedMatchedWikiEntityName': 'sunset boulevard', 'NormalizedValue': 'sunset boulevard', 'Type': 'WikipediaEntity', 'Value': 'Sunset Boulevard'}}\n",
            "SK_DBG {'tc_33--Andrew_Lloyd_Webber.txt': 'Sunset Blvd'}\n",
            "SK_DBG  qid_list len=2 dict_keys(['tc_33--Andrew_Lloyd_Webber.txt', 'tc_33--35/35_995.txt'])\n",
            "SK_DBG Sunset Blvd qid tc_33--Andrew_Lloyd_Webber.txt ground_truths ['west sunset boulevard', 'sunset blvd', 'sunset boulevard', 'sunset bulevard']\n",
            "SK_DBG-prediction-ground_truth-match_score Sunset Blvd, west sunset boulevard\n",
            "SK_DBG-prediction-ground_truth-match_score Sunset Blvd, sunset blvd\n",
            "SK_DBG-prediction-ground_truth-match_score Sunset Blvd, sunset boulevard\n",
            "SK_DBG-prediction-ground_truth-match_score Sunset Blvd, sunset bulevard\n",
            "Missed question tc_33--35/35_995.txt will receive score 0.\n",
            "{'exact_match': 50.0, 'f1': 50.0, 'common': 1, 'denominator': 2, 'pred_len': 1, 'gold_len': 2}\n"
          ]
        }
      ]
    },
    {
      "cell_type": "code",
      "source": [
        "!python -m evaluation.triviaqa_evaluation \\\n",
        "        --dataset_file samples/triviaqa_sample.json \\\n",
        "        --prediction_file samples/sample_predictions_1.json"
      ],
      "metadata": {
        "colab": {
          "base_uri": "https://localhost:8080/"
        },
        "id": "hedSy_Pt2zwL",
        "outputId": "9ffde530-f651-4558-ac65-4b63cedc5c83"
      },
      "execution_count": 8,
      "outputs": [
        {
          "output_type": "stream",
          "name": "stdout",
          "text": [
            "SK_DBG {'tc_33--Andrew_Lloyd_Webber.txt': {'Aliases': ['Sunset Blvd', 'West Sunset Boulevard', 'Sunset Boulevard', 'Sunset Bulevard', 'Sunset Blvd.'], 'MatchedWikiEntityName': 'Sunset Boulevard', 'NormalizedAliases': ['west sunset boulevard', 'sunset blvd', 'sunset boulevard', 'sunset bulevard'], 'NormalizedMatchedWikiEntityName': 'sunset boulevard', 'NormalizedValue': 'sunset boulevard', 'Type': 'WikipediaEntity', 'Value': 'Sunset Boulevard'}, 'tc_33--35/35_995.txt': {'Aliases': ['Sunset Blvd', 'West Sunset Boulevard', 'Sunset Boulevard', 'Sunset Bulevard', 'Sunset Blvd.'], 'MatchedWikiEntityName': 'Sunset Boulevard', 'NormalizedAliases': ['west sunset boulevard', 'sunset blvd', 'sunset boulevard', 'sunset bulevard'], 'NormalizedMatchedWikiEntityName': 'sunset boulevard', 'NormalizedValue': 'sunset boulevard', 'Type': 'WikipediaEntity', 'Value': 'Sunset Boulevard'}}\n",
            "SK_DBG {'tc_33--Andrew_Lloyd_Webber.txt': 'Sunset Blvd', 'tc_33--35/35_995.txt': 'Sunset Blvd'}\n",
            "SK_DBG  qid_list len=2 dict_keys(['tc_33--Andrew_Lloyd_Webber.txt', 'tc_33--35/35_995.txt'])\n",
            "SK_DBG Sunset Blvd qid tc_33--Andrew_Lloyd_Webber.txt ground_truths ['west sunset boulevard', 'sunset blvd', 'sunset boulevard', 'sunset bulevard']\n",
            "SK_DBG-prediction-ground_truth-match_score Sunset Blvd, west sunset boulevard\n",
            "SK_DBG-prediction-ground_truth-match_score Sunset Blvd, sunset blvd\n",
            "SK_DBG-prediction-ground_truth-match_score Sunset Blvd, sunset boulevard\n",
            "SK_DBG-prediction-ground_truth-match_score Sunset Blvd, sunset bulevard\n",
            "SK_DBG Sunset Blvd qid tc_33--35/35_995.txt ground_truths ['west sunset boulevard', 'sunset blvd', 'sunset boulevard', 'sunset bulevard']\n",
            "SK_DBG-prediction-ground_truth-match_score Sunset Blvd, west sunset boulevard\n",
            "SK_DBG-prediction-ground_truth-match_score Sunset Blvd, sunset blvd\n",
            "SK_DBG-prediction-ground_truth-match_score Sunset Blvd, sunset boulevard\n",
            "SK_DBG-prediction-ground_truth-match_score Sunset Blvd, sunset bulevard\n",
            "{'exact_match': 100.0, 'f1': 100.0, 'common': 2, 'denominator': 2, 'pred_len': 2, 'gold_len': 2}\n"
          ]
        }
      ]
    },
    {
      "cell_type": "markdown",
      "source": [
        "### Sample 2:  \n",
        "**Question:** In which country would you find the original Legoland?  \n",
        "**Answer:** Denmark"
      ],
      "metadata": {
        "id": "hsa2Zc-SRM74"
      }
    },
    {
      "cell_type": "code",
      "source": [
        "# Evidence - Sample2\n",
        "!cat data_local/triviaqa-rc/evidence/wikipedia/Legoland.txt"
      ],
      "metadata": {
        "colab": {
          "base_uri": "https://localhost:8080/"
        },
        "id": "z70rDC84Z1Pm",
        "outputId": "b28fa59b-4eef-491c-bd48-ac89829993ad"
      },
      "execution_count": 9,
      "outputs": [
        {
          "output_type": "stream",
          "name": "stdout",
          "text": [
            "Legoland (trademark in uppercase as LEGOLAND) is a chain of Lego-themed children's/family theme parks. They are not fully owned by Lego Group itself; rather they are owned and operated by the British theme park company Merlin Entertainments.\n",
            "\n",
            "The chain currently consists of:\n",
            "* Legoland Billund Resort (Billund, Denmark; opened in 1968)\n",
            "* Legoland Windsor Resort (Windsor, United Kingdom; opened in 1996)\n",
            "* Legoland California (Carlsbad, San Diego County, California, United States; opened in 1999)\n",
            "* Legoland Deutschland Resort (Günzburg, Germany; opened in 2002)\n",
            "* Legoland Florida Resort (Winter Haven, Florida, United States; opened in 2011)\n",
            "* Legoland Malaysia Resort (Iskandar Puteri, Johor, Malaysia; opened in 2012)\n",
            "* Legoland Dubai Resort (Jebel Ali, Dubai, UAE; opening October 2016)\n",
            "*Legoland Japan (Nagoya, opening April 1, 2017)\n",
            "*Legoland Korea (Opening 2017)\n",
            "*Legoland India (TBA)\n",
            "*Legoland Shanghai (TBA)\n",
            "*Legoland in Orange County, New York (Planned for construction to begin in 2017 and opening two years later. )\n",
            "\n",
            "Attractions\n",
            "\n",
            "The parks are marketed to families with younger children (11 and under), and although the attractions include a number of roller coasters, the roller coasters are not as numerous or as extreme as those in other parks, and there is a greater emphasis on rides suitable for younger children.\n",
            "\n",
            "Legoland parks are split into various areas, which are consistent among the chain's parks. For example, all six of the parks include a Lego miniland, a model village which includes models of landmarks and scenes from around the world, made from millions of genuine Lego bricks.\n",
            "\n",
            "Educational elements\n",
            "\n",
            "An important aspect of Legoland is education, epistemology, and learning.\n",
            "\n",
            "Examples include:\n",
            "*Water flow channels in which participants can construct dams from Lego blocks to understand laminar and turbulent fluid flows\n",
            "*Interactive musical instruments, such as musical fountains, and the Aquatune hydraulophone, which is an underwater pipe organ in the shape of a giant  Lego block\n",
            "*A Lego Mindstorms centre for fun-based learning\n",
            "*Duplo Gardens (for smaller children)\n",
            "*Driving area (including attractions such as Driving school, Boating school, Ballooning school, Flying school, and Fire Academy)\n",
            "*My Town\n",
            "*Wild Woods\n",
            "* Knights' Kingdom\n",
            "\n",
            "The parks' rides are all Lego themed; many are made to appear as if they are built out of Lego bricks. They tend to be based on one particular line of Lego: for example, a popular ride at all six parks is the Dragon Coaster, which is loosely based on the Knights' Kingdom Lego sets. Another popular ride is the Driving school, in which children can drive small electric cars made to look like Lego cars around a small road network, after which they gain a mock driving license.\n",
            "\n",
            "Despite the commonality of the above-mentioned attractions, the exact set of rides varies between parks, although as with the Disney parks there is some overlap.\n",
            "\n",
            "Parks\n",
            "\n",
            "Asia\n",
            "\n",
            "Legoland Malaysia Resort \n",
            "\n",
            "Legoland Malaysia was opened in Nusajaya, Johor, Malaysia on 15 September 2012, and it is the first Legoland in Asia. Initially, there are seven themed areas of attractions for all ages which are; Miniland, The Beginning, Land of Adventure, Imagination, LEGO Kingdom, LEGO Technic, and LEGO City. The centerpiece of the park is Miniland, where almost all Asian landmarks were built using LEGO bricks. LEGOLAND® Water Park was built up by 11 March 2016. \n",
            "\n",
            "Europe\n",
            "\n",
            "Legoland Billund Resort\n",
            "\n",
            "Legoland in Billund, Denmark, is the oldest Legoland build near the original Lego factory. It is divided into ten different worlds: Duplo Land, Imagination Zone, LEGOREDO Town, Adventure Land, Miniland, Pirate Land, Lego City, Knights Kingdom, Viking Land, and Polar Land. The park opened in 1968  and has 1.6 million visitors annually, making it the largest tourist attraction in Denmark outside Copenhagen.\n",
            "\n",
            "Legoland Deutschland Resort\n",
            "\n",
            "Legoland Deutschland is located in Günzburg, Germany, and opened in 2002. As of 2009, there are seven areas in the park, including: Imagination Center, Miniland, LEGO X-treme, LEGO City, Knights Kingdom, Adventure Land, and Land of the Pirates.\n",
            "\n",
            "Legoland Windsor Resort \n",
            "\n",
            "Legoland Windsor was built on the site of the previous Windsor Safari Park in Windsor, Berkshire, and opened in 1996. As of 2010, there are twelve areas in the park, including: The Beginning, Imagination Centre, Miniland, Duplo Land, Heartlake City, LEGO City, Land of the Vikings, Kingdom of the Pharaohs, Pirates Shores, Knights Kingdom, and Adventure Land. It is the largest Legoland park in the world in terms of area – its area is approximately 5 times greater than that of Legoland Billund.\n",
            "\n",
            "Legoland Sierksdorf\n",
            "\n",
            "There was an earlier Legoland Park in Germany, from 1973 to 1976.   It was located in the city of Sierksdorf in northern Germany. In 1976 the park was sold; the former Legoland Sierksdorf is now Hansa-Park.  \n",
            "\n",
            "Middle East\n",
            "\n",
            "Legoland Dubai Resort\n",
            "\n",
            "Legoland Dubai is scheduled to open in Dubai, United Arab Emirates in 2016.  It was originally scheduled to open in 2011 in Dubailand as \"Legoland Dubailand\",  but has since been delayed until October 2016 and is now located at Dubai Parks and Resorts and Water Park as \"Legoland Dubai\".  It will have 6 areas: Factory, Lego City, Imagination, Kingdoms, Adventure, and the first-covered Miniland.\n",
            "\n",
            "North America\n",
            "\n",
            "Legoland California Resort\n",
            "\n",
            "Legoland California is in Carlsbad, California, in northern San Diego County. The park opened on March 20, 1999, and is split into nine sections, which are: The Beginning, Explorer Island, Heartlake City, Fun Town, Castle Hill, Miniland USA, Imagination Zone, Pirate Shores, and Land of Adventure. A Sea Life aquarium is adjacent to Legoland California. In 2010, a water park opened on its grounds, as one of the only three of Legoland parks (the other one is Legoland Florida, and Dubai) to feature a water park. On May 24th, 2014, an add-on was built for the water park, themed after Legends of Chima.\n",
            "\n",
            "Legoland Florida\n",
            "\n",
            "Legoland Florida opened on October 15, 2011 as the second Legoland park in the United States, and the world's second largest Legoland park after Legoland Windsor which is 5 times bigger than the one in Billund.  The park was built on the former site of Cypress Gardens, a historically famous Florida theme park. This park is divided into 10 areas: The Beginning, Fun Town, Duplo Land, Miniland USA, Kingdoms, Pirates Cove, Imagination Zone, Technic, Land of Adventure, Lego City, and a restored replica of Cypress Gardens. Legoland Florida opened a water park replacing the former Cypress Gardens \"Splash Island\" water park on May 26, 2012.\n",
            "\n",
            "Future Legoland parks \n",
            "\n",
            "Currently five further Legoland parks are being developed or are planned.\n",
            "\n",
            "Asia\n",
            "\n",
            "Legoland India\n",
            "\n",
            "In November 2015, Merlin Entertainments announced that over the next ten years it will be investing £50 million in India. Some of this will be used to open Legoland Discovery Centres. \n",
            "\n",
            "Legoland Korea\n",
            "\n",
            "Legoland Korea will be the world's largest Legoland at nearly 1.3 million square meters including a Lego hotel, condos, water park, spa and outlets.. It will be the world's first Legoland located on an island.  Construction officially began on 28 November 2014 and it is scheduled to open in 2017.  Located next to Seoul Metropolitan Subway's Chuncheon Station, the site is a 1-hour trip from Seoul via the 180 km/h, double-deck KTX train.\n",
            "\n",
            "Legoland Japan\n",
            "\n",
            "On the 30th of June in 2014, Merlin and Nagoya city officially announced that they signed the contract that Legoland Japan would be to open in a Nagoya harbour, Japan in February 2017.   Construction officially began on April 15, 2015.  The park is expected to cost around $US315  million to construct for the first stage.  According to the contract, the second stage of the Legoland will be completed in 2021.\n",
            "\n",
            "Legoland Shanghai\n",
            "\n",
            "On the 21st of October in 2015, Merlin and  China Media Capital announced a $300 million joint venture investment to build a Legoland amusement park in Shanghai, China.  Merlin Chief Executive Nick Varney said that Legoland Shanghai would be a similarly sized investment to the $300 million parks it is building in Japan, Korea and Dubai.\n",
            "\n",
            "North America\n",
            "\n",
            "Goshen, New York\n",
            "\n",
            "In May 2016 Merlin Entertainment PLC reported that it had purchased 300 acre in Goshen, New York ,  \"just south of the former Arden Hill Hospital\" to develop a Legoland theme park,  If approved, the project would break ground in spring 2017 and is expected to be completed two years later.\n",
            "\n",
            "Financial and visitor information\n",
            "\n",
            "The Californian,  Danish, and German  parks all receive approximately 1.4 million visitors per year.\n",
            "\n",
            "In June 2005, a 70 percent stake in the Legoland theme parks was sold to Blackstone Group of New York, an investment and advisory firm, under its Merlin Entertainments brand. Lego Group retains a 30 percent stake."
          ]
        }
      ]
    },
    {
      "cell_type": "code",
      "source": [
        "!python --version\n",
        "!python -m evaluation.triviaqa_evaluation \\\n",
        "        --dataset_file samples/see_sample_qa2.json \\\n",
        "        --prediction_file samples/see_sample_qa2_predictions.json"
      ],
      "metadata": {
        "colab": {
          "base_uri": "https://localhost:8080/"
        },
        "id": "o7Dj3jpzv6e_",
        "outputId": "3752807c-d356-4d56-e6e9-0eabe546315d"
      },
      "execution_count": 10,
      "outputs": [
        {
          "output_type": "stream",
          "name": "stdout",
          "text": [
            "Python 3.10.12\n",
            "SK_DBG {'qz_787--Legoland.txt': {'Aliases': ['Eastern Denmark', 'Kingdom of denmark', 'Denmarke', 'Subdivisions of Denmark', 'Kongeriget Danmark', 'Mainland Denmark', 'Danmoerk', 'Denmark proper', 'Danimarca', 'ISO 3166-1:DK', 'Denmark', 'Dänemark', 'Danska', 'Denmarc', 'KingdomOfDenmark', 'DENMARK', 'Kingdom of Denmark', 'Denemarke', 'Administrative divisions of denmark', 'Danish kingdom', 'Danemark', 'Daenemark', 'Media in Denmark', 'Danmörk', 'DenmarK', 'Danmork', 'Administrative divisions of Denmark', 'Media of Denmark', 'Danish Kingdom', 'Dinamarca'], 'MatchedWikiEntityName': 'Denmark', 'NormalizedAliases': ['eastern denmark', 'danish kingdom', 'daenemark', 'media in denmark', 'denmark proper', 'danska', 'denemarke', 'danmork', 'subdivisions of denmark', 'danmörk', 'danemark', 'denmarke', 'denmarc', 'dänemark', 'kongeriget danmark', 'danimarca', 'administrative divisions of denmark', 'kingdom of denmark', 'kingdomofdenmark', 'mainland denmark', 'denmark', 'media of denmark', 'danmoerk', 'dinamarca', 'iso 3166 1 dk'], 'NormalizedMatchedWikiEntityName': 'denmark', 'NormalizedValue': 'denmark', 'Type': 'WikipediaEntity', 'Value': 'Denmark'}, 'qz_787--119/119_115986.txt': {'Aliases': ['Eastern Denmark', 'Kingdom of denmark', 'Denmarke', 'Subdivisions of Denmark', 'Kongeriget Danmark', 'Mainland Denmark', 'Danmoerk', 'Denmark proper', 'Danimarca', 'ISO 3166-1:DK', 'Denmark', 'Dänemark', 'Danska', 'Denmarc', 'KingdomOfDenmark', 'DENMARK', 'Kingdom of Denmark', 'Denemarke', 'Administrative divisions of denmark', 'Danish kingdom', 'Danemark', 'Daenemark', 'Media in Denmark', 'Danmörk', 'DenmarK', 'Danmork', 'Administrative divisions of Denmark', 'Media of Denmark', 'Danish Kingdom', 'Dinamarca'], 'MatchedWikiEntityName': 'Denmark', 'NormalizedAliases': ['eastern denmark', 'danish kingdom', 'daenemark', 'media in denmark', 'denmark proper', 'danska', 'denemarke', 'danmork', 'subdivisions of denmark', 'danmörk', 'danemark', 'denmarke', 'denmarc', 'dänemark', 'kongeriget danmark', 'danimarca', 'administrative divisions of denmark', 'kingdom of denmark', 'kingdomofdenmark', 'mainland denmark', 'denmark', 'media of denmark', 'danmoerk', 'dinamarca', 'iso 3166 1 dk'], 'NormalizedMatchedWikiEntityName': 'denmark', 'NormalizedValue': 'denmark', 'Type': 'WikipediaEntity', 'Value': 'Denmark'}}\n",
            "SK_DBG {'qz_787--Legoland.txt': 'Denmark', 'qz_787--119/119_115986.txt': 'Denmarke'}\n",
            "SK_DBG  qid_list len=2 dict_keys(['qz_787--Legoland.txt', 'qz_787--119/119_115986.txt'])\n",
            "SK_DBG Denmark qid qz_787--Legoland.txt ground_truths ['eastern denmark', 'danish kingdom', 'daenemark', 'media in denmark', 'denmark proper', 'danska', 'denemarke', 'danmork', 'subdivisions of denmark', 'danmörk', 'danemark', 'denmarke', 'denmarc', 'dänemark', 'kongeriget danmark', 'danimarca', 'administrative divisions of denmark', 'kingdom of denmark', 'kingdomofdenmark', 'mainland denmark', 'denmark', 'media of denmark', 'danmoerk', 'dinamarca', 'iso 3166 1 dk']\n",
            "SK_DBG-prediction-ground_truth-match_score Denmark, eastern denmark\n",
            "SK_DBG-prediction-ground_truth-match_score Denmark, danish kingdom\n",
            "SK_DBG-prediction-ground_truth-match_score Denmark, daenemark\n",
            "SK_DBG-prediction-ground_truth-match_score Denmark, media in denmark\n",
            "SK_DBG-prediction-ground_truth-match_score Denmark, denmark proper\n",
            "SK_DBG-prediction-ground_truth-match_score Denmark, danska\n",
            "SK_DBG-prediction-ground_truth-match_score Denmark, denemarke\n",
            "SK_DBG-prediction-ground_truth-match_score Denmark, danmork\n",
            "SK_DBG-prediction-ground_truth-match_score Denmark, subdivisions of denmark\n",
            "SK_DBG-prediction-ground_truth-match_score Denmark, danmörk\n",
            "SK_DBG-prediction-ground_truth-match_score Denmark, danemark\n",
            "SK_DBG-prediction-ground_truth-match_score Denmark, denmarke\n",
            "SK_DBG-prediction-ground_truth-match_score Denmark, denmarc\n",
            "SK_DBG-prediction-ground_truth-match_score Denmark, dänemark\n",
            "SK_DBG-prediction-ground_truth-match_score Denmark, kongeriget danmark\n",
            "SK_DBG-prediction-ground_truth-match_score Denmark, danimarca\n",
            "SK_DBG-prediction-ground_truth-match_score Denmark, administrative divisions of denmark\n",
            "SK_DBG-prediction-ground_truth-match_score Denmark, kingdom of denmark\n",
            "SK_DBG-prediction-ground_truth-match_score Denmark, kingdomofdenmark\n",
            "SK_DBG-prediction-ground_truth-match_score Denmark, mainland denmark\n",
            "SK_DBG-prediction-ground_truth-match_score Denmark, denmark\n",
            "SK_DBG-prediction-ground_truth-match_score Denmark, media of denmark\n",
            "SK_DBG-prediction-ground_truth-match_score Denmark, danmoerk\n",
            "SK_DBG-prediction-ground_truth-match_score Denmark, dinamarca\n",
            "SK_DBG-prediction-ground_truth-match_score Denmark, iso 3166 1 dk\n",
            "SK_DBG Denmarke qid qz_787--119/119_115986.txt ground_truths ['eastern denmark', 'danish kingdom', 'daenemark', 'media in denmark', 'denmark proper', 'danska', 'denemarke', 'danmork', 'subdivisions of denmark', 'danmörk', 'danemark', 'denmarke', 'denmarc', 'dänemark', 'kongeriget danmark', 'danimarca', 'administrative divisions of denmark', 'kingdom of denmark', 'kingdomofdenmark', 'mainland denmark', 'denmark', 'media of denmark', 'danmoerk', 'dinamarca', 'iso 3166 1 dk']\n",
            "SK_DBG-prediction-ground_truth-match_score Denmarke, eastern denmark\n",
            "SK_DBG-prediction-ground_truth-match_score Denmarke, danish kingdom\n",
            "SK_DBG-prediction-ground_truth-match_score Denmarke, daenemark\n",
            "SK_DBG-prediction-ground_truth-match_score Denmarke, media in denmark\n",
            "SK_DBG-prediction-ground_truth-match_score Denmarke, denmark proper\n",
            "SK_DBG-prediction-ground_truth-match_score Denmarke, danska\n",
            "SK_DBG-prediction-ground_truth-match_score Denmarke, denemarke\n",
            "SK_DBG-prediction-ground_truth-match_score Denmarke, danmork\n",
            "SK_DBG-prediction-ground_truth-match_score Denmarke, subdivisions of denmark\n",
            "SK_DBG-prediction-ground_truth-match_score Denmarke, danmörk\n",
            "SK_DBG-prediction-ground_truth-match_score Denmarke, danemark\n",
            "SK_DBG-prediction-ground_truth-match_score Denmarke, denmarke\n",
            "SK_DBG-prediction-ground_truth-match_score Denmarke, denmarc\n",
            "SK_DBG-prediction-ground_truth-match_score Denmarke, dänemark\n",
            "SK_DBG-prediction-ground_truth-match_score Denmarke, kongeriget danmark\n",
            "SK_DBG-prediction-ground_truth-match_score Denmarke, danimarca\n",
            "SK_DBG-prediction-ground_truth-match_score Denmarke, administrative divisions of denmark\n",
            "SK_DBG-prediction-ground_truth-match_score Denmarke, kingdom of denmark\n",
            "SK_DBG-prediction-ground_truth-match_score Denmarke, kingdomofdenmark\n",
            "SK_DBG-prediction-ground_truth-match_score Denmarke, mainland denmark\n",
            "SK_DBG-prediction-ground_truth-match_score Denmarke, denmark\n",
            "SK_DBG-prediction-ground_truth-match_score Denmarke, media of denmark\n",
            "SK_DBG-prediction-ground_truth-match_score Denmarke, danmoerk\n",
            "SK_DBG-prediction-ground_truth-match_score Denmarke, dinamarca\n",
            "SK_DBG-prediction-ground_truth-match_score Denmarke, iso 3166 1 dk\n",
            "{'exact_match': 100.0, 'f1': 100.0, 'common': 2, 'denominator': 2, 'pred_len': 2, 'gold_len': 2}\n"
          ]
        }
      ]
    },
    {
      "cell_type": "code",
      "source": [
        "# unmount drive when done\n",
        "drive.flush_and_unmount()"
      ],
      "metadata": {
        "id": "XEB6rV6DhnxL"
      },
      "execution_count": 3,
      "outputs": []
    }
  ]
}