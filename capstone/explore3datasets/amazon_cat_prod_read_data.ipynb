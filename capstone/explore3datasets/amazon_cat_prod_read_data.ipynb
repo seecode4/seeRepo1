{
  "cells": [
    {
      "cell_type": "markdown",
      "metadata": {
        "colab_type": "text",
        "id": "view-in-github"
      },
      "source": [
        "<a href=\"https://colab.research.google.com/github/seecode4/seeRepo1/blob/main/capstone/explore3datasets/amazon_cat_prod_read_data.ipynb\" target=\"_parent\"><img src=\"https://colab.research.google.com/assets/colab-badge.svg\" alt=\"Open In Colab\"/></a>"
      ]
    },
    {
      "cell_type": "code",
      "execution_count": null,
      "metadata": {},
      "outputs": [],
      "source": []
    },
    {
      "cell_type": "markdown",
      "metadata": {
        "id": "T2XgiUuS1hsk"
      },
      "source": [
        "Amazon Products - Dataset explored for Capstone\n",
        "\n",
        "Amazon is one of the biggest online retailers in the USA that sells over 12 million products. This Amazon dataset, contains various Amazon categories and product url information identified using an Amazon Standard Identification Number (ASIN).\n",
        "\n",
        "The capstone project can use this dataset to identify which niches are the easiest to make sales in, gain insights into the general spending habits of online shoppers and train (or learn to train) an AI-based search model to recommend Amazon products."
      ]
    },
    {
      "cell_type": "code",
      "execution_count": 1,
      "metadata": {
        "colab": {
          "base_uri": "https://localhost:8080/"
        },
        "id": "a4KxGejYF5P3",
        "outputId": "bc61bff9-b514-4574-e558-7c1e26bf25b6"
      },
      "outputs": [
        {
          "name": "stdout",
          "output_type": "stream",
          "text": [
            "Collecting opendatasets\n",
            "  Downloading opendatasets-0.1.22-py3-none-any.whl.metadata (9.2 kB)\n",
            "Requirement already satisfied: tqdm in /usr/local/lib/python3.10/dist-packages (from opendatasets) (4.66.4)\n",
            "Requirement already satisfied: kaggle in /usr/local/lib/python3.10/dist-packages (from opendatasets) (1.6.17)\n",
            "Requirement already satisfied: click in /usr/local/lib/python3.10/dist-packages (from opendatasets) (8.1.7)\n",
            "Requirement already satisfied: six>=1.10 in /usr/local/lib/python3.10/dist-packages (from kaggle->opendatasets) (1.16.0)\n",
            "Requirement already satisfied: certifi>=2023.7.22 in /usr/local/lib/python3.10/dist-packages (from kaggle->opendatasets) (2024.7.4)\n",
            "Requirement already satisfied: python-dateutil in /usr/local/lib/python3.10/dist-packages (from kaggle->opendatasets) (2.8.2)\n",
            "Requirement already satisfied: requests in /usr/local/lib/python3.10/dist-packages (from kaggle->opendatasets) (2.31.0)\n",
            "Requirement already satisfied: python-slugify in /usr/local/lib/python3.10/dist-packages (from kaggle->opendatasets) (8.0.4)\n",
            "Requirement already satisfied: urllib3 in /usr/local/lib/python3.10/dist-packages (from kaggle->opendatasets) (2.0.7)\n",
            "Requirement already satisfied: bleach in /usr/local/lib/python3.10/dist-packages (from kaggle->opendatasets) (6.1.0)\n",
            "Requirement already satisfied: webencodings in /usr/local/lib/python3.10/dist-packages (from bleach->kaggle->opendatasets) (0.5.1)\n",
            "Requirement already satisfied: text-unidecode>=1.3 in /usr/local/lib/python3.10/dist-packages (from python-slugify->kaggle->opendatasets) (1.3)\n",
            "Requirement already satisfied: charset-normalizer<4,>=2 in /usr/local/lib/python3.10/dist-packages (from requests->kaggle->opendatasets) (3.3.2)\n",
            "Requirement already satisfied: idna<4,>=2.5 in /usr/local/lib/python3.10/dist-packages (from requests->kaggle->opendatasets) (3.7)\n",
            "Downloading opendatasets-0.1.22-py3-none-any.whl (15 kB)\n",
            "Installing collected packages: opendatasets\n",
            "Successfully installed opendatasets-0.1.22\n"
          ]
        }
      ],
      "source": [
        "! pip install opendatasets\n",
        "import opendatasets as od\n",
        "import pandas as pd"
      ]
    },
    {
      "cell_type": "code",
      "execution_count": 2,
      "metadata": {
        "colab": {
          "base_uri": "https://localhost:8080/"
        },
        "id": "duzQhnP1E-BR",
        "outputId": "5175a6c6-8ad9-4cc3-b7a1-1656e8e59fb4"
      },
      "outputs": [
        {
          "name": "stdout",
          "output_type": "stream",
          "text": [
            "Please provide your Kaggle credentials to download this dataset. Learn more: http://bit.ly/kaggle-creds\n",
            "Your Kaggle username: seetha4\n",
            "Your Kaggle Key: ··········\n",
            "Dataset URL: https://www.kaggle.com/datasets/aaronfriasr/amazon-products-dataset\n",
            "Downloading amazon-products-dataset.zip to ./amazon-products-dataset\n"
          ]
        },
        {
          "name": "stderr",
          "output_type": "stream",
          "text": [
            "100%|██████████| 99.2M/99.2M [00:04<00:00, 22.7MB/s]\n"
          ]
        },
        {
          "name": "stdout",
          "output_type": "stream",
          "text": [
            "\n",
            "/content\n",
            "total 20\n",
            "drwxr-xr-x 1 root root 4096 Aug  5 23:21 .\n",
            "drwxr-xr-x 1 root root 4096 Aug  5 23:19 ..\n",
            "drwxr-xr-x 2 root root 4096 Aug  5 23:21 amazon-products-dataset\n",
            "drwxr-xr-x 4 root root 4096 Aug  2 13:24 .config\n",
            "drwxr-xr-x 1 root root 4096 Aug  2 13:24 sample_data\n",
            "359M\t./amazon-products-dataset\n",
            "55M\t./sample_data\n"
          ]
        }
      ],
      "source": [
        "# ! kaggle datasets download <name-of-dataset>\n",
        "# Check amazon dataset\n",
        "# amzn_inp_path=\"https://www.kaggle.com/code/yashnik/amazon-dataset/input/Amazon-Products-Dataset\"\n",
        "amzn_inp_path=\"https://www.kaggle.com/datasets/aaronfriasr/amazon-products-dataset\"\n",
        "od.download(amzn_inp_path)\n",
        "! pwd\n",
        "!ls -al\n",
        "!du -hs ./*"
      ]
    },
    {
      "cell_type": "code",
      "execution_count": 3,
      "metadata": {
        "colab": {
          "base_uri": "https://localhost:8080/"
        },
        "id": "3dHMByerFTgS",
        "outputId": "c53adbdf-2393-49ff-e432-4b33ec133a44"
      },
      "outputs": [
        {
          "name": "stdout",
          "output_type": "stream",
          "text": [
            "Categories Shape:\n",
            " (248, 2) \n",
            "       id                                    category_name\n",
            "0      1                         Beading & Jewelry Making\n",
            "1      2                                Fabric Decorating\n",
            "2      3                      Knitting & Crochet Supplies\n",
            "3      4                             Printmaking Supplies\n",
            "4      5                 Scrapbooking & Stamping Supplies\n",
            "..   ...                                              ...\n",
            "243  262  Xbox Series X & S Consoles, Games & Accessories\n",
            "244  263                           PC Games & Accessories\n",
            "245  264                     Baby Girls' Clothing & Shoes\n",
            "246  265                            Boys' School Uniforms\n",
            "247  270                                     Toys & Games\n",
            "\n",
            "[248 rows x 2 columns]\n",
            "Products Shape:\n",
            " (1426337, 11) \n",
            " Columns:\n",
            " Index(['asin', 'title', 'imgUrl', 'productURL', 'stars', 'reviews', 'price',\n",
            "       'listPrice', 'category_id', 'isBestSeller', 'boughtInLastMonth'],\n",
            "      dtype='object') \n",
            "          asin                                              title  \\\n",
            "0  B014TMV5YE  Sion Softside Expandable Roller Luggage, Black...   \n",
            "1  B07GDLCQXV  Luggage Sets Expandable PC+ABS Durable Suitcas...   \n",
            "2  B07XSCCZYG  Platinum Elite Softside Expandable Checked Lug...   \n",
            "\n",
            "                                              imgUrl  \\\n",
            "0  https://m.media-amazon.com/images/I/815dLQKYIY...   \n",
            "1  https://m.media-amazon.com/images/I/81bQlm7vf6...   \n",
            "2  https://m.media-amazon.com/images/I/71EA35zvJB...   \n",
            "\n",
            "                             productURL  stars  reviews   price  listPrice  \\\n",
            "0  https://www.amazon.com/dp/B014TMV5YE    4.5        0  139.99       0.00   \n",
            "1  https://www.amazon.com/dp/B07GDLCQXV    4.5        0  169.99     209.99   \n",
            "2  https://www.amazon.com/dp/B07XSCCZYG    4.6        0  365.49     429.99   \n",
            "\n",
            "   category_id  isBestSeller  boughtInLastMonth  \n",
            "0          104         False               2000  \n",
            "1          104         False               1000  \n",
            "2          104         False                300  \n"
          ]
        }
      ],
      "source": [
        "# Get Categories and Products into Pandas Dataframe\n",
        "amzn_cat_csv_path = \"./amazon-products-dataset/amazon_categories.csv\"\n",
        "amzn_prod_csv_path = \"./amazon-products-dataset/amazon_products.csv\"\n",
        "\n",
        "df_amzn_cat = pd.read_csv(amzn_cat_csv_path)\n",
        "df_amzn_prod = pd.read_csv(amzn_prod_csv_path)\n",
        "\n",
        "print(\"Categories Shape:\\n\", df_amzn_cat.shape, \"\\n\", df_amzn_cat)\n",
        "print(\"Products Shape:\\n\", df_amzn_prod.shape, \"\\n Columns:\\n\",\n",
        "      df_amzn_prod.columns, \"\\n\", df_amzn_prod.head(3))"
      ]
    }
  ],
  "metadata": {
    "colab": {
      "authorship_tag": "ABX9TyODSDxrkeYTTM2fZ5CgeWeP",
      "include_colab_link": true,
      "provenance": []
    },
    "kernelspec": {
      "display_name": "Python 3",
      "name": "python3"
    },
    "language_info": {
      "name": "python"
    }
  },
  "nbformat": 4,
  "nbformat_minor": 0
}
