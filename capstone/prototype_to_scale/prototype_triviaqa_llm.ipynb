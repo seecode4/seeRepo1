{
  "nbformat": 4,
  "nbformat_minor": 0,
  "metadata": {
    "colab": {
      "provenance": [],
      "gpuType": "T4",
      "mount_file_id": "1sDUg0FX8gPJWRzcdVk7ydSwyfYFzk4Zk",
      "authorship_tag": "ABX9TyMaITU/dIQUOmE9CJoCV4Ej",
      "include_colab_link": true
    },
    "kernelspec": {
      "name": "python3",
      "display_name": "Python 3"
    },
    "language_info": {
      "name": "python"
    },
    "accelerator": "GPU"
  },
  "cells": [
    {
      "cell_type": "markdown",
      "metadata": {
        "id": "view-in-github",
        "colab_type": "text"
      },
      "source": [
        "<a href=\"https://colab.research.google.com/github/seecode4/seeRepo1/blob/main/capstone/prototype_to_scale/prototype_triviaqa_llm.ipynb\" target=\"_parent\"><img src=\"https://colab.research.google.com/assets/colab-badge.svg\" alt=\"Open In Colab\"/></a>"
      ]
    },
    {
      "cell_type": "markdown",
      "source": [
        "## Capstone Step8 - ML Prototype for Scaling\n",
        "\n",
        "Here packages to be installed are in requirements.txt. </br> Ollama server will be used to pull Large Language Models to query using the triviaqa dataset. In this example we use llama3.1:8b. The dataset used here was download to a local GDrive from the [github reference](https://github.com/mandarjoshi90/triviaqa) for the paper \"TriviaQA: A Large Scale Distantly Supervised Challenge Dataset for Reading Comprehension\".  \n",
        "\n",
        "Following are the steps.\n",
        "\n",
        "1. Read a trivia-qa json file to get questions and answer from triviaqa data set. Use ijson, since the files can be large and the number of questions can be in the thousands. By default we will use wikipedia_dev_qa.json from the triviaqa dataset.\n",
        "2. Save the data in a dict. list containing the follwing fields for further use.\n",
        "3. Install ollama and start the backend server locally in a separate thread\n",
        "4. Use ollama api to pull the desired LLM. By default, we will pull llama3.1:8b. This is the smaller of the llama models. This would be relatively less demanding on memory and compute resources for this project.\n",
        "5. In this example, we will query a small number of questions in the dataset\n",
        "6. The 'Normalized Answer' in the original dataset is the ground truth and is included in the 'Normalized Aliases', with acceptable answers res\n",
        "7. For each Answer from the llm, we will normalize the Answer and compare it to the \"Normalized Aliases'\n",
        "8. To evaluate, if there is an exact match we will give a score of 1. If not, we will use the Bilingual Evaluation Understudy (BLEU) score 1-gram metric since triviaqa anwers are short and often just 1 or 2 words."
      ],
      "metadata": {
        "id": "CBUTw8bZr8WX"
      }
    },
    {
      "cell_type": "code",
      "source": [
        "# Mount google drive and copy needed files to the local space\n",
        "%cd /content/for_step8_scale\n",
        "!ls -lrt /content/for_step8_scale /content/for_step8_scale/data"
      ],
      "metadata": {
        "colab": {
          "base_uri": "https://localhost:8080/"
        },
        "id": "JxQHVUBX3zO2",
        "outputId": "41f9eb02-b9e4-4c6e-f099-55efca8da838"
      },
      "execution_count": 2,
      "outputs": [
        {
          "output_type": "stream",
          "name": "stdout",
          "text": [
            "/content/for_step8_scale\n",
            "/content/for_step8_scale/data:\n",
            "total 16916\n",
            "-rw------- 1 root root 17318460 Dec 14 03:55 wikipedia-dev.json\n",
            "\n",
            "/content/for_step8_scale:\n",
            "total 40\n",
            "-rw------- 1 root root  5984 Dec 11 04:54 triviaqa_ijson_utils.py\n",
            "-rw------- 1 root root   661 Dec 14 00:53 Dockerfile.txt\n",
            "-rw------- 1 root root   108 Dec 14 00:54 my_bash.sh.txt\n",
            "drwx------ 2 root root  4096 Dec 14 03:55 data\n",
            "-rw------- 1 root root   115 Dec 14 22:36 requirements.txt\n",
            "-rw------- 1 root root  2971 Dec 15 00:43 qa_metrics_utils.py\n",
            "-rw------- 1 root root 10756 Dec 15 00:44 app_ijson_ollama.py\n"
          ]
        }
      ]
    },
    {
      "cell_type": "markdown",
      "source": [
        "At the start: Connect to a T4-TPU\n",
        "\n",
        "Available: 77.52 compute units  "
      ],
      "metadata": {
        "id": "tE85vk88LG-s"
      }
    },
    {
      "cell_type": "code",
      "source": [
        "# !cat /proc/meminfo"
      ],
      "metadata": {
        "id": "qbz7MPL1LcV1"
      },
      "execution_count": null,
      "outputs": []
    },
    {
      "cell_type": "code",
      "source": [
        "# sudo apt install pciutils from terminal for each new runtime session\n",
        "!lspci\n",
        "gpu_info = !nvidia-smi\n",
        "gpu_info = '\\n'.join(gpu_info)\n",
        "if gpu_info.find('failed') >= 0:\n",
        "  print('Not connected to a GPU')\n",
        "else:\n",
        "  print(gpu_info)"
      ],
      "metadata": {
        "colab": {
          "base_uri": "https://localhost:8080/"
        },
        "id": "AR_q8tezPeJb",
        "outputId": "0c5ef6fe-a978-48e9-e005-71ea72078954"
      },
      "execution_count": 3,
      "outputs": [
        {
          "output_type": "stream",
          "name": "stdout",
          "text": [
            "00:00.0 Host bridge: Intel Corporation 440FX - 82441FX PMC [Natoma] (rev 02)\n",
            "00:01.0 ISA bridge: Intel Corporation 82371AB/EB/MB PIIX4 ISA (rev 03)\n",
            "00:01.3 Bridge: Intel Corporation 82371AB/EB/MB PIIX4 ACPI (rev 03)\n",
            "00:03.0 Non-VGA unclassified device: Red Hat, Inc. Virtio SCSI\n",
            "00:04.0 3D controller: NVIDIA Corporation TU104GL [Tesla T4] (rev a1)\n",
            "00:05.0 Ethernet controller: Red Hat, Inc. Virtio network device\n",
            "00:06.0 Unclassified device [00ff]: Red Hat, Inc. Virtio RNG\n",
            "Sun Dec 15 00:47:32 2024       \n",
            "+---------------------------------------------------------------------------------------+\n",
            "| NVIDIA-SMI 535.104.05             Driver Version: 535.104.05   CUDA Version: 12.2     |\n",
            "|-----------------------------------------+----------------------+----------------------+\n",
            "| GPU  Name                 Persistence-M | Bus-Id        Disp.A | Volatile Uncorr. ECC |\n",
            "| Fan  Temp   Perf          Pwr:Usage/Cap |         Memory-Usage | GPU-Util  Compute M. |\n",
            "|                                         |                      |               MIG M. |\n",
            "|=========================================+======================+======================|\n",
            "|   0  Tesla T4                       Off | 00000000:00:04.0 Off |                    0 |\n",
            "| N/A   51C    P8              12W /  70W |      0MiB / 15360MiB |      0%      Default |\n",
            "|                                         |                      |                  N/A |\n",
            "+-----------------------------------------+----------------------+----------------------+\n",
            "                                                                                         \n",
            "+---------------------------------------------------------------------------------------+\n",
            "| Processes:                                                                            |\n",
            "|  GPU   GI   CI        PID   Type   Process name                            GPU Memory |\n",
            "|        ID   ID                                                             Usage      |\n",
            "|=======================================================================================|\n",
            "|  No running processes found                                                           |\n",
            "+---------------------------------------------------------------------------------------+\n"
          ]
        }
      ]
    },
    {
      "cell_type": "code",
      "source": [
        "# Install dependencies as would be RUN from a Dockerfile\n",
        "!cat requirements.txt\n",
        "!pip install --no-cache-dir -r requirements.txt"
      ],
      "metadata": {
        "colab": {
          "base_uri": "https://localhost:8080/"
        },
        "id": "bfiyymyLwCJT",
        "outputId": "e8d3d330-d04f-48d5-f06a-239f398e0c72"
      },
      "execution_count": 4,
      "outputs": [
        {
          "output_type": "stream",
          "name": "stdout",
          "text": [
            "ijson==3.3.0\r\n",
            "numpy==1.26.4\r\n",
            "pandas==2.2.2\r\n",
            "matplotlib==3.8.0\r\n",
            "ollama==0.4.2\r\n",
            "nltk==3.9.1\r\n",
            "tensorflow==2.17.1\r\n",
            "\r\n",
            "\r\n",
            "Collecting ijson==3.3.0 (from -r requirements.txt (line 1))\n",
            "  Downloading ijson-3.3.0-cp310-cp310-manylinux_2_17_x86_64.manylinux2014_x86_64.whl.metadata (21 kB)\n",
            "Requirement already satisfied: numpy==1.26.4 in /usr/local/lib/python3.10/dist-packages (from -r requirements.txt (line 2)) (1.26.4)\n",
            "Requirement already satisfied: pandas==2.2.2 in /usr/local/lib/python3.10/dist-packages (from -r requirements.txt (line 3)) (2.2.2)\n",
            "Requirement already satisfied: matplotlib==3.8.0 in /usr/local/lib/python3.10/dist-packages (from -r requirements.txt (line 4)) (3.8.0)\n",
            "Collecting ollama==0.4.2 (from -r requirements.txt (line 5))\n",
            "  Downloading ollama-0.4.2-py3-none-any.whl.metadata (4.8 kB)\n",
            "Requirement already satisfied: nltk==3.9.1 in /usr/local/lib/python3.10/dist-packages (from -r requirements.txt (line 6)) (3.9.1)\n",
            "Requirement already satisfied: tensorflow==2.17.1 in /usr/local/lib/python3.10/dist-packages (from -r requirements.txt (line 7)) (2.17.1)\n",
            "Requirement already satisfied: python-dateutil>=2.8.2 in /usr/local/lib/python3.10/dist-packages (from pandas==2.2.2->-r requirements.txt (line 3)) (2.8.2)\n",
            "Requirement already satisfied: pytz>=2020.1 in /usr/local/lib/python3.10/dist-packages (from pandas==2.2.2->-r requirements.txt (line 3)) (2024.2)\n",
            "Requirement already satisfied: tzdata>=2022.7 in /usr/local/lib/python3.10/dist-packages (from pandas==2.2.2->-r requirements.txt (line 3)) (2024.2)\n",
            "Requirement already satisfied: contourpy>=1.0.1 in /usr/local/lib/python3.10/dist-packages (from matplotlib==3.8.0->-r requirements.txt (line 4)) (1.3.1)\n",
            "Requirement already satisfied: cycler>=0.10 in /usr/local/lib/python3.10/dist-packages (from matplotlib==3.8.0->-r requirements.txt (line 4)) (0.12.1)\n",
            "Requirement already satisfied: fonttools>=4.22.0 in /usr/local/lib/python3.10/dist-packages (from matplotlib==3.8.0->-r requirements.txt (line 4)) (4.55.3)\n",
            "Requirement already satisfied: kiwisolver>=1.0.1 in /usr/local/lib/python3.10/dist-packages (from matplotlib==3.8.0->-r requirements.txt (line 4)) (1.4.7)\n",
            "Requirement already satisfied: packaging>=20.0 in /usr/local/lib/python3.10/dist-packages (from matplotlib==3.8.0->-r requirements.txt (line 4)) (24.2)\n",
            "Requirement already satisfied: pillow>=6.2.0 in /usr/local/lib/python3.10/dist-packages (from matplotlib==3.8.0->-r requirements.txt (line 4)) (11.0.0)\n",
            "Requirement already satisfied: pyparsing>=2.3.1 in /usr/local/lib/python3.10/dist-packages (from matplotlib==3.8.0->-r requirements.txt (line 4)) (3.2.0)\n",
            "Collecting httpx<0.28.0,>=0.27.0 (from ollama==0.4.2->-r requirements.txt (line 5))\n",
            "  Downloading httpx-0.27.2-py3-none-any.whl.metadata (7.1 kB)\n",
            "Requirement already satisfied: pydantic<3.0.0,>=2.9.0 in /usr/local/lib/python3.10/dist-packages (from ollama==0.4.2->-r requirements.txt (line 5)) (2.10.3)\n",
            "Requirement already satisfied: click in /usr/local/lib/python3.10/dist-packages (from nltk==3.9.1->-r requirements.txt (line 6)) (8.1.7)\n",
            "Requirement already satisfied: joblib in /usr/local/lib/python3.10/dist-packages (from nltk==3.9.1->-r requirements.txt (line 6)) (1.4.2)\n",
            "Requirement already satisfied: regex>=2021.8.3 in /usr/local/lib/python3.10/dist-packages (from nltk==3.9.1->-r requirements.txt (line 6)) (2024.9.11)\n",
            "Requirement already satisfied: tqdm in /usr/local/lib/python3.10/dist-packages (from nltk==3.9.1->-r requirements.txt (line 6)) (4.66.6)\n",
            "Requirement already satisfied: absl-py>=1.0.0 in /usr/local/lib/python3.10/dist-packages (from tensorflow==2.17.1->-r requirements.txt (line 7)) (1.4.0)\n",
            "Requirement already satisfied: astunparse>=1.6.0 in /usr/local/lib/python3.10/dist-packages (from tensorflow==2.17.1->-r requirements.txt (line 7)) (1.6.3)\n",
            "Requirement already satisfied: flatbuffers>=24.3.25 in /usr/local/lib/python3.10/dist-packages (from tensorflow==2.17.1->-r requirements.txt (line 7)) (24.3.25)\n",
            "Requirement already satisfied: gast!=0.5.0,!=0.5.1,!=0.5.2,>=0.2.1 in /usr/local/lib/python3.10/dist-packages (from tensorflow==2.17.1->-r requirements.txt (line 7)) (0.6.0)\n",
            "Requirement already satisfied: google-pasta>=0.1.1 in /usr/local/lib/python3.10/dist-packages (from tensorflow==2.17.1->-r requirements.txt (line 7)) (0.2.0)\n",
            "Requirement already satisfied: h5py>=3.10.0 in /usr/local/lib/python3.10/dist-packages (from tensorflow==2.17.1->-r requirements.txt (line 7)) (3.12.1)\n",
            "Requirement already satisfied: libclang>=13.0.0 in /usr/local/lib/python3.10/dist-packages (from tensorflow==2.17.1->-r requirements.txt (line 7)) (18.1.1)\n",
            "Requirement already satisfied: ml-dtypes<0.5.0,>=0.3.1 in /usr/local/lib/python3.10/dist-packages (from tensorflow==2.17.1->-r requirements.txt (line 7)) (0.4.1)\n",
            "Requirement already satisfied: opt-einsum>=2.3.2 in /usr/local/lib/python3.10/dist-packages (from tensorflow==2.17.1->-r requirements.txt (line 7)) (3.4.0)\n",
            "Requirement already satisfied: protobuf!=4.21.0,!=4.21.1,!=4.21.2,!=4.21.3,!=4.21.4,!=4.21.5,<5.0.0dev,>=3.20.3 in /usr/local/lib/python3.10/dist-packages (from tensorflow==2.17.1->-r requirements.txt (line 7)) (4.25.5)\n",
            "Requirement already satisfied: requests<3,>=2.21.0 in /usr/local/lib/python3.10/dist-packages (from tensorflow==2.17.1->-r requirements.txt (line 7)) (2.32.3)\n",
            "Requirement already satisfied: setuptools in /usr/local/lib/python3.10/dist-packages (from tensorflow==2.17.1->-r requirements.txt (line 7)) (75.1.0)\n",
            "Requirement already satisfied: six>=1.12.0 in /usr/local/lib/python3.10/dist-packages (from tensorflow==2.17.1->-r requirements.txt (line 7)) (1.17.0)\n",
            "Requirement already satisfied: termcolor>=1.1.0 in /usr/local/lib/python3.10/dist-packages (from tensorflow==2.17.1->-r requirements.txt (line 7)) (2.5.0)\n",
            "Requirement already satisfied: typing-extensions>=3.6.6 in /usr/local/lib/python3.10/dist-packages (from tensorflow==2.17.1->-r requirements.txt (line 7)) (4.12.2)\n",
            "Requirement already satisfied: wrapt>=1.11.0 in /usr/local/lib/python3.10/dist-packages (from tensorflow==2.17.1->-r requirements.txt (line 7)) (1.17.0)\n",
            "Requirement already satisfied: grpcio<2.0,>=1.24.3 in /usr/local/lib/python3.10/dist-packages (from tensorflow==2.17.1->-r requirements.txt (line 7)) (1.68.1)\n",
            "Requirement already satisfied: tensorboard<2.18,>=2.17 in /usr/local/lib/python3.10/dist-packages (from tensorflow==2.17.1->-r requirements.txt (line 7)) (2.17.1)\n",
            "Requirement already satisfied: keras>=3.2.0 in /usr/local/lib/python3.10/dist-packages (from tensorflow==2.17.1->-r requirements.txt (line 7)) (3.5.0)\n",
            "Requirement already satisfied: tensorflow-io-gcs-filesystem>=0.23.1 in /usr/local/lib/python3.10/dist-packages (from tensorflow==2.17.1->-r requirements.txt (line 7)) (0.37.1)\n",
            "Requirement already satisfied: wheel<1.0,>=0.23.0 in /usr/local/lib/python3.10/dist-packages (from astunparse>=1.6.0->tensorflow==2.17.1->-r requirements.txt (line 7)) (0.45.1)\n",
            "Requirement already satisfied: anyio in /usr/local/lib/python3.10/dist-packages (from httpx<0.28.0,>=0.27.0->ollama==0.4.2->-r requirements.txt (line 5)) (3.7.1)\n",
            "Requirement already satisfied: certifi in /usr/local/lib/python3.10/dist-packages (from httpx<0.28.0,>=0.27.0->ollama==0.4.2->-r requirements.txt (line 5)) (2024.8.30)\n",
            "Requirement already satisfied: httpcore==1.* in /usr/local/lib/python3.10/dist-packages (from httpx<0.28.0,>=0.27.0->ollama==0.4.2->-r requirements.txt (line 5)) (1.0.7)\n",
            "Requirement already satisfied: idna in /usr/local/lib/python3.10/dist-packages (from httpx<0.28.0,>=0.27.0->ollama==0.4.2->-r requirements.txt (line 5)) (3.10)\n",
            "Requirement already satisfied: sniffio in /usr/local/lib/python3.10/dist-packages (from httpx<0.28.0,>=0.27.0->ollama==0.4.2->-r requirements.txt (line 5)) (1.3.1)\n",
            "Requirement already satisfied: h11<0.15,>=0.13 in /usr/local/lib/python3.10/dist-packages (from httpcore==1.*->httpx<0.28.0,>=0.27.0->ollama==0.4.2->-r requirements.txt (line 5)) (0.14.0)\n",
            "Requirement already satisfied: rich in /usr/local/lib/python3.10/dist-packages (from keras>=3.2.0->tensorflow==2.17.1->-r requirements.txt (line 7)) (13.9.4)\n",
            "Requirement already satisfied: namex in /usr/local/lib/python3.10/dist-packages (from keras>=3.2.0->tensorflow==2.17.1->-r requirements.txt (line 7)) (0.0.8)\n",
            "Requirement already satisfied: optree in /usr/local/lib/python3.10/dist-packages (from keras>=3.2.0->tensorflow==2.17.1->-r requirements.txt (line 7)) (0.13.1)\n",
            "Requirement already satisfied: annotated-types>=0.6.0 in /usr/local/lib/python3.10/dist-packages (from pydantic<3.0.0,>=2.9.0->ollama==0.4.2->-r requirements.txt (line 5)) (0.7.0)\n",
            "Requirement already satisfied: pydantic-core==2.27.1 in /usr/local/lib/python3.10/dist-packages (from pydantic<3.0.0,>=2.9.0->ollama==0.4.2->-r requirements.txt (line 5)) (2.27.1)\n",
            "Requirement already satisfied: charset-normalizer<4,>=2 in /usr/local/lib/python3.10/dist-packages (from requests<3,>=2.21.0->tensorflow==2.17.1->-r requirements.txt (line 7)) (3.4.0)\n",
            "Requirement already satisfied: urllib3<3,>=1.21.1 in /usr/local/lib/python3.10/dist-packages (from requests<3,>=2.21.0->tensorflow==2.17.1->-r requirements.txt (line 7)) (2.2.3)\n",
            "Requirement already satisfied: markdown>=2.6.8 in /usr/local/lib/python3.10/dist-packages (from tensorboard<2.18,>=2.17->tensorflow==2.17.1->-r requirements.txt (line 7)) (3.7)\n",
            "Requirement already satisfied: tensorboard-data-server<0.8.0,>=0.7.0 in /usr/local/lib/python3.10/dist-packages (from tensorboard<2.18,>=2.17->tensorflow==2.17.1->-r requirements.txt (line 7)) (0.7.2)\n",
            "Requirement already satisfied: werkzeug>=1.0.1 in /usr/local/lib/python3.10/dist-packages (from tensorboard<2.18,>=2.17->tensorflow==2.17.1->-r requirements.txt (line 7)) (3.1.3)\n",
            "Requirement already satisfied: MarkupSafe>=2.1.1 in /usr/local/lib/python3.10/dist-packages (from werkzeug>=1.0.1->tensorboard<2.18,>=2.17->tensorflow==2.17.1->-r requirements.txt (line 7)) (3.0.2)\n",
            "Requirement already satisfied: exceptiongroup in /usr/local/lib/python3.10/dist-packages (from anyio->httpx<0.28.0,>=0.27.0->ollama==0.4.2->-r requirements.txt (line 5)) (1.2.2)\n",
            "Requirement already satisfied: markdown-it-py>=2.2.0 in /usr/local/lib/python3.10/dist-packages (from rich->keras>=3.2.0->tensorflow==2.17.1->-r requirements.txt (line 7)) (3.0.0)\n",
            "Requirement already satisfied: pygments<3.0.0,>=2.13.0 in /usr/local/lib/python3.10/dist-packages (from rich->keras>=3.2.0->tensorflow==2.17.1->-r requirements.txt (line 7)) (2.18.0)\n",
            "Requirement already satisfied: mdurl~=0.1 in /usr/local/lib/python3.10/dist-packages (from markdown-it-py>=2.2.0->rich->keras>=3.2.0->tensorflow==2.17.1->-r requirements.txt (line 7)) (0.1.2)\n",
            "Downloading ijson-3.3.0-cp310-cp310-manylinux_2_17_x86_64.manylinux2014_x86_64.whl (114 kB)\n",
            "\u001b[2K   \u001b[90m━━━━━━━━━━━━━━━━━━━━━━━━━━━━━━━━━━━━━━━━\u001b[0m \u001b[32m114.5/114.5 kB\u001b[0m \u001b[31m274.8 MB/s\u001b[0m eta \u001b[36m0:00:00\u001b[0m\n",
            "\u001b[?25hDownloading ollama-0.4.2-py3-none-any.whl (13 kB)\n",
            "Downloading httpx-0.27.2-py3-none-any.whl (76 kB)\n",
            "\u001b[2K   \u001b[90m━━━━━━━━━━━━━━━━━━━━━━━━━━━━━━━━━━━━━━━━\u001b[0m \u001b[32m76.4/76.4 kB\u001b[0m \u001b[31m277.3 MB/s\u001b[0m eta \u001b[36m0:00:00\u001b[0m\n",
            "\u001b[?25hInstalling collected packages: ijson, httpx, ollama\n",
            "  Attempting uninstall: httpx\n",
            "    Found existing installation: httpx 0.28.1\n",
            "    Uninstalling httpx-0.28.1:\n",
            "      Successfully uninstalled httpx-0.28.1\n",
            "Successfully installed httpx-0.27.2 ijson-3.3.0 ollama-0.4.2\n"
          ]
        }
      ]
    },
    {
      "cell_type": "code",
      "source": [
        "%%time\n",
        "# Install ollama\n",
        "from IPython.display import clear_output\n",
        "!curl -fsSL https://ollama.com/install.sh | sh\n",
        "clear_output()"
      ],
      "metadata": {
        "id": "W9O7tOoKSkuP",
        "colab": {
          "base_uri": "https://localhost:8080/"
        },
        "outputId": "159a1190-8278-4106-9794-65764725352d"
      },
      "execution_count": 5,
      "outputs": [
        {
          "output_type": "stream",
          "name": "stdout",
          "text": [
            "CPU times: user 721 ms, sys: 97 ms, total: 818 ms\n",
            "Wall time: 59.4 s\n"
          ]
        }
      ]
    },
    {
      "cell_type": "code",
      "source": [
        "%%time\n",
        "# Command to run python file as from a Docker container\n",
        "!python app_ijson_ollama.py -h\n",
        "# !pwd\n",
        "# !ls -lrt *"
      ],
      "metadata": {
        "colab": {
          "base_uri": "https://localhost:8080/"
        },
        "id": "1GssT6wu3Ylt",
        "outputId": "06c6604b-b1f3-45ce-a0df-0ac325e31919"
      },
      "execution_count": 15,
      "outputs": [
        {
          "output_type": "stream",
          "name": "stdout",
          "text": [
            "2024-12-15 01:45:32.281157: E external/local_xla/xla/stream_executor/cuda/cuda_fft.cc:485] Unable to register cuFFT factory: Attempting to register factory for plugin cuFFT when one has already been registered\n",
            "2024-12-15 01:45:32.299798: E external/local_xla/xla/stream_executor/cuda/cuda_dnn.cc:8454] Unable to register cuDNN factory: Attempting to register factory for plugin cuDNN when one has already been registered\n",
            "2024-12-15 01:45:32.305925: E external/local_xla/xla/stream_executor/cuda/cuda_blas.cc:1452] Unable to register cuBLAS factory: Attempting to register factory for plugin cuBLAS when one has already been registered\n",
            "2024-12-15 01:45:32.319913: I tensorflow/core/platform/cpu_feature_guard.cc:210] This TensorFlow binary is optimized to use available CPU instructions in performance-critical operations.\n",
            "To enable the following instructions: AVX2 AVX512F FMA, in other operations, rebuild TensorFlow with the appropriate compiler flags.\n",
            "2024-12-15 01:45:33.531817: W tensorflow/compiler/tf2tensorrt/utils/py_utils.cc:38] TF-TRT Warning: Could not find TensorRT\n",
            "platform version linux\n",
            "python version 3.10.12 (main, Nov  6 2024, 20:22:13) [GCC 11.4.0]\n",
            "ijson version: 3.3.0\n",
            "Current working directory:  /content/for_step8_scale\n",
            "usage: app_ijson_ollama.py [-h] [-v VERBOSE] [-d DATAPATH] [-n NUMQUES] [-m MODELNAME] [-e EVAL]\n",
            "\n",
            "get qa from *.json given datapath\n",
            "\n",
            "options:\n",
            "  -h, --help            show this help message and exit\n",
            "  -v VERBOSE, --verbose VERBOSE\n",
            "                        do debug prints (default: 0)\n",
            "  -d DATAPATH, --datapath DATAPATH\n",
            "                        dir path to .json files (default: ./data/)\n",
            "  -n NUMQUES, --numques NUMQUES\n",
            "                        number of questions to try (default: 2)\n",
            "  -m MODELNAME, --modelname MODELNAME\n",
            "                        modelname llama3.1:8b, gemma2 or mistral (default: llama3.1:8b)\n",
            "  -e EVAL, --eval EVAL  evaluate with BLEU-1gram score (default: 1)\n",
            "CPU times: user 42.3 ms, sys: 5.37 ms, total: 47.7 ms\n",
            "Wall time: 5.53 s\n"
          ]
        }
      ]
    },
    {
      "cell_type": "markdown",
      "source": [
        "If redirecting output  \n",
        "  python app_ijson_ollama.py > output_app.txt 2>&1\n",
        "\n",
        "At the Terminal </br>\n",
        "- can look for output_ollama_rm.txt; indicates it is done </br>\n",
        "- ps -aux |grep ollama and kill -9 <pid>"
      ],
      "metadata": {
        "id": "IqAN-CTG0DHM"
      }
    },
    {
      "cell_type": "code",
      "source": [
        "%%time\n",
        "# Try default settings just 2 questions - takes about 2min incl. pull model\n",
        "!python app_ijson_ollama.py > output_app.txt 2>&1"
      ],
      "metadata": {
        "colab": {
          "base_uri": "https://localhost:8080/"
        },
        "id": "OF3TZmxmUk68",
        "outputId": "4b2acc3a-ca21-49a7-c67b-a2765c156251"
      },
      "execution_count": 16,
      "outputs": [
        {
          "output_type": "stream",
          "name": "stdout",
          "text": [
            "CPU times: user 595 ms, sys: 98.8 ms, total: 694 ms\n",
            "Wall time: 1min 46s\n"
          ]
        }
      ]
    },
    {
      "cell_type": "code",
      "source": [
        "!ls -lrt ./data\n",
        "!cat ./test/test-llama3.1\\:8b-wikipedia-dev.json"
      ],
      "metadata": {
        "colab": {
          "base_uri": "https://localhost:8080/"
        },
        "id": "FmJ16q3pcsT8",
        "outputId": "667e8610-ea5d-459f-9dfc-3abc37a640e8"
      },
      "execution_count": 17,
      "outputs": [
        {
          "output_type": "stream",
          "name": "stdout",
          "text": [
            "total 16916\n",
            "-rw------- 1 root root 17318460 Dec 14 03:55 wikipedia-dev.json\n",
            "[\n",
            "{\"NormalizedAliases\": [\"sunset boulevard\", \"sunset bulevard\", \"west sunset boulevard\", \"sunset blvd\"], \"NormalizedValue\": \"sunset boulevard\", \"Value\": \"Sunset Boulevard\", \"Question\": \"Which Lloyd Webber musical premiered in the US on 10th December 1993?\", \"GotAnswer\": \"Sunset Boulevard\", \"TimetoAnswer\": \"7.904\", \"GotNormalizedValue\": \"sunset boulevard\", \"MetricBLEUscore\": 1},\n",
            "{\"NormalizedAliases\": [\"henry campbell bannerman\", \"sir henry campbell bannerman\", \"campbell bannerman\"], \"NormalizedValue\": \"campbell bannerman\", \"Value\": \"Campbell-Bannerman\", \"Question\": \"Who was the next British Prime Minister after Arthur Balfour?\", \"GotAnswer\": \"Henry Campbell-Bannerman\", \"TimetoAnswer\": \"0.257\", \"GotNormalizedValue\": \"henry campbell bannerman\", \"MetricBLEUscore\": 1}\n",
            "]"
          ]
        }
      ]
    },
    {
      "cell_type": "markdown",
      "source": [
        "Available: 76.87 compute units</br>\n"
      ],
      "metadata": {
        "id": "tYOotv62o1kf"
      }
    },
    {
      "cell_type": "code",
      "source": [
        "!ls -lrt\n",
        "!more test/output_ollama_list.txt\n",
        "!more test/output_ollama_pull.txt"
      ],
      "metadata": {
        "colab": {
          "base_uri": "https://localhost:8080/"
        },
        "id": "OqV6q3uYphXc",
        "outputId": "8a0015e0-95d8-4512-b870-0aee8fbe14d3"
      },
      "execution_count": 18,
      "outputs": [
        {
          "output_type": "stream",
          "name": "stdout",
          "text": [
            "total 548\n",
            "-rw------- 1 root root   5984 Dec 11 04:54 triviaqa_ijson_utils.py\n",
            "-rw------- 1 root root    661 Dec 14 00:53 Dockerfile.txt\n",
            "-rw------- 1 root root    108 Dec 14 00:54 my_bash.sh.txt\n",
            "drwx------ 2 root root   4096 Dec 14 03:55 data\n",
            "-rw------- 1 root root    115 Dec 14 22:36 requirements.txt\n",
            "drwxr-xr-x 2 root root   4096 Dec 15 00:53 test\n",
            "-rw-r--r-- 1 root root 260913 Dec 15 01:16 output_app100.txt\n",
            "-rw------- 1 root root  10840 Dec 15 01:44 app_ijson_ollama.py\n",
            "-rw------- 1 root root   3327 Dec 15 01:44 qa_metrics_utils.py\n",
            "drwxr-xr-x 2 root root   4096 Dec 15 01:45 __pycache__\n",
            "-rw-r--r-- 1 root root   2396 Dec 15 01:47 wikipedia-dev.jsonbar_plot.png\n",
            "-rw-r--r-- 1 root root 233615 Dec 15 01:47 output_app.txt\n",
            "NAME           ID              SIZE      MODIFIED      \n",
            "llama3.1:8b    46e0c10c039e    4.9 GB    5 seconds ago    \n"
          ]
        }
      ]
    },
    {
      "cell_type": "code",
      "source": [
        "%%time\n",
        "# Try a 100 questions\n",
        "!python app_ijson_ollama.py -v 1 -n 100 > output_app100.txt 2>&1"
      ],
      "metadata": {
        "colab": {
          "base_uri": "https://localhost:8080/"
        },
        "id": "dfhHU6HZ19Ap",
        "outputId": "dfece4b4-18dc-481a-d4f9-fb5edf24405b"
      },
      "execution_count": 19,
      "outputs": [
        {
          "output_type": "stream",
          "name": "stdout",
          "text": [
            "CPU times: user 781 ms, sys: 110 ms, total: 891 ms\n",
            "Wall time: 2min 17s\n"
          ]
        }
      ]
    },
    {
      "cell_type": "markdown",
      "source": [
        "Available: 77.52 compute units"
      ],
      "metadata": {
        "id": "5FaagbeQ6-Qj"
      }
    },
    {
      "cell_type": "code",
      "source": [
        "!wc test/test-llama3.1\\:8b-wikipedia-dev.json\n",
        "!tail -22 output_app100.txt"
      ],
      "metadata": {
        "id": "_sYIjD0z25sg",
        "colab": {
          "base_uri": "https://localhost:8080/"
        },
        "outputId": "e583feae-facc-495c-e302-a6ac62bb289d"
      },
      "execution_count": 22,
      "outputs": [
        {
          "output_type": "stream",
          "name": "stdout",
          "text": [
            "  101  5499 49461 test/test-llama3.1:8b-wikipedia-dev.json\n",
            "\n",
            "Done qa evaluation for wikipedia-dev.json ....\n",
            "--------------------\n",
            "Num qa: 100, Got correct ans for 55 (55.00%)\n",
            "bins\n",
            "(-0.001, 0.2]    31\n",
            "(0.2, 0.4]        3\n",
            "(0.4, 0.6]        8\n",
            "(0.6, 0.8]        3\n",
            "(0.8, 1.0]       55\n",
            "Name: count, dtype: int64\n",
            "--------------------\n",
            "Figure(640x480)\n",
            "\n",
            "Done ollama llama3.1:8b rm\n",
            "Ollama server stopped successfully.\n",
            "\n",
            "Stopping ollama server..\n",
            "\n",
            "Stopping ollama thread.. \n",
            "ps and delete ollam process if running again\n",
            "copy /content/for_step8_scale/test/test-llama3.1:8b-wikipedia-dev.json to local drive space\n"
          ]
        }
      ]
    },
    {
      "cell_type": "markdown",
      "source": [
        "### The following can be done as a separate exercise, since the results are saved in a file. See example below."
      ],
      "metadata": {
        "id": "C8N3R0Zd-LiM"
      }
    },
    {
      "cell_type": "code",
      "source": [
        "# Copy result file to display metrics\n",
        "%cd /content/for_step8_scale\n",
        "!ls -l . test"
      ],
      "metadata": {
        "colab": {
          "base_uri": "https://localhost:8080/"
        },
        "id": "OxLe35AR21zB",
        "outputId": "9ce7754e-0734-4048-d3a3-93fcfd7df69d"
      },
      "execution_count": 3,
      "outputs": [
        {
          "output_type": "stream",
          "name": "stdout",
          "text": [
            "/content/for_step8_scale\n",
            ".:\n",
            "total 16\n",
            "-rw------- 1 root root 3328 Dec 15 06:08 qa_metrics_utils.py\n",
            "drwxr-xr-x 2 root root 4096 Dec 15 06:13 test\n",
            "-rw------- 1 root root 5984 Dec 11 04:54 triviaqa_ijson_utils.py\n",
            "\n",
            "test:\n",
            "total 52\n",
            "-rw------- 1 root root 49461 Dec 15 01:53 test-llama3.1:8b-wikipedia-dev.json\n"
          ]
        }
      ]
    },
    {
      "cell_type": "code",
      "source": [
        "!pip install ijson\n",
        "import json\n",
        "import ijson\n",
        "import triviaqa_ijson_utils\n",
        "from triviaqa_ijson_utils import read_dict_list_from_json_file\n",
        "import qa_metrics_utils\n",
        "from qa_metrics_utils import display_metrics\n",
        "\n",
        "qa_filename = \"test-llama3.1:8b-wikipedia-dev.json\"\n",
        "fname = \"/content/for_step8_scale/test/\"+qa_filename\n",
        "maxnumq = 100\n",
        "qa_dict_list = read_dict_list_from_json_file(fname, maxnumq)\n",
        "do_plot = 1\n",
        "dbglevel = 1\n",
        "bin_counts, b64_string = display_metrics(qa_dict_list[:maxnumq],\n",
        "                                         'MetricBLEUscore', qa_filename,\n",
        "                                         dbglevel, do_plot)\n"
      ],
      "metadata": {
        "colab": {
          "base_uri": "https://localhost:8080/",
          "height": 872
        },
        "outputId": "98da4725-b71a-46dd-9f3a-b907c56e3732",
        "id": "rYp_18J2zauv"
      },
      "execution_count": 4,
      "outputs": [
        {
          "output_type": "stream",
          "name": "stdout",
          "text": [
            "Collecting ijson\n",
            "  Downloading ijson-3.3.0-cp310-cp310-manylinux_2_17_x86_64.manylinux2014_x86_64.whl.metadata (21 kB)\n",
            "Downloading ijson-3.3.0-cp310-cp310-manylinux_2_17_x86_64.manylinux2014_x86_64.whl (114 kB)\n",
            "\u001b[?25l   \u001b[90m━━━━━━━━━━━━━━━━━━━━━━━━━━━━━━━━━━━━━━━━\u001b[0m \u001b[32m0.0/114.5 kB\u001b[0m \u001b[31m?\u001b[0m eta \u001b[36m-:--:--\u001b[0m\r\u001b[2K   \u001b[90m━━━━━━━━━━━━━━━━━━━━━━━━━━━━━━━━━━━━━━━━\u001b[0m \u001b[32m114.5/114.5 kB\u001b[0m \u001b[31m10.8 MB/s\u001b[0m eta \u001b[36m0:00:00\u001b[0m\n",
            "\u001b[?25hInstalling collected packages: ijson\n",
            "Successfully installed ijson-3.3.0\n",
            "--------------------\n",
            "Num qa: 100, Got correct ans for 55 (55.00%)\n",
            "bins\n",
            "(-0.001, 0.2]    31\n",
            "(0.2, 0.4]        3\n",
            "(0.4, 0.6]        8\n",
            "(0.6, 0.8]        3\n",
            "(0.8, 1.0]       55\n",
            "Name: count, dtype: int64\n",
            "--------------------\n"
          ]
        },
        {
          "output_type": "display_data",
          "data": {
            "text/plain": [
              "<Figure size 640x480 with 1 Axes>"
            ],
            "image/png": "[encoded data removed]"
          },
          "metadata": {}
        },
        {
          "output_type": "display_data",
          "data": {
            "text/plain": [
              "<Figure size 640x480 with 0 Axes>"
            ]
          },
          "metadata": {}
        }
      ]
    },
    {
      "cell_type": "code",
      "source": [],
      "metadata": {
        "id": "eggQWj503nX1"
      },
      "execution_count": null,
      "outputs": []
    }
  ]
}