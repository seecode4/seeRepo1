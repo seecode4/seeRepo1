{
  "cells": [
    {
      "cell_type": "markdown",
      "metadata": {
        "id": "view-in-github",
        "colab_type": "text"
      },
      "source": [
        "<a href=\"https://colab.research.google.com/github/seecode4/seeRepo1/blob/main/mec2-projects/Student_MLE_MiniProject_Fine_Tuning/Student_MLE_MiniProject_Fine_Tuning_m3a.ipynb\" target=\"_parent\"><img src=\"https://colab.research.google.com/assets/colab-badge.svg\" alt=\"Open In Colab\"/></a>"
      ]
    },
    {
      "cell_type": "code",
      "execution_count": 1,
      "metadata": {
        "id": "6GNi-C2GV6JT"
      },
      "outputs": [],
      "source": [
        "import numpy as np\n",
        "import tensorflow as tf\n",
        "from tensorflow.keras.datasets import cifar10\n",
        "from tensorflow.keras.applications import VGG16\n",
        "from tensorflow.keras.models import Model\n",
        "from tensorflow.keras.layers import Dense, GlobalAveragePooling2D\n",
        "from tensorflow.keras.layers import BatchNormalization, Flatten, Conv2D\n",
        "from tensorflow.keras.optimizers import Adam\n",
        "from tensorflow.keras.utils import to_categorical\n",
        "from tensorflow.keras.backend import resize_images\n",
        "from sklearn.model_selection import train_test_split\n",
        "\n",
        "from tensorflow import keras as K\n",
        "from tensorflow.keras.optimizers import Adagrad\n",
        "from tensorflow.keras.layers import Input, Lambda, Flatten\n",
        "from tensorflow.keras.preprocessing.image import ImageDataGenerator\n",
        "from keras.models import Sequential\n",
        "from keras.initializers import RandomNormal, RandomUniform"
      ]
    },
    {
      "cell_type": "code",
      "execution_count": 3,
      "metadata": {
        "colab": {
          "base_uri": "https://localhost:8080/"
        },
        "id": "iZhRH8cBWGLL",
        "outputId": "36880e59-3d52-484f-fdb2-fa1067a3f0b9"
      },
      "outputs": [
        {
          "output_type": "stream",
          "name": "stdout",
          "text": [
            "/content\n",
            "/content\n",
            "sample_data\n",
            "---------\n",
            "x_train_val type: <class 'numpy.ndarray'>, ndim:4, shape:(50000, 32, 32, 3)\n",
            "[[ 59  62  63]\n",
            " [ 43  46  45]\n",
            " [ 50  48  43]\n",
            " [ 68  54  42]\n",
            " [ 98  73  52]\n",
            " [119  91  63]\n",
            " [139 107  75]\n",
            " [145 110  80]\n",
            " [149 117  89]\n",
            " [149 120  93]]\n"
          ]
        }
      ],
      "source": [
        "# Load the CIFAR-10 dataset\n",
        "cifar_home = 'https://www.cs.toronto.edu/~kriz/cifar.html'\n",
        "# from tensorflow.keras.datasets import cifar10\n",
        "%cd /content\n",
        "!pwd\n",
        "!rm -fr cifar*\n",
        "!ls\n",
        "print('---------')\n",
        "(x_train_val, y_train_val), (x_test, y_test) = cifar10.load_data()\n",
        "assert x_train_val.shape == (50000, 32, 32, 3)\n",
        "assert x_test.shape == (10000, 32, 32, 3)\n",
        "assert y_train_val.shape == (50000, 1)\n",
        "assert y_test.shape == (10000, 1)\n",
        "print(f'x_train_val type: {type(x_train_val)}, ndim:{x_train_val.ndim}, shape:{x_train_val.shape}')\n",
        "print(f'{x_train_val[0][0][0:10]}')"
      ]
    },
    {
      "cell_type": "code",
      "execution_count": 4,
      "metadata": {
        "colab": {
          "base_uri": "https://localhost:8080/"
        },
        "id": "kPGm0Q8VWN38",
        "outputId": "aa3a2d07-0e55-41a7-98ad-9f927b030074"
      },
      "outputs": [
        {
          "output_type": "stream",
          "name": "stdout",
          "text": [
            "(50000, 10) (10000, 10)\n"
          ]
        }
      ],
      "source": [
        "# One-hot encode the labels - with to_categorical\n",
        "num_classes = 10\n",
        "y_train_val_1hot = to_categorical(y_train_val, num_classes)\n",
        "y_test_1hot= to_categorical(y_test, num_classes)\n",
        "print(y_train_val_1hot.shape, y_test_1hot.shape)"
      ]
    },
    {
      "cell_type": "code",
      "execution_count": 5,
      "metadata": {
        "colab": {
          "base_uri": "https://localhost:8080/"
        },
        "id": "rE64JR6JXSof",
        "outputId": "5793422f-dffa-41ba-d133-e283d3ce8db2"
      },
      "outputs": [
        {
          "output_type": "stream",
          "name": "stdout",
          "text": [
            "X_train_val:\n",
            " [[0.2314 0.2431 0.2471]\n",
            " [0.1686 0.1804 0.1765]\n",
            " [0.1961 0.1882 0.1686]\n",
            " [0.2667 0.2118 0.1647]\n",
            " [0.3843 0.2863 0.2039]\n",
            " [0.4667 0.3569 0.2471]\n",
            " [0.5451 0.4196 0.2941]\n",
            " [0.5686 0.4314 0.3137]\n",
            " [0.5843 0.4588 0.349 ]\n",
            " [0.5843 0.4706 0.3647]]...\n",
            "X_test:\n",
            " [[0.6196 0.4392 0.1922]\n",
            " [0.6235 0.4353 0.1843]\n",
            " [0.6471 0.4549 0.2   ]\n",
            " [0.651  0.4627 0.2078]\n",
            " [0.6275 0.4392 0.1804]\n",
            " [0.6118 0.4275 0.1608]\n",
            " [0.6353 0.451  0.1843]\n",
            " [0.6235 0.4431 0.1765]\n",
            " [0.6196 0.4353 0.1725]\n",
            " [0.6235 0.4431 0.1608]]...\n"
          ]
        }
      ],
      "source": [
        "# Normalize the pixel values to [0, 1]\n",
        "np.set_printoptions(precision=4)\n",
        "X_train_val = x_train_val/255\n",
        "print(f'X_train_val:\\n {X_train_val[0][0][0:10]}...')\n",
        "X_test = x_test/255\n",
        "print(f'X_test:\\n {X_test[0][0][0:10]}...')"
      ]
    },
    {
      "cell_type": "code",
      "execution_count": 6,
      "metadata": {
        "id": "SBnRli_0WUV1"
      },
      "outputs": [],
      "source": [
        "# Config to make results repeatable/deterministic\n",
        "tf.config.experimental.enable_op_determinism()\n",
        "SEED=42\n",
        "np.random.seed(SEED)\n",
        "tf.random.set_seed(SEED)\n",
        "tf.keras.utils.set_random_seed(SEED)"
      ]
    },
    {
      "cell_type": "code",
      "execution_count": 7,
      "metadata": {
        "colab": {
          "base_uri": "https://localhost:8080/"
        },
        "id": "t04XxoQRWYVk",
        "outputId": "5511e01f-d122-4a76-9134-acf819932605"
      },
      "outputs": [
        {
          "output_type": "stream",
          "name": "stdout",
          "text": [
            "Model: \"sequential\"\n",
            "_________________________________________________________________\n",
            " Layer (type)                Output Shape              Param #   \n",
            "=================================================================\n",
            " block1_conv1 (Conv2D)       (None, 32, 32, 64)        1792      \n",
            "                                                                 \n",
            " block1_conv2 (Conv2D)       (None, 32, 32, 64)        36928     \n",
            "                                                                 \n",
            " block1_pool (MaxPooling2D)  (None, 16, 16, 64)        0         \n",
            "                                                                 \n",
            " block2_conv1 (Conv2D)       (None, 16, 16, 128)       73856     \n",
            "                                                                 \n",
            " block2_conv2 (Conv2D)       (None, 16, 16, 128)       147584    \n",
            "                                                                 \n",
            " block2_pool (MaxPooling2D)  (None, 8, 8, 128)         0         \n",
            "                                                                 \n",
            " block3_conv1 (Conv2D)       (None, 8, 8, 256)         295168    \n",
            "                                                                 \n",
            " block3_conv2 (Conv2D)       (None, 8, 8, 256)         590080    \n",
            "                                                                 \n",
            " block3_conv3 (Conv2D)       (None, 8, 8, 256)         590080    \n",
            "                                                                 \n",
            " block3_pool (MaxPooling2D)  (None, 4, 4, 256)         0         \n",
            "                                                                 \n",
            " block4_conv1 (Conv2D)       (None, 4, 4, 512)         1180160   \n",
            "                                                                 \n",
            " block4_conv2 (Conv2D)       (None, 4, 4, 512)         2359808   \n",
            "                                                                 \n",
            " block4_conv3 (Conv2D)       (None, 4, 4, 512)         2359808   \n",
            "                                                                 \n",
            " conv2d (Conv2D)             (None, 4, 4, 32)          802848    \n",
            "                                                                 \n",
            " flatten (Flatten)           (None, 512)               0         \n",
            "                                                                 \n",
            " batch_normalization (Batch  (None, 512)               2048      \n",
            " Normalization)                                                  \n",
            "                                                                 \n",
            " dense (Dense)               (None, 256)               131328    \n",
            "                                                                 \n",
            " dropout (Dropout)           (None, 256)               0         \n",
            "                                                                 \n",
            " dense_1 (Dense)             (None, 256)               65792     \n",
            "                                                                 \n",
            " dense_2 (Dense)             (None, 10)                2570      \n",
            "                                                                 \n",
            "=================================================================\n",
            "Total params: 8639850 (32.96 MB)\n",
            "Trainable params: 1003562 (3.83 MB)\n",
            "Non-trainable params: 7636288 (29.13 MB)\n",
            "_________________________________________________________________\n",
            "None\n"
          ]
        }
      ],
      "source": [
        "base_model = VGG16(\n",
        "    weights='imagenet',  # load weights pretrained on ImageNet\n",
        "    include_top=False,   # exclude the top classifier\n",
        "    input_shape=(32, 32, 3),\n",
        "    pooling='max'        # add a global max pooling layer after each layer\n",
        ")\n",
        "# Freeze the the trainable param (weights and biases) so they are not retrained\n",
        "for layer in base_model.layers:\n",
        "   layer.trainable = False\n",
        "# print(base_model.summary())\n",
        "\n",
        "model3a = Sequential()\n",
        "initializer = RandomNormal(mean=0.0, stddev=1.0, seed=SEED)\n",
        "# input = Input(shape=(32, 32, 3))\n",
        "for layer in base_model.layers[:-6]:\n",
        "    model3a.add(layer)\n",
        "\n",
        "model3a.add(Conv2D(filters=32, kernel_size=7, padding='same'))\n",
        "model3a.add(Flatten())\n",
        "model3a.add(BatchNormalization())\n",
        "model3a.add(Dense(256, activation=\"relu\", kernel_initializer='he_normal'))\n",
        "# model3a.add(GlobalAveragePooling2D(data_format='channels_last'))\n",
        "# model3a.add(Dense(256, activation=\"relu\", kernel_initializer='he_normal'))\n",
        "\n",
        "# Try to prevent overfitting\n",
        "model3a.add(tf.keras.layers.Dropout(.5))\n",
        "model3a.add(Dense(256, activation=\"relu\", kernel_initializer='he_normal'))\n",
        "\n",
        "# Add the final classification layer with 10 units (for CIFAR-10 classes) and softmax activation\n",
        "model3a.add(Dense(10, activation='softmax', kernel_initializer=initializer))\n",
        "\n",
        "# Compile the model - use Adagrad optimizer\n",
        "model3a.compile(Adagrad(learning_rate=0.001, use_ema=True, ema_momentum=0.9),\n",
        "               loss='categorical_crossentropy', metrics=['accuracy'])\n",
        "print(model3a.summary())"
      ]
    },
    {
      "cell_type": "code",
      "execution_count": null,
      "metadata": {
        "id": "uck5vuelY_6w"
      },
      "outputs": [],
      "source": [
        "# # Data Augmentation\n",
        "# datagen_aug = ImageDataGenerator(rotation_range=20,\n",
        "#                              width_shift_range=0.2,\n",
        "#                              height_shift_range=0.2,\n",
        "#                              horizontal_flip=True\n",
        "#                              )\n",
        "# datagen_aug.fit(X_train_val)"
      ]
    },
    {
      "cell_type": "code",
      "execution_count": 8,
      "metadata": {
        "colab": {
          "base_uri": "https://localhost:8080/"
        },
        "id": "lp1ILkCGYMEb",
        "outputId": "df86e803-f5bf-4fae-8174-825df4e9ca6a"
      },
      "outputs": [
        {
          "output_type": "stream",
          "name": "stdout",
          "text": [
            "(50000, 32, 32, 3) (50000, 10)\n",
            "Epoch 1/50\n",
            "625/625 [==============================] - 51s 80ms/step - loss: 7.9612 - accuracy: 0.4753 - val_loss: 3.1321 - val_accuracy: 0.6285\n",
            "Epoch 2/50\n",
            "625/625 [==============================] - 49s 78ms/step - loss: 4.3583 - accuracy: 0.5504 - val_loss: 2.3802 - val_accuracy: 0.6465\n",
            "Epoch 3/50\n",
            "625/625 [==============================] - 49s 78ms/step - loss: 3.4271 - accuracy: 0.5709 - val_loss: 2.0029 - val_accuracy: 0.6600\n",
            "Epoch 4/50\n",
            "625/625 [==============================] - 49s 79ms/step - loss: 2.9001 - accuracy: 0.5884 - val_loss: 1.8250 - val_accuracy: 0.6642\n",
            "Epoch 5/50\n",
            "625/625 [==============================] - 49s 78ms/step - loss: 2.5122 - accuracy: 0.5980 - val_loss: 1.6243 - val_accuracy: 0.6687\n",
            "Epoch 6/50\n",
            "625/625 [==============================] - 49s 78ms/step - loss: 2.2276 - accuracy: 0.6122 - val_loss: 1.5280 - val_accuracy: 0.6734\n",
            "Epoch 7/50\n",
            "625/625 [==============================] - 49s 78ms/step - loss: 2.0709 - accuracy: 0.6145 - val_loss: 1.4516 - val_accuracy: 0.6741\n",
            "Epoch 8/50\n",
            "625/625 [==============================] - 49s 78ms/step - loss: 1.9369 - accuracy: 0.6195 - val_loss: 1.3865 - val_accuracy: 0.6762\n",
            "Epoch 9/50\n",
            "625/625 [==============================] - 49s 78ms/step - loss: 1.7859 - accuracy: 0.6309 - val_loss: 1.3074 - val_accuracy: 0.6820\n",
            "Epoch 10/50\n",
            "625/625 [==============================] - 49s 78ms/step - loss: 1.7252 - accuracy: 0.6310 - val_loss: 1.2605 - val_accuracy: 0.6859\n",
            "Epoch 11/50\n",
            "625/625 [==============================] - 49s 78ms/step - loss: 1.6347 - accuracy: 0.6377 - val_loss: 1.2189 - val_accuracy: 0.6839\n",
            "Epoch 12/50\n",
            "625/625 [==============================] - 49s 78ms/step - loss: 1.5139 - accuracy: 0.6457 - val_loss: 1.1814 - val_accuracy: 0.6882\n",
            "Epoch 13/50\n",
            "625/625 [==============================] - 49s 78ms/step - loss: 1.4554 - accuracy: 0.6502 - val_loss: 1.1522 - val_accuracy: 0.6922\n",
            "Epoch 14/50\n",
            "625/625 [==============================] - 49s 78ms/step - loss: 1.4119 - accuracy: 0.6551 - val_loss: 1.1326 - val_accuracy: 0.6956\n",
            "Epoch 15/50\n",
            "625/625 [==============================] - 49s 78ms/step - loss: 1.3689 - accuracy: 0.6569 - val_loss: 1.1062 - val_accuracy: 0.6966\n",
            "Epoch 16/50\n",
            "625/625 [==============================] - 49s 78ms/step - loss: 1.3161 - accuracy: 0.6601 - val_loss: 1.0875 - val_accuracy: 0.6946\n",
            "Epoch 17/50\n",
            "625/625 [==============================] - 49s 78ms/step - loss: 1.2657 - accuracy: 0.6659 - val_loss: 1.0673 - val_accuracy: 0.6949\n",
            "Epoch 18/50\n",
            "625/625 [==============================] - 49s 78ms/step - loss: 1.2345 - accuracy: 0.6668 - val_loss: 1.0533 - val_accuracy: 0.7000\n",
            "Epoch 19/50\n",
            "625/625 [==============================] - 49s 78ms/step - loss: 1.2165 - accuracy: 0.6694 - val_loss: 1.0367 - val_accuracy: 0.6998\n",
            "Epoch 20/50\n",
            "625/625 [==============================] - 49s 78ms/step - loss: 1.1755 - accuracy: 0.6759 - val_loss: 1.0258 - val_accuracy: 0.7024\n",
            "Epoch 21/50\n",
            "625/625 [==============================] - 49s 78ms/step - loss: 1.1533 - accuracy: 0.6764 - val_loss: 1.0076 - val_accuracy: 0.7025\n",
            "Epoch 22/50\n",
            "625/625 [==============================] - 49s 78ms/step - loss: 1.1240 - accuracy: 0.6789 - val_loss: 0.9950 - val_accuracy: 0.7046\n",
            "Epoch 23/50\n",
            "625/625 [==============================] - 49s 78ms/step - loss: 1.0983 - accuracy: 0.6863 - val_loss: 0.9836 - val_accuracy: 0.7052\n",
            "Epoch 24/50\n",
            "625/625 [==============================] - 49s 78ms/step - loss: 1.0681 - accuracy: 0.6884 - val_loss: 0.9880 - val_accuracy: 0.7029\n",
            "Epoch 25/50\n",
            "625/625 [==============================] - 49s 78ms/step - loss: 1.0496 - accuracy: 0.6885 - val_loss: 0.9786 - val_accuracy: 0.7043\n",
            "Epoch 26/50\n",
            "625/625 [==============================] - 49s 78ms/step - loss: 1.0482 - accuracy: 0.6900 - val_loss: 0.9707 - val_accuracy: 0.7054\n",
            "Epoch 27/50\n",
            "625/625 [==============================] - 49s 78ms/step - loss: 1.0145 - accuracy: 0.6966 - val_loss: 0.9622 - val_accuracy: 0.7062\n",
            "Epoch 28/50\n",
            "625/625 [==============================] - 49s 78ms/step - loss: 1.0045 - accuracy: 0.6956 - val_loss: 0.9487 - val_accuracy: 0.7075\n",
            "Epoch 29/50\n",
            "625/625 [==============================] - 49s 78ms/step - loss: 0.9869 - accuracy: 0.6992 - val_loss: 0.9481 - val_accuracy: 0.7088\n",
            "Epoch 30/50\n",
            "625/625 [==============================] - 49s 78ms/step - loss: 0.9645 - accuracy: 0.7026 - val_loss: 0.9366 - val_accuracy: 0.7098\n",
            "Epoch 31/50\n",
            "625/625 [==============================] - 49s 78ms/step - loss: 0.9569 - accuracy: 0.7041 - val_loss: 0.9365 - val_accuracy: 0.7123\n",
            "Epoch 32/50\n",
            "625/625 [==============================] - 49s 78ms/step - loss: 0.9450 - accuracy: 0.7072 - val_loss: 0.9274 - val_accuracy: 0.7138\n",
            "Epoch 33/50\n",
            "625/625 [==============================] - 49s 78ms/step - loss: 0.9301 - accuracy: 0.7088 - val_loss: 0.9230 - val_accuracy: 0.7161\n",
            "Epoch 34/50\n",
            "625/625 [==============================] - 49s 78ms/step - loss: 0.9243 - accuracy: 0.7120 - val_loss: 0.9158 - val_accuracy: 0.7161\n",
            "Epoch 35/50\n",
            "625/625 [==============================] - 49s 78ms/step - loss: 0.9179 - accuracy: 0.7128 - val_loss: 0.9096 - val_accuracy: 0.7163\n",
            "Epoch 36/50\n",
            "625/625 [==============================] - 49s 78ms/step - loss: 0.9027 - accuracy: 0.7150 - val_loss: 0.9072 - val_accuracy: 0.7164\n",
            "Epoch 37/50\n",
            "625/625 [==============================] - 49s 78ms/step - loss: 0.8891 - accuracy: 0.7157 - val_loss: 0.9036 - val_accuracy: 0.7155\n",
            "Epoch 38/50\n",
            "625/625 [==============================] - 49s 78ms/step - loss: 0.8760 - accuracy: 0.7173 - val_loss: 0.8973 - val_accuracy: 0.7177\n",
            "Epoch 39/50\n",
            "625/625 [==============================] - 49s 78ms/step - loss: 0.8833 - accuracy: 0.7184 - val_loss: 0.8988 - val_accuracy: 0.7211\n",
            "Epoch 40/50\n",
            "625/625 [==============================] - 49s 78ms/step - loss: 0.8611 - accuracy: 0.7229 - val_loss: 0.8893 - val_accuracy: 0.7201\n",
            "Epoch 41/50\n",
            "625/625 [==============================] - 49s 78ms/step - loss: 0.8419 - accuracy: 0.7240 - val_loss: 0.8926 - val_accuracy: 0.7205\n",
            "Epoch 42/50\n",
            "625/625 [==============================] - 49s 78ms/step - loss: 0.8376 - accuracy: 0.7270 - val_loss: 0.8839 - val_accuracy: 0.7233\n",
            "Epoch 43/50\n",
            "625/625 [==============================] - 49s 78ms/step - loss: 0.8343 - accuracy: 0.7273 - val_loss: 0.8860 - val_accuracy: 0.7223\n",
            "Epoch 44/50\n",
            "625/625 [==============================] - 49s 78ms/step - loss: 0.8309 - accuracy: 0.7305 - val_loss: 0.8805 - val_accuracy: 0.7215\n",
            "Epoch 45/50\n",
            "625/625 [==============================] - 48s 78ms/step - loss: 0.8105 - accuracy: 0.7351 - val_loss: 0.8838 - val_accuracy: 0.7213\n",
            "Epoch 46/50\n",
            "625/625 [==============================] - 49s 78ms/step - loss: 0.8059 - accuracy: 0.7344 - val_loss: 0.8749 - val_accuracy: 0.7247\n",
            "Epoch 47/50\n",
            "625/625 [==============================] - 49s 78ms/step - loss: 0.7968 - accuracy: 0.7361 - val_loss: 0.8720 - val_accuracy: 0.7243\n",
            "Epoch 48/50\n",
            "625/625 [==============================] - 49s 78ms/step - loss: 0.8015 - accuracy: 0.7349 - val_loss: 0.8711 - val_accuracy: 0.7246\n",
            "Epoch 49/50\n",
            "625/625 [==============================] - 49s 78ms/step - loss: 0.7943 - accuracy: 0.7394 - val_loss: 0.8746 - val_accuracy: 0.7227\n",
            "Epoch 50/50\n",
            "625/625 [==============================] - 49s 78ms/step - loss: 0.7742 - accuracy: 0.7411 - val_loss: 0.8683 - val_accuracy: 0.7239\n",
            "CPU times: user 14h 33min 25s, sys: 18h 45min 22s, total: 1d 9h 18min 48s\n",
            "Wall time: 40min 43s\n"
          ]
        }
      ],
      "source": [
        "%%time\n",
        "from tensorflow.keras.callbacks import EarlyStopping, LearningRateScheduler, ModelCheckpoint\n",
        "# def lr_scheduler(epoch):\n",
        "#     return 0.002 * (0.5 ** (epoch // 20))\n",
        "# reduce_lr = LearningRateScheduler(lr_scheduler)\n",
        "\n",
        "# Define a callback to monitor val_accuracy\n",
        "monitor_acc = EarlyStopping(monitor='accuracy',\n",
        "                       min_delta=0.001, patience=4)\n",
        "\n",
        "# Train the model\n",
        "print(X_train_val.shape, y_train_val_1hot.shape)\n",
        "history3a = model3a.fit(X_train_val, y_train_val_1hot, epochs=50, batch_size=64,\n",
        "          validation_split=0.2, validation_freq=1, verbose=1,\n",
        "          callbacks= [monitor_acc])"
      ]
    },
    {
      "cell_type": "code",
      "source": [
        "# Train the model\n",
        "print(X_train_val.shape, y_train_val_1hot.shape)\n",
        "model3a.fit(X_train_val, y_train_val_1hot, epochs=50, batch_size=64,\n",
        "          validation_split=0.2, validation_freq=2, verbose=1,\n",
        "          callbacks= [monitor_acc])"
      ],
      "metadata": {
        "colab": {
          "base_uri": "https://localhost:8080/"
        },
        "id": "MA2XaHR3AMlp",
        "outputId": "37cdda4b-4832-43b5-aa68-4f5c614264af"
      },
      "execution_count": 9,
      "outputs": [
        {
          "output_type": "stream",
          "name": "stdout",
          "text": [
            "(50000, 32, 32, 3) (50000, 10)\n",
            "Epoch 1/50\n",
            "625/625 [==============================] - 41s 66ms/step - loss: 0.7776 - accuracy: 0.7400\n",
            "Epoch 2/50\n",
            "625/625 [==============================] - 50s 79ms/step - loss: 0.7666 - accuracy: 0.7429 - val_loss: 0.8656 - val_accuracy: 0.7241\n",
            "Epoch 3/50\n",
            "625/625 [==============================] - 41s 66ms/step - loss: 0.7664 - accuracy: 0.7451\n",
            "Epoch 4/50\n",
            "625/625 [==============================] - 49s 78ms/step - loss: 0.7627 - accuracy: 0.7446 - val_loss: 0.8621 - val_accuracy: 0.7247\n",
            "Epoch 5/50\n",
            "625/625 [==============================] - 42s 66ms/step - loss: 0.7499 - accuracy: 0.7468\n",
            "Epoch 6/50\n",
            "625/625 [==============================] - 49s 78ms/step - loss: 0.7456 - accuracy: 0.7491 - val_loss: 0.8518 - val_accuracy: 0.7285\n",
            "Epoch 7/50\n",
            "625/625 [==============================] - 41s 66ms/step - loss: 0.7432 - accuracy: 0.7502\n",
            "Epoch 8/50\n",
            "625/625 [==============================] - 49s 78ms/step - loss: 0.7338 - accuracy: 0.7483 - val_loss: 0.8515 - val_accuracy: 0.7285\n",
            "Epoch 9/50\n",
            "625/625 [==============================] - 42s 67ms/step - loss: 0.7292 - accuracy: 0.7521\n",
            "Epoch 10/50\n",
            "625/625 [==============================] - 49s 78ms/step - loss: 0.7190 - accuracy: 0.7550 - val_loss: 0.8450 - val_accuracy: 0.7300\n",
            "Epoch 11/50\n",
            "625/625 [==============================] - 42s 67ms/step - loss: 0.7185 - accuracy: 0.7570\n",
            "Epoch 12/50\n",
            "625/625 [==============================] - 49s 79ms/step - loss: 0.7082 - accuracy: 0.7604 - val_loss: 0.8435 - val_accuracy: 0.7297\n",
            "Epoch 13/50\n",
            "625/625 [==============================] - 42s 66ms/step - loss: 0.7106 - accuracy: 0.7586\n",
            "Epoch 14/50\n",
            "625/625 [==============================] - 49s 78ms/step - loss: 0.7018 - accuracy: 0.7595 - val_loss: 0.8433 - val_accuracy: 0.7298\n",
            "Epoch 15/50\n",
            "625/625 [==============================] - 41s 66ms/step - loss: 0.7103 - accuracy: 0.7576\n",
            "Epoch 16/50\n",
            "625/625 [==============================] - 49s 78ms/step - loss: 0.6999 - accuracy: 0.7600 - val_loss: 0.8395 - val_accuracy: 0.7280\n"
          ]
        },
        {
          "output_type": "execute_result",
          "data": {
            "text/plain": [
              "<keras.src.callbacks.History at 0x7e25846e2c20>"
            ]
          },
          "metadata": {},
          "execution_count": 9
        }
      ]
    },
    {
      "cell_type": "code",
      "execution_count": 10,
      "metadata": {
        "id": "gizF4wI3YTao",
        "colab": {
          "base_uri": "https://localhost:8080/"
        },
        "outputId": "88ad2c7c-0eef-4c7d-aa3b-dbeccb2e4c1c"
      },
      "outputs": [
        {
          "output_type": "stream",
          "name": "stdout",
          "text": [
            "313/313 [==============================] - 11s 33ms/step\n",
            "(10000, 10) (10000, 10)\n"
          ]
        }
      ],
      "source": [
        "# Evaluate the model on the test set\n",
        "from sklearn.metrics import roc_auc_score, confusion_matrix\n",
        "\n",
        "y_test_pred = model3a.predict(X_test)\n",
        "print(y_test_1hot.shape, y_test_pred.shape)"
      ]
    },
    {
      "cell_type": "code",
      "execution_count": 11,
      "metadata": {
        "id": "maS0qO0VYZSS",
        "colab": {
          "base_uri": "https://localhost:8080/"
        },
        "outputId": "7839d2c5-a55d-42ed-e938-2695ec5fe561"
      },
      "outputs": [
        {
          "output_type": "stream",
          "name": "stdout",
          "text": [
            "roc_auc_score: 0.9615948777777777\n",
            "(10000,) (10000,)\n",
            "<class 'numpy.ndarray'> <class 'numpy.ndarray'>\n",
            "[[740  20  55  15  51   4   3   9  64  39]\n",
            " [ 14 841   5   6  10   7   7   3  20  87]\n",
            " [ 37  12 661  35 133  26  54  24   9   9]\n",
            " [ 12  24  87 462 107 166  64  36  15  27]\n",
            " [  6   3  61  32 796  21  32  37   6   6]\n",
            " [ 11   9  58 147  89 599  32  43   4   8]\n",
            " [  1  10  41  42  84  25 775   6   7   9]\n",
            " [  6   3  23  27 102  57   5 761   0  16]\n",
            " [ 30  38  14  10  29   4   2   4 844  25]\n",
            " [ 12  89  11  13  13   8   4  13  23 814]]\n"
          ]
        }
      ],
      "source": [
        "test_score = roc_auc_score(y_test_1hot, y_test_pred)\n",
        "print(\"roc_auc_score:\", test_score)\n",
        "\n",
        "y_test_pred_val = np.argmax(y_test_pred, axis=1).reshape(-1,)\n",
        "y_test_val = np.ravel(y_test)\n",
        "print(y_test_val.shape, y_test_pred_val.shape)\n",
        "print(type(y_test), type(y_test_pred_val))\n",
        "\n",
        "cm = confusion_matrix(y_test_val, y_test_pred_val)\n",
        "print(cm)"
      ]
    },
    {
      "cell_type": "code",
      "source": [
        "cm_plot_labels = ['Airplane', 'Automobile', 'Bird', 'Cat', 'Deer', 'Dog',\n",
        "                  'Frog', 'Horse', 'Ship', 'Truck'] # [range(10)]\n",
        "# plot_confusion_matrix(cm, cm_plot_labels, title='Confusion Matrix')\n",
        "from sklearn.metrics import ConfusionMatrixDisplay\n",
        "import matplotlib.pyplot as plt\n",
        "\n",
        "disp = ConfusionMatrixDisplay(confusion_matrix=cm, display_labels=cm_plot_labels)\n",
        "disp.plot()\n",
        "plt.xticks(rotation=45)\n",
        "plt.show()"
      ],
      "metadata": {
        "colab": {
          "base_uri": "https://localhost:8080/",
          "height": 501
        },
        "id": "IpbXrFKV5WiQ",
        "outputId": "7e28b734-19da-4fe5-f2c3-2907f4562ba1"
      },
      "execution_count": 12,
      "outputs": [
        {
          "output_type": "display_data",
          "data": {
            "text/plain": [
              "<Figure size 640x480 with 2 Axes>"
            ],
            "image/png": "[encoded data removed]"
          },
          "metadata": {}
        }
      ]
    },
    {
      "cell_type": "markdown",
      "source": [
        "**Summary:**\n",
        "\n",
        "**Student_MLE_MiniProject_Fine_Tuning_m1_m2.ipynb:**\n",
        "\n",
        "Loaded the CIFAR-10 dataset using </br>\n",
        "(x_train_val, y_train_val), (x_test, y_test) = cifar10.load_data() </br>\n",
        "It has 50000 train images and 10000 test images\n",
        "\n",
        "Also tried looking at the actual dataset from https://www.cs.toronto.edu/~kriz/cifar-10-python.tar.gz. </br>\n",
        "This gave an idea of the file organization (as 5 batches of train and 1 batch of test data). </br>\n",
        "Used the intial load_data() from hereon.\n",
        "\n",
        "Since this dataset has 10 classes, looked at the unique value counts. It is quite evenly distributed across the 10 classes.\n",
        "\n",
        "**Model 1:**\n",
        "The following steps were done to create the model\n",
        "*   Normalized the pixel values by dividing by 255.\n",
        "*   Then one hot encoded the target (y) values.\n",
        "*   Created a base_model with VGG16, without the top layer and input_shape=cifar-10 image shape, (32,32,3)\n",
        "*   Froze the base_model trainable param (weights and biases) so they are not retrained\n",
        "*   Created a new model using the all but the last layer of the base_model.\n",
        "*   Replaced that last layer (global_max_pooling2d) with GlobalAveragePooling2D\n",
        "*   Set the SEED value and used a kernel initializer based on RandomNormal\n",
        "*   Added a fully connected (Dense) layer with 256 units and ReLU activation\n",
        "*   Lastly added the final classification layer with 10 units (for CIFAR-10 classes) and softmax activation\n",
        "\n",
        "With the model ready, compiled it with\n",
        "  optimizer Adam(learning_rate=.0001), loss='categorical_crossentropy', metrics=['accuracy']\n",
        "\n",
        "To train the model, used a validation_split=0.2 epochs=10 batch_size=256,\n",
        "  got a 25% accuracy and 26% validation accuracy\n",
        "</br>\n",
        "</br>\n",
        "**Model 2:**\n",
        "With a model similar to the first model, tried the following\n",
        "*   optimizer Adagrad(weight_decay=5e-4).\n",
        "*   monitored accuracy for EarlyStopping with min_delta=0.001, patience=4.\n",
        "\n",
        "To train the model, used a validation_split=0.2 epochs=50 and batch_size=256\n",
        "With this, the accuracy moved up to 51% and validation accuracy to 53.8% hovering around 53% in the last few epochs.\n",
        "\n",
        "Drew the Confusion Matrix. See that it picked Ship and Frog best and had most trouble with Bird and Cat.\n",
        "</br>\n",
        "</br>\n",
        "\n",
        "**Model 3: Student_MLE_MiniProject_Fine_Tuning_m3.ipynb:**\n",
        "Changed kernel_initializer to 'he_normal' for reLU activation. Added a Dropout layer to prevent overfitting. With this got accuracy: 0.7602 - loss: 0.6709 - val_accuracy: 0.5976 - val_loss: 1.3902\n",
        "\n",
        "Played around a little with Data Augmentation, learning rate scheduler etc, without any significant improvements. Then decided to peel off a few more layers from the VGG16 base model.\n",
        "\n",
        "**Model 3a: Student_MLE_MiniProject_Fine_Tuning_m3a.ipynb:**\n",
        "**With base_model.layers[:-6], added the following **\n",
        "*   Conv2D(filters=32, kernel_size=7, padding='same') (idea being 32*7 = 224)\n",
        "*   Flatten, BatchNormalization with intent to regularize the output.\n",
        "*   Dense(256, activation=\"relu\", kernel_initializer='he_normal')\n",
        "*   Dropout(.5) to aid against Overfitting\n",
        "*   Dense(256, activation=\"relu\", kernel_initializer='he_normal')\n",
        "*   Dense(10, activation='softmax', kernel_initializer=initializer) as the final classification layer\n",
        "\n",
        "Used optimizer Adagrad(learning_rate=0.001, use_ema=True, ema_momentum=0.9)\n",
        "With this, it showed more improvement with validation accuracy getting close to 73%. Moving along these lines, suspect, it could get to even better results.\n",
        "\n",
        "Looking at the confusion matrix, it has over 84% accuracy identifying Automobile and Ship and has most issue differentiating\n",
        "Cat and Dog with accuracies at 46% and 60% respectively.\n"
      ],
      "metadata": {
        "id": "SO7KNVe4S4ZH"
      }
    }
  ],
  "metadata": {
    "accelerator": "TPU",
    "colab": {
      "gpuType": "V28",
      "provenance": [],
      "authorship_tag": "ABX9TyNnFdp2kxWNkI8+NrCbj8Xb",
      "include_colab_link": true
    },
    "kernelspec": {
      "display_name": "Python 3",
      "name": "python3"
    },
    "language_info": {
      "name": "python"
    }
  },
  "nbformat": 4,
  "nbformat_minor": 0
}