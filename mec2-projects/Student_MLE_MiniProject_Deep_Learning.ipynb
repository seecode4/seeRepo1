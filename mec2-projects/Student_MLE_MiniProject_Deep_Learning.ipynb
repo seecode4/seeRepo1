{
  "nbformat": 4,
  "nbformat_minor": 0,
  "metadata": {
    "colab": {
      "provenance": [],
      "include_colab_link": true
    },
    "kernelspec": {
      "name": "python3",
      "display_name": "Python 3"
    },
    "language_info": {
      "name": "python"
    }
  },
  "cells": [
    {
      "cell_type": "markdown",
      "metadata": {
        "id": "view-in-github",
        "colab_type": "text"
      },
      "source": [
        "<a href=\"https://colab.research.google.com/github/seecode4/seeRepo1/blob/main/mec2-projects/Student_MLE_MiniProject_Deep_Learning.ipynb\" target=\"_parent\"><img src=\"https://colab.research.google.com/assets/colab-badge.svg\" alt=\"Open In Colab\"/></a>"
      ]
    },
    {
      "cell_type": "markdown",
      "source": [
        "# Mini Project: Deep Learning with Keras\n",
        "\n",
        "In this mini-project we'll be building a deep learning classifier using Keras to predict income from the popular [Adult Income dataset](http://www.cs.toronto.edu/~delve/data/adult/adultDetail.html).\n",
        "\n",
        "Predicting income from demographic and socio-economic information is an important task with real-world applications, such as financial planning, market research, and social policy analysis. The Adult dataset, sometimes referred to as the \"Census Income\" dataset, contains a vast amount of anonymized data on individuals, including features such as age, education, marital status, occupation, and more. Our objective is to leverage this data to train a deep learning model that can effectively predict whether an individual's income exceeds $50,000 annually or not.\n",
        "\n",
        "Throughout this Colab, we will walk you through the entire process of building a deep learning classifier using Keras, a high-level neural network API that runs on top of TensorFlow. Keras is known for its user-friendly and intuitive interface, making it an excellent choice for both beginners and experienced deep learning practitioners.\n",
        "\n",
        "Here's a brief outline of what we will cover in this mini-project:\n",
        "\n",
        "1. **Data Preprocessing:** We will start by loading and exploring the Adult dataset.\n",
        "\n",
        "2. **Building the Deep Learning Model:** We will construct a neural network using Keras, where we'll dive into understanding the key components of a neural network, including layers, activation functions, and optimization algorithms.\n",
        "\n",
        "3. **Model Training:** With our model architecture in place, we will split the data into training and validation sets and train the neural network on the training data. We will monitor the training process to prevent overfitting and enhance generalization.\n",
        "\n",
        "4. **Model Evaluation:** After training, we'll assess the performance of our model on the test dataset.\n",
        "\n",
        "By the end of this tutorial, you will not only have a functional deep learning classifier for income prediction but also gain valuable insights into how to leverage the power of neural networks for solving real-world classification tasks.\n"
      ],
      "metadata": {
        "id": "fyXucUekO19i"
      }
    },
    {
      "cell_type": "code",
      "source": [
        "!pip install scikeras"
      ],
      "metadata": {
        "id": "rAGzXpBhHLPJ",
        "colab": {
          "base_uri": "https://localhost:8080/"
        },
        "outputId": "3f71c8a1-cb00-493f-fb04-003ec676d49e"
      },
      "execution_count": 1,
      "outputs": [
        {
          "output_type": "stream",
          "name": "stdout",
          "text": [
            "Requirement already satisfied: scikeras in /usr/local/lib/python3.10/dist-packages (0.13.0)\n",
            "Requirement already satisfied: keras>=3.2.0 in /usr/local/lib/python3.10/dist-packages (from scikeras) (3.4.1)\n",
            "Requirement already satisfied: scikit-learn>=1.4.2 in /usr/local/lib/python3.10/dist-packages (from scikeras) (1.5.1)\n",
            "Requirement already satisfied: absl-py in /usr/local/lib/python3.10/dist-packages (from keras>=3.2.0->scikeras) (1.4.0)\n",
            "Requirement already satisfied: numpy in /usr/local/lib/python3.10/dist-packages (from keras>=3.2.0->scikeras) (1.26.4)\n",
            "Requirement already satisfied: rich in /usr/local/lib/python3.10/dist-packages (from keras>=3.2.0->scikeras) (13.8.0)\n",
            "Requirement already satisfied: namex in /usr/local/lib/python3.10/dist-packages (from keras>=3.2.0->scikeras) (0.0.8)\n",
            "Requirement already satisfied: h5py in /usr/local/lib/python3.10/dist-packages (from keras>=3.2.0->scikeras) (3.11.0)\n",
            "Requirement already satisfied: optree in /usr/local/lib/python3.10/dist-packages (from keras>=3.2.0->scikeras) (0.12.1)\n",
            "Requirement already satisfied: ml-dtypes in /usr/local/lib/python3.10/dist-packages (from keras>=3.2.0->scikeras) (0.4.0)\n",
            "Requirement already satisfied: packaging in /usr/local/lib/python3.10/dist-packages (from keras>=3.2.0->scikeras) (24.1)\n",
            "Requirement already satisfied: scipy>=1.6.0 in /usr/local/lib/python3.10/dist-packages (from scikit-learn>=1.4.2->scikeras) (1.13.1)\n",
            "Requirement already satisfied: joblib>=1.2.0 in /usr/local/lib/python3.10/dist-packages (from scikit-learn>=1.4.2->scikeras) (1.4.2)\n",
            "Requirement already satisfied: threadpoolctl>=3.1.0 in /usr/local/lib/python3.10/dist-packages (from scikit-learn>=1.4.2->scikeras) (3.5.0)\n",
            "Requirement already satisfied: typing-extensions>=4.5.0 in /usr/local/lib/python3.10/dist-packages (from optree->keras>=3.2.0->scikeras) (4.12.2)\n",
            "Requirement already satisfied: markdown-it-py>=2.2.0 in /usr/local/lib/python3.10/dist-packages (from rich->keras>=3.2.0->scikeras) (3.0.0)\n",
            "Requirement already satisfied: pygments<3.0.0,>=2.13.0 in /usr/local/lib/python3.10/dist-packages (from rich->keras>=3.2.0->scikeras) (2.16.1)\n",
            "Requirement already satisfied: mdurl~=0.1 in /usr/local/lib/python3.10/dist-packages (from markdown-it-py>=2.2.0->rich->keras>=3.2.0->scikeras) (0.1.2)\n"
          ]
        }
      ]
    },
    {
      "cell_type": "code",
      "execution_count": 2,
      "metadata": {
        "id": "kLWR1DfQPakn"
      },
      "outputs": [],
      "source": [
        "import pandas as pd\n",
        "import numpy as np\n",
        "from sklearn.model_selection import train_test_split\n",
        "from sklearn.preprocessing import OneHotEncoder, LabelEncoder\n",
        "from sklearn.preprocessing import MinMaxScaler\n",
        "from sklearn.compose import ColumnTransformer\n",
        "from sklearn.model_selection import train_test_split\n",
        "from sklearn.metrics import roc_auc_score, roc_curve, auc\n",
        "from sklearn.metrics import RocCurveDisplay\n",
        "from keras.models import Sequential\n",
        "from keras.layers import Dense\n",
        "from keras.initializers import RandomNormal, RandomUniform\n",
        "from scikeras.wrappers import KerasClassifier\n",
        "from sklearn.pipeline import Pipeline"
      ]
    },
    {
      "cell_type": "markdown",
      "source": [
        "You can download the Adult data from the link [here](https://archive.ics.uci.edu/ml/machine-learning-databases/adult/adult.data).\n",
        "\n",
        "Here are your tasks:\n",
        "\n",
        "  1. Load the Adult data into a Pandas Dataframe.\n",
        "  2. Ensure the dataset has properly named columns. If the columns are not read in, assign them by referencing the dataset documentation.\n",
        "  3. Display the first five rows of the dataset."
      ],
      "metadata": {
        "id": "5ymxgnyq86hE"
      }
    },
    {
      "cell_type": "code",
      "source": [
        "DATA_PATH = 'https://archive.ics.uci.edu/ml/machine-learning-databases/adult/adult.data'\n",
        "\n",
        "# Download the dataset and load it into a pandas DataFrame\n",
        "df_data = pd.read_csv(DATA_PATH, header=None)"
      ],
      "metadata": {
        "id": "QmwdQy7pShig"
      },
      "execution_count": 3,
      "outputs": []
    },
    {
      "cell_type": "code",
      "source": [
        "# Display the first few rows of the DataFrame\n",
        "print(df_data.head())\n",
        "print(df_data.shape)"
      ],
      "metadata": {
        "id": "X1wSIzVtPrfL",
        "colab": {
          "base_uri": "https://localhost:8080/"
        },
        "outputId": "f0f3cf14-c1fa-4645-b85f-5c91634dedcf"
      },
      "execution_count": 4,
      "outputs": [
        {
          "output_type": "stream",
          "name": "stdout",
          "text": [
            "   0                  1       2           3   4                    5   \\\n",
            "0  39          State-gov   77516   Bachelors  13        Never-married   \n",
            "1  50   Self-emp-not-inc   83311   Bachelors  13   Married-civ-spouse   \n",
            "2  38            Private  215646     HS-grad   9             Divorced   \n",
            "3  53            Private  234721        11th   7   Married-civ-spouse   \n",
            "4  28            Private  338409   Bachelors  13   Married-civ-spouse   \n",
            "\n",
            "                   6               7       8        9     10  11  12  \\\n",
            "0        Adm-clerical   Not-in-family   White     Male  2174   0  40   \n",
            "1     Exec-managerial         Husband   White     Male     0   0  13   \n",
            "2   Handlers-cleaners   Not-in-family   White     Male     0   0  40   \n",
            "3   Handlers-cleaners         Husband   Black     Male     0   0  40   \n",
            "4      Prof-specialty            Wife   Black   Female     0   0  40   \n",
            "\n",
            "               13      14  \n",
            "0   United-States   <=50K  \n",
            "1   United-States   <=50K  \n",
            "2   United-States   <=50K  \n",
            "3   United-States   <=50K  \n",
            "4            Cuba   <=50K  \n",
            "(32561, 15)\n"
          ]
        }
      ]
    },
    {
      "cell_type": "code",
      "source": [
        "# Ref: https://archive.ics.uci.edu/dataset/2/adult\n",
        "feat_names = ['age', 'workclass', 'fnlwgt', 'education', 'education-num',\n",
        "             'marital-status', 'occupation', 'relationship', 'race', 'sex',\n",
        "             'capital-gain', 'capital-loss', 'hours-per-week', 'native-country',\n",
        "             'income']\n",
        "# Combine both\n",
        "# help(df_data.set_axis)\n",
        "df_raw = df_data.set_axis(feat_names, axis='columns')\n",
        "print(df_raw.head())"
      ],
      "metadata": {
        "colab": {
          "base_uri": "https://localhost:8080/"
        },
        "id": "zq_mfvIqCyZ0",
        "outputId": "bfbe5a64-af93-4e34-c277-769851974b70"
      },
      "execution_count": 5,
      "outputs": [
        {
          "output_type": "stream",
          "name": "stdout",
          "text": [
            "   age          workclass  fnlwgt   education  education-num  \\\n",
            "0   39          State-gov   77516   Bachelors             13   \n",
            "1   50   Self-emp-not-inc   83311   Bachelors             13   \n",
            "2   38            Private  215646     HS-grad              9   \n",
            "3   53            Private  234721        11th              7   \n",
            "4   28            Private  338409   Bachelors             13   \n",
            "\n",
            "        marital-status          occupation    relationship    race      sex  \\\n",
            "0        Never-married        Adm-clerical   Not-in-family   White     Male   \n",
            "1   Married-civ-spouse     Exec-managerial         Husband   White     Male   \n",
            "2             Divorced   Handlers-cleaners   Not-in-family   White     Male   \n",
            "3   Married-civ-spouse   Handlers-cleaners         Husband   Black     Male   \n",
            "4   Married-civ-spouse      Prof-specialty            Wife   Black   Female   \n",
            "\n",
            "   capital-gain  capital-loss  hours-per-week  native-country  income  \n",
            "0          2174             0              40   United-States   <=50K  \n",
            "1             0             0              13   United-States   <=50K  \n",
            "2             0             0              40   United-States   <=50K  \n",
            "3             0             0              40   United-States   <=50K  \n",
            "4             0             0              40            Cuba   <=50K  \n"
          ]
        }
      ]
    },
    {
      "cell_type": "markdown",
      "source": [
        "If you're not already familiar with the Adult dataset, it's important to do some exploratory data analysis.\n",
        "\n",
        "Here are your tasks:\n",
        "\n",
        "  1. Do exploratory data analysis to give you some better intuition for the dataset. This is a bit open-ended. How many rows/columns are there? How are NULL values represented? What's the percentage of positive cases in the dataset?\n",
        "\n",
        "  2. Drop all rows with NULL values.\n",
        "\n",
        "  3. Use Scikit-Learn's [LabelEncoder](https://scikit-learn.org/stable/modules/generated/sklearn.preprocessing.LabelEncoder.html) to convert the `income` column with a data type string to a binary variable."
      ],
      "metadata": {
        "id": "5fHLuKZl9ivm"
      }
    },
    {
      "cell_type": "code",
      "source": [
        "# Do some exploratory analysis. How many rows/columns are there? How are NULL\n",
        "# values represented? What's the percentrage of positive cases in the dataset?\n",
        "num_rows = df_raw.shape[0]\n",
        "num_cols = df_raw.shape[1]\n",
        "print(f\"Number of rows: {num_rows}\")\n",
        "print(f\"Number of columns: {num_cols}\")\n",
        "print(\"Column, i.e, feature names:\\n\", df_raw.columns[0:-1])\n",
        "print(\"Target:\", df_raw.columns[-1], \"\\n\")\n",
        "print(\"Column Data Types:\\n\", df_raw.dtypes)\n",
        "print(\"\\nNumber of isnull:\\n\", df_raw.isnull().sum())\n",
        "print(\"Number of isna:\\n\", df_raw.isna().sum())\n",
        "print(\"\\nValue Counts for each feature:\")\n",
        "for featname in df_raw.columns:\n",
        "  print(f\"\\n-----{featname}-----\\n {df_raw[featname].value_counts()}\")\n",
        "target_value_counts = list(df_raw['income'].value_counts())\n",
        "income_le_50k_pcnt = 100 * target_value_counts[0]/num_rows\n",
        "income_gt_50k_pcnt = 100 * target_value_counts[1]/num_rows\n",
        "print(f\"\\nPercentage of people with income <= 50K: {income_le_50k_pcnt:0.2f}%\")\n",
        "print(f\"Percentage of people with income > 50K: {income_gt_50k_pcnt:0.2f}%\")"
      ],
      "metadata": {
        "id": "fc_s4kRKTloe",
        "colab": {
          "base_uri": "https://localhost:8080/"
        },
        "outputId": "9aa5530d-2c8e-4df4-d506-165730512036"
      },
      "execution_count": 6,
      "outputs": [
        {
          "output_type": "stream",
          "name": "stdout",
          "text": [
            "Number of rows: 32561\n",
            "Number of columns: 15\n",
            "Column, i.e, feature names:\n",
            " Index(['age', 'workclass', 'fnlwgt', 'education', 'education-num',\n",
            "       'marital-status', 'occupation', 'relationship', 'race', 'sex',\n",
            "       'capital-gain', 'capital-loss', 'hours-per-week', 'native-country'],\n",
            "      dtype='object')\n",
            "Target: income \n",
            "\n",
            "Column Data Types:\n",
            " age                int64\n",
            "workclass         object\n",
            "fnlwgt             int64\n",
            "education         object\n",
            "education-num      int64\n",
            "marital-status    object\n",
            "occupation        object\n",
            "relationship      object\n",
            "race              object\n",
            "sex               object\n",
            "capital-gain       int64\n",
            "capital-loss       int64\n",
            "hours-per-week     int64\n",
            "native-country    object\n",
            "income            object\n",
            "dtype: object\n",
            "\n",
            "Number of isnull:\n",
            " age               0\n",
            "workclass         0\n",
            "fnlwgt            0\n",
            "education         0\n",
            "education-num     0\n",
            "marital-status    0\n",
            "occupation        0\n",
            "relationship      0\n",
            "race              0\n",
            "sex               0\n",
            "capital-gain      0\n",
            "capital-loss      0\n",
            "hours-per-week    0\n",
            "native-country    0\n",
            "income            0\n",
            "dtype: int64\n",
            "Number of isna:\n",
            " age               0\n",
            "workclass         0\n",
            "fnlwgt            0\n",
            "education         0\n",
            "education-num     0\n",
            "marital-status    0\n",
            "occupation        0\n",
            "relationship      0\n",
            "race              0\n",
            "sex               0\n",
            "capital-gain      0\n",
            "capital-loss      0\n",
            "hours-per-week    0\n",
            "native-country    0\n",
            "income            0\n",
            "dtype: int64\n",
            "\n",
            "Value Counts for each feature:\n",
            "\n",
            "-----age-----\n",
            " age\n",
            "36    898\n",
            "31    888\n",
            "34    886\n",
            "23    877\n",
            "35    876\n",
            "     ... \n",
            "83      6\n",
            "88      3\n",
            "85      3\n",
            "86      1\n",
            "87      1\n",
            "Name: count, Length: 73, dtype: int64\n",
            "\n",
            "-----workclass-----\n",
            " workclass\n",
            " Private             22696\n",
            " Self-emp-not-inc     2541\n",
            " Local-gov            2093\n",
            " ?                    1836\n",
            " State-gov            1298\n",
            " Self-emp-inc         1116\n",
            " Federal-gov           960\n",
            " Without-pay            14\n",
            " Never-worked            7\n",
            "Name: count, dtype: int64\n",
            "\n",
            "-----fnlwgt-----\n",
            " fnlwgt\n",
            "164190    13\n",
            "203488    13\n",
            "123011    13\n",
            "148995    12\n",
            "121124    12\n",
            "          ..\n",
            "232784     1\n",
            "325573     1\n",
            "140176     1\n",
            "318264     1\n",
            "257302     1\n",
            "Name: count, Length: 21648, dtype: int64\n",
            "\n",
            "-----education-----\n",
            " education\n",
            " HS-grad         10501\n",
            " Some-college     7291\n",
            " Bachelors        5355\n",
            " Masters          1723\n",
            " Assoc-voc        1382\n",
            " 11th             1175\n",
            " Assoc-acdm       1067\n",
            " 10th              933\n",
            " 7th-8th           646\n",
            " Prof-school       576\n",
            " 9th               514\n",
            " 12th              433\n",
            " Doctorate         413\n",
            " 5th-6th           333\n",
            " 1st-4th           168\n",
            " Preschool          51\n",
            "Name: count, dtype: int64\n",
            "\n",
            "-----education-num-----\n",
            " education-num\n",
            "9     10501\n",
            "10     7291\n",
            "13     5355\n",
            "14     1723\n",
            "11     1382\n",
            "7      1175\n",
            "12     1067\n",
            "6       933\n",
            "4       646\n",
            "15      576\n",
            "5       514\n",
            "8       433\n",
            "16      413\n",
            "3       333\n",
            "2       168\n",
            "1        51\n",
            "Name: count, dtype: int64\n",
            "\n",
            "-----marital-status-----\n",
            " marital-status\n",
            " Married-civ-spouse       14976\n",
            " Never-married            10683\n",
            " Divorced                  4443\n",
            " Separated                 1025\n",
            " Widowed                    993\n",
            " Married-spouse-absent      418\n",
            " Married-AF-spouse           23\n",
            "Name: count, dtype: int64\n",
            "\n",
            "-----occupation-----\n",
            " occupation\n",
            " Prof-specialty       4140\n",
            " Craft-repair         4099\n",
            " Exec-managerial      4066\n",
            " Adm-clerical         3770\n",
            " Sales                3650\n",
            " Other-service        3295\n",
            " Machine-op-inspct    2002\n",
            " ?                    1843\n",
            " Transport-moving     1597\n",
            " Handlers-cleaners    1370\n",
            " Farming-fishing       994\n",
            " Tech-support          928\n",
            " Protective-serv       649\n",
            " Priv-house-serv       149\n",
            " Armed-Forces            9\n",
            "Name: count, dtype: int64\n",
            "\n",
            "-----relationship-----\n",
            " relationship\n",
            " Husband           13193\n",
            " Not-in-family      8305\n",
            " Own-child          5068\n",
            " Unmarried          3446\n",
            " Wife               1568\n",
            " Other-relative      981\n",
            "Name: count, dtype: int64\n",
            "\n",
            "-----race-----\n",
            " race\n",
            " White                 27816\n",
            " Black                  3124\n",
            " Asian-Pac-Islander     1039\n",
            " Amer-Indian-Eskimo      311\n",
            " Other                   271\n",
            "Name: count, dtype: int64\n",
            "\n",
            "-----sex-----\n",
            " sex\n",
            " Male      21790\n",
            " Female    10771\n",
            "Name: count, dtype: int64\n",
            "\n",
            "-----capital-gain-----\n",
            " capital-gain\n",
            "0        29849\n",
            "15024      347\n",
            "7688       284\n",
            "7298       246\n",
            "99999      159\n",
            "         ...  \n",
            "1111         1\n",
            "2538         1\n",
            "22040        1\n",
            "4931         1\n",
            "5060         1\n",
            "Name: count, Length: 119, dtype: int64\n",
            "\n",
            "-----capital-loss-----\n",
            " capital-loss\n",
            "0       31042\n",
            "1902      202\n",
            "1977      168\n",
            "1887      159\n",
            "1848       51\n",
            "        ...  \n",
            "2080        1\n",
            "1539        1\n",
            "1844        1\n",
            "2489        1\n",
            "1411        1\n",
            "Name: count, Length: 92, dtype: int64\n",
            "\n",
            "-----hours-per-week-----\n",
            " hours-per-week\n",
            "40    15217\n",
            "50     2819\n",
            "45     1824\n",
            "60     1475\n",
            "35     1297\n",
            "      ...  \n",
            "82        1\n",
            "92        1\n",
            "87        1\n",
            "74        1\n",
            "94        1\n",
            "Name: count, Length: 94, dtype: int64\n",
            "\n",
            "-----native-country-----\n",
            " native-country\n",
            " United-States                 29170\n",
            " Mexico                          643\n",
            " ?                               583\n",
            " Philippines                     198\n",
            " Germany                         137\n",
            " Canada                          121\n",
            " Puerto-Rico                     114\n",
            " El-Salvador                     106\n",
            " India                           100\n",
            " Cuba                             95\n",
            " England                          90\n",
            " Jamaica                          81\n",
            " South                            80\n",
            " China                            75\n",
            " Italy                            73\n",
            " Dominican-Republic               70\n",
            " Vietnam                          67\n",
            " Guatemala                        64\n",
            " Japan                            62\n",
            " Poland                           60\n",
            " Columbia                         59\n",
            " Taiwan                           51\n",
            " Haiti                            44\n",
            " Iran                             43\n",
            " Portugal                         37\n",
            " Nicaragua                        34\n",
            " Peru                             31\n",
            " France                           29\n",
            " Greece                           29\n",
            " Ecuador                          28\n",
            " Ireland                          24\n",
            " Hong                             20\n",
            " Cambodia                         19\n",
            " Trinadad&Tobago                  19\n",
            " Laos                             18\n",
            " Thailand                         18\n",
            " Yugoslavia                       16\n",
            " Outlying-US(Guam-USVI-etc)       14\n",
            " Honduras                         13\n",
            " Hungary                          13\n",
            " Scotland                         12\n",
            " Holand-Netherlands                1\n",
            "Name: count, dtype: int64\n",
            "\n",
            "-----income-----\n",
            " income\n",
            " <=50K    24720\n",
            " >50K      7841\n",
            "Name: count, dtype: int64\n",
            "\n",
            "Percentage of people with income <= 50K: 75.92%\n",
            "Percentage of people with income > 50K: 24.08%\n"
          ]
        }
      ]
    },
    {
      "cell_type": "code",
      "source": [
        "# Find all NULL values and drop them\n",
        "# Check if value_counts match for this check\n",
        "df = df_raw\n",
        "print(\"Unknown Occupation Before drop null:\", (df.loc[:,\"occupation\"].str.strip() == '?').sum())\n",
        "for featname in df.columns:\n",
        "  # string columns are of type 'object'\n",
        "  if (df[featname].dtype == 'object'):\n",
        "    # drop all rows that contain '?' which is the same as NULL here\n",
        "    df = df.drop(df[df[featname].str.strip() == '?'].index)\n",
        "print(\"Unknown Occupation After drop null:\", (df.loc[:,\"occupation\"].str.strip() == '?').sum())\n",
        "\n",
        "print(\"df shape after drop null:\", df.shape)"
      ],
      "metadata": {
        "id": "pZW7GRw3P0dT",
        "colab": {
          "base_uri": "https://localhost:8080/"
        },
        "outputId": "3b3267a8-e1ea-4598-ae2e-a6d6a73ff57f"
      },
      "execution_count": 7,
      "outputs": [
        {
          "output_type": "stream",
          "name": "stdout",
          "text": [
            "Unknown Occupation Before drop null: 1843\n",
            "Unknown Occupation After drop null: 0\n",
            "df shape after drop null: (30162, 15)\n"
          ]
        }
      ]
    },
    {
      "cell_type": "code",
      "source": [
        "# Use Scikit-Learn's LabelEncoder to convert the income column with a data type\n",
        "# string to a binary variable.\n",
        "le = LabelEncoder()\n",
        "df['income'] = le.fit_transform(df['income'])\n",
        "print(df['income'].value_counts())"
      ],
      "metadata": {
        "id": "BZ_mJT_DLZ-L",
        "colab": {
          "base_uri": "https://localhost:8080/"
        },
        "outputId": "623e243c-dbd6-4fac-85cb-010e13cf86f4"
      },
      "execution_count": 8,
      "outputs": [
        {
          "output_type": "stream",
          "name": "stdout",
          "text": [
            "income\n",
            "0    22654\n",
            "1     7508\n",
            "Name: count, dtype: int64\n"
          ]
        }
      ]
    },
    {
      "cell_type": "markdown",
      "source": [
        "1. Split the data into training and test sets. Remember not to include the label you're trying to predict, `income`, as a column in your training data."
      ],
      "metadata": {
        "id": "ibK0DxJsA1JH"
      }
    },
    {
      "cell_type": "code",
      "source": [
        "# Split dataset into training and test sets\n",
        "# Lst[ Initial : End : IndexJump ]\n",
        "print(df.columns)\n",
        "X = df.iloc[:, 0:-1]\n",
        "y = df.loc[:, 'income']\n",
        "print(X.shape)\n",
        "print(y.shape)\n",
        "X_train, X_test, y_train, y_test = train_test_split(X, y, test_size=0.2, random_state=1)\n",
        "print(X_train.shape)\n",
        "print(X_test.shape)"
      ],
      "metadata": {
        "id": "1whzL6K7J-zq",
        "colab": {
          "base_uri": "https://localhost:8080/"
        },
        "outputId": "6638b85c-250c-41ce-8fb1-933c6b9ef801"
      },
      "execution_count": 9,
      "outputs": [
        {
          "output_type": "stream",
          "name": "stdout",
          "text": [
            "Index(['age', 'workclass', 'fnlwgt', 'education', 'education-num',\n",
            "       'marital-status', 'occupation', 'relationship', 'race', 'sex',\n",
            "       'capital-gain', 'capital-loss', 'hours-per-week', 'native-country',\n",
            "       'income'],\n",
            "      dtype='object')\n",
            "(30162, 14)\n",
            "(30162,)\n",
            "(24129, 14)\n",
            "(6033, 14)\n"
          ]
        }
      ]
    },
    {
      "cell_type": "markdown",
      "source": [
        "In machine learning, the Receiver Operating Characteristic (ROC) curve and the Area Under the Curve (AUC) metric are commonly used to evaluate the performance of binary classification models. These are valuable tools for understanding how well a model can distinguish between the positive and negative classes in a classification problem.\n",
        "\n",
        "Let's break down each concept:\n",
        "\n",
        "1. ROC Curve:\n",
        "The ROC curve is a graphical representation of a binary classifier's performance as the discrimination threshold is varied. It is created by plotting the True Positive Rate (TPR) against the False Positive Rate (FPR) at different threshold values. Here's how these rates are calculated:\n",
        "\n",
        "- True Positive Rate (TPR), also called Sensitivity or Recall, measures the proportion of actual positive instances that are correctly identified by the model:\n",
        "   TPR = True Positives / (True Positives + False Negatives)\n",
        "\n",
        "- False Positive Rate (FPR) measures the proportion of actual negative instances that are incorrectly classified as positive by the model:\n",
        "   FPR = False Positives / (False Positives + True Negatives)\n",
        "\n",
        "The ROC curve is useful because it shows how well a classifier can trade off between sensitivity and specificity across different threshold values. The ideal ROC curve hugs the top-left corner, indicating a high TPR and low FPR, meaning the classifier is excellent at distinguishing between the two classes.\n",
        "\n",
        "2. AUC (Area Under the Curve):\n",
        "The AUC is a scalar metric derived from the ROC curve. It represents the area under the ROC curve, hence its name. The AUC ranges from 0 to 1, where 0 indicates a very poor classifier (always predicting the opposite class) and 1 signifies a perfect classifier (making all correct predictions).\n",
        "\n",
        "The AUC metric is beneficial because it provides a single value to summarize the classifier's overall performance across all possible threshold values. It is particularly useful when dealing with imbalanced datasets, where one class significantly outnumbers the other. In such cases, accuracy alone might not be a reliable evaluation metric, and AUC can provide a more robust performance measure.\n",
        "\n",
        "A quick rule of thumb for interpreting AUC values:\n",
        "- AUC ≈ 0.5: The model performs no better than random guessing.\n",
        "- 0.5 < AUC < 0.7: The model has poor to fair performance.\n",
        "- 0.7 < AUC < 0.9: The model has good to excellent performance.\n",
        "- AUC ≈ 1: The model is close to or has a perfect performance."
      ],
      "metadata": {
        "id": "HMsXM6B_BX5k"
      }
    },
    {
      "cell_type": "markdown",
      "source": [
        "Here are your tasks:\n",
        "\n",
        "  1. Use Scikit-Learn's [roc_auc_score](https://scikit-learn.org/stable/modules/generated/sklearn.metrics.roc_auc_score.html) to calculate the AUC score for a method that always predicts the majority class.  "
      ],
      "metadata": {
        "id": "NDGgBVEKEYKi"
      }
    },
    {
      "cell_type": "code",
      "source": [
        "# Use Scikit-Learn's roc_auc_score to calculate the AUC score for a method that\n",
        "# always predicts the majority class.\n",
        "income_cnts = df['income'].value_counts()\n",
        "for k,v in income_cnts.items():\n",
        "  if v == max(income_cnts):\n",
        "    pred_majority_class = k\n",
        "print(pred_majority_class)\n",
        "y_test_pred = np.full(shape=y_test.shape, fill_value=pred_majority_class)\n",
        "# print(y_test.shape, y_test_pred.shape)\n",
        "score = roc_auc_score(y_test, y_test_pred)\n",
        "print(\"roc_auc_score with majority class always:\", score)"
      ],
      "metadata": {
        "id": "s00Xs8bqUZnn",
        "colab": {
          "base_uri": "https://localhost:8080/"
        },
        "outputId": "599e7330-fc38-4161-dbc9-72268462d1bd"
      },
      "execution_count": 10,
      "outputs": [
        {
          "output_type": "stream",
          "name": "stdout",
          "text": [
            "0\n",
            "roc_auc_score with majority class always: 0.5\n"
          ]
        }
      ]
    },
    {
      "cell_type": "code",
      "source": [
        "# Generate an ROC curve for model that always predicts majority class\n",
        "fpr, tpr, thresholds = roc_curve(y_test, y_test_pred)\n",
        "roc_auc = auc(fpr, tpr)\n",
        "roc_plt = RocCurveDisplay(fpr=fpr, tpr=tpr, roc_auc=roc_auc,\n",
        "                                  estimator_name='Income Predict Majority Class')\n",
        "roc_plt.plot()"
      ],
      "metadata": {
        "colab": {
          "base_uri": "https://localhost:8080/",
          "height": 468
        },
        "id": "AUMGheYSvnww",
        "outputId": "96c0fb3b-aa0b-4efc-cafb-dbc1e0d1d208"
      },
      "execution_count": 11,
      "outputs": [
        {
          "output_type": "execute_result",
          "data": {
            "text/plain": [
              "<sklearn.metrics._plot.roc_curve.RocCurveDisplay at 0x7e5e41f3b700>"
            ]
          },
          "metadata": {},
          "execution_count": 11
        },
        {
          "output_type": "display_data",
          "data": {
            "text/plain": [
              "<Figure size 640x480 with 1 Axes>"
            ],
            "image/png": "[encoded data removed]"
          },
          "metadata": {}
        }
      ]
    },
    {
      "cell_type": "code",
      "source": [
        "# always predicts a random class.\n",
        "from random import randint\n",
        "y_test_pred = np.full(shape=y_test.shape, fill_value=randint(0, 1))\n",
        "# print(y_test.shape, y_test_pred.shape)\n",
        "score = roc_auc_score(y_test, y_test_pred)\n",
        "print(\"roc_auc_score with random class:\", score)\n",
        "\n",
        "# Generate an ROC curve for this\n",
        "fpr, tpr, thresholds = roc_curve(y_test, y_test_pred)\n",
        "roc_auc = auc(fpr, tpr)\n",
        "roc_plt = RocCurveDisplay(fpr=fpr, tpr=tpr, roc_auc=roc_auc,\n",
        "                                  estimator_name='Income Predict Random Class')\n",
        "roc_plt.plot()"
      ],
      "metadata": {
        "colab": {
          "base_uri": "https://localhost:8080/",
          "height": 486
        },
        "id": "X2po0cC-8B4t",
        "outputId": "e66ba951-8817-4e6f-ff01-e05cd58efb34"
      },
      "execution_count": 12,
      "outputs": [
        {
          "output_type": "stream",
          "name": "stdout",
          "text": [
            "roc_auc_score with random class: 0.5\n"
          ]
        },
        {
          "output_type": "execute_result",
          "data": {
            "text/plain": [
              "<sklearn.metrics._plot.roc_curve.RocCurveDisplay at 0x7e5e41e16d10>"
            ]
          },
          "metadata": {},
          "execution_count": 12
        },
        {
          "output_type": "display_data",
          "data": {
            "text/plain": [
              "<Figure size 640x480 with 1 Axes>"
            ],
            "image/png": "[encoded data removed]"
          },
          "metadata": {}
        }
      ]
    },
    {
      "cell_type": "markdown",
      "source": [
        "Now, let's do a little feature engineering.\n",
        "\n",
        "1. Use Scikit-Learn's [ColumnTransformer](https://scikit-learn.org/stable/modules/generated/sklearn.compose.ColumnTransformer.html) to apply One Hot Encoding to the categorical variables in `workclass`, `education`, `marital-status`, `occupation`, `relationship`, 'race', `sex`, and `native-country`. Also, apply [MinMaxScaler](https://scikit-learn.org/stable/modules/generated/sklearn.preprocessing.MinMaxScaler.html) to the remaining continuous features. How many columns will the dataframe have after these columns transformations are applied?"
      ],
      "metadata": {
        "id": "uWSiYNarF2t_"
      }
    },
    {
      "cell_type": "code",
      "source": [
        "import tensorflow as tf\n",
        "\n",
        "note=\"\"\" In tensorflow, a random operation relies on two different seeds:\n",
        "a global seed, set by tf.set_random_seed, and\n",
        "an operation seed, provided as an argument to the operation.\n",
        "\"\"\"\n",
        "# Config to make results repeatable/deterministic\n",
        "tf.config.experimental.enable_op_determinism()\n",
        "np.random.seed(1)\n",
        "SEED=43\n",
        "tf.random.set_seed(SEED)\n",
        "tf.keras.utils.set_random_seed(SEED)"
      ],
      "metadata": {
        "id": "rEwwdcp9f_Qj"
      },
      "execution_count": 13,
      "outputs": []
    },
    {
      "cell_type": "code",
      "source": [
        "# Use Scikit-Learn's ColumnTransformer to apply One Hot Encoding to the\n",
        "# categorical variables in workclass, education, marital-status, occupation,\n",
        "# relationship, 'race', sex, and native-country. #Also, apply MinMaxScaler to\n",
        "# the remaining continuous features.\n",
        "note = \"\"\"\n",
        "Each transformer is a three-element tuple that defines the name of the transformer,\n",
        " the transform to apply, and the column indices to apply it to.\n",
        "For example:\n",
        "(Name, Object, Columns)\n",
        "transformer = ColumnTransformer(transformers=[('cat', OneHotEncoder(), [0, 1])])\n",
        "\"\"\"\n",
        "dts = X.dtypes\n",
        "\n",
        "def get_col_indexes(df, col_names):\n",
        "  return [df.columns.get_loc(name) for name in col_names]\n",
        "\n",
        "# Categorical features and corresponding column index\n",
        "cat_columns = [k for k,v in dts.items() if (v == 'object')]\n",
        "cat_ix = get_col_indexes(X, cat_columns)\n",
        "\n",
        "# Continuous features and corresponding column index\n",
        "cont_columns = [k for k,v in dts.items() if (v != 'object')]\n",
        "cont_ix = get_col_indexes(X, cont_columns)\n",
        "print(\"cat_ix:\", cat_ix, \" cont_ix:\", cont_ix)\n",
        "\n",
        "# data preparation for categorical and continuous features\n",
        "t = [('cat', OneHotEncoder(handle_unknown='ignore'), cat_ix),\n",
        "     ('cont', MinMaxScaler(), cont_ix)]\n",
        "ct = ColumnTransformer(transformers=t)\n",
        "\n",
        "# preproc = Pipeline(steps=[('prep', col_transform)])\n",
        "# fit transform on X\n",
        "X_trans = ct.fit_transform(X)"
      ],
      "metadata": {
        "id": "4DybgGJyW-3Q",
        "colab": {
          "base_uri": "https://localhost:8080/"
        },
        "outputId": "62a11891-b11d-4d3a-c00a-8945aadf099a"
      },
      "execution_count": 14,
      "outputs": [
        {
          "output_type": "stream",
          "name": "stdout",
          "text": [
            "cat_ix: [1, 3, 5, 6, 7, 8, 9, 13]  cont_ix: [0, 2, 4, 10, 11, 12]\n"
          ]
        }
      ]
    },
    {
      "cell_type": "code",
      "source": [
        "# How many columns will the dataframe have after these columns transformations are applied?\n",
        "print(X_trans.shape, type(X_trans))\n",
        "\n",
        "ct_feat_names = ct.get_feature_names_out()\n",
        "print(\"Number of columns after transformation:\", ct_feat_names.shape[0])"
      ],
      "metadata": {
        "id": "emfaqHwvKfLU",
        "colab": {
          "base_uri": "https://localhost:8080/"
        },
        "outputId": "dba3154d-77d0-47bb-abfd-d06837265298"
      },
      "execution_count": 15,
      "outputs": [
        {
          "output_type": "stream",
          "name": "stdout",
          "text": [
            "(30162, 104) <class 'scipy.sparse._csr.csr_matrix'>\n",
            "Number of columns after transformation: 104\n"
          ]
        }
      ]
    },
    {
      "cell_type": "markdown",
      "source": [
        "Keras is an open-source deep learning library written in Python. It was developed to provide a user-friendly, high-level interface for building and training neural networks. The library was created by François Chollet and was first released in March 2015 as part of the Deeplearning4j project. Later, it became part of the TensorFlow ecosystem and is now the official high-level API for TensorFlow.\n",
        "\n",
        "Keras is designed to be modular, user-friendly, and easy to extend. It allows researchers and developers to quickly prototype and experiment with various deep learning models. One of the primary goals of Keras is to enable fast experimentation, making it simple to build and iterate on different architectures.\n",
        "\n",
        "Key features of Keras include:\n",
        "\n",
        "1. User-friendly API: Keras provides a simple and intuitive interface for defining and training deep learning models. Its design philosophy focuses on ease of use and clarity of code.\n",
        "\n",
        "2. Modularity: Models in Keras are built as a sequence of layers, and users can easily stack, merge, or create complex architectures using a wide range of predefined layers.\n",
        "\n",
        "3. Extensibility: Keras allows users to define custom layers, loss functions, and metrics. This flexibility enables researchers to experiment with new ideas and algorithms seamlessly.\n",
        "\n",
        "4. Backends: Initially, Keras supported multiple backends, including TensorFlow, Theano, and CNTK. However, as of TensorFlow version 2.0, TensorFlow has become the primary backend for Keras.\n",
        "\n",
        "5. Multi-GPU and distributed training: Keras supports training models on multiple GPUs and in distributed computing environments, making it suitable for large-scale experiments.\n",
        "\n",
        "6. Pre-trained models: Keras includes a collection of pre-trained models for common tasks, such as image classification (e.g., VGG, ResNet, MobileNet) and natural language processing (e.g., Word2Vec, GloVe).\n",
        "\n",
        "The integration of Keras into TensorFlow as its official high-level API has solidified its position as one of the most popular deep learning libraries in the machine learning community. Its ease of use and versatility have contributed to its widespread adoption in both academia and industry for a wide range of deep learning tasks."
      ],
      "metadata": {
        "id": "AtoqTz5rGuET"
      }
    },
    {
      "cell_type": "markdown",
      "source": [
        "Here are your tasks:\n",
        "\n",
        "1. Create your own model in Keras to predict income in the Adult training data. Remember, it's always better to start simple and add complexity to the model if necessary. What's a good loss function to use?\n",
        "\n",
        "2. Keras can be integrated with Scitkit-Learn using a wrapper. Use the [KerasClassifier wrapper](https://adriangb.com/scikeras/stable/generated/scikeras.wrappers.KerasClassifier.html) to integrate your Keras model with the ColumnTransformer from previous steps using a [Pipeline](https://scikit-learn.org/stable/modules/generated/sklearn.pipeline.Pipeline.html) object.\n",
        "\n",
        "3. Fit your model.\n",
        "\n",
        "4. Calculate the AUC score of your model on the test data. Does the model predict better than random?\n",
        "\n",
        "5. Generate an ROC curve for your model using [RocCurveDisplay](https://scikit-learn.org/stable/modules/generated/sklearn.metrics.RocCurveDisplay.html). What would the curve look like if all your predictions were randomly generated? What would the curve look like if it you had a perfect model?"
      ],
      "metadata": {
        "id": "HVUa0h83HU24"
      }
    },
    {
      "cell_type": "code",
      "source": [
        "%%time\n",
        "# Simple keras \"Sequential\" model with 1 hidden layer\n",
        "X_train, X_test, y_train, y_test = train_test_split(X_trans, y, test_size=0.25, random_state=1)\n",
        "print(X_train.shape, y_train.shape)\n",
        "\n",
        "num_feat = X_train.shape[1]\n",
        "print(\"Num features in input for model:\", type(num_feat), num_feat)\n",
        "\n",
        "# Define the Keras model\n",
        "basic_model = Sequential()\n",
        "\n",
        "# One hidden layer with 8 neurons\n",
        "initializer = RandomNormal(mean=0.0, stddev=1.0, seed=SEED)\n",
        "# initializer = RandomUniform()\n",
        "basic_model.add(Dense(8, input_shape = (num_feat,), activation=\"relu\",\n",
        "                      kernel_initializer=initializer,\n",
        "                      use_bias=False))\n",
        "\n",
        "# Output layer with 1 neurons (2 income classes)\n",
        "basic_model.add(Dense(1, activation=\"sigmoid\", kernel_initializer=initializer))\n",
        "\n",
        "# Summarise the model\n",
        "basic_model.summary()\n",
        "\n",
        "# Compile the model\n",
        "basic_model.compile(optimizer = 'adam', loss = 'binary_crossentropy', metrics = ['accuracy'])\n",
        "\n",
        "# Fit to data\n",
        "act_result = basic_model.fit(X_train, y_train, epochs=1)"
      ],
      "metadata": {
        "id": "h2xIpLlXQEcx",
        "colab": {
          "base_uri": "https://localhost:8080/",
          "height": 333
        },
        "outputId": "536e6024-2213-4e8c-b8c6-3922ac87b497"
      },
      "execution_count": 16,
      "outputs": [
        {
          "output_type": "stream",
          "name": "stdout",
          "text": [
            "(22621, 104) (22621,)\n",
            "Num features in input for model: <class 'int'> 104\n"
          ]
        },
        {
          "output_type": "stream",
          "name": "stderr",
          "text": [
            "/usr/local/lib/python3.10/dist-packages/keras/src/layers/core/dense.py:87: UserWarning: Do not pass an `input_shape`/`input_dim` argument to a layer. When using Sequential models, prefer using an `Input(shape)` object as the first layer in the model instead.\n",
            "  super().__init__(activity_regularizer=activity_regularizer, **kwargs)\n"
          ]
        },
        {
          "output_type": "display_data",
          "data": {
            "text/plain": [
              "\u001b[1mModel: \"sequential\"\u001b[0m\n"
            ],
            "text/html": [
              "<pre style=\"white-space:pre;overflow-x:auto;line-height:normal;font-family:Menlo,'DejaVu Sans Mono',consolas,'Courier New',monospace\"><span style=\"font-weight: bold\">Model: \"sequential\"</span>\n",
              "</pre>\n"
            ]
          },
          "metadata": {}
        },
        {
          "output_type": "display_data",
          "data": {
            "text/plain": [
              "┏━━━━━━━━━━━━━━━━━━━━━━━━━━━━━━━━━━━━━━┳━━━━━━━━━━━━━━━━━━━━━━━━━━━━━┳━━━━━━━━━━━━━━━━━┓\n",
              "┃\u001b[1m \u001b[0m\u001b[1mLayer (type)                        \u001b[0m\u001b[1m \u001b[0m┃\u001b[1m \u001b[0m\u001b[1mOutput Shape               \u001b[0m\u001b[1m \u001b[0m┃\u001b[1m \u001b[0m\u001b[1m        Param #\u001b[0m\u001b[1m \u001b[0m┃\n",
              "┡━━━━━━━━━━━━━━━━━━━━━━━━━━━━━━━━━━━━━━╇━━━━━━━━━━━━━━━━━━━━━━━━━━━━━╇━━━━━━━━━━━━━━━━━┩\n",
              "│ dense (\u001b[38;5;33mDense\u001b[0m)                        │ (\u001b[38;5;45mNone\u001b[0m, \u001b[38;5;34m8\u001b[0m)                   │             \u001b[38;5;34m832\u001b[0m │\n",
              "├──────────────────────────────────────┼─────────────────────────────┼─────────────────┤\n",
              "│ dense_1 (\u001b[38;5;33mDense\u001b[0m)                      │ (\u001b[38;5;45mNone\u001b[0m, \u001b[38;5;34m1\u001b[0m)                   │               \u001b[38;5;34m9\u001b[0m │\n",
              "└──────────────────────────────────────┴─────────────────────────────┴─────────────────┘\n"
            ],
            "text/html": [
              "<pre style=\"white-space:pre;overflow-x:auto;line-height:normal;font-family:Menlo,'DejaVu Sans Mono',consolas,'Courier New',monospace\">┏━━━━━━━━━━━━━━━━━━━━━━━━━━━━━━━━━━━━━━┳━━━━━━━━━━━━━━━━━━━━━━━━━━━━━┳━━━━━━━━━━━━━━━━━┓\n",
              "┃<span style=\"font-weight: bold\"> Layer (type)                         </span>┃<span style=\"font-weight: bold\"> Output Shape                </span>┃<span style=\"font-weight: bold\">         Param # </span>┃\n",
              "┡━━━━━━━━━━━━━━━━━━━━━━━━━━━━━━━━━━━━━━╇━━━━━━━━━━━━━━━━━━━━━━━━━━━━━╇━━━━━━━━━━━━━━━━━┩\n",
              "│ dense (<span style=\"color: #0087ff; text-decoration-color: #0087ff\">Dense</span>)                        │ (<span style=\"color: #00d7ff; text-decoration-color: #00d7ff\">None</span>, <span style=\"color: #00af00; text-decoration-color: #00af00\">8</span>)                   │             <span style=\"color: #00af00; text-decoration-color: #00af00\">832</span> │\n",
              "├──────────────────────────────────────┼─────────────────────────────┼─────────────────┤\n",
              "│ dense_1 (<span style=\"color: #0087ff; text-decoration-color: #0087ff\">Dense</span>)                      │ (<span style=\"color: #00d7ff; text-decoration-color: #00d7ff\">None</span>, <span style=\"color: #00af00; text-decoration-color: #00af00\">1</span>)                   │               <span style=\"color: #00af00; text-decoration-color: #00af00\">9</span> │\n",
              "└──────────────────────────────────────┴─────────────────────────────┴─────────────────┘\n",
              "</pre>\n"
            ]
          },
          "metadata": {}
        },
        {
          "output_type": "display_data",
          "data": {
            "text/plain": [
              "\u001b[1m Total params: \u001b[0m\u001b[38;5;34m841\u001b[0m (3.29 KB)\n"
            ],
            "text/html": [
              "<pre style=\"white-space:pre;overflow-x:auto;line-height:normal;font-family:Menlo,'DejaVu Sans Mono',consolas,'Courier New',monospace\"><span style=\"font-weight: bold\"> Total params: </span><span style=\"color: #00af00; text-decoration-color: #00af00\">841</span> (3.29 KB)\n",
              "</pre>\n"
            ]
          },
          "metadata": {}
        },
        {
          "output_type": "display_data",
          "data": {
            "text/plain": [
              "\u001b[1m Trainable params: \u001b[0m\u001b[38;5;34m841\u001b[0m (3.29 KB)\n"
            ],
            "text/html": [
              "<pre style=\"white-space:pre;overflow-x:auto;line-height:normal;font-family:Menlo,'DejaVu Sans Mono',consolas,'Courier New',monospace\"><span style=\"font-weight: bold\"> Trainable params: </span><span style=\"color: #00af00; text-decoration-color: #00af00\">841</span> (3.29 KB)\n",
              "</pre>\n"
            ]
          },
          "metadata": {}
        },
        {
          "output_type": "display_data",
          "data": {
            "text/plain": [
              "\u001b[1m Non-trainable params: \u001b[0m\u001b[38;5;34m0\u001b[0m (0.00 B)\n"
            ],
            "text/html": [
              "<pre style=\"white-space:pre;overflow-x:auto;line-height:normal;font-family:Menlo,'DejaVu Sans Mono',consolas,'Courier New',monospace\"><span style=\"font-weight: bold\"> Non-trainable params: </span><span style=\"color: #00af00; text-decoration-color: #00af00\">0</span> (0.00 B)\n",
              "</pre>\n"
            ]
          },
          "metadata": {}
        },
        {
          "output_type": "stream",
          "name": "stdout",
          "text": [
            "\u001b[1m707/707\u001b[0m \u001b[32m━━━━━━━━━━━━━━━━━━━━\u001b[0m\u001b[37m\u001b[0m \u001b[1m9s\u001b[0m 7ms/step - accuracy: 0.7474 - loss: 0.5952\n",
            "CPU times: user 6.64 s, sys: 178 ms, total: 6.82 s\n",
            "Wall time: 11.1 s\n"
          ]
        }
      ]
    },
    {
      "cell_type": "code",
      "source": [
        "# help(Dense)"
      ],
      "metadata": {
        "id": "-3uyJJVGJElX"
      },
      "execution_count": 17,
      "outputs": []
    },
    {
      "cell_type": "code",
      "source": [
        "%%time\n",
        "# Test if the model is well assembled by predicting before training\n",
        "y_pred = basic_model.predict(X_train)\n",
        "make_bin = lambda val: 0 if val > 0.5 else 1\n",
        "y_pred_df = pd.DataFrame(np.array([make_bin(yi) for yi in y_pred]))\n",
        "print(type(y_pred_df), y_pred_df.shape, \"\\n\", y_pred_df.value_counts(), y_train.value_counts())\n",
        "\n",
        "# Test, Loss and accuracy\n",
        "loss_and_metrics = basic_model.evaluate(X_test, y_test)\n",
        "print('Loss = ',loss_and_metrics[0])\n",
        "print('Accuracy = ',loss_and_metrics[1])\n",
        "\n",
        "y_test_pred = basic_model.predict(X_test)\n",
        "basic_score = roc_auc_score(y_test, y_test_pred)\n",
        "print(f\"\\nroc_auc_score with basic_model: {basic_score:0.3f}\")"
      ],
      "metadata": {
        "colab": {
          "base_uri": "https://localhost:8080/"
        },
        "id": "J9sScad7azwV",
        "outputId": "0fc9f01d-daab-4853-8840-6572b21ef3e3"
      },
      "execution_count": 18,
      "outputs": [
        {
          "output_type": "stream",
          "name": "stdout",
          "text": [
            "\u001b[1m707/707\u001b[0m \u001b[32m━━━━━━━━━━━━━━━━━━━━\u001b[0m\u001b[37m\u001b[0m \u001b[1m8s\u001b[0m 11ms/step\n",
            "<class 'pandas.core.frame.DataFrame'> (22621, 1) \n",
            " 1    20404\n",
            "0     2217\n",
            "Name: count, dtype: int64 income\n",
            "0    17012\n",
            "1     5609\n",
            "Name: count, dtype: int64\n",
            "\u001b[1m236/236\u001b[0m \u001b[32m━━━━━━━━━━━━━━━━━━━━\u001b[0m\u001b[37m\u001b[0m \u001b[1m2s\u001b[0m 5ms/step - accuracy: 0.7679 - loss: 0.4714\n",
            "Loss =  0.46481853723526\n",
            "Accuracy =  0.7757591605186462\n",
            "\u001b[1m236/236\u001b[0m \u001b[32m━━━━━━━━━━━━━━━━━━━━\u001b[0m\u001b[37m\u001b[0m \u001b[1m2s\u001b[0m 6ms/step\n",
            "\n",
            "roc_auc_score with basic_model: 0.788\n",
            "CPU times: user 8.38 s, sys: 230 ms, total: 8.61 s\n",
            "Wall time: 14.7 s\n"
          ]
        }
      ]
    },
    {
      "cell_type": "code",
      "source": [
        "# Generate an ROC curve for basic (Sequential) keras model\n",
        "fpr, tpr, thresholds = roc_curve(y_test, y_test_pred)\n",
        "roc_auc = auc(fpr, tpr)\n",
        "roc_plt = RocCurveDisplay(fpr=fpr, tpr=tpr, roc_auc=roc_auc,\n",
        "                                  estimator_name='Basic Sequential Model')\n",
        "roc_plt.plot()"
      ],
      "metadata": {
        "colab": {
          "base_uri": "https://localhost:8080/",
          "height": 468
        },
        "id": "SyTHID9N2LWS",
        "outputId": "c7bce642-249a-4e46-b7aa-2f2fa1c4f54a"
      },
      "execution_count": 19,
      "outputs": [
        {
          "output_type": "execute_result",
          "data": {
            "text/plain": [
              "<sklearn.metrics._plot.roc_curve.RocCurveDisplay at 0x7e5e41e17070>"
            ]
          },
          "metadata": {},
          "execution_count": 19
        },
        {
          "output_type": "display_data",
          "data": {
            "text/plain": [
              "<Figure size 640x480 with 1 Axes>"
            ],
            "image/png": "[encoded data removed]"
          },
          "metadata": {}
        }
      ]
    },
    {
      "cell_type": "code",
      "source": [
        "%%time\n",
        "# From previous steps\n",
        "# ct = ColumnTransformer(transformers=t)\n",
        "# TBD - how to pass num_feat after ColumTransormer to KerasClassifier\n",
        "num_pipe_feat = 104\n",
        "\n",
        "# Split Data (before ColumnTransformer) into Training and Test Sets\n",
        "X_train, X_test, y_train, y_test = train_test_split(X, y, test_size=0.25, random_state=4, shuffle=True)\n",
        "\n",
        "# num_pipe_feat = X.shape[1]\n",
        "print(\"Num features in pipeline input for model:\", type(num_pipe_feat), num_pipe_feat)\n",
        "\n",
        "# Function to create model, required for KerasClassifier\n",
        "def create_model(input_dim):\n",
        "  \"\"\"With input_dim given create keras Sequential model with 3 hidden layers of 8, 16 and 8 neurons\"\"\"\n",
        "  # create model\n",
        "  # initializer = RandomNormal(mean=0.0, stddev=1.0, seed=SEED)\n",
        "  initializer = RandomUniform(minval=0.0, maxval=1.0, seed=SEED)\n",
        "  model = Sequential()\n",
        "  model.add(Dense(8, input_dim=input_dim, activation='relu', kernel_initializer=initializer))\n",
        "  model.add(Dense(16, activation='leaky_relu', kernel_initializer=initializer,))\n",
        "  model.add(Dense(4, activation='relu', kernel_initializer=initializer,))\n",
        "  model.add(Dense(1, activation='sigmoid', kernel_initializer=initializer,))\n",
        "  # Compile model\n",
        "  model.compile(loss='binary_crossentropy', optimizer='adam', metrics=['accuracy'])\n",
        "  return model"
      ],
      "metadata": {
        "id": "Rz-m2LhrQGud",
        "colab": {
          "base_uri": "https://localhost:8080/"
        },
        "outputId": "a8273cc8-2467-48bb-8199-a95ef4c093e4"
      },
      "execution_count": 20,
      "outputs": [
        {
          "output_type": "stream",
          "name": "stdout",
          "text": [
            "Num features in pipeline input for model: <class 'int'> 104\n",
            "CPU times: user 19.7 ms, sys: 0 ns, total: 19.7 ms\n",
            "Wall time: 20 ms\n"
          ]
        }
      ]
    },
    {
      "cell_type": "code",
      "source": [
        "%%time\n",
        "# Create KerasClassifier\n",
        "kerasclf_model = KerasClassifier(model=create_model, epochs=16, batch_size=24, verbose=1, input_dim=num_pipe_feat)\n",
        "\n",
        "# Create the scikit-learn pipeline\n",
        "p_ct_kclf = Pipeline(steps=[\n",
        "    ('prep', ct),\n",
        "    ('clf', kerasclf_model)\n",
        "])"
      ],
      "metadata": {
        "id": "VKxkil7QQJ6n",
        "colab": {
          "base_uri": "https://localhost:8080/"
        },
        "outputId": "37795522-4f7b-4016-cae0-9814cf75735c"
      },
      "execution_count": 21,
      "outputs": [
        {
          "output_type": "stream",
          "name": "stdout",
          "text": [
            "CPU times: user 196 µs, sys: 0 ns, total: 196 µs\n",
            "Wall time: 2.39 ms\n"
          ]
        }
      ]
    },
    {
      "cell_type": "code",
      "source": [
        "%%time\n",
        "# Fit the pipeline on the training data\n",
        "history = p_ct_kclf.fit(X_train, y_train)"
      ],
      "metadata": {
        "id": "25O8ZLleGQnk",
        "colab": {
          "base_uri": "https://localhost:8080/"
        },
        "outputId": "bf58e75a-2cd0-42e2-92eb-6e352031af33"
      },
      "execution_count": 22,
      "outputs": [
        {
          "output_type": "stream",
          "name": "stderr",
          "text": [
            "/usr/local/lib/python3.10/dist-packages/keras/src/layers/core/dense.py:87: UserWarning: Do not pass an `input_shape`/`input_dim` argument to a layer. When using Sequential models, prefer using an `Input(shape)` object as the first layer in the model instead.\n",
            "  super().__init__(activity_regularizer=activity_regularizer, **kwargs)\n"
          ]
        },
        {
          "output_type": "stream",
          "name": "stdout",
          "text": [
            "Epoch 1/16\n",
            "\u001b[1m943/943\u001b[0m \u001b[32m━━━━━━━━━━━━━━━━━━━━\u001b[0m\u001b[37m\u001b[0m \u001b[1m6s\u001b[0m 4ms/step - accuracy: 0.2470 - loss: 85.0022\n",
            "Epoch 2/16\n",
            "\u001b[1m943/943\u001b[0m \u001b[32m━━━━━━━━━━━━━━━━━━━━\u001b[0m\u001b[37m\u001b[0m \u001b[1m3s\u001b[0m 3ms/step - accuracy: 0.6971 - loss: 0.6355\n",
            "Epoch 3/16\n",
            "\u001b[1m943/943\u001b[0m \u001b[32m━━━━━━━━━━━━━━━━━━━━\u001b[0m\u001b[37m\u001b[0m \u001b[1m5s\u001b[0m 3ms/step - accuracy: 0.7533 - loss: 0.5613\n",
            "Epoch 4/16\n",
            "\u001b[1m943/943\u001b[0m \u001b[32m━━━━━━━━━━━━━━━━━━━━\u001b[0m\u001b[37m\u001b[0m \u001b[1m5s\u001b[0m 3ms/step - accuracy: 0.7542 - loss: 0.5411\n",
            "Epoch 5/16\n",
            "\u001b[1m943/943\u001b[0m \u001b[32m━━━━━━━━━━━━━━━━━━━━\u001b[0m\u001b[37m\u001b[0m \u001b[1m2s\u001b[0m 3ms/step - accuracy: 0.7794 - loss: 0.4828\n",
            "Epoch 6/16\n",
            "\u001b[1m943/943\u001b[0m \u001b[32m━━━━━━━━━━━━━━━━━━━━\u001b[0m\u001b[37m\u001b[0m \u001b[1m3s\u001b[0m 3ms/step - accuracy: 0.8237 - loss: 0.4108\n",
            "Epoch 7/16\n",
            "\u001b[1m943/943\u001b[0m \u001b[32m━━━━━━━━━━━━━━━━━━━━\u001b[0m\u001b[37m\u001b[0m \u001b[1m3s\u001b[0m 3ms/step - accuracy: 0.8371 - loss: 0.3676\n",
            "Epoch 8/16\n",
            "\u001b[1m943/943\u001b[0m \u001b[32m━━━━━━━━━━━━━━━━━━━━\u001b[0m\u001b[37m\u001b[0m \u001b[1m5s\u001b[0m 3ms/step - accuracy: 0.8422 - loss: 0.3479\n",
            "Epoch 9/16\n",
            "\u001b[1m943/943\u001b[0m \u001b[32m━━━━━━━━━━━━━━━━━━━━\u001b[0m\u001b[37m\u001b[0m \u001b[1m5s\u001b[0m 3ms/step - accuracy: 0.8448 - loss: 0.3384\n",
            "Epoch 10/16\n",
            "\u001b[1m943/943\u001b[0m \u001b[32m━━━━━━━━━━━━━━━━━━━━\u001b[0m\u001b[37m\u001b[0m \u001b[1m4s\u001b[0m 4ms/step - accuracy: 0.8461 - loss: 0.3325\n",
            "Epoch 11/16\n",
            "\u001b[1m943/943\u001b[0m \u001b[32m━━━━━━━━━━━━━━━━━━━━\u001b[0m\u001b[37m\u001b[0m \u001b[1m4s\u001b[0m 3ms/step - accuracy: 0.8486 - loss: 0.3282\n",
            "Epoch 12/16\n",
            "\u001b[1m943/943\u001b[0m \u001b[32m━━━━━━━━━━━━━━━━━━━━\u001b[0m\u001b[37m\u001b[0m \u001b[1m3s\u001b[0m 3ms/step - accuracy: 0.8499 - loss: 0.3250\n",
            "Epoch 13/16\n",
            "\u001b[1m943/943\u001b[0m \u001b[32m━━━━━━━━━━━━━━━━━━━━\u001b[0m\u001b[37m\u001b[0m \u001b[1m3s\u001b[0m 3ms/step - accuracy: 0.8497 - loss: 0.3228\n",
            "Epoch 14/16\n",
            "\u001b[1m943/943\u001b[0m \u001b[32m━━━━━━━━━━━━━━━━━━━━\u001b[0m\u001b[37m\u001b[0m \u001b[1m6s\u001b[0m 4ms/step - accuracy: 0.8500 - loss: 0.3212\n",
            "Epoch 15/16\n",
            "\u001b[1m943/943\u001b[0m \u001b[32m━━━━━━━━━━━━━━━━━━━━\u001b[0m\u001b[37m\u001b[0m \u001b[1m5s\u001b[0m 4ms/step - accuracy: 0.8501 - loss: 0.3203\n",
            "Epoch 16/16\n",
            "\u001b[1m943/943\u001b[0m \u001b[32m━━━━━━━━━━━━━━━━━━━━\u001b[0m\u001b[37m\u001b[0m \u001b[1m10s\u001b[0m 8ms/step - accuracy: 0.8505 - loss: 0.3196\n",
            "CPU times: user 1min, sys: 2.72 s, total: 1min 3s\n",
            "Wall time: 1min 14s\n"
          ]
        }
      ]
    },
    {
      "cell_type": "code",
      "source": [
        "# Calculate the AUC score of your model on the test data.\n",
        "# Does the model predict better than random?\n",
        "y_test_pipe_pred = p_ct_kclf.predict(X_test)\n",
        "p_ct_kclf_score = roc_auc_score(y_test, y_test_pipe_pred)\n",
        "print(f\"roc_auc_score with KerasClassifier pipeline: {p_ct_kclf_score:0.3f}\")\n",
        "print(\"This score is better than the 0.5 score with a random classifier\")"
      ],
      "metadata": {
        "id": "SLcNQGVqNYbB",
        "colab": {
          "base_uri": "https://localhost:8080/"
        },
        "outputId": "bd277b21-16d1-4c18-d763-38d6c5e22a0c"
      },
      "execution_count": 23,
      "outputs": [
        {
          "output_type": "stream",
          "name": "stdout",
          "text": [
            "\u001b[1m315/315\u001b[0m \u001b[32m━━━━━━━━━━━━━━━━━━━━\u001b[0m\u001b[37m\u001b[0m \u001b[1m2s\u001b[0m 6ms/step\n",
            "roc_auc_score with KerasClassifier pipeline: 0.782\n",
            "This score is better than the 0.5 score with a random classifier\n"
          ]
        }
      ]
    },
    {
      "cell_type": "code",
      "source": [
        "# Generate an ROC curve for your model.\n",
        "\n",
        "fpr, tpr, thresholds = roc_curve(y_test, y_test_pipe_pred)\n",
        "roc_auc = auc(fpr, tpr)\n",
        "roc_plt = RocCurveDisplay(fpr=fpr, tpr=tpr, roc_auc=roc_auc,\n",
        "                                  estimator_name='KerasClassifier pipeline')\n",
        "roc_plt.plot()"
      ],
      "metadata": {
        "id": "prJG9pr7PYIc",
        "colab": {
          "base_uri": "https://localhost:8080/",
          "height": 468
        },
        "outputId": "e8d3685c-5f72-4781-aa47-a7e9d72a3533"
      },
      "execution_count": 24,
      "outputs": [
        {
          "output_type": "execute_result",
          "data": {
            "text/plain": [
              "<sklearn.metrics._plot.roc_curve.RocCurveDisplay at 0x7e5e41c4e050>"
            ]
          },
          "metadata": {},
          "execution_count": 24
        },
        {
          "output_type": "display_data",
          "data": {
            "text/plain": [
              "<Figure size 640x480 with 1 Axes>"
            ],
            "image/png": "[encoded data removed]"
          },
          "metadata": {}
        }
      ]
    },
    {
      "cell_type": "markdown",
      "source": [
        "Summary:\n",
        "\n",
        "For this project, started with the [Adult Income data set](https://archive.ics.uci.edu/ml/machine-learning-databases/adult/adult.data) provided.\n",
        "\n",
        "From the raw data and the documentation for this dataset, see the following:</br>\n",
        ">Number of rows: 32561</br>\n",
        "Number of columns: 15</br>\n",
        "Feature names: ['age', 'workclass', 'fnlwgt', 'education', </br> 'education-num', 'marital-status', 'occupation', 'relationship',</br>\n",
        "'race', 'sex', 'capital-gain', 'capital-loss', 'hours-per-week', 'native-country']</br>\n",
        "Target: 'income'\n",
        "\n",
        "Exploratory Data Analysis revealed that null data is represented using '?'.</br> After removing all null data rows, number of non-null rows is 30162.</br>\n",
        "\n",
        "Percentage of people with income <= 50K: 75.92%</br>\n",
        "Percentage of people with income > 50K: 24.08%</br></br>\n",
        "With sklearn's LabelEncoder, converted 'income' column from string to binary,</br> so, 0 represents income <=50K and 1 represents income >50K</br>\n",
        "\n",
        "With 'income' as the Target variable, split the data into train and test sets. Using sklearn, the Receiver Operating Characteristic (ROC) curve and the Area Under the Curve (AUC) metric, studied different models to estimate income per steps below.\n",
        "\n",
        "1. First tried a model that **always predicts majority class** (here it is 0, i.e, <=50K income). This gives an **roc_auc_score of 0.5**. The roc curve of the True Positive Rate (TPR) against the False Positive Rate (FPR) at different threshold values, is a line from (0,0) to (1,1)\n",
        "\n",
        "2. Then, instead of using the majority class, tried **using randint(0, 1)** to pick a random value for the income class. This gives a **similar roc_auc_score of 0.5.**\n",
        "\n",
        "3. Performed some feature engineering using sklearn's **ColumnTransformer** to apply One Hot Encoding to the categorical variables (data type 'object') and MinMaxScaler to the remaining continuous features. With this, **get 104 feature columns.**\n",
        "\n",
        "4. Tried a **keras Sequential model with one hidden layer of 8 neurons** and activation=\"relu\" and a 'sigmoid' activation function at the output. Compiled with optimizer = 'adam'. Since this is a binary classification, used loss = 'binary_crossentropy', metrics = ['accuracy']. This gives an **roc_auc_score of 0.788.**\n",
        "\n",
        "5. Next, tried a **keras Sequential model with 3 hidden layers of 8, 16 and 4 neurons with 16 epochs and batch_size 24**, activation functions \"relu\" and \"leaky_relu\" and at the output, a 'sigmoid' activation function. Compiled with optimizer = 'adam', loss = 'binary_crossentropy', metrics = ['accuracy']. This took a little over a minute to train and **gives an roc_auc_score of 0.782, which is much better than the 0.5 with majority class or random class.** Also noticed that the accuracy value increases are not that significant as it goes up in the epoch count.\n",
        "\n",
        "To keep the results of each run deterministic, initialized the random seed both globally and within the keras model. Primarily used activation function relu and binary_crossentropy for accuracy, since these are good for binary classification problems. Tried different batch sizes (8, 16, 24, 32, 64) and epochs (10..50). Did not see a significant improvement. All seem to settle around 10 epochs without significant improvement in accuracy beyond that.\n",
        "\n",
        "For this dataset, the basic keras model with one hidden layer and that with 3 hidden layers are comparable and give a good auc_roc score around 0.78, which is much better than the 0.5 from the majority always or random class selection models."
      ],
      "metadata": {
        "id": "xQVRBGcGAg36"
      }
    }
  ]
}