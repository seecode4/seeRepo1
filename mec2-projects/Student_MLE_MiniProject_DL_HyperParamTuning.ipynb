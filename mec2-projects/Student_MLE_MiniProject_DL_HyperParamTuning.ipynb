{
  "nbformat": 4,
  "nbformat_minor": 0,
  "metadata": {
    "colab": {
      "provenance": [],
      "authorship_tag": "ABX9TyP9q7v6LHctF2Kmp8uJKZag",
      "include_colab_link": true
    },
    "kernelspec": {
      "name": "python3",
      "display_name": "Python 3"
    },
    "language_info": {
      "name": "python"
    }
  },
  "cells": [
    {
      "cell_type": "markdown",
      "metadata": {
        "id": "view-in-github",
        "colab_type": "text"
      },
      "source": [
        "<a href=\"https://colab.research.google.com/github/seecode4/seeRepo1/blob/main/mec2-projects/Student_MLE_MiniProject_DL_HyperParamTuning.ipynb\" target=\"_parent\"><img src=\"https://colab.research.google.com/assets/colab-badge.svg\" alt=\"Open In Colab\"/></a>"
      ]
    },
    {
      "cell_type": "code",
      "execution_count": 2,
      "metadata": {
        "colab": {
          "base_uri": "https://localhost:8080/"
        },
        "id": "9ceY9kCWTCDK",
        "outputId": "9cb615f8-4ae3-4feb-cc53-0769b6763a73"
      },
      "outputs": [
        {
          "output_type": "stream",
          "name": "stdout",
          "text": [
            "\u001b[2K   \u001b[90m━━━━━━━━━━━━━━━━━━━━━━━━━━━━━━━━━━━━━━━━\u001b[0m \u001b[32m13.3/13.3 MB\u001b[0m \u001b[31m551.0 kB/s\u001b[0m eta \u001b[36m0:00:00\u001b[0m\n",
            "\u001b[?25h"
          ]
        }
      ],
      "source": [
        "!pip install -q scikeras\n",
        "\n",
        "import pandas as pd\n",
        "import numpy as np\n",
        "import time\n",
        "\n",
        "from sklearn.model_selection import train_test_split\n",
        "from sklearn.preprocessing import OneHotEncoder, LabelEncoder\n",
        "from sklearn.preprocessing import MinMaxScaler\n",
        "from sklearn.compose import ColumnTransformer\n",
        "from sklearn.model_selection import train_test_split\n",
        "from sklearn.metrics import roc_auc_score, roc_curve, auc\n",
        "from sklearn.metrics import RocCurveDisplay\n",
        "\n",
        "from keras.models import Sequential\n",
        "from keras.layers import Dense\n",
        "from keras.initializers import RandomNormal, RandomUniform\n",
        "from scikeras.wrappers import KerasClassifier\n",
        "from sklearn.pipeline import Pipeline\n"
      ]
    },
    {
      "cell_type": "code",
      "source": [
        "DATA_PATH = 'https://archive.ics.uci.edu/ml/machine-learning-databases/adult/adult.data'\n",
        "\n",
        "# Download the dataset and load it into a pandas DataFrame\n",
        "df_data = pd.read_csv(DATA_PATH, header=None)"
      ],
      "metadata": {
        "id": "lsOP2rdGTMbF"
      },
      "execution_count": 3,
      "outputs": []
    },
    {
      "cell_type": "code",
      "source": [
        "# Display the first few rows of the DataFrame\n",
        "print(df_data.head())\n",
        "print(df_data.shape)"
      ],
      "metadata": {
        "colab": {
          "base_uri": "https://localhost:8080/"
        },
        "id": "LKhJRh1WTNfg",
        "outputId": "22f57d52-5443-4615-82e0-5aa1ac10cf9d"
      },
      "execution_count": 4,
      "outputs": [
        {
          "output_type": "stream",
          "name": "stdout",
          "text": [
            "   0                  1       2           3   4                    5   \\\n",
            "0  39          State-gov   77516   Bachelors  13        Never-married   \n",
            "1  50   Self-emp-not-inc   83311   Bachelors  13   Married-civ-spouse   \n",
            "2  38            Private  215646     HS-grad   9             Divorced   \n",
            "3  53            Private  234721        11th   7   Married-civ-spouse   \n",
            "4  28            Private  338409   Bachelors  13   Married-civ-spouse   \n",
            "\n",
            "                   6               7       8        9     10  11  12  \\\n",
            "0        Adm-clerical   Not-in-family   White     Male  2174   0  40   \n",
            "1     Exec-managerial         Husband   White     Male     0   0  13   \n",
            "2   Handlers-cleaners   Not-in-family   White     Male     0   0  40   \n",
            "3   Handlers-cleaners         Husband   Black     Male     0   0  40   \n",
            "4      Prof-specialty            Wife   Black   Female     0   0  40   \n",
            "\n",
            "               13      14  \n",
            "0   United-States   <=50K  \n",
            "1   United-States   <=50K  \n",
            "2   United-States   <=50K  \n",
            "3   United-States   <=50K  \n",
            "4            Cuba   <=50K  \n",
            "(32561, 15)\n"
          ]
        }
      ]
    },
    {
      "cell_type": "code",
      "source": [
        "# Ref: https://archive.ics.uci.edu/dataset/2/adult\n",
        "feat_names = ['age', 'workclass', 'fnlwgt', 'education', 'education-num',\n",
        "             'marital-status', 'occupation', 'relationship', 'race', 'sex',\n",
        "             'capital-gain', 'capital-loss', 'hours-per-week', 'native-country',\n",
        "             'income']\n",
        "# Combine both\n",
        "# help(df_data.set_axis)\n",
        "df_raw = df_data.set_axis(feat_names, axis='columns')\n",
        "print(df_raw.head())"
      ],
      "metadata": {
        "colab": {
          "base_uri": "https://localhost:8080/"
        },
        "id": "kVuBWokRTQNg",
        "outputId": "5962165e-87f8-4db2-b85c-490244e1c437"
      },
      "execution_count": 5,
      "outputs": [
        {
          "output_type": "stream",
          "name": "stdout",
          "text": [
            "   age          workclass  fnlwgt   education  education-num  \\\n",
            "0   39          State-gov   77516   Bachelors             13   \n",
            "1   50   Self-emp-not-inc   83311   Bachelors             13   \n",
            "2   38            Private  215646     HS-grad              9   \n",
            "3   53            Private  234721        11th              7   \n",
            "4   28            Private  338409   Bachelors             13   \n",
            "\n",
            "        marital-status          occupation    relationship    race      sex  \\\n",
            "0        Never-married        Adm-clerical   Not-in-family   White     Male   \n",
            "1   Married-civ-spouse     Exec-managerial         Husband   White     Male   \n",
            "2             Divorced   Handlers-cleaners   Not-in-family   White     Male   \n",
            "3   Married-civ-spouse   Handlers-cleaners         Husband   Black     Male   \n",
            "4   Married-civ-spouse      Prof-specialty            Wife   Black   Female   \n",
            "\n",
            "   capital-gain  capital-loss  hours-per-week  native-country  income  \n",
            "0          2174             0              40   United-States   <=50K  \n",
            "1             0             0              13   United-States   <=50K  \n",
            "2             0             0              40   United-States   <=50K  \n",
            "3             0             0              40   United-States   <=50K  \n",
            "4             0             0              40            Cuba   <=50K  \n"
          ]
        }
      ]
    },
    {
      "cell_type": "code",
      "source": [
        "# Do some exploratory analysis. How many rows/columns are there? How are NULL\n",
        "# values represented? What's the percentrage of positive cases in the dataset?\n",
        "num_rows = df_raw.shape[0]\n",
        "num_cols = df_raw.shape[1]\n",
        "print(f\"Number of rows: {num_rows}\")\n",
        "print(f\"Number of columns: {num_cols}\")\n",
        "print(\"Column, i.e, feature names:\\n\", df_raw.columns[0:-1])\n",
        "print(\"Target:\", df_raw.columns[-1], \"\\n\")\n",
        "print(\"Column Data Types:\\n\", df_raw.dtypes)\n",
        "print(\"\\nNumber of isnull:\\n\", df_raw.isnull().sum())\n",
        "print(\"Number of isna:\\n\", df_raw.isna().sum())\n",
        "print(\"\\nValue Counts for each feature:\")\n",
        "for featname in df_raw.columns:\n",
        "  print(f\"\\n-----{featname}-----\\n {df_raw[featname].value_counts()}\")\n",
        "target_value_counts = list(df_raw['income'].value_counts())\n",
        "income_le_50k_pcnt = 100 * target_value_counts[0]/num_rows\n",
        "income_gt_50k_pcnt = 100 * target_value_counts[1]/num_rows\n",
        "print(f\"\\nPercentage of people with income <= 50K: {income_le_50k_pcnt:0.2f}%\")\n",
        "print(f\"Percentage of people with income > 50K: {income_gt_50k_pcnt:0.2f}%\")"
      ],
      "metadata": {
        "colab": {
          "base_uri": "https://localhost:8080/"
        },
        "id": "DdpD4aGTTUOg",
        "outputId": "5220bb24-d443-437f-9c4e-7a500f2436f3"
      },
      "execution_count": 6,
      "outputs": [
        {
          "output_type": "stream",
          "name": "stdout",
          "text": [
            "Number of rows: 32561\n",
            "Number of columns: 15\n",
            "Column, i.e, feature names:\n",
            " Index(['age', 'workclass', 'fnlwgt', 'education', 'education-num',\n",
            "       'marital-status', 'occupation', 'relationship', 'race', 'sex',\n",
            "       'capital-gain', 'capital-loss', 'hours-per-week', 'native-country'],\n",
            "      dtype='object')\n",
            "Target: income \n",
            "\n",
            "Column Data Types:\n",
            " age                int64\n",
            "workclass         object\n",
            "fnlwgt             int64\n",
            "education         object\n",
            "education-num      int64\n",
            "marital-status    object\n",
            "occupation        object\n",
            "relationship      object\n",
            "race              object\n",
            "sex               object\n",
            "capital-gain       int64\n",
            "capital-loss       int64\n",
            "hours-per-week     int64\n",
            "native-country    object\n",
            "income            object\n",
            "dtype: object\n",
            "\n",
            "Number of isnull:\n",
            " age               0\n",
            "workclass         0\n",
            "fnlwgt            0\n",
            "education         0\n",
            "education-num     0\n",
            "marital-status    0\n",
            "occupation        0\n",
            "relationship      0\n",
            "race              0\n",
            "sex               0\n",
            "capital-gain      0\n",
            "capital-loss      0\n",
            "hours-per-week    0\n",
            "native-country    0\n",
            "income            0\n",
            "dtype: int64\n",
            "Number of isna:\n",
            " age               0\n",
            "workclass         0\n",
            "fnlwgt            0\n",
            "education         0\n",
            "education-num     0\n",
            "marital-status    0\n",
            "occupation        0\n",
            "relationship      0\n",
            "race              0\n",
            "sex               0\n",
            "capital-gain      0\n",
            "capital-loss      0\n",
            "hours-per-week    0\n",
            "native-country    0\n",
            "income            0\n",
            "dtype: int64\n",
            "\n",
            "Value Counts for each feature:\n",
            "\n",
            "-----age-----\n",
            " age\n",
            "36    898\n",
            "31    888\n",
            "34    886\n",
            "23    877\n",
            "35    876\n",
            "     ... \n",
            "83      6\n",
            "88      3\n",
            "85      3\n",
            "86      1\n",
            "87      1\n",
            "Name: count, Length: 73, dtype: int64\n",
            "\n",
            "-----workclass-----\n",
            " workclass\n",
            " Private             22696\n",
            " Self-emp-not-inc     2541\n",
            " Local-gov            2093\n",
            " ?                    1836\n",
            " State-gov            1298\n",
            " Self-emp-inc         1116\n",
            " Federal-gov           960\n",
            " Without-pay            14\n",
            " Never-worked            7\n",
            "Name: count, dtype: int64\n",
            "\n",
            "-----fnlwgt-----\n",
            " fnlwgt\n",
            "164190    13\n",
            "203488    13\n",
            "123011    13\n",
            "148995    12\n",
            "121124    12\n",
            "          ..\n",
            "232784     1\n",
            "325573     1\n",
            "140176     1\n",
            "318264     1\n",
            "257302     1\n",
            "Name: count, Length: 21648, dtype: int64\n",
            "\n",
            "-----education-----\n",
            " education\n",
            " HS-grad         10501\n",
            " Some-college     7291\n",
            " Bachelors        5355\n",
            " Masters          1723\n",
            " Assoc-voc        1382\n",
            " 11th             1175\n",
            " Assoc-acdm       1067\n",
            " 10th              933\n",
            " 7th-8th           646\n",
            " Prof-school       576\n",
            " 9th               514\n",
            " 12th              433\n",
            " Doctorate         413\n",
            " 5th-6th           333\n",
            " 1st-4th           168\n",
            " Preschool          51\n",
            "Name: count, dtype: int64\n",
            "\n",
            "-----education-num-----\n",
            " education-num\n",
            "9     10501\n",
            "10     7291\n",
            "13     5355\n",
            "14     1723\n",
            "11     1382\n",
            "7      1175\n",
            "12     1067\n",
            "6       933\n",
            "4       646\n",
            "15      576\n",
            "5       514\n",
            "8       433\n",
            "16      413\n",
            "3       333\n",
            "2       168\n",
            "1        51\n",
            "Name: count, dtype: int64\n",
            "\n",
            "-----marital-status-----\n",
            " marital-status\n",
            " Married-civ-spouse       14976\n",
            " Never-married            10683\n",
            " Divorced                  4443\n",
            " Separated                 1025\n",
            " Widowed                    993\n",
            " Married-spouse-absent      418\n",
            " Married-AF-spouse           23\n",
            "Name: count, dtype: int64\n",
            "\n",
            "-----occupation-----\n",
            " occupation\n",
            " Prof-specialty       4140\n",
            " Craft-repair         4099\n",
            " Exec-managerial      4066\n",
            " Adm-clerical         3770\n",
            " Sales                3650\n",
            " Other-service        3295\n",
            " Machine-op-inspct    2002\n",
            " ?                    1843\n",
            " Transport-moving     1597\n",
            " Handlers-cleaners    1370\n",
            " Farming-fishing       994\n",
            " Tech-support          928\n",
            " Protective-serv       649\n",
            " Priv-house-serv       149\n",
            " Armed-Forces            9\n",
            "Name: count, dtype: int64\n",
            "\n",
            "-----relationship-----\n",
            " relationship\n",
            " Husband           13193\n",
            " Not-in-family      8305\n",
            " Own-child          5068\n",
            " Unmarried          3446\n",
            " Wife               1568\n",
            " Other-relative      981\n",
            "Name: count, dtype: int64\n",
            "\n",
            "-----race-----\n",
            " race\n",
            " White                 27816\n",
            " Black                  3124\n",
            " Asian-Pac-Islander     1039\n",
            " Amer-Indian-Eskimo      311\n",
            " Other                   271\n",
            "Name: count, dtype: int64\n",
            "\n",
            "-----sex-----\n",
            " sex\n",
            " Male      21790\n",
            " Female    10771\n",
            "Name: count, dtype: int64\n",
            "\n",
            "-----capital-gain-----\n",
            " capital-gain\n",
            "0        29849\n",
            "15024      347\n",
            "7688       284\n",
            "7298       246\n",
            "99999      159\n",
            "         ...  \n",
            "1111         1\n",
            "2538         1\n",
            "22040        1\n",
            "4931         1\n",
            "5060         1\n",
            "Name: count, Length: 119, dtype: int64\n",
            "\n",
            "-----capital-loss-----\n",
            " capital-loss\n",
            "0       31042\n",
            "1902      202\n",
            "1977      168\n",
            "1887      159\n",
            "1848       51\n",
            "        ...  \n",
            "2080        1\n",
            "1539        1\n",
            "1844        1\n",
            "2489        1\n",
            "1411        1\n",
            "Name: count, Length: 92, dtype: int64\n",
            "\n",
            "-----hours-per-week-----\n",
            " hours-per-week\n",
            "40    15217\n",
            "50     2819\n",
            "45     1824\n",
            "60     1475\n",
            "35     1297\n",
            "      ...  \n",
            "82        1\n",
            "92        1\n",
            "87        1\n",
            "74        1\n",
            "94        1\n",
            "Name: count, Length: 94, dtype: int64\n",
            "\n",
            "-----native-country-----\n",
            " native-country\n",
            " United-States                 29170\n",
            " Mexico                          643\n",
            " ?                               583\n",
            " Philippines                     198\n",
            " Germany                         137\n",
            " Canada                          121\n",
            " Puerto-Rico                     114\n",
            " El-Salvador                     106\n",
            " India                           100\n",
            " Cuba                             95\n",
            " England                          90\n",
            " Jamaica                          81\n",
            " South                            80\n",
            " China                            75\n",
            " Italy                            73\n",
            " Dominican-Republic               70\n",
            " Vietnam                          67\n",
            " Guatemala                        64\n",
            " Japan                            62\n",
            " Poland                           60\n",
            " Columbia                         59\n",
            " Taiwan                           51\n",
            " Haiti                            44\n",
            " Iran                             43\n",
            " Portugal                         37\n",
            " Nicaragua                        34\n",
            " Peru                             31\n",
            " France                           29\n",
            " Greece                           29\n",
            " Ecuador                          28\n",
            " Ireland                          24\n",
            " Hong                             20\n",
            " Cambodia                         19\n",
            " Trinadad&Tobago                  19\n",
            " Laos                             18\n",
            " Thailand                         18\n",
            " Yugoslavia                       16\n",
            " Outlying-US(Guam-USVI-etc)       14\n",
            " Honduras                         13\n",
            " Hungary                          13\n",
            " Scotland                         12\n",
            " Holand-Netherlands                1\n",
            "Name: count, dtype: int64\n",
            "\n",
            "-----income-----\n",
            " income\n",
            " <=50K    24720\n",
            " >50K      7841\n",
            "Name: count, dtype: int64\n",
            "\n",
            "Percentage of people with income <= 50K: 75.92%\n",
            "Percentage of people with income > 50K: 24.08%\n"
          ]
        }
      ]
    },
    {
      "cell_type": "code",
      "source": [
        "# Find all NULL values and drop them\n",
        "# Check if value_counts match for this check\n",
        "df = df_raw\n",
        "print(\"Unknown Occupation Before drop null:\", (df.loc[:,\"occupation\"].str.strip() == '?').sum())\n",
        "for featname in df.columns:\n",
        "  # string columns are of type 'object'\n",
        "  if (df[featname].dtype == 'object'):\n",
        "    # drop all rows that contain '?' which is the same as NULL here\n",
        "    df = df.drop(df[df[featname].str.strip() == '?'].index)\n",
        "print(\"Unknown Occupation After drop null:\", (df.loc[:,\"occupation\"].str.strip() == '?').sum())\n",
        "\n",
        "print(\"df shape after drop null:\", df.shape)"
      ],
      "metadata": {
        "colab": {
          "base_uri": "https://localhost:8080/"
        },
        "id": "MvbS041ETYeA",
        "outputId": "877c2f0e-b737-427b-cacf-51c17b760ec2"
      },
      "execution_count": 7,
      "outputs": [
        {
          "output_type": "stream",
          "name": "stdout",
          "text": [
            "Unknown Occupation Before drop null: 1843\n",
            "Unknown Occupation After drop null: 0\n",
            "df shape after drop null: (30162, 15)\n"
          ]
        }
      ]
    },
    {
      "cell_type": "code",
      "source": [
        "# Use Scikit-Learn's LabelEncoder to convert the income column with a data type\n",
        "# string to a binary variable.\n",
        "le = LabelEncoder()\n",
        "df['income'] = le.fit_transform(df['income'])\n",
        "print(df['income'].value_counts())"
      ],
      "metadata": {
        "colab": {
          "base_uri": "https://localhost:8080/"
        },
        "id": "cn5_syBqXbI1",
        "outputId": "efe11c42-837a-4ee6-ebfe-fadba65c34f6"
      },
      "execution_count": 8,
      "outputs": [
        {
          "output_type": "stream",
          "name": "stdout",
          "text": [
            "income\n",
            "0    22654\n",
            "1     7508\n",
            "Name: count, dtype: int64\n"
          ]
        }
      ]
    },
    {
      "cell_type": "code",
      "source": [
        "# Split dataset into training and test sets\n",
        "# Lst[ Initial : End : IndexJump ]\n",
        "print(df.columns)\n",
        "X = df.iloc[:, 0:-1]\n",
        "y = df.loc[:, 'income']\n",
        "print(X.shape)\n",
        "print(y.shape)\n",
        "X_train, X_test, y_train, y_test = train_test_split(X, y, test_size=0.2, random_state=1)\n",
        "print(X_train.shape)\n",
        "print(X_test.shape)"
      ],
      "metadata": {
        "colab": {
          "base_uri": "https://localhost:8080/"
        },
        "id": "GdaTDJSdTdfw",
        "outputId": "2eb078f9-5eaa-4d7c-b3a6-2d41e4e9882f"
      },
      "execution_count": 9,
      "outputs": [
        {
          "output_type": "stream",
          "name": "stdout",
          "text": [
            "Index(['age', 'workclass', 'fnlwgt', 'education', 'education-num',\n",
            "       'marital-status', 'occupation', 'relationship', 'race', 'sex',\n",
            "       'capital-gain', 'capital-loss', 'hours-per-week', 'native-country',\n",
            "       'income'],\n",
            "      dtype='object')\n",
            "(30162, 14)\n",
            "(30162,)\n",
            "(24129, 14)\n",
            "(6033, 14)\n"
          ]
        }
      ]
    },
    {
      "cell_type": "code",
      "source": [
        "import tensorflow as tf\n",
        "\n",
        "note=\"\"\" In tensorflow, a random operation relies on two different seeds:\n",
        "a global seed, set by tf.set_random_seed, and\n",
        "an operation seed, provided as an argument to the operation.\n",
        "\"\"\"\n",
        "# Config to make results repeatable/deterministic\n",
        "tf.config.experimental.enable_op_determinism()\n",
        "np.random.seed(1)\n",
        "SEED=43\n",
        "tf.random.set_seed(SEED)\n",
        "tf.keras.utils.set_random_seed(SEED)"
      ],
      "metadata": {
        "id": "ygFVif-iTh6Y"
      },
      "execution_count": 10,
      "outputs": []
    },
    {
      "cell_type": "code",
      "source": [
        "# Use Scikit-Learn's ColumnTransformer to apply One Hot Encoding to the\n",
        "# categorical variables in workclass, education, marital-status, occupation,\n",
        "# relationship, 'race', sex, and native-country. #Also, apply MinMaxScaler to\n",
        "# the remaining continuous features.\n",
        "note = \"\"\"\n",
        "Each transformer is a three-element tuple that defines the name of the transformer,\n",
        " the transform to apply, and the column indices to apply it to.\n",
        "For example:\n",
        "(Name, Object, Columns)\n",
        "transformer = ColumnTransformer(transformers=[('cat', OneHotEncoder(), [0, 1])])\n",
        "\"\"\"\n",
        "dts = X.dtypes\n",
        "\n",
        "def get_col_indexes(df, col_names):\n",
        "  return [df.columns.get_loc(name) for name in col_names]\n",
        "\n",
        "# Categorical features and corresponding column index\n",
        "cat_columns = [k for k,v in dts.items() if (v == 'object')]\n",
        "cat_ix = get_col_indexes(X, cat_columns)\n",
        "\n",
        "# Continuous features and corresponding column index\n",
        "cont_columns = [k for k,v in dts.items() if (v != 'object')]\n",
        "cont_ix = get_col_indexes(X, cont_columns)\n",
        "print(\"cat_ix:\", cat_ix, \" cont_ix:\", cont_ix)\n",
        "\n",
        "# data preparation for categorical and continuous features\n",
        "t = [('cat', OneHotEncoder(handle_unknown='ignore'), cat_ix),\n",
        "     ('cont', MinMaxScaler(), cont_ix)]\n",
        "ct = ColumnTransformer(transformers=t)"
      ],
      "metadata": {
        "colab": {
          "base_uri": "https://localhost:8080/"
        },
        "id": "fOG3FkYKTsni",
        "outputId": "c8c4ee81-353f-43fc-a331-6df4c22d9f32"
      },
      "execution_count": 11,
      "outputs": [
        {
          "output_type": "stream",
          "name": "stdout",
          "text": [
            "cat_ix: [1, 3, 5, 6, 7, 8, 9, 13]  cont_ix: [0, 2, 4, 10, 11, 12]\n"
          ]
        }
      ]
    },
    {
      "cell_type": "code",
      "source": [
        "%%time\n",
        "# Function to create model, required for KerasClassifier\n",
        "def create_model(input_dim, num_layers=2, num_neurons=8, act_function='relu'):\n",
        "  \"\"\"With input_dim given create keras Sequential model with 3 hidden layers of 8, 16 and 8 neurons\"\"\"\n",
        "  # create model\n",
        "  initializer = RandomNormal(mean=0.0, stddev=1.0, seed=SEED)\n",
        "  # initializer = RandomUniform(minval=0.0, maxval=1.0, seed=SEED)\n",
        "  model = Sequential()\n",
        "  model.add(tf.keras.Input(shape=(input_dim,)))\n",
        "  for i in range(num_layers):\n",
        "      model.add(Dense(num_neurons, activation=act_function,\n",
        "                      kernel_initializer=initializer,\n",
        "                      use_bias=False))\n",
        "  model.add(Dense(1, activation='sigmoid', kernel_initializer=initializer,))\n",
        "  # Compile model\n",
        "  model.compile(loss='binary_crossentropy', optimizer='adam', metrics=['accuracy'])\n",
        "  return model"
      ],
      "metadata": {
        "colab": {
          "base_uri": "https://localhost:8080/"
        },
        "id": "owZe8NRZUqDq",
        "outputId": "f3ebaa29-e505-4c7b-fa0b-d19190794df8"
      },
      "execution_count": 12,
      "outputs": [
        {
          "output_type": "stream",
          "name": "stdout",
          "text": [
            "CPU times: user 6 µs, sys: 0 ns, total: 6 µs\n",
            "Wall time: 10 µs\n"
          ]
        }
      ]
    },
    {
      "cell_type": "code",
      "source": [
        "# Basic Model without pipeline\n",
        "\n",
        "# Column Transformer fit transform on X\n",
        "X_trans = ct.fit_transform(X)\n",
        "ct_feat_names = ct.get_feature_names_out()\n",
        "print(X_trans.shape, type(X_trans))\n",
        "print(\"Number of columns after transformation:\", ct_feat_names.shape[0])\n",
        "\n",
        "# Simple keras \"Sequential\" model with 1 hidden layer\n",
        "Xt_train, Xt_test, yt_train, yt_test = train_test_split(X_trans, y, test_size=0.25, random_state=1)\n",
        "print(Xt_train.shape, yt_train.shape)\n",
        "\n",
        "num_feat = Xt_train.shape[1]\n",
        "print(\"Num features in input for model:\", type(num_feat), num_feat)\n",
        "\n",
        "# Define the Keras model\n",
        "basic_model = create_model(num_feat, num_layers=1, num_neurons=8, act_function='relu')\n",
        "basic_model.summary()\n",
        "\n",
        "# Fit to data\n",
        "act_result = basic_model.fit(Xt_train, yt_train, epochs=10, batch_size=64)\n",
        "\n",
        "# Test if the model is well assembled by predicting before training\n",
        "yt_pred = basic_model.predict(Xt_train)\n",
        "print(\"y_pred shape\", yt_pred.shape, \"\\n First 3 values\", yt_pred[0:3])\n",
        "make_bin = lambda val: 1 if val > 0.5 else 0\n",
        "yt_pred_df = pd.DataFrame(np.array([make_bin(yi) for yi in yt_pred]))\n",
        "print(type(yt_pred_df), yt_pred_df.shape, \"\\n\",\n",
        "      yt_pred_df.value_counts(), yt_train.value_counts())\n",
        "\n",
        "# Test, Loss and accuracy\n",
        "loss_and_metrics = basic_model.evaluate(Xt_test, yt_test)\n",
        "print('Loss = ',loss_and_metrics[0])\n",
        "print('Accuracy = ',loss_and_metrics[1])\n",
        "\n",
        "yt_test_pred = basic_model.predict(Xt_test)\n",
        "basic_score = roc_auc_score(yt_test, yt_test_pred)\n",
        "print(f\"\\nroc_auc_score with basic_model: {basic_score:0.3f}\")"
      ],
      "metadata": {
        "colab": {
          "base_uri": "https://localhost:8080/",
          "height": 920
        },
        "id": "JwWj1loqsbXv",
        "outputId": "4c8b42c1-81db-4be5-d833-526f6c9c317f"
      },
      "execution_count": 13,
      "outputs": [
        {
          "output_type": "stream",
          "name": "stdout",
          "text": [
            "(30162, 104) <class 'scipy.sparse._csr.csr_matrix'>\n",
            "Number of columns after transformation: 104\n",
            "(22621, 104) (22621,)\n",
            "Num features in input for model: <class 'int'> 104\n"
          ]
        },
        {
          "output_type": "display_data",
          "data": {
            "text/plain": [
              "\u001b[1mModel: \"sequential\"\u001b[0m\n"
            ],
            "text/html": [
              "<pre style=\"white-space:pre;overflow-x:auto;line-height:normal;font-family:Menlo,'DejaVu Sans Mono',consolas,'Courier New',monospace\"><span style=\"font-weight: bold\">Model: \"sequential\"</span>\n",
              "</pre>\n"
            ]
          },
          "metadata": {}
        },
        {
          "output_type": "display_data",
          "data": {
            "text/plain": [
              "┏━━━━━━━━━━━━━━━━━━━━━━━━━━━━━━━━━━━━━━┳━━━━━━━━━━━━━━━━━━━━━━━━━━━━━┳━━━━━━━━━━━━━━━━━┓\n",
              "┃\u001b[1m \u001b[0m\u001b[1mLayer (type)                        \u001b[0m\u001b[1m \u001b[0m┃\u001b[1m \u001b[0m\u001b[1mOutput Shape               \u001b[0m\u001b[1m \u001b[0m┃\u001b[1m \u001b[0m\u001b[1m        Param #\u001b[0m\u001b[1m \u001b[0m┃\n",
              "┡━━━━━━━━━━━━━━━━━━━━━━━━━━━━━━━━━━━━━━╇━━━━━━━━━━━━━━━━━━━━━━━━━━━━━╇━━━━━━━━━━━━━━━━━┩\n",
              "│ dense (\u001b[38;5;33mDense\u001b[0m)                        │ (\u001b[38;5;45mNone\u001b[0m, \u001b[38;5;34m8\u001b[0m)                   │             \u001b[38;5;34m832\u001b[0m │\n",
              "├──────────────────────────────────────┼─────────────────────────────┼─────────────────┤\n",
              "│ dense_1 (\u001b[38;5;33mDense\u001b[0m)                      │ (\u001b[38;5;45mNone\u001b[0m, \u001b[38;5;34m1\u001b[0m)                   │               \u001b[38;5;34m9\u001b[0m │\n",
              "└──────────────────────────────────────┴─────────────────────────────┴─────────────────┘\n"
            ],
            "text/html": [
              "<pre style=\"white-space:pre;overflow-x:auto;line-height:normal;font-family:Menlo,'DejaVu Sans Mono',consolas,'Courier New',monospace\">┏━━━━━━━━━━━━━━━━━━━━━━━━━━━━━━━━━━━━━━┳━━━━━━━━━━━━━━━━━━━━━━━━━━━━━┳━━━━━━━━━━━━━━━━━┓\n",
              "┃<span style=\"font-weight: bold\"> Layer (type)                         </span>┃<span style=\"font-weight: bold\"> Output Shape                </span>┃<span style=\"font-weight: bold\">         Param # </span>┃\n",
              "┡━━━━━━━━━━━━━━━━━━━━━━━━━━━━━━━━━━━━━━╇━━━━━━━━━━━━━━━━━━━━━━━━━━━━━╇━━━━━━━━━━━━━━━━━┩\n",
              "│ dense (<span style=\"color: #0087ff; text-decoration-color: #0087ff\">Dense</span>)                        │ (<span style=\"color: #00d7ff; text-decoration-color: #00d7ff\">None</span>, <span style=\"color: #00af00; text-decoration-color: #00af00\">8</span>)                   │             <span style=\"color: #00af00; text-decoration-color: #00af00\">832</span> │\n",
              "├──────────────────────────────────────┼─────────────────────────────┼─────────────────┤\n",
              "│ dense_1 (<span style=\"color: #0087ff; text-decoration-color: #0087ff\">Dense</span>)                      │ (<span style=\"color: #00d7ff; text-decoration-color: #00d7ff\">None</span>, <span style=\"color: #00af00; text-decoration-color: #00af00\">1</span>)                   │               <span style=\"color: #00af00; text-decoration-color: #00af00\">9</span> │\n",
              "└──────────────────────────────────────┴─────────────────────────────┴─────────────────┘\n",
              "</pre>\n"
            ]
          },
          "metadata": {}
        },
        {
          "output_type": "display_data",
          "data": {
            "text/plain": [
              "\u001b[1m Total params: \u001b[0m\u001b[38;5;34m841\u001b[0m (3.29 KB)\n"
            ],
            "text/html": [
              "<pre style=\"white-space:pre;overflow-x:auto;line-height:normal;font-family:Menlo,'DejaVu Sans Mono',consolas,'Courier New',monospace\"><span style=\"font-weight: bold\"> Total params: </span><span style=\"color: #00af00; text-decoration-color: #00af00\">841</span> (3.29 KB)\n",
              "</pre>\n"
            ]
          },
          "metadata": {}
        },
        {
          "output_type": "display_data",
          "data": {
            "text/plain": [
              "\u001b[1m Trainable params: \u001b[0m\u001b[38;5;34m841\u001b[0m (3.29 KB)\n"
            ],
            "text/html": [
              "<pre style=\"white-space:pre;overflow-x:auto;line-height:normal;font-family:Menlo,'DejaVu Sans Mono',consolas,'Courier New',monospace\"><span style=\"font-weight: bold\"> Trainable params: </span><span style=\"color: #00af00; text-decoration-color: #00af00\">841</span> (3.29 KB)\n",
              "</pre>\n"
            ]
          },
          "metadata": {}
        },
        {
          "output_type": "display_data",
          "data": {
            "text/plain": [
              "\u001b[1m Non-trainable params: \u001b[0m\u001b[38;5;34m0\u001b[0m (0.00 B)\n"
            ],
            "text/html": [
              "<pre style=\"white-space:pre;overflow-x:auto;line-height:normal;font-family:Menlo,'DejaVu Sans Mono',consolas,'Courier New',monospace\"><span style=\"font-weight: bold\"> Non-trainable params: </span><span style=\"color: #00af00; text-decoration-color: #00af00\">0</span> (0.00 B)\n",
              "</pre>\n"
            ]
          },
          "metadata": {}
        },
        {
          "output_type": "stream",
          "name": "stdout",
          "text": [
            "Epoch 1/10\n",
            "\u001b[1m354/354\u001b[0m \u001b[32m━━━━━━━━━━━━━━━━━━━━\u001b[0m\u001b[37m\u001b[0m \u001b[1m2s\u001b[0m 2ms/step - accuracy: 0.7419 - loss: 0.6281\n",
            "Epoch 2/10\n",
            "\u001b[1m354/354\u001b[0m \u001b[32m━━━━━━━━━━━━━━━━━━━━\u001b[0m\u001b[37m\u001b[0m \u001b[1m1s\u001b[0m 2ms/step - accuracy: 0.7707 - loss: 0.4849\n",
            "Epoch 3/10\n",
            "\u001b[1m354/354\u001b[0m \u001b[32m━━━━━━━━━━━━━━━━━━━━\u001b[0m\u001b[37m\u001b[0m \u001b[1m2s\u001b[0m 3ms/step - accuracy: 0.7877 - loss: 0.4368\n",
            "Epoch 4/10\n",
            "\u001b[1m354/354\u001b[0m \u001b[32m━━━━━━━━━━━━━━━━━━━━\u001b[0m\u001b[37m\u001b[0m \u001b[1m1s\u001b[0m 3ms/step - accuracy: 0.8094 - loss: 0.4029\n",
            "Epoch 5/10\n",
            "\u001b[1m354/354\u001b[0m \u001b[32m━━━━━━━━━━━━━━━━━━━━\u001b[0m\u001b[37m\u001b[0m \u001b[1m1s\u001b[0m 2ms/step - accuracy: 0.8216 - loss: 0.3829\n",
            "Epoch 6/10\n",
            "\u001b[1m354/354\u001b[0m \u001b[32m━━━━━━━━━━━━━━━━━━━━\u001b[0m\u001b[37m\u001b[0m \u001b[1m1s\u001b[0m 2ms/step - accuracy: 0.8271 - loss: 0.3717\n",
            "Epoch 7/10\n",
            "\u001b[1m354/354\u001b[0m \u001b[32m━━━━━━━━━━━━━━━━━━━━\u001b[0m\u001b[37m\u001b[0m \u001b[1m1s\u001b[0m 2ms/step - accuracy: 0.8305 - loss: 0.3647\n",
            "Epoch 8/10\n",
            "\u001b[1m354/354\u001b[0m \u001b[32m━━━━━━━━━━━━━━━━━━━━\u001b[0m\u001b[37m\u001b[0m \u001b[1m1s\u001b[0m 2ms/step - accuracy: 0.8337 - loss: 0.3600\n",
            "Epoch 9/10\n",
            "\u001b[1m354/354\u001b[0m \u001b[32m━━━━━━━━━━━━━━━━━━━━\u001b[0m\u001b[37m\u001b[0m \u001b[1m1s\u001b[0m 2ms/step - accuracy: 0.8357 - loss: 0.3564\n",
            "Epoch 10/10\n",
            "\u001b[1m354/354\u001b[0m \u001b[32m━━━━━━━━━━━━━━━━━━━━\u001b[0m\u001b[37m\u001b[0m \u001b[1m2s\u001b[0m 3ms/step - accuracy: 0.8372 - loss: 0.3536\n",
            "\u001b[1m707/707\u001b[0m \u001b[32m━━━━━━━━━━━━━━━━━━━━\u001b[0m\u001b[37m\u001b[0m \u001b[1m2s\u001b[0m 3ms/step\n",
            "y_pred shape (22621, 1) \n",
            " First 3 values [[0.5420019 ]\n",
            " [0.01367371]\n",
            " [0.68324465]]\n",
            "<class 'pandas.core.frame.DataFrame'> (22621, 1) \n",
            " 0    18056\n",
            "1     4565\n",
            "Name: count, dtype: int64 income\n",
            "0    17012\n",
            "1     5609\n",
            "Name: count, dtype: int64\n",
            "\u001b[1m236/236\u001b[0m \u001b[32m━━━━━━━━━━━━━━━━━━━━\u001b[0m\u001b[37m\u001b[0m \u001b[1m1s\u001b[0m 1ms/step - accuracy: 0.8387 - loss: 0.3495\n",
            "Loss =  0.345775842666626\n",
            "Accuracy =  0.839941680431366\n",
            "\u001b[1m236/236\u001b[0m \u001b[32m━━━━━━━━━━━━━━━━━━━━\u001b[0m\u001b[37m\u001b[0m \u001b[1m1s\u001b[0m 2ms/step\n",
            "\n",
            "roc_auc_score with basic_model: 0.894\n"
          ]
        }
      ]
    },
    {
      "cell_type": "code",
      "source": [
        "%%time\n",
        "# define create_model(input_dim, num_layers=2, num_neurons=8, act_function='relu')\n",
        "\n",
        "# Hpyer parameter Tuning\n",
        "def create_pipeline(m_input_dim, m_nl, m_nn, m_af):\n",
        "  # Create KerasClassifier\n",
        "  kerasclf_model = KerasClassifier(model=create_model, verbose=0,\n",
        "                                   input_dim=m_input_dim,\n",
        "                                   num_layers=m_nl,\n",
        "                                   num_neurons=m_nn,\n",
        "                                   act_function=m_af)\n",
        "  # Create the scikit-learn pipeline\n",
        "  kpipe = Pipeline(steps=[\n",
        "      ('prep', ct),\n",
        "       ('clf', kerasclf_model)\n",
        "       ])\n",
        "  return kpipe"
      ],
      "metadata": {
        "colab": {
          "base_uri": "https://localhost:8080/"
        },
        "id": "a3zqCFF7T5ML",
        "outputId": "4480d18f-e6e1-4042-e5cf-2401ab741d91"
      },
      "execution_count": 28,
      "outputs": [
        {
          "output_type": "stream",
          "name": "stdout",
          "text": [
            "CPU times: user 6 µs, sys: 0 ns, total: 6 µs\n",
            "Wall time: 9.3 µs\n"
          ]
        }
      ]
    },
    {
      "cell_type": "code",
      "source": [
        "%%time\n",
        "import time\n",
        "\n",
        "# With given hyperparam list fit, predict and get roc_auc_score\n",
        "def kpipe_fit_pred_score(n_ep, n_bsize, num_pipe_feat, m_nl, m_nn, m_af):\n",
        "  \"\"\"Expect X_train, X_test, y_train, y_test already there;\n",
        "  create_pipeline, fit, predict and get roc_auc_score \"\"\"\n",
        "  print(f\"Tune with epochs={n_ep}  batch_size={n_bsize}\",\n",
        "        f\"nlayers={m_nl}  nunits={m_nn} actfunc={m_af}\")\n",
        "  kpipe = create_pipeline(num_pipe_feat, m_nl, m_nn, m_af)\n",
        "  start_time = time.time()\n",
        "  # fit data to pipeline model\n",
        "  history = kpipe.fit(X_train, y_train,\n",
        "                      clf__epochs=n_ep, clf__batch_size=n_bsize)\n",
        "  # time to train\n",
        "  kclf_exectime = (time.time() - start_time)\n",
        "  # predict test data\n",
        "  y_test_pipe_pred = kpipe.predict(X_test)\n",
        "  # get roc_auc_score\n",
        "  kclf_score = (roc_auc_score(y_test, y_test_pipe_pred))\n",
        "  return kclf_score, kclf_exectime"
      ],
      "metadata": {
        "colab": {
          "base_uri": "https://localhost:8080/"
        },
        "id": "n3KT4YgxtWUv",
        "outputId": "5357a218-dcae-4faf-8d2f-ddd2265cce7b"
      },
      "execution_count": 29,
      "outputs": [
        {
          "output_type": "stream",
          "name": "stdout",
          "text": [
            "CPU times: user 9 µs, sys: 0 ns, total: 9 µs\n",
            "Wall time: 12.4 µs\n"
          ]
        }
      ]
    },
    {
      "cell_type": "code",
      "source": [
        "# Try differen values for\n",
        "# [n_epochs, n_batchsize, num_pipe_feat, m_nlayers, m_nunits, m_actfunc]\n",
        "X_train, X_test, y_train, y_test = train_test_split(X, y, test_size=0.2, random_state=1)\n",
        "print(X_train.shape, y_train.shape)\n",
        "\n",
        "hplist1 = [[10, 64, 1, 8, 'relu'],\n",
        " [40, 64, 3, 8, 'relu'], [40, 64, 3, 8, 'sigmoid'],\n",
        "  [80, 64, 2, 16, 'relu'],\n",
        "  [100, 128, 2, 32, 'sigmoid']]\n",
        "kclf_scores = []\n",
        "kclf_exectimes = []\n",
        "num_pipe_feat = 104\n",
        "numsets1 = len(hplist1)\n",
        "print(\"Number of hyperparam sets:\", numsets)\n",
        "for i in range(numsets1):\n",
        "  hp = hplist1[i]\n",
        "  kclf_score, kclf_exectime = kpipe_fit_pred_score(hp[0], hp[1],\n",
        "                                                   num_pipe_feat,\n",
        "                                                   hp[2], hp[3], hp[4])\n",
        "  kclf_scores.append(kclf_score)\n",
        "  kclf_exectimes.append(kclf_exectime)\n",
        "  print(f\"Model Index: {i}, epochs={hp[0]}  batch_size={hp[1]}\",\n",
        "        f\"nlayers={hp[2]}  nunits={hp[3]}  actfunc={hp[4]}\",\n",
        "        f\"score={kclf_scores[i]:0.4f} exectime={kclf_exectimes[i]:0.4f}\")"
      ],
      "metadata": {
        "colab": {
          "base_uri": "https://localhost:8080/"
        },
        "id": "jYY7q_gX_MfY",
        "outputId": "810340a6-5368-482f-d4f6-59b867b314f4"
      },
      "execution_count": 39,
      "outputs": [
        {
          "output_type": "stream",
          "name": "stdout",
          "text": [
            "(24129, 14) (24129,)\n",
            "Number of hyperparam sets: 5\n",
            "Tune with epochs=10  batch_size=64 nlayers=1  nunits=8 actfunc=relu\n",
            "Model Index: 0, epochs=10  batch_size=64 nlayers=1  nunits=8  actfunc=relu score=0.7638 exectime=17.2720\n",
            "Tune with epochs=40  batch_size=64 nlayers=3  nunits=8 actfunc=relu\n",
            "Model Index: 1, epochs=40  batch_size=64 nlayers=3  nunits=8  actfunc=relu score=0.7918 exectime=50.6379\n",
            "Tune with epochs=40  batch_size=64 nlayers=3  nunits=8 actfunc=sigmoid\n",
            "Model Index: 2, epochs=40  batch_size=64 nlayers=3  nunits=8  actfunc=sigmoid score=0.7926 exectime=49.6297\n",
            "Tune with epochs=80  batch_size=64 nlayers=2  nunits=16 actfunc=relu\n",
            "Model Index: 3, epochs=80  batch_size=64 nlayers=2  nunits=16  actfunc=relu score=0.7911 exectime=90.8407\n",
            "Tune with epochs=100  batch_size=128 nlayers=2  nunits=32 actfunc=sigmoid\n",
            "Model Index: 4, epochs=100  batch_size=128 nlayers=2  nunits=32  actfunc=sigmoid score=0.7889 exectime=64.0505\n"
          ]
        }
      ]
    },
    {
      "cell_type": "code",
      "source": [
        "hplist2 = [[24, 64, 2, 4, 'sigmoid'], [24, 128, 2, 8, 'sigmoid'],\n",
        "           [32, 64, 3, 8, 'relu'], [32, 72, 2, 6, 'relu'],\n",
        "            [32, 64, 3, 6, 'sigmoid'], [32, 128, 2, 4, 'sigmoid'],\n",
        "             [40, 72, 3, 8, 'relu']]\n",
        "num_pipe_feat = 104\n",
        "numsets2 = len(hplist2)\n",
        "hplist\n",
        "print(\"Number of hyperparam sets:\", numsets)\n",
        "for i in range(numsets2):\n",
        "  hp = hplist2[i]\n",
        "  kclf_score, kclf_exectime = kpipe_fit_pred_score(hp[0], hp[1],\n",
        "                                                   num_pipe_feat,\n",
        "                                                   hp[2], hp[3], hp[4])\n",
        "  kclf_scores.append(kclf_score)\n",
        "  kclf_exectimes.append(kclf_exectime)\n",
        "  print(f\"Model Index: {i+numsets1}, epochs={hp[0]}  batch_size={hp[1]}\",\n",
        "        f\"nlayers={hp[2]}  nunits={hp[3]}  actfunc={hp[4]}\",\n",
        "        f\"score={kclf_scores[i]:0.4f} exectime={kclf_exectimes[i]:0.4f}\")"
      ],
      "metadata": {
        "colab": {
          "base_uri": "https://localhost:8080/"
        },
        "id": "gwuL3K-f3IGX",
        "outputId": "0eebd5ef-3d11-43f0-e5be-2e1efffeddb0"
      },
      "execution_count": 40,
      "outputs": [
        {
          "output_type": "stream",
          "name": "stdout",
          "text": [
            "Number of hyperparam sets: 5\n",
            "Tune with epochs=24  batch_size=64 nlayers=2  nunits=4 actfunc=sigmoid\n",
            "Model Index: 5, epochs=24  batch_size=64 nlayers=2  nunits=4  actfunc=sigmoid score=0.7638 exectime=17.2720\n",
            "Tune with epochs=24  batch_size=128 nlayers=2  nunits=8 actfunc=sigmoid\n",
            "Model Index: 6, epochs=24  batch_size=128 nlayers=2  nunits=8  actfunc=sigmoid score=0.7918 exectime=50.6379\n",
            "Tune with epochs=32  batch_size=64 nlayers=3  nunits=8 actfunc=relu\n",
            "Model Index: 7, epochs=32  batch_size=64 nlayers=3  nunits=8  actfunc=relu score=0.7926 exectime=49.6297\n",
            "Tune with epochs=32  batch_size=72 nlayers=2  nunits=6 actfunc=relu\n",
            "Model Index: 8, epochs=32  batch_size=72 nlayers=2  nunits=6  actfunc=relu score=0.7911 exectime=90.8407\n",
            "Tune with epochs=32  batch_size=64 nlayers=3  nunits=6 actfunc=sigmoid\n",
            "Model Index: 9, epochs=32  batch_size=64 nlayers=3  nunits=6  actfunc=sigmoid score=0.7889 exectime=64.0505\n",
            "Tune with epochs=32  batch_size=128 nlayers=2  nunits=4 actfunc=sigmoid\n",
            "Model Index: 10, epochs=32  batch_size=128 nlayers=2  nunits=4  actfunc=sigmoid score=0.7765 exectime=29.4155\n",
            "Tune with epochs=40  batch_size=72 nlayers=3  nunits=8 actfunc=relu\n",
            "Model Index: 11, epochs=40  batch_size=72 nlayers=3  nunits=8  actfunc=relu score=0.7725 exectime=15.8813\n"
          ]
        }
      ]
    },
    {
      "cell_type": "code",
      "source": [
        "# Scores with different tries\n",
        "for i in range(numsets):\n",
        "  if (kclf_scores[i] > 0.7):\n",
        "      print(f\"Model Index: {i}, epochs={hplist[i][0]}  batch_size={hplist[i][1]}\",\n",
        "            f\"  nlayers={hplist[i][2]}  nunits={hplist[i][3]}  \",\n",
        "            f\"score={kclf_scores[i]:0.4f}  exectime={kclf_exectimes[i]:0.4f}\")"
      ],
      "metadata": {
        "colab": {
          "base_uri": "https://localhost:8080/"
        },
        "id": "LZNZzCy-Vrih",
        "outputId": "3afda0b5-0f3f-49c0-8205-7e48b6da8a63"
      },
      "execution_count": 35,
      "outputs": [
        {
          "output_type": "stream",
          "name": "stdout",
          "text": [
            "Model Index: 0, epochs=10  batch_size=64   nlayers=1  nunits=8   score=0.7638  exectime=13.9630\n",
            "Model Index: 1, epochs=40  batch_size=64   nlayers=3  nunits=8   score=0.7918  exectime=52.9616\n",
            "Model Index: 2, epochs=40  batch_size=64   nlayers=3  nunits=8   score=0.7926  exectime=51.8629\n",
            "Model Index: 3, epochs=80  batch_size=64   nlayers=2  nunits=16   score=0.7911  exectime=94.3462\n",
            "Model Index: 4, epochs=100  batch_size=128   nlayers=2  nunits=32   score=0.7889  exectime=67.1134\n"
          ]
        }
      ]
    },
    {
      "cell_type": "markdown",
      "source": [
        "## Summary:\n",
        "This is a continuation of the mini project on Deep Learning with the Adult income dataset, focusing on hyper parameter tuning.\n",
        "\n",
        "Have the following:\n",
        " *  ColumnTransformer with OneHotEncoder for categorical features and MinMaxScaler for continuous features.\n",
        " *  function create_model(input_dim, num_layers=2, num_neurons=8, act_function='relu'), that returns a model to use\n",
        " *  function create_pipeline(m_input_dim, m_nl, m_nn, m_af), that creates a pipeline to preprocess with the ColumnTransformer followed by create_model\n",
        " *  function kpipe_fit_pred_score(n_ep, n_bsize, num_pipe_feat, m_nl, m_nn, m_af), that uses the pipeline to create the model, fits training data to given epochs and batch_sizes, predicts on the test data and returns the roc_auc_score and time to do the fit\n",
        "\n",
        "With these\n",
        " *  First tried to ColumnTransform X followed by create_model for a **basic model with num_layers=1, num_neurons=8, act_function='relu'; then fit with epochs=10 and batch_size=64. roc_auc_score with basic_model: 0.894**\n",
        " *  Created lists with different combinations of [n_epochs, n_batchsize, m_nlayers, m_nunits, m_activationfunctions]. With this, **best roc_auc_score is 0.7926 with**\n",
        "    **epochs=32  batch_size=64 nlayers=3  nunits=8  actfunc=relu score=0.7926 **\n",
        "    **epochs=40  batch_size=64 nlayers=3  nunits=8  actfunc=sigmoid score=0.7926 **\n",
        "\n",
        "**With the pipeline,** </br>\n",
        "**epochs=10  batch_size=64 nlayers=1  nunits=8  actfunc=relu score=0.7638** </br>\n",
        "Without the pipeline, where the ColumnTransform is on the entire X (not Xtrain and Xtest separately), the basic model gives a much better roc_auc_score of 0.894 for the same set of parameters.\n",
        "\n"
      ],
      "metadata": {
        "id": "NG4YK8KN_2kh"
      }
    }
  ]
}