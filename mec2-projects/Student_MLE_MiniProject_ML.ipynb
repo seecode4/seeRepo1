{
  "cells": [
    {
      "cell_type": "markdown",
      "metadata": {
        "id": "view-in-github",
        "colab_type": "text"
      },
      "source": [
        "<a href=\"https://colab.research.google.com/github/seecode4/seeRepo1/blob/main/mec2-projects/Student_MLE_MiniProject_ML.ipynb\" target=\"_parent\"><img src=\"https://colab.research.google.com/assets/colab-badge.svg\" alt=\"Open In Colab\"/></a>"
      ]
    },
    {
      "cell_type": "markdown",
      "metadata": {
        "id": "Yzr5Eo_qxHQi"
      },
      "source": [
        "# Mini Project: Build a Machine Learning Model"
      ]
    },
    {
      "cell_type": "markdown",
      "metadata": {
        "id": "_NvUsqw8xg26"
      },
      "source": [
        "## Predict Total Fare on the NYC Taxi Dataset\n",
        "\n",
        "Welcome to the NYC Taxi Fare Prediction project! In this Colab, we will continue using the NYC Taxi Dataset to predict the fare amount for taxi rides using a subset of available features. We will go through three main stages: building a baseline model, creating a full model, and performing hyperparameter tuning to enhance our predictions.\n",
        "\n",
        "Now that you've completed exploratory data analysis on this dataset you should have a good understanding of the feature space.\n",
        "\n",
        "## Project Objectives\n",
        "\n",
        "The primary objectives of this project are as follows:\n",
        "\n",
        "Baseline Model: We will start by building a simple baseline model to establish a benchmark for our predictions. This model will serve as a starting point to compare the performance of our subsequent models.\n",
        "\n",
        "Full Model: Next, we will develop a more comprehensive model that leverages machine learning techniques to improve prediction accuracy. We will use Scikit-Learn's model pipeline to build a framework that enables rapid experimentation.\n",
        "\n",
        "Hyperparameter Tuning: Lastly, we will optimize our full model by fine-tuning its hyperparameters. By systematically adjusting the parameters that control model behavior, we aim to achieve the best possible performance for our prediction task."
      ]
    },
    {
      "cell_type": "code",
      "execution_count": 1,
      "metadata": {
        "id": "lbJFWLELlI6N"
      },
      "outputs": [],
      "source": [
        "import pandas as pd\n",
        "import numpy as np\n",
        "import matplotlib.pyplot as plt\n",
        "import time\n",
        "from sklearn.model_selection import train_test_split, GridSearchCV\n",
        "from sklearn.metrics import mean_absolute_error\n",
        "\n",
        "from sklearn.pipeline import Pipeline\n",
        "from sklearn.preprocessing import StandardScaler, OneHotEncoder, FunctionTransformer\n",
        "from sklearn.compose import ColumnTransformer\n",
        "from sklearn.linear_model import LinearRegression\n",
        "from sklearn.ensemble import RandomForestRegressor"
      ]
    },
    {
      "cell_type": "markdown",
      "metadata": {
        "id": "gJtGZwwG2WTW"
      },
      "source": [
        "Load the NYC taxi dataset into a Pandas DataFrame and do a few basic checks to ensure the data is loaded properly. Note, there are several months of data that can be used. For simplicity, use the Yellow Taxi 2022-01 parquet file [here](https://d37ci6vzurychx.cloudfront.net/trip-data/yellow_tripdata_2022-01.parquet). Here are your tasks:\n",
        "\n",
        "  1. Load the `yellow_tripdata_2022-01.parquet` file into Pandas.\n",
        "  2. Print the first 5 rows of data.\n",
        "  3. Drop any rows of data that contain NULL values.\n",
        "  4. Create a new feature, 'trip_duration' that captures the duration of the trip in minutes.\n",
        "  5. Create a varible named 'target_variable' to store the name of the thing we're trying to predict, 'total_amount'.\n",
        "  6. Create a list called 'feature_cols' containing the feature names that we'll be using to predict our target variable. The list should contain 'VendorID', 'trip_distance', 'payment_type', 'PULocationID', 'DOLocationID', and 'trip_duration'."
      ]
    },
    {
      "cell_type": "code",
      "execution_count": 2,
      "metadata": {
        "id": "db--eb8zlNNg"
      },
      "outputs": [],
      "source": [
        "# Load the dataset into a pandas DataFrame (from https://www.nyc.gov/site/tlc/about/tlc-trip-record-data.page)\n",
        "# url = \"https://www.nyc.gov/site/tlc/about/data.page/yellow_tripdata_2022-01.parquet\"\n",
        "# Feature Info: https://www.nyc.gov/assets/tlc/downloads/pdf/data_dictionary_trip_records_yellow.pdf\n",
        "url = \"https://d37ci6vzurychx.cloudfront.net/trip-data/yellow_tripdata_2022-01.parquet\"\n",
        "df_raw = pd.read_parquet(url)"
      ]
    },
    {
      "cell_type": "code",
      "execution_count": 3,
      "metadata": {
        "colab": {
          "base_uri": "https://localhost:8080/"
        },
        "id": "TslBuHoXl_o1",
        "outputId": "779df9cc-2196-4069-88b5-feb9cd21e392"
      },
      "outputs": [
        {
          "output_type": "stream",
          "name": "stdout",
          "text": [
            "   VendorID tpep_pickup_datetime tpep_dropoff_datetime  passenger_count  \\\n",
            "0         1  2022-01-01 00:35:40   2022-01-01 00:53:29              2.0   \n",
            "1         1  2022-01-01 00:33:43   2022-01-01 00:42:07              1.0   \n",
            "2         2  2022-01-01 00:53:21   2022-01-01 01:02:19              1.0   \n",
            "3         2  2022-01-01 00:25:21   2022-01-01 00:35:23              1.0   \n",
            "4         2  2022-01-01 00:36:48   2022-01-01 01:14:20              1.0   \n",
            "\n",
            "   trip_distance  RatecodeID store_and_fwd_flag  PULocationID  DOLocationID  \\\n",
            "0           3.80         1.0                  N           142           236   \n",
            "1           2.10         1.0                  N           236            42   \n",
            "2           0.97         1.0                  N           166           166   \n",
            "3           1.09         1.0                  N           114            68   \n",
            "4           4.30         1.0                  N            68           163   \n",
            "\n",
            "   payment_type  fare_amount  extra  mta_tax  tip_amount  tolls_amount  \\\n",
            "0             1         14.5    3.0      0.5        3.65           0.0   \n",
            "1             1          8.0    0.5      0.5        4.00           0.0   \n",
            "2             1          7.5    0.5      0.5        1.76           0.0   \n",
            "3             2          8.0    0.5      0.5        0.00           0.0   \n",
            "4             1         23.5    0.5      0.5        3.00           0.0   \n",
            "\n",
            "   improvement_surcharge  total_amount  congestion_surcharge  airport_fee  \n",
            "0                    0.3         21.95                   2.5          0.0  \n",
            "1                    0.3         13.30                   0.0          0.0  \n",
            "2                    0.3         10.56                   0.0          0.0  \n",
            "3                    0.3         11.80                   2.5          0.0  \n",
            "4                    0.3         30.30                   2.5          0.0  \n"
          ]
        }
      ],
      "source": [
        "# Display the first few rows of the dataset\n",
        "print(df_raw.head(5))"
      ]
    },
    {
      "cell_type": "code",
      "execution_count": 4,
      "metadata": {
        "colab": {
          "base_uri": "https://localhost:8080/"
        },
        "id": "4ybS7HV6HHQL",
        "outputId": "4430a905-bca4-4452-9d96-60be10fac986"
      },
      "outputs": [
        {
          "output_type": "stream",
          "name": "stdout",
          "text": [
            "VendorID                     0\n",
            "tpep_pickup_datetime         0\n",
            "tpep_dropoff_datetime        0\n",
            "passenger_count          71503\n",
            "trip_distance                0\n",
            "RatecodeID               71503\n",
            "store_and_fwd_flag       71503\n",
            "PULocationID                 0\n",
            "DOLocationID                 0\n",
            "payment_type                 0\n",
            "fare_amount                  0\n",
            "extra                        0\n",
            "mta_tax                      0\n",
            "tip_amount                   0\n",
            "tolls_amount                 0\n",
            "improvement_surcharge        0\n",
            "total_amount                 0\n",
            "congestion_surcharge     71503\n",
            "airport_fee              71503\n",
            "dtype: int64\n",
            "(2463931, 19)\n",
            "(2392428, 19)\n"
          ]
        }
      ],
      "source": [
        "# Drop rows with missing values.\n",
        "print(df_raw.isnull().sum())\n",
        "df = df_raw.dropna()\n",
        "print(df_raw.shape)\n",
        "print(df.shape)"
      ]
    },
    {
      "cell_type": "code",
      "execution_count": 6,
      "metadata": {
        "colab": {
          "base_uri": "https://localhost:8080/"
        },
        "id": "ZC4p9PEjnSm8",
        "outputId": "18d9e09c-26c6-4f9d-f735-6e7d3ea32bef"
      },
      "outputs": [
        {
          "output_type": "stream",
          "name": "stdout",
          "text": [
            "  tpep_dropoff_datetime tpep_pickup_datetime  trip_duration\n",
            "0   2022-01-01 00:53:29  2022-01-01 00:35:40          17.82\n",
            "1   2022-01-01 00:42:07  2022-01-01 00:33:43           8.40\n",
            "2   2022-01-01 01:02:19  2022-01-01 00:53:21           8.97\n",
            "3   2022-01-01 00:35:23  2022-01-01 00:25:21          10.03\n",
            "4   2022-01-01 01:14:20  2022-01-01 00:36:48          37.53\n"
          ]
        }
      ],
      "source": [
        "# Create new feature, 'trip_duration'.\n",
        "# without .loc get Warning - A value is trying to be set on a copy of a slice from a DataFrame.\n",
        "df.loc[:,'trip_duration'] = ((df.loc[:,'tpep_dropoff_datetime']\n",
        "                        - df.loc[:,'tpep_pickup_datetime']).dt.total_seconds()/60).round(2)\n",
        "print(df[['tpep_dropoff_datetime', 'tpep_pickup_datetime', 'trip_duration']].head())"
      ]
    },
    {
      "cell_type": "code",
      "execution_count": 7,
      "metadata": {
        "id": "lzaraluuyLfz"
      },
      "outputs": [],
      "source": [
        "# Create 'target_variable' to store the name of the thing we're trying to predict, 'total_amount'\n",
        "y = df[['total_amount']]"
      ]
    },
    {
      "cell_type": "code",
      "execution_count": 8,
      "metadata": {
        "colab": {
          "base_uri": "https://localhost:8080/"
        },
        "id": "R5d84tINrG9d",
        "outputId": "77e4c97a-6728-42d3-d117-fc2484000ef1"
      },
      "outputs": [
        {
          "output_type": "stream",
          "name": "stdout",
          "text": [
            "<class 'pandas.core.frame.DataFrame'> (2392428, 6)\n",
            "<class 'pandas.core.frame.DataFrame'> (2392428, 1)\n",
            "   VendorID  trip_distance  payment_type  PULocationID  DOLocationID  \\\n",
            "0         1           3.80             1           142           236   \n",
            "1         1           2.10             1           236            42   \n",
            "2         2           0.97             1           166           166   \n",
            "3         2           1.09             2           114            68   \n",
            "4         2           4.30             1            68           163   \n",
            "\n",
            "   trip_duration  \n",
            "0          17.82  \n",
            "1           8.40  \n",
            "2           8.97  \n",
            "3          10.03  \n",
            "4          37.53  \n"
          ]
        }
      ],
      "source": [
        "# Create a list called feature_col to store specified column names\n",
        "feature_col = ['VendorID', 'trip_distance', 'payment_type', 'PULocationID',\n",
        "               'DOLocationID', 'trip_duration']\n",
        "X = df[feature_col]\n",
        "print(type(X), X.shape)\n",
        "print(type(y), y.shape)\n",
        "print(X.head())"
      ]
    },
    {
      "cell_type": "markdown",
      "metadata": {
        "id": "eq2kgevn51LY"
      },
      "source": [
        "Splitting a dataset into training and test sets is a crucial step in machine learning model development. It allows us to evaluate the performance and generalization ability of our models accurately. The training set is used to train the model, while the test set serves as an independent sample for evaluating its performance.\n",
        "\n",
        "1. **Model Training**: The training set is used to fit the model, allowing it to learn the underlying patterns and relationships between the features and the target variable. By exposing the model to a diverse range of examples in the training set, it can capture the underlying structure of the data.\n",
        "\n",
        "2. **Model Evaluation**: The test set, which is independent of the training set, is crucial for evaluating how well the trained model generalizes to unseen data. It provides an unbiased assessment of the model's performance on new instances. By measuring the model's accuracy, precision, recall, or other evaluation metrics on the test set, we can estimate how well the model will perform on unseen data.\n",
        "\n",
        "3. **Preventing Overfitting**: Overfitting occurs when a model learns the training data's noise and idiosyncrasies instead of the underlying patterns. By evaluating the model on the test set, we can identify if the model is overfitting. If the model performs significantly worse on the test set compared to the training set, it indicates overfitting. In such cases, we might need to adjust the model, feature selection, or regularization techniques to improve generalization.\n",
        "\n",
        "4. **Hyperparameter Tuning**: Splitting the dataset allows us to perform hyperparameter tuning on the model. Hyperparameters are configuration settings that control the learning process, such as learning rate, regularization strength, or the number of hidden layers in a neural network. By using a validation set (often created from a portion of the training set), we can iteratively adjust the hyperparameters and select the best combination that maximizes the model's performance on the validation set. The final evaluation on the test set provides an unbiased estimate of the model's performance.\n",
        "\n",
        "By splitting the dataset into training and test sets, we can ensure that our models are both well-trained and accurately evaluated. This separation helps us understand how the model will perform on new, unseen data, which is critical for assessing its effectiveness and making informed decisions about its deployment.\n",
        "\n",
        "Here is your task:\n",
        "\n",
        "  1. Use Scikit-Learn's [train_test_split](https://scikit-learn.org/stable/modules/generated/sklearn.model_selection.train_test_split.html) to split the data into training and test sets. Don't forget to set the random state."
      ]
    },
    {
      "cell_type": "code",
      "execution_count": 9,
      "metadata": {
        "id": "grdbA-I6rMGC"
      },
      "outputs": [],
      "source": [
        "# Split dataset into training and test sets\n",
        "X_train, X_test, y_train, y_test = train_test_split(X, y, test_size=0.2,\n",
        "                                                    random_state=1)"
      ]
    },
    {
      "cell_type": "code",
      "execution_count": 10,
      "metadata": {
        "id": "9_Nt3mSpsRyU"
      },
      "outputs": [],
      "source": [
        "# import inspect\n",
        "# print(inspect.getsource(train_test_split))\n",
        "# print(inspect.getsource(LinearRegression))"
      ]
    },
    {
      "cell_type": "markdown",
      "metadata": {
        "id": "VIAhf_oA7PGx"
      },
      "source": [
        "The importance of a baseline model, even if it uses a simple strategy like always predicting the mean, cannot be understated. Here's why a baseline model is valuable:\n",
        "\n",
        "1. **Performance Comparison**: A baseline model serves as a reference point for evaluating the performance of more sophisticated models. By establishing a simple yet reasonable baseline, we can determine whether our advanced models offer any significant improvement over this basic approach. It helps us set realistic expectations and gauge the effectiveness of our efforts.\n",
        "\n",
        "2. **Model Complexity**: A baseline model provides insight into the complexity required to solve the prediction task. If a simple strategy like predicting the median performs reasonably well, it suggests that the problem might not necessitate complex modeling techniques. Conversely, if the baseline model performs poorly, it indicates the presence of more intricate patterns that need to be captured by more sophisticated models.\n",
        "\n",
        "3. **Minimum Performance Requirement**: A baseline model can establish a minimum performance requirement for a predictive task. If we cannot outperform the baseline, it suggests that our models have failed to capture even the most fundamental relationships within the data. In such cases, we may need to revisit our data preprocessing steps, feature engineering techniques, or consider other external factors affecting the task.\n",
        "\n",
        "4. **Identifying Data Issues**: A baseline model can help identify potential issues within the dataset. If the baseline model performs poorly, it may indicate problems like missing values, outliers, or data inconsistencies. These issues can be further investigated and resolved to improve the overall model performance.\n",
        "\n",
        "While a baseline model like always predicting the median may not offer the highest prediction accuracy, its importance lies in its role as a starting point for model development and evaluation. It provides a solid foundation for comparing and assessing the performance of more complex models, ensuring that any improvements made are meaningful and significant.\n",
        "\n",
        "Here is your task:\n",
        "\n",
        "  1. Create a model that always predicts the mean total fare of the training dataset. Use Scikit-Learn's [mean_absolute_error](https://scikit-learn.org/stable/modules/generated/sklearn.metrics.mean_absolute_error.html) to evaluate this model. Is it any good?"
      ]
    },
    {
      "cell_type": "code",
      "execution_count": 11,
      "metadata": {
        "colab": {
          "base_uri": "https://localhost:8080/"
        },
        "id": "6vV1UsNTFX22",
        "outputId": "9c05e101-4abd-42d2-c87b-2ae16bd94e17"
      },
      "outputs": [
        {
          "output_type": "stream",
          "name": "stdout",
          "text": [
            "y_train_mean: total_amount    19.062666\n",
            "dtype: float64\n",
            "Mean Absolute Error: 9.19\n"
          ]
        }
      ],
      "source": [
        "# Create a baseline for mean absolute error of total amount\n",
        "y_train_mean = y_train.mean()\n",
        "print(\"y_train_mean:\", y_train_mean)\n",
        "\n",
        "# Note predicted value is the same for the whole array\n",
        "y_test_pred = np.full(shape=y_test.shape, fill_value=y_train_mean)\n",
        "# print(y_test.head(10))\n",
        "\n",
        "# Get mean absolute error of total amount in y_test\n",
        "y_test_mae = mean_absolute_error(y_test, y_test_pred)\n",
        "print(\"Mean Absolute Error:\", round(y_test_mae, 2))"
      ]
    },
    {
      "cell_type": "markdown",
      "metadata": {
        "id": "sCKDGKpg8MVb"
      },
      "source": [
        "With a baseline metric in place, we can try to build a machine learning model. Obviously, if the model can't beat the baseline then there are some major issues to be resolved.\n",
        "\n",
        "It's always a good idea to start with a simple machine learning model, like linear regression, and build upon it if necessary.\n",
        "\n",
        "Here are your tasks:\n",
        "\n",
        "  1. Use Scikit-Learn's [ColumnTransformer](https://scikit-learn.org/stable/modules/generated/sklearn.compose.ColumnTransformer.html) to preprocess the categorical and continuous features independently. Apply the [StandardScaler](https://scikit-learn.org/stable/modules/generated/sklearn.preprocessing.StandardScaler.html) to the continuous columns and [OneHotEncoder](https://scikit-learn.org/stable/modules/generated/sklearn.preprocessing.OneHotEncoder.html) to the categorical columns.\n",
        "\n",
        "  One-hot encoding is a popular technique used to represent categorical variables numerically in machine learning models. It transforms categorical features into a binary vector representation, where each category is represented by a binary column. Here's an explanation of one-hot encoding:\n",
        "\n",
        "  When working with categorical variables, such as colors (e.g., red, blue, green) or vehicle types (e.g., car, truck, motorcycle), machine learning algorithms often require numerical inputs. However, directly assigning numerical values to categories can introduce unintended relationships or orderings between them. For example, assigning the values 0, 1, and 2 to the categories red, blue, and green may imply a sequential relationship, which is not desired.\n",
        "\n",
        "  One-hot encoding solves this problem by creating new binary columns, equal to the number of unique categories in the original feature. Each binary column represents a specific category and takes a value of 1 if the data point belongs to that category, and 0 otherwise. This encoding ensures that no implicit ordering or relationship exists between the categories.\n",
        "\n",
        "  2. Integrate the preprocessor in the previous step with Scikit-Learn's [LinearRegression](https://scikit-learn.org/stable/modules/generated/sklearn.linear_model.LinearRegression.html) model using a [Pipeline](https://scikit-learn.org/stable/modules/generated/sklearn.pipeline.Pipeline.html).\n",
        "\n",
        "  3. Train the pipeline on the training data.\n",
        "\n",
        "  4. Evaluate the model using mean absolute error as a metric on the test data. Does the model beat the baseline?\n"
      ]
    },
    {
      "cell_type": "code",
      "execution_count": 12,
      "metadata": {
        "colab": {
          "base_uri": "https://localhost:8080/"
        },
        "id": "KckTWwsiah5p",
        "outputId": "d093e81b-b12c-4495-b886-2d4c4ffcd29d"
      },
      "outputs": [
        {
          "output_type": "stream",
          "name": "stdout",
          "text": [
            "[0, 2, 3, 4] [1, 5]\n"
          ]
        }
      ],
      "source": [
        "# Use Scikit-Learn's ColumnTransformer to preprocess the categorical and continuous features independently.\n",
        "# feature_col = ['VendorID', 'trip_distance', 'payment_type', 'PULocationID', 'DOLocationID', 'trip_duration']\n",
        "\n",
        "def get_col_indexes(df, col_names):\n",
        "  return [df.columns.get_loc(name) for name in col_names]\n",
        "\n",
        "# Categorical features and corresponding column index\n",
        "cat_columns = ['VendorID', 'payment_type', 'PULocationID', 'DOLocationID']\n",
        "cat_ix = get_col_indexes(X, cat_columns)\n",
        "\n",
        "# Continuous features and corresponding column index\n",
        "cont_columns = ['trip_distance', 'trip_duration']\n",
        "cont_ix = get_col_indexes(X, cont_columns)\n",
        "print(cat_ix, cont_ix)"
      ]
    },
    {
      "cell_type": "code",
      "execution_count": 13,
      "metadata": {
        "id": "yVzxrDu6w506"
      },
      "outputs": [],
      "source": [
        "# Create a pipeline object containing the column transformations and regression model.\n",
        "\n",
        "# data preparation for categorical and continuous features\n",
        "t = [('cat', OneHotEncoder(handle_unknown='ignore'), cat_ix),\n",
        "     ('cont', StandardScaler(), cont_ix)]\n",
        "col_transform = ColumnTransformer(transformers=t)\n",
        "\n",
        "# define the model\n",
        "model_linreg = LinearRegression(fit_intercept=True)\n",
        "\n",
        "# define the data preparation and modeling pipeline\n",
        "p_linreg = Pipeline(steps=[('prep', col_transform), ('m', model_linreg)])"
      ]
    },
    {
      "cell_type": "code",
      "execution_count": 14,
      "metadata": {
        "colab": {
          "base_uri": "https://localhost:8080/",
          "height": 224
        },
        "id": "7Dhli3fkalIS",
        "outputId": "95833b6a-c3b9-41c3-ef67-da0995532b0b"
      },
      "outputs": [
        {
          "output_type": "stream",
          "name": "stdout",
          "text": [
            "CPU times: user 11 s, sys: 7.06 s, total: 18.1 s\n",
            "Wall time: 11.8 s\n"
          ]
        },
        {
          "output_type": "execute_result",
          "data": {
            "text/plain": [
              "Pipeline(steps=[('prep',\n",
              "                 ColumnTransformer(transformers=[('cat',\n",
              "                                                  OneHotEncoder(handle_unknown='ignore'),\n",
              "                                                  [0, 2, 3, 4]),\n",
              "                                                 ('cont', StandardScaler(),\n",
              "                                                  [1, 5])])),\n",
              "                ('m', LinearRegression())])"
            ],
            "text/html": [
              "<style>#sk-container-id-1 {color: black;}#sk-container-id-1 pre{padding: 0;}#sk-container-id-1 div.sk-toggleable {background-color: white;}#sk-container-id-1 label.sk-toggleable__label {cursor: pointer;display: block;width: 100%;margin-bottom: 0;padding: 0.3em;box-sizing: border-box;text-align: center;}#sk-container-id-1 label.sk-toggleable__label-arrow:before {content: \"▸\";float: left;margin-right: 0.25em;color: #696969;}#sk-container-id-1 label.sk-toggleable__label-arrow:hover:before {color: black;}#sk-container-id-1 div.sk-estimator:hover label.sk-toggleable__label-arrow:before {color: black;}#sk-container-id-1 div.sk-toggleable__content {max-height: 0;max-width: 0;overflow: hidden;text-align: left;background-color: #f0f8ff;}#sk-container-id-1 div.sk-toggleable__content pre {margin: 0.2em;color: black;border-radius: 0.25em;background-color: #f0f8ff;}#sk-container-id-1 input.sk-toggleable__control:checked~div.sk-toggleable__content {max-height: 200px;max-width: 100%;overflow: auto;}#sk-container-id-1 input.sk-toggleable__control:checked~label.sk-toggleable__label-arrow:before {content: \"▾\";}#sk-container-id-1 div.sk-estimator input.sk-toggleable__control:checked~label.sk-toggleable__label {background-color: #d4ebff;}#sk-container-id-1 div.sk-label input.sk-toggleable__control:checked~label.sk-toggleable__label {background-color: #d4ebff;}#sk-container-id-1 input.sk-hidden--visually {border: 0;clip: rect(1px 1px 1px 1px);clip: rect(1px, 1px, 1px, 1px);height: 1px;margin: -1px;overflow: hidden;padding: 0;position: absolute;width: 1px;}#sk-container-id-1 div.sk-estimator {font-family: monospace;background-color: #f0f8ff;border: 1px dotted black;border-radius: 0.25em;box-sizing: border-box;margin-bottom: 0.5em;}#sk-container-id-1 div.sk-estimator:hover {background-color: #d4ebff;}#sk-container-id-1 div.sk-parallel-item::after {content: \"\";width: 100%;border-bottom: 1px solid gray;flex-grow: 1;}#sk-container-id-1 div.sk-label:hover label.sk-toggleable__label {background-color: #d4ebff;}#sk-container-id-1 div.sk-serial::before {content: \"\";position: absolute;border-left: 1px solid gray;box-sizing: border-box;top: 0;bottom: 0;left: 50%;z-index: 0;}#sk-container-id-1 div.sk-serial {display: flex;flex-direction: column;align-items: center;background-color: white;padding-right: 0.2em;padding-left: 0.2em;position: relative;}#sk-container-id-1 div.sk-item {position: relative;z-index: 1;}#sk-container-id-1 div.sk-parallel {display: flex;align-items: stretch;justify-content: center;background-color: white;position: relative;}#sk-container-id-1 div.sk-item::before, #sk-container-id-1 div.sk-parallel-item::before {content: \"\";position: absolute;border-left: 1px solid gray;box-sizing: border-box;top: 0;bottom: 0;left: 50%;z-index: -1;}#sk-container-id-1 div.sk-parallel-item {display: flex;flex-direction: column;z-index: 1;position: relative;background-color: white;}#sk-container-id-1 div.sk-parallel-item:first-child::after {align-self: flex-end;width: 50%;}#sk-container-id-1 div.sk-parallel-item:last-child::after {align-self: flex-start;width: 50%;}#sk-container-id-1 div.sk-parallel-item:only-child::after {width: 0;}#sk-container-id-1 div.sk-dashed-wrapped {border: 1px dashed gray;margin: 0 0.4em 0.5em 0.4em;box-sizing: border-box;padding-bottom: 0.4em;background-color: white;}#sk-container-id-1 div.sk-label label {font-family: monospace;font-weight: bold;display: inline-block;line-height: 1.2em;}#sk-container-id-1 div.sk-label-container {text-align: center;}#sk-container-id-1 div.sk-container {/* jupyter's `normalize.less` sets `[hidden] { display: none; }` but bootstrap.min.css set `[hidden] { display: none !important; }` so we also need the `!important` here to be able to override the default hidden behavior on the sphinx rendered scikit-learn.org. See: https://github.com/scikit-learn/scikit-learn/issues/21755 */display: inline-block !important;position: relative;}#sk-container-id-1 div.sk-text-repr-fallback {display: none;}</style><div id=\"sk-container-id-1\" class=\"sk-top-container\"><div class=\"sk-text-repr-fallback\"><pre>Pipeline(steps=[(&#x27;prep&#x27;,\n",
              "                 ColumnTransformer(transformers=[(&#x27;cat&#x27;,\n",
              "                                                  OneHotEncoder(handle_unknown=&#x27;ignore&#x27;),\n",
              "                                                  [0, 2, 3, 4]),\n",
              "                                                 (&#x27;cont&#x27;, StandardScaler(),\n",
              "                                                  [1, 5])])),\n",
              "                (&#x27;m&#x27;, LinearRegression())])</pre><b>In a Jupyter environment, please rerun this cell to show the HTML representation or trust the notebook. <br />On GitHub, the HTML representation is unable to render, please try loading this page with nbviewer.org.</b></div><div class=\"sk-container\" hidden><div class=\"sk-item sk-dashed-wrapped\"><div class=\"sk-label-container\"><div class=\"sk-label sk-toggleable\"><input class=\"sk-toggleable__control sk-hidden--visually\" id=\"sk-estimator-id-1\" type=\"checkbox\" ><label for=\"sk-estimator-id-1\" class=\"sk-toggleable__label sk-toggleable__label-arrow\">Pipeline</label><div class=\"sk-toggleable__content\"><pre>Pipeline(steps=[(&#x27;prep&#x27;,\n",
              "                 ColumnTransformer(transformers=[(&#x27;cat&#x27;,\n",
              "                                                  OneHotEncoder(handle_unknown=&#x27;ignore&#x27;),\n",
              "                                                  [0, 2, 3, 4]),\n",
              "                                                 (&#x27;cont&#x27;, StandardScaler(),\n",
              "                                                  [1, 5])])),\n",
              "                (&#x27;m&#x27;, LinearRegression())])</pre></div></div></div><div class=\"sk-serial\"><div class=\"sk-item sk-dashed-wrapped\"><div class=\"sk-label-container\"><div class=\"sk-label sk-toggleable\"><input class=\"sk-toggleable__control sk-hidden--visually\" id=\"sk-estimator-id-2\" type=\"checkbox\" ><label for=\"sk-estimator-id-2\" class=\"sk-toggleable__label sk-toggleable__label-arrow\">prep: ColumnTransformer</label><div class=\"sk-toggleable__content\"><pre>ColumnTransformer(transformers=[(&#x27;cat&#x27;, OneHotEncoder(handle_unknown=&#x27;ignore&#x27;),\n",
              "                                 [0, 2, 3, 4]),\n",
              "                                (&#x27;cont&#x27;, StandardScaler(), [1, 5])])</pre></div></div></div><div class=\"sk-parallel\"><div class=\"sk-parallel-item\"><div class=\"sk-item\"><div class=\"sk-label-container\"><div class=\"sk-label sk-toggleable\"><input class=\"sk-toggleable__control sk-hidden--visually\" id=\"sk-estimator-id-3\" type=\"checkbox\" ><label for=\"sk-estimator-id-3\" class=\"sk-toggleable__label sk-toggleable__label-arrow\">cat</label><div class=\"sk-toggleable__content\"><pre>[0, 2, 3, 4]</pre></div></div></div><div class=\"sk-serial\"><div class=\"sk-item\"><div class=\"sk-estimator sk-toggleable\"><input class=\"sk-toggleable__control sk-hidden--visually\" id=\"sk-estimator-id-4\" type=\"checkbox\" ><label for=\"sk-estimator-id-4\" class=\"sk-toggleable__label sk-toggleable__label-arrow\">OneHotEncoder</label><div class=\"sk-toggleable__content\"><pre>OneHotEncoder(handle_unknown=&#x27;ignore&#x27;)</pre></div></div></div></div></div></div><div class=\"sk-parallel-item\"><div class=\"sk-item\"><div class=\"sk-label-container\"><div class=\"sk-label sk-toggleable\"><input class=\"sk-toggleable__control sk-hidden--visually\" id=\"sk-estimator-id-5\" type=\"checkbox\" ><label for=\"sk-estimator-id-5\" class=\"sk-toggleable__label sk-toggleable__label-arrow\">cont</label><div class=\"sk-toggleable__content\"><pre>[1, 5]</pre></div></div></div><div class=\"sk-serial\"><div class=\"sk-item\"><div class=\"sk-estimator sk-toggleable\"><input class=\"sk-toggleable__control sk-hidden--visually\" id=\"sk-estimator-id-6\" type=\"checkbox\" ><label for=\"sk-estimator-id-6\" class=\"sk-toggleable__label sk-toggleable__label-arrow\">StandardScaler</label><div class=\"sk-toggleable__content\"><pre>StandardScaler()</pre></div></div></div></div></div></div></div></div><div class=\"sk-item\"><div class=\"sk-estimator sk-toggleable\"><input class=\"sk-toggleable__control sk-hidden--visually\" id=\"sk-estimator-id-7\" type=\"checkbox\" ><label for=\"sk-estimator-id-7\" class=\"sk-toggleable__label sk-toggleable__label-arrow\">LinearRegression</label><div class=\"sk-toggleable__content\"><pre>LinearRegression()</pre></div></div></div></div></div></div></div>"
            ]
          },
          "metadata": {},
          "execution_count": 14
        }
      ],
      "source": [
        "%%time\n",
        "# Fit the pipeline on the training data.\n",
        "p_linreg.fit(X_train, y_train)"
      ]
    },
    {
      "cell_type": "code",
      "execution_count": 15,
      "metadata": {
        "colab": {
          "base_uri": "https://localhost:8080/"
        },
        "id": "mUkcHyJpamxC",
        "outputId": "7d1d308c-5249-4ad2-e585-12045dc85678"
      },
      "outputs": [
        {
          "output_type": "stream",
          "name": "stdout",
          "text": [
            "Linear Regression mean absolute error: 3.39\n"
          ]
        }
      ],
      "source": [
        "# Make predictions on the test data.\n",
        "y_pred_linreg = p_linreg.predict(X_test)\n",
        "\n",
        "# evaluate the model using mean absolute error as a metric\n",
        "y_linreg_mae = mean_absolute_error(y_test, y_pred_linreg)\n",
        "print(\"Linear Regression mean absolute error:\", round(y_linreg_mae,2))"
      ]
    },
    {
      "cell_type": "code",
      "execution_count": 16,
      "metadata": {
        "colab": {
          "base_uri": "https://localhost:8080/"
        },
        "id": "zo99cvcq6n_v",
        "outputId": "d9d52ea2-9bc9-4ffc-c3cb-537d13779643"
      },
      "outputs": [
        {
          "output_type": "stream",
          "name": "stdout",
          "text": [
            "<class 'numpy.ndarray'> (1, 523)\n",
            "[[ 4.60956067e-01 -4.60956077e-01 -1.38098916e+00 -5.03929369e+00\n",
            "  -1.25829542e+01  1.93824877e+01 -3.79250634e-01  2.77009754e+01\n",
            "   6.11373516e-01  6.24821494e+00 -8.01267323e+00  2.73499268e+01\n",
            "   7.77297299e+00 -8.48416008e+00  5.69870403e+00  3.49773371e+00\n",
            "   1.44351714e+01  8.61993236e-01 -7.95387843e+00 -7.77215785e+00\n",
            "   1.75371240e+00  5.77703599e+00  7.99632043e+00 -3.04258535e+00\n",
            "   1.29744242e+01  1.06199373e+01  4.06030058e+00  1.06628187e+01\n",
            "  -2.05541519e-01  3.01949143e+01 -9.34598347e+00 -8.32232839e+00\n",
            "  -1.28208367e+00  7.17134077e-01  7.86770027e+00  7.54453029e+00\n",
            "   7.71061626e-01 -6.10508496e+00  1.56259358e+00 -8.17216557e+00\n",
            "  -1.10208711e+00  2.28434084e-01 -1.88761733e+00 -1.59407866e+00\n",
            "   4.05418398e+00  6.45005771e+00 -6.81184311e+00 -9.82309986e+00\n",
            "  -8.67406338e+00 -8.93986513e+00  1.60187910e+01 -7.62861336e+00\n",
            "  -8.96383826e-01 -5.70325255e-01 -8.91540267e+00 -2.80049584e+00\n",
            "  -9.11666903e+00  3.47971826e+00 -8.48418952e+00  3.20670341e+00\n",
            "  -6.45093564e+00  1.05528525e+01  1.13985996e+01  2.28238789e+00\n",
            "   6.36897556e-01  2.89197140e+00  1.63300323e+00 -5.89350039e-01\n",
            "  -2.20727830e+00  5.25088794e+00  1.20493048e+01 -6.18873519e+00\n",
            "  -6.58998847e+00  5.95371750e+00 -8.52808027e+00 -7.87629861e-01\n",
            "  -1.13763074e+00  1.91093685e+00  1.19656815e+00  2.12629181e+00\n",
            "  -9.74045735e+00 -9.71862199e+00  5.08630583e+00  2.65093619e+00\n",
            "   2.18105289e+00 -8.90684180e+00 -2.13618202e+00  6.15886409e+00\n",
            "   7.05753267e-01 -2.87498861e+00 -2.74126840e+00  1.33503380e+01\n",
            "  -7.76250485e+00 -7.37972328e+00  2.17727301e+00 -8.90867179e+00\n",
            "   4.85091467e+00  5.61934798e-01  2.09288216e+01 -6.25284063e-01\n",
            "  -5.21292987e-01  9.36309978e+00 -8.00525385e+00  3.89347821e+00\n",
            "  -8.65999536e+00  1.14448014e+01 -1.07543399e+00 -8.88312946e+00\n",
            "  -3.52069532e-01  3.66589083e+00 -5.00528460e-01  9.94108420e-02\n",
            "  -4.60624405e+00 -8.77772396e+00 -8.79632641e+00 -4.07347187e+00\n",
            "  -9.54185525e+00  9.56766626e+00  2.92474748e+00 -4.34529952e+00\n",
            "   4.07335075e+00  4.57933831e+00  5.18274507e+00  2.10422330e+00\n",
            "   1.87166074e+01 -8.76729242e+00  2.82554235e-01 -4.76495722e+00\n",
            "  -6.58218540e+00 -3.00735122e+00  8.62591954e+00  1.18737886e+01\n",
            "   8.18515205e-01  1.18581925e+01  1.37387330e+01  1.01994244e+01\n",
            "   8.55008049e+00 -9.07892570e+00 -1.65057899e-01  1.50117026e+01\n",
            "  -8.90641022e+00 -9.48843054e+00 -9.18555165e+00 -9.25296883e+00\n",
            "  -8.49612083e+00 -7.33214553e+00 -8.63553209e+00  1.17287428e+00\n",
            "  -8.56198257e+00  4.68681761e+00  2.42627544e-01 -9.72090130e+00\n",
            "  -9.89395961e+00  2.85041372e+00  4.05126844e+00  1.64534001e+01\n",
            "  -2.92373277e+00  1.17433072e+01 -8.56627122e+00 -3.17674868e+00\n",
            "   1.01719772e+00 -8.66886629e+00 -9.00305595e+00 -8.78035050e+00\n",
            "  -8.68416450e+00  1.42914230e+00 -9.52561631e+00 -1.87349562e+00\n",
            "  -5.04400317e+00  2.18858260e-01 -8.77720232e+00  7.79605758e+00\n",
            "  -2.40932522e+01 -2.11178640e+00  9.80654825e+00  2.54419753e+00\n",
            "   3.56789707e+00  7.26247262e-01 -7.36907763e+00  1.84787554e+00\n",
            "  -6.86751112e+00 -1.04375360e+00  1.03613460e+01  1.94821558e-01\n",
            "  -6.47216337e-02 -8.44284695e+00  5.66817420e-01 -5.88964966e+00\n",
            "  -7.80903735e+00  5.08313778e+00  1.91452894e+00 -1.10451803e+01\n",
            "   1.78193381e+01 -3.45800565e+00  6.62929926e+00  1.40685400e+01\n",
            "   9.18967105e-01  8.72033373e+00  7.53141173e+00 -1.76904144e+00\n",
            "   2.56863737e+00  5.26096473e+00 -5.08576570e-01 -9.47078580e+00\n",
            "  -1.33524111e+00 -7.74587271e+00  1.96711080e+00 -8.66120519e+00\n",
            "  -1.66453214e-01 -3.06932582e-01 -1.18068416e+00  1.21893025e+01\n",
            "   2.30486600e+01 -8.15091865e+00  6.66490736e+00  1.08773346e+01\n",
            "  -6.49907401e+00  1.01432875e+01  1.72963890e+00  1.83411887e+00\n",
            "  -8.78531123e+00  9.95340342e-01 -3.79213378e+00  4.59777895e+00\n",
            "  -3.61937908e+00 -9.64049706e+00 -8.42281416e+00 -8.32177491e+00\n",
            "  -6.61972472e+00 -9.10385987e+00 -8.74415848e+00  1.23602501e+00\n",
            "  -9.13158419e+00 -9.38719630e+00 -9.24587427e+00 -9.20277145e+00\n",
            "   8.42605043e-02 -2.75223287e-01 -2.52274956e+00 -2.56613060e+00\n",
            "  -8.45153470e+00 -9.08690531e-01 -8.65931280e+00 -6.27545475e+00\n",
            "   1.21762341e+01 -8.94991913e+00 -2.17239935e+00  2.71683129e+00\n",
            "   1.90183835e+00  5.56486417e+00 -7.48747781e+00 -6.13780543e+00\n",
            "   6.69411956e+00  7.99297531e+00  7.16011781e+00 -2.01454309e+00\n",
            "  -7.70705755e+00 -9.79119652e+00 -9.58843197e+00 -6.86494298e+00\n",
            "   4.80040696e+01  3.95342162e+01  3.40325034e+00  1.50326109e+00\n",
            "  -9.54540304e-01  1.86800310e+01  1.17771956e+01 -1.18302479e+00\n",
            "  -4.75358423e+00 -5.17714966e+00 -8.78045219e+00 -8.56181356e-01\n",
            "   4.33770322e-01  1.93694051e-01  2.99259423e+00 -5.77543018e+00\n",
            "  -5.29212745e+00  1.18593549e-01  2.22557287e+00 -8.94609019e+00\n",
            "   2.08313477e+00  1.31410980e+00  1.99252172e+00  3.88003402e+01\n",
            "  -8.57372294e-01  5.17085185e-01 -1.44050970e+00 -1.83503165e+00\n",
            "  -7.63985860e+00 -5.79322269e+00 -4.29121139e+00  3.14476503e+00\n",
            "   6.18141398e-01  7.64997777e-01 -3.10241290e-02 -3.44302830e+00\n",
            "  -1.09134287e+00 -5.45573748e-01 -5.71821267e+00 -5.61200570e+00\n",
            "   2.03000581e+00 -4.86857680e-01  1.76274115e-01 -9.01911210e-01\n",
            "   2.11665558e+01 -2.67852772e-01  4.13227375e+00  6.25251553e-01\n",
            "  -7.76981932e-01 -1.14626877e-01 -1.14650193e+00  1.20505691e+00\n",
            "   1.84613364e+00 -4.71977943e+00  1.84845463e+00  4.28049894e+00\n",
            "  -4.83925862e+00 -6.17605508e+00  2.68847894e-01  1.31225948e+00\n",
            "   8.47813415e-01 -5.52046263e-01 -1.31601631e+00 -5.43925595e+00\n",
            "  -2.24082536e+00 -1.68576067e-02  4.21085459e-01 -7.51276341e-02\n",
            "  -1.05438220e+00  9.00647120e-01 -4.77955628e+00 -2.50804671e+00\n",
            "  -3.61860564e+00 -3.94121034e+00 -1.26157460e+00 -1.13060620e+00\n",
            "  -6.69267738e+00 -4.56625384e+00 -2.45685441e+00 -1.25383569e+00\n",
            "  -5.13859483e-01  4.31468234e+00 -1.90295911e+00 -2.52486622e+00\n",
            "   1.71933513e+01 -6.68578825e-01 -3.35436537e+00 -6.89625069e-02\n",
            "  -4.20656901e-02  6.95935137e-01 -1.47705341e+00 -2.37987495e+00\n",
            "  -5.75257429e+00 -5.54153224e+00 -4.90823523e-01 -2.46639981e+00\n",
            "  -4.04304090e+00  1.64137639e-01 -7.32422394e+00  4.91919176e-01\n",
            "  -7.30575795e-01 -4.26786144e+00 -3.05632993e+00  2.74395422e+00\n",
            "  -1.35467093e+00 -2.32776845e+00  1.70097764e+01  9.47427582e-01\n",
            "  -5.63844981e-02 -1.05236445e+00 -1.33352629e+00  3.95490527e+00\n",
            "   4.36058832e-01  4.84009551e+00  8.12924805e+00  2.86009237e-01\n",
            "  -1.10519597e+00 -7.45801801e+00 -5.05404350e+00 -2.62555552e+00\n",
            "  -6.53298387e+00 -1.06149828e+00 -1.69596241e+00  1.34905576e+00\n",
            "   3.12037602e+00 -2.21791547e+00 -6.91458283e+00 -5.94817228e+00\n",
            "   1.01479214e+01  2.09302304e+00 -4.72378848e+00 -5.89857036e+00\n",
            "   3.13851726e+00 -1.70212915e+00  7.65517592e+00 -8.33741665e+00\n",
            "   7.98026581e+00 -1.22163682e+00 -9.84564733e-01 -7.93953058e-01\n",
            "  -6.57673975e-01 -1.52206035e+00 -1.51399797e+00  1.03356832e+00\n",
            "  -6.45772679e-01 -3.35581254e+00 -3.47421787e+00 -9.33162808e-01\n",
            "  -4.49356564e-01  2.81220748e+00 -1.59850714e+00 -1.95950959e+00\n",
            "   9.33859405e+00 -4.70835824e+00 -8.75864556e-01  5.60055618e-01\n",
            "  -1.45170699e+00 -1.18083338e+00 -1.07826506e+00 -9.89908947e-01\n",
            "  -8.81590170e-01 -1.05330807e+00 -5.04440587e-01 -4.87238307e-01\n",
            "  -3.03709840e-01 -3.26474153e-01 -1.47139606e+00 -5.23020033e+00\n",
            "   1.40400945e+01 -2.04156985e+00  1.85853560e+00 -5.71784761e+00\n",
            "  -4.53822763e-01 -1.22166835e+00 -4.58290101e+00 -1.79984061e+00\n",
            "  -7.64055224e+00  2.85787257e+00  7.27104410e-01  1.80164256e+00\n",
            "  -7.62321018e-01 -3.68633386e-01 -9.51770836e-01  3.26859091e+00\n",
            "  -1.94242063e-01  9.76657436e-01  4.92837700e+00 -7.18308952e+00\n",
            "  -4.50843873e+00 -3.67891837e+00  4.15714232e+00  2.37155221e+00\n",
            "  -2.53290038e+00 -7.56810585e+00 -2.21131022e+00  5.67283722e+00\n",
            "   2.71725193e+00  1.74726357e-01 -7.54741061e+00  8.38696981e+00\n",
            "  -7.89654210e+00  9.24615875e+00 -1.43394965e+00  2.25281859e+00\n",
            "  -3.55222824e-02 -2.85171955e+00 -8.40970475e-01 -4.30813886e-01\n",
            "   4.05332125e-01  1.08476290e+01 -7.91790144e+00 -6.06401078e+00\n",
            "  -5.23504120e-01 -8.82393061e+00 -8.03221760e+00  4.21689425e+00\n",
            "   1.18571892e+01 -4.40479290e+00 -7.84398244e-01 -7.83555434e-01\n",
            "  -1.72299629e-01 -9.74719778e-01  5.93958856e-01  2.40684278e+00\n",
            "  -1.23193060e+00 -3.28514415e-01 -5.03760179e-01 -5.84130646e-01\n",
            "  -1.33232036e+00 -1.38894151e+00 -2.51332303e-01 -1.12437118e+00\n",
            "  -1.24558693e+00 -7.56530945e-01 -8.65127159e-01  9.43960701e-01\n",
            "   1.41353996e+00  8.07888195e-01  1.70931254e+00  6.38630674e-01\n",
            "   8.32855992e+00 -1.09948602e+00  9.86969847e-01  2.44210173e+00\n",
            "  -1.35835083e+00  1.02308564e+00  1.96233068e+01 -6.58858381e+00\n",
            "  -8.62975776e+00  2.92941833e-01 -6.01532602e-02 -2.34810686e-01\n",
            "   3.53675603e+00 -6.41850909e+00  2.31120602e+00 -1.89462205e+00\n",
            "  -8.04103933e-02 -7.02915403e-01 -1.11138031e+00  2.92239689e+00\n",
            "   2.23967351e+01  1.01814817e+01  4.63367894e-01]]\n"
          ]
        }
      ],
      "source": [
        "# Linear Regression, provides coefficient values indicating\n",
        "#   the direction and magnitude of relationships\n",
        "# same as m_coef = model_linreg.coef_\n",
        "m_coef = p_linreg.named_steps['m'].coef_\n",
        "print(type(m_coef), m_coef.shape)\n",
        "print(model_linreg.coef_)"
      ]
    },
    {
      "cell_type": "markdown",
      "metadata": {
        "id": "d1669p0UBHrx"
      },
      "source": [
        "Random Forest Regression and Linear Regression are two commonly used regression algorithms, each with its own advantages and suitability for different scenarios. Random Forest Regression offers several advantages over Linear Regression, including:\n",
        "\n",
        "1. **Non-linearity**: Random Forest Regressor is capable of capturing non-linear relationships between features and the target variable. In contrast, Linear Regression assumes a linear relationship between the features and the target. When faced with non-linear relationships or complex feature interactions, Random Forest Regressor can provide more accurate predictions.\n",
        "\n",
        "2. **Robustness to Outliers**: Random Forest Regressor is generally more robust to outliers compared to Linear Regression. Outliers can disproportionately impact the coefficients and predictions of Linear Regression models. However, as an ensemble of decision trees, Random Forest Regressor can mitigate the effect of outliers by averaging predictions from multiple trees.\n",
        "\n",
        "3. **Feature Importance**: Random Forest Regressor provides a measure of feature importance, which helps identify the most influential features for making predictions. This information is useful for feature selection, understanding the underlying relationships in the data, and gaining insights into the problem domain. Unlike Linear Regression, which provides coefficient values indicating the direction and magnitude of relationships, Random Forest Regressor explicitly highlights feature importance.\n",
        "\n",
        "4. **Handling of Categorical Variables**: Random Forest Regressor can effectively handle categorical variables without requiring pre-processing steps like one-hot encoding. It can directly incorporate categorical variables into the model, making it more convenient when working with mixed data types. In contrast, Linear Regression often requires categorical variables to be encoded or transformed before use.\n",
        "\n",
        "5. **Handling of High-Dimensional Data**: Random Forest Regressor can handle datasets with a large number of features (high dimensionality) by automatically selecting subsets of features during the construction of individual decision trees. This reduces the risk of overfitting, which is a concern with Linear Regression when dealing with high-dimensional data.\n",
        "\n",
        "6. **Resistance to Multicollinearity**: Random Forest Regressor is less affected by multicollinearity, which occurs when predictor variables are highly correlated. In Linear Regression, highly correlated features can lead to unstable coefficient estimates, making it challenging to interpret the individual effects of each feature. Random Forest Regressor, as an ensemble approach, is less impacted by multicollinearity because each tree is built independently.\n",
        "\n",
        "Here are your tasks:\n",
        "\n",
        "  1. Build a Random Forest Regressor model using Scikit-Learn's [RandomForestRegressor](https://scikit-learn.org/stable/modules/generated/sklearn.ensemble.RandomForestRegressor.html) and train it on the train data.\n",
        "\n",
        "  2. Evaluate the performance of the model on the test data using mean absolute error as a metric. Mess around with various input parameter configurations to see how they affect the model. Can you beat the performance of the linear regression model?"
      ]
    },
    {
      "cell_type": "code",
      "execution_count": 17,
      "metadata": {
        "colab": {
          "base_uri": "https://localhost:8080/"
        },
        "id": "x7dy0g0C1t_t",
        "outputId": "77aa1bc9-c64a-4150-91f2-ae66a78065a1"
      },
      "outputs": [
        {
          "output_type": "stream",
          "name": "stdout",
          "text": [
            "Number of physical cores: 1\n"
          ]
        }
      ],
      "source": [
        "# May be useful in determining n_jobs\n",
        "import joblib\n",
        "\n",
        "N_CORES = joblib.cpu_count(only_physical_cores=True)\n",
        "print(f\"Number of physical cores: {N_CORES}\")"
      ]
    },
    {
      "cell_type": "code",
      "execution_count": 18,
      "metadata": {
        "colab": {
          "base_uri": "https://localhost:8080/"
        },
        "id": "QU4tTQKl4q_n",
        "outputId": "005c8144-482f-4259-a68e-513b112f5c6a"
      },
      "outputs": [
        {
          "output_type": "stream",
          "name": "stdout",
          "text": [
            "CPU times: user 60 µs, sys: 27 µs, total: 87 µs\n",
            "Wall time: 92.3 µs\n"
          ]
        }
      ],
      "source": [
        "%%time\n",
        "# Build random forest regressor model (n_jobs=-1 to use all processors)\n",
        "# from sklearn.ensemble import RandomForestRegressor\n",
        "model_rfreg = RandomForestRegressor(n_estimators=50, max_depth=5,\n",
        "                                    random_state=1, n_jobs=-1,\n",
        "                                    oob_score=False)\n",
        "\n",
        "# define the data preparation and modeling pipeline\n",
        "p_rfreg = Pipeline(steps=[('prep', col_transform), ('m', model_rfreg)])"
      ]
    },
    {
      "cell_type": "code",
      "execution_count": 19,
      "metadata": {
        "colab": {
          "base_uri": "https://localhost:8080/"
        },
        "id": "5zMPpH7G8aTZ",
        "outputId": "48aa3680-7b49-4012-a7a8-bd0628ba2207"
      },
      "outputs": [
        {
          "output_type": "stream",
          "name": "stdout",
          "text": [
            "(1913942, 6) (1913942, 1)\n",
            "<bound method BaseEstimator.get_params of RandomForestRegressor(max_depth=5, n_estimators=50, n_jobs=-1, random_state=1)>\n"
          ]
        }
      ],
      "source": [
        "print(X_train.shape, y_train.shape)\n",
        "# Change shape of y in fit, to avoid\n",
        "# /usr/local/lib/python3.10/dist-packages/sklearn/base.py:1152:\n",
        "# DataConversionWarning: A column-vector y was passed when a 1d array was expected.\n",
        "# Please change the shape of y to (n_samples,), for example using ravel().\n",
        "# return fit_method(estimator, *args, **kwargs)\n",
        "print(p_rfreg.named_steps['m'].get_params)"
      ]
    },
    {
      "cell_type": "code",
      "execution_count": 20,
      "metadata": {
        "colab": {
          "base_uri": "https://localhost:8080/",
          "height": 224
        },
        "id": "1ZrUsnwv6V2X",
        "outputId": "78c6f77a-7090-4159-e6e2-46025b7b1a92"
      },
      "outputs": [
        {
          "output_type": "stream",
          "name": "stdout",
          "text": [
            "CPU times: user 6min 11s, sys: 1.26 s, total: 6min 13s\n",
            "Wall time: 3min 40s\n"
          ]
        },
        {
          "output_type": "execute_result",
          "data": {
            "text/plain": [
              "Pipeline(steps=[('prep',\n",
              "                 ColumnTransformer(transformers=[('cat',\n",
              "                                                  OneHotEncoder(handle_unknown='ignore'),\n",
              "                                                  [0, 2, 3, 4]),\n",
              "                                                 ('cont', StandardScaler(),\n",
              "                                                  [1, 5])])),\n",
              "                ('m',\n",
              "                 RandomForestRegressor(max_depth=5, n_estimators=50, n_jobs=-1,\n",
              "                                       random_state=1))])"
            ],
            "text/html": [
              "<style>#sk-container-id-2 {color: black;}#sk-container-id-2 pre{padding: 0;}#sk-container-id-2 div.sk-toggleable {background-color: white;}#sk-container-id-2 label.sk-toggleable__label {cursor: pointer;display: block;width: 100%;margin-bottom: 0;padding: 0.3em;box-sizing: border-box;text-align: center;}#sk-container-id-2 label.sk-toggleable__label-arrow:before {content: \"▸\";float: left;margin-right: 0.25em;color: #696969;}#sk-container-id-2 label.sk-toggleable__label-arrow:hover:before {color: black;}#sk-container-id-2 div.sk-estimator:hover label.sk-toggleable__label-arrow:before {color: black;}#sk-container-id-2 div.sk-toggleable__content {max-height: 0;max-width: 0;overflow: hidden;text-align: left;background-color: #f0f8ff;}#sk-container-id-2 div.sk-toggleable__content pre {margin: 0.2em;color: black;border-radius: 0.25em;background-color: #f0f8ff;}#sk-container-id-2 input.sk-toggleable__control:checked~div.sk-toggleable__content {max-height: 200px;max-width: 100%;overflow: auto;}#sk-container-id-2 input.sk-toggleable__control:checked~label.sk-toggleable__label-arrow:before {content: \"▾\";}#sk-container-id-2 div.sk-estimator input.sk-toggleable__control:checked~label.sk-toggleable__label {background-color: #d4ebff;}#sk-container-id-2 div.sk-label input.sk-toggleable__control:checked~label.sk-toggleable__label {background-color: #d4ebff;}#sk-container-id-2 input.sk-hidden--visually {border: 0;clip: rect(1px 1px 1px 1px);clip: rect(1px, 1px, 1px, 1px);height: 1px;margin: -1px;overflow: hidden;padding: 0;position: absolute;width: 1px;}#sk-container-id-2 div.sk-estimator {font-family: monospace;background-color: #f0f8ff;border: 1px dotted black;border-radius: 0.25em;box-sizing: border-box;margin-bottom: 0.5em;}#sk-container-id-2 div.sk-estimator:hover {background-color: #d4ebff;}#sk-container-id-2 div.sk-parallel-item::after {content: \"\";width: 100%;border-bottom: 1px solid gray;flex-grow: 1;}#sk-container-id-2 div.sk-label:hover label.sk-toggleable__label {background-color: #d4ebff;}#sk-container-id-2 div.sk-serial::before {content: \"\";position: absolute;border-left: 1px solid gray;box-sizing: border-box;top: 0;bottom: 0;left: 50%;z-index: 0;}#sk-container-id-2 div.sk-serial {display: flex;flex-direction: column;align-items: center;background-color: white;padding-right: 0.2em;padding-left: 0.2em;position: relative;}#sk-container-id-2 div.sk-item {position: relative;z-index: 1;}#sk-container-id-2 div.sk-parallel {display: flex;align-items: stretch;justify-content: center;background-color: white;position: relative;}#sk-container-id-2 div.sk-item::before, #sk-container-id-2 div.sk-parallel-item::before {content: \"\";position: absolute;border-left: 1px solid gray;box-sizing: border-box;top: 0;bottom: 0;left: 50%;z-index: -1;}#sk-container-id-2 div.sk-parallel-item {display: flex;flex-direction: column;z-index: 1;position: relative;background-color: white;}#sk-container-id-2 div.sk-parallel-item:first-child::after {align-self: flex-end;width: 50%;}#sk-container-id-2 div.sk-parallel-item:last-child::after {align-self: flex-start;width: 50%;}#sk-container-id-2 div.sk-parallel-item:only-child::after {width: 0;}#sk-container-id-2 div.sk-dashed-wrapped {border: 1px dashed gray;margin: 0 0.4em 0.5em 0.4em;box-sizing: border-box;padding-bottom: 0.4em;background-color: white;}#sk-container-id-2 div.sk-label label {font-family: monospace;font-weight: bold;display: inline-block;line-height: 1.2em;}#sk-container-id-2 div.sk-label-container {text-align: center;}#sk-container-id-2 div.sk-container {/* jupyter's `normalize.less` sets `[hidden] { display: none; }` but bootstrap.min.css set `[hidden] { display: none !important; }` so we also need the `!important` here to be able to override the default hidden behavior on the sphinx rendered scikit-learn.org. See: https://github.com/scikit-learn/scikit-learn/issues/21755 */display: inline-block !important;position: relative;}#sk-container-id-2 div.sk-text-repr-fallback {display: none;}</style><div id=\"sk-container-id-2\" class=\"sk-top-container\"><div class=\"sk-text-repr-fallback\"><pre>Pipeline(steps=[(&#x27;prep&#x27;,\n",
              "                 ColumnTransformer(transformers=[(&#x27;cat&#x27;,\n",
              "                                                  OneHotEncoder(handle_unknown=&#x27;ignore&#x27;),\n",
              "                                                  [0, 2, 3, 4]),\n",
              "                                                 (&#x27;cont&#x27;, StandardScaler(),\n",
              "                                                  [1, 5])])),\n",
              "                (&#x27;m&#x27;,\n",
              "                 RandomForestRegressor(max_depth=5, n_estimators=50, n_jobs=-1,\n",
              "                                       random_state=1))])</pre><b>In a Jupyter environment, please rerun this cell to show the HTML representation or trust the notebook. <br />On GitHub, the HTML representation is unable to render, please try loading this page with nbviewer.org.</b></div><div class=\"sk-container\" hidden><div class=\"sk-item sk-dashed-wrapped\"><div class=\"sk-label-container\"><div class=\"sk-label sk-toggleable\"><input class=\"sk-toggleable__control sk-hidden--visually\" id=\"sk-estimator-id-8\" type=\"checkbox\" ><label for=\"sk-estimator-id-8\" class=\"sk-toggleable__label sk-toggleable__label-arrow\">Pipeline</label><div class=\"sk-toggleable__content\"><pre>Pipeline(steps=[(&#x27;prep&#x27;,\n",
              "                 ColumnTransformer(transformers=[(&#x27;cat&#x27;,\n",
              "                                                  OneHotEncoder(handle_unknown=&#x27;ignore&#x27;),\n",
              "                                                  [0, 2, 3, 4]),\n",
              "                                                 (&#x27;cont&#x27;, StandardScaler(),\n",
              "                                                  [1, 5])])),\n",
              "                (&#x27;m&#x27;,\n",
              "                 RandomForestRegressor(max_depth=5, n_estimators=50, n_jobs=-1,\n",
              "                                       random_state=1))])</pre></div></div></div><div class=\"sk-serial\"><div class=\"sk-item sk-dashed-wrapped\"><div class=\"sk-label-container\"><div class=\"sk-label sk-toggleable\"><input class=\"sk-toggleable__control sk-hidden--visually\" id=\"sk-estimator-id-9\" type=\"checkbox\" ><label for=\"sk-estimator-id-9\" class=\"sk-toggleable__label sk-toggleable__label-arrow\">prep: ColumnTransformer</label><div class=\"sk-toggleable__content\"><pre>ColumnTransformer(transformers=[(&#x27;cat&#x27;, OneHotEncoder(handle_unknown=&#x27;ignore&#x27;),\n",
              "                                 [0, 2, 3, 4]),\n",
              "                                (&#x27;cont&#x27;, StandardScaler(), [1, 5])])</pre></div></div></div><div class=\"sk-parallel\"><div class=\"sk-parallel-item\"><div class=\"sk-item\"><div class=\"sk-label-container\"><div class=\"sk-label sk-toggleable\"><input class=\"sk-toggleable__control sk-hidden--visually\" id=\"sk-estimator-id-10\" type=\"checkbox\" ><label for=\"sk-estimator-id-10\" class=\"sk-toggleable__label sk-toggleable__label-arrow\">cat</label><div class=\"sk-toggleable__content\"><pre>[0, 2, 3, 4]</pre></div></div></div><div class=\"sk-serial\"><div class=\"sk-item\"><div class=\"sk-estimator sk-toggleable\"><input class=\"sk-toggleable__control sk-hidden--visually\" id=\"sk-estimator-id-11\" type=\"checkbox\" ><label for=\"sk-estimator-id-11\" class=\"sk-toggleable__label sk-toggleable__label-arrow\">OneHotEncoder</label><div class=\"sk-toggleable__content\"><pre>OneHotEncoder(handle_unknown=&#x27;ignore&#x27;)</pre></div></div></div></div></div></div><div class=\"sk-parallel-item\"><div class=\"sk-item\"><div class=\"sk-label-container\"><div class=\"sk-label sk-toggleable\"><input class=\"sk-toggleable__control sk-hidden--visually\" id=\"sk-estimator-id-12\" type=\"checkbox\" ><label for=\"sk-estimator-id-12\" class=\"sk-toggleable__label sk-toggleable__label-arrow\">cont</label><div class=\"sk-toggleable__content\"><pre>[1, 5]</pre></div></div></div><div class=\"sk-serial\"><div class=\"sk-item\"><div class=\"sk-estimator sk-toggleable\"><input class=\"sk-toggleable__control sk-hidden--visually\" id=\"sk-estimator-id-13\" type=\"checkbox\" ><label for=\"sk-estimator-id-13\" class=\"sk-toggleable__label sk-toggleable__label-arrow\">StandardScaler</label><div class=\"sk-toggleable__content\"><pre>StandardScaler()</pre></div></div></div></div></div></div></div></div><div class=\"sk-item\"><div class=\"sk-estimator sk-toggleable\"><input class=\"sk-toggleable__control sk-hidden--visually\" id=\"sk-estimator-id-14\" type=\"checkbox\" ><label for=\"sk-estimator-id-14\" class=\"sk-toggleable__label sk-toggleable__label-arrow\">RandomForestRegressor</label><div class=\"sk-toggleable__content\"><pre>RandomForestRegressor(max_depth=5, n_estimators=50, n_jobs=-1, random_state=1)</pre></div></div></div></div></div></div></div>"
            ]
          },
          "metadata": {},
          "execution_count": 20
        }
      ],
      "source": [
        "%%time\n",
        "# Fit the pipeline on the training data.\n",
        "p_rfreg.fit(X_train, y_train.values.ravel())"
      ]
    },
    {
      "cell_type": "code",
      "execution_count": 21,
      "metadata": {
        "colab": {
          "base_uri": "https://localhost:8080/"
        },
        "id": "eaY0Y4F3CjI3",
        "outputId": "30dc810e-5213-4a56-e22a-df944a8ab71c"
      },
      "outputs": [
        {
          "output_type": "stream",
          "name": "stdout",
          "text": [
            "Random Forest feature_names shape:  (523,)\n",
            "Random Forest feature_importances_ shape:  (523,)\n",
            "                 feat_name  feat_importance\n",
            "521    cont__trip_distance         0.469959\n",
            "108  cat__PULocationID_107         0.296208\n",
            "522    cont__trip_duration         0.143166\n",
            "396  cat__DOLocationID_140         0.066259\n",
            "1          cat__VendorID_2         0.010500\n",
            "260  cat__PULocationID_265         0.005256\n",
            "5      cat__payment_type_4         0.003741\n",
            "2      cat__payment_type_1         0.003306\n",
            "261    cat__DOLocationID_1         0.000793\n",
            "0          cat__VendorID_1         0.000718\n"
          ]
        }
      ],
      "source": [
        "# RandomForestRegressor helps identify the most influential features for making predictions\n",
        "# same as feat_importances = p_rfreg.named_steps['m'].feature_importances_\n",
        "feat_importances = model_rfreg.feature_importances_\n",
        "feat_names = col_transform.get_feature_names_out()\n",
        "print(\"Random Forest feature_names shape: \", feat_names.shape)\n",
        "print(\"Random Forest feature_importances_ shape: \", feat_importances.shape)\n",
        "\n",
        "# Get top 10 features\n",
        "feat_imp_df = pd.DataFrame(list(zip(feat_names, feat_importances)),\n",
        "                           columns=['feat_name', 'feat_importance'])\n",
        "feat_imp_sorted = feat_imp_df.sort_values('feat_importance', ascending=False)\n",
        "print(feat_imp_sorted.head(10))"
      ]
    },
    {
      "cell_type": "code",
      "execution_count": 22,
      "metadata": {
        "colab": {
          "base_uri": "https://localhost:8080/"
        },
        "id": "P6SIX9EK5RYi",
        "outputId": "6d639321-5a14-4975-8192-2fa2a4925272"
      },
      "outputs": [
        {
          "output_type": "stream",
          "name": "stdout",
          "text": [
            "Random Forest n_estimators=50, max_depth=5, mean absolute error: 2.56\n",
            "CPU times: user 1.51 s, sys: 58.6 ms, total: 1.57 s\n",
            "Wall time: 1.02 s\n"
          ]
        }
      ],
      "source": [
        "%%time\n",
        "# %%timeit #Time repeated execution of a single statement for more accuracy\n",
        "# Make predictions on the test data\n",
        "y_pred_rfreg = p_rfreg.predict(X_test)\n",
        "\n",
        "# evaluate the model using mean absolute error as a metric\n",
        "y_rfreg_mae = mean_absolute_error(y_test, y_pred_rfreg)\n",
        "print(\"Random Forest n_estimators=50, max_depth=5, mean absolute error:\",\n",
        "      round(y_rfreg_mae,2))"
      ]
    },
    {
      "cell_type": "code",
      "execution_count": 23,
      "metadata": {
        "colab": {
          "base_uri": "https://localhost:8080/"
        },
        "id": "NZ4rpUBy7OyL",
        "outputId": "11f348c2-4ddd-4565-95ff-95070b36af3e"
      },
      "outputs": [
        {
          "output_type": "stream",
          "name": "stdout",
          "text": [
            "<class 'numpy.float64'> -5.057650908656426\n",
            "CPU times: user 1.56 s, sys: 68.2 ms, total: 1.63 s\n",
            "Wall time: 1.47 s\n"
          ]
        }
      ],
      "source": [
        "%%time\n",
        "# Model Performance\n",
        "rf_score = p_rfreg.score(X_test, y_test)\n",
        "print(type(rf_score), rf_score)"
      ]
    },
    {
      "cell_type": "markdown",
      "metadata": {
        "id": "5CuYk9WBFF2X"
      },
      "source": [
        "Hyperparameter tuning plays a critical role in machine learning model development. It involves selecting the optimal values for the hyperparameters, which are configuration settings that control the behavior of the learning algorithm. Here's why hyperparameter tuning is so important in ML:\n",
        "\n",
        "1. **Optimizing Model Performance**: The choice of hyperparameters can significantly impact the model's performance. By fine-tuning the hyperparameters, we can improve the model's accuracy, precision, recall, or other performance metrics. It helps to extract the maximum predictive power from the chosen algorithm and ensures that the model is well-suited to the specific problem at hand.\n",
        "\n",
        "2. **Avoiding Overfitting and Underfitting**: Hyperparameter tuning helps strike a balance between overfitting and underfitting.\n",
        "\n",
        "3. **Exploring Model Complexity**: Hyperparameter tuning enables us to explore the complexity of the model. For instance, in algorithms like decision trees or neural networks, we can adjust the number of layers, the number of neurons, or the maximum depth of the tree. By systematically modifying these hyperparameters, we can understand how different levels of complexity impact the model's performance and find the right balance between simplicity and complexity.\n",
        "\n",
        "Note, there are multiple approaches to hyperparemeter tuning.  \n",
        "\n",
        "While grid search is the easiest to understand and implement there are many advantages of Bayesian search over grid search for hyperparameter tuning:\n",
        "\n",
        "1. **Efficiency**: Bayesian search is generally more efficient than grid search. Grid search explores all possible combinations of hyperparameter values, which can be computationally expensive and time-consuming, especially when dealing with a large number of hyperparameters or a wide range of values. Bayesian search, on the other hand, intelligently selects the next hyperparameter configuration to evaluate based on the results of previous evaluations. It focuses on areas of the hyperparameter space that are more likely to yield better performance, reducing the number of evaluations needed.\n",
        "\n",
        "2. **Flexibility**: Bayesian search is flexible in handling continuous and discrete hyperparameters. It can handle both types of hyperparameters naturally and effectively. In contrast, grid search is more suitable for discrete hyperparameters but may struggle with continuous ones, as it requires discretization or defining a finite set of values to search over.\n",
        "\n",
        "3. **Adaptive Search**: Bayesian search adapts its search strategy based on the results of previous evaluations. It maintains a probability distribution over the hyperparameter space, updating it with each evaluation. This allows it to dynamically allocate more evaluations to promising regions and explore unexplored areas. In contrast, grid search follows a fixed and predefined search grid, regardless of the results of previous evaluations.\n",
        "\n",
        "4. **Better Convergence**: Bayesian search has the potential to converge to the optimal hyperparameter configuration more quickly.\n",
        "\n",
        "Here are your tasks:\n",
        "\n",
        "  1. Perform a grid-search on a Random Forest Regressor model. Only search the space for the parameters 'n_estimators', 'max_depth', and 'min_samples_split'. Note, this can take some time to run. Make sure you set reasonable boundaries for the search space. Use Scikit-Learn's [GridSearchCV](https://scikit-learn.org/stable/modules/generated/sklearn.model_selection.GridSearchCV.html) method.\n",
        "\n",
        "  2. After you've identified the best parameters, train a random forest regression model using these parameters on the full training data.\n",
        "\n",
        "  3. Evaluate the model from the previous step using the test data. How does your model perform?"
      ]
    },
    {
      "cell_type": "code",
      "execution_count": null,
      "metadata": {
        "colab": {
          "base_uri": "https://localhost:8080/"
        },
        "id": "HlmZeNDOa1zs",
        "outputId": "13215a63-8e68-4adb-d9d8-74ad2b4ecb79"
      },
      "outputs": [
        {
          "output_type": "stream",
          "name": "stdout",
          "text": [
            "CPU times: user 7 µs, sys: 0 ns, total: 7 µs\n",
            "Wall time: 10 µs\n"
          ]
        }
      ],
      "source": [
        "%%time\n",
        "# Define the hyperparameters to tune.\n",
        "# Only search the space for the parameters 'n_estimators', 'max_depth', and 'min_samples_split'\n",
        "n_est_list = [30, 60, 100]\n",
        "max_depth_list = [2, 4, 8]\n",
        "min_samp_list = [4, 100, 1000]\n",
        "# Create the grid\n",
        "parameter_grid = [{'n_estimators': n_est_list,\n",
        "                  'max_depth': max_depth_list,\n",
        "                  'min_samples_split': min_samp_list}]"
      ]
    },
    {
      "cell_type": "code",
      "source": [
        "# To keep colab from disconnecting - not clear if this helps\n",
        "# Ref: https://stackoverflow.com/questions/71456390/how-to-keep-the-google-colab-running-without-disconnecting-in-2022\n",
        "import time\n",
        "from pynput.mouse import Controller ,Button\n",
        "\n",
        "MouseClick = Controller()\n",
        "cnt = 0\n",
        "while True:\n",
        "    MouseClick.click(Button.right, 1)  # left hand mouse\n",
        "    time.sleep(60)\n",
        "    cnt += 1\n",
        "    # stop after 12 hours\n",
        "    if (cnt > (60*12)):\n",
        "      break"
      ],
      "metadata": {
        "id": "zqV-makV8BMz"
      },
      "execution_count": null,
      "outputs": []
    },
    {
      "cell_type": "code",
      "execution_count": null,
      "metadata": {
        "colab": {
          "base_uri": "https://localhost:8080/",
          "height": 1000
        },
        "id": "NWaMWOH6Kdho",
        "outputId": "2e244ff5-6507-4574-9ac5-3262d257fd89"
      },
      "outputs": [
        {
          "output_type": "stream",
          "name": "stdout",
          "text": [
            "Fitting 3 folds for each of 27 candidates, totalling 81 fits\n",
            "[CV 1/3] END max_depth=2, min_samples_split=4, n_estimators=30;, score=0.584 total time=  18.6s\n",
            "[CV 2/3] END max_depth=2, min_samples_split=4, n_estimators=30;, score=0.584 total time=  20.2s\n",
            "[CV 3/3] END max_depth=2, min_samples_split=4, n_estimators=30;, score=0.001 total time=  19.1s\n",
            "[CV 1/3] END max_depth=2, min_samples_split=4, n_estimators=60;, score=0.624 total time=  39.2s\n",
            "[CV 2/3] END max_depth=2, min_samples_split=4, n_estimators=60;, score=0.623 total time=  38.8s\n",
            "[CV 3/3] END max_depth=2, min_samples_split=4, n_estimators=60;, score=0.001 total time=  39.9s\n",
            "[CV 1/3] END max_depth=2, min_samples_split=4, n_estimators=100;, score=0.632 total time= 1.1min\n",
            "[CV 2/3] END max_depth=2, min_samples_split=4, n_estimators=100;, score=0.627 total time= 1.1min\n",
            "[CV 3/3] END max_depth=2, min_samples_split=4, n_estimators=100;, score=0.001 total time= 1.1min\n",
            "[CV 1/3] END max_depth=2, min_samples_split=100, n_estimators=30;, score=0.584 total time=  19.5s\n",
            "[CV 2/3] END max_depth=2, min_samples_split=100, n_estimators=30;, score=0.584 total time=  19.5s\n",
            "[CV 3/3] END max_depth=2, min_samples_split=100, n_estimators=30;, score=0.001 total time=  21.7s\n",
            "[CV 1/3] END max_depth=2, min_samples_split=100, n_estimators=60;, score=0.624 total time=  53.0s\n",
            "[CV 2/3] END max_depth=2, min_samples_split=100, n_estimators=60;, score=0.623 total time=  38.3s\n",
            "[CV 3/3] END max_depth=2, min_samples_split=100, n_estimators=60;, score=0.001 total time=  39.0s\n",
            "[CV 1/3] END max_depth=2, min_samples_split=100, n_estimators=100;, score=0.632 total time= 1.1min\n",
            "[CV 2/3] END max_depth=2, min_samples_split=100, n_estimators=100;, score=0.627 total time= 1.1min\n",
            "[CV 3/3] END max_depth=2, min_samples_split=100, n_estimators=100;, score=0.001 total time= 1.1min\n",
            "[CV 1/3] END max_depth=2, min_samples_split=1000, n_estimators=30;, score=0.584 total time=  19.2s\n",
            "[CV 2/3] END max_depth=2, min_samples_split=1000, n_estimators=30;, score=0.584 total time=  19.9s\n",
            "[CV 3/3] END max_depth=2, min_samples_split=1000, n_estimators=30;, score=0.001 total time=  19.2s\n",
            "[CV 1/3] END max_depth=2, min_samples_split=1000, n_estimators=60;, score=0.624 total time=  38.7s\n",
            "[CV 2/3] END max_depth=2, min_samples_split=1000, n_estimators=60;, score=0.623 total time=  39.4s\n",
            "[CV 3/3] END max_depth=2, min_samples_split=1000, n_estimators=60;, score=0.001 total time=  39.5s\n",
            "[CV 1/3] END max_depth=2, min_samples_split=1000, n_estimators=100;, score=0.632 total time= 1.1min\n",
            "[CV 2/3] END max_depth=2, min_samples_split=1000, n_estimators=100;, score=0.627 total time= 1.1min\n",
            "[CV 3/3] END max_depth=2, min_samples_split=1000, n_estimators=100;, score=0.001 total time= 1.1min\n",
            "[CV 1/3] END max_depth=4, min_samples_split=4, n_estimators=30;, score=-186.983 total time=  37.3s\n",
            "[CV 2/3] END max_depth=4, min_samples_split=4, n_estimators=30;, score=-64.311 total time=  37.5s\n",
            "[CV 3/3] END max_depth=4, min_samples_split=4, n_estimators=30;, score=0.001 total time=  36.5s\n",
            "[CV 1/3] END max_depth=4, min_samples_split=4, n_estimators=60;, score=-138.482 total time= 1.2min\n",
            "[CV 2/3] END max_depth=4, min_samples_split=4, n_estimators=60;, score=-46.403 total time= 1.2min\n",
            "[CV 3/3] END max_depth=4, min_samples_split=4, n_estimators=60;, score=0.001 total time= 1.2min\n",
            "[CV 1/3] END max_depth=4, min_samples_split=4, n_estimators=100;, score=-131.804 total time= 2.0min\n",
            "[CV 2/3] END max_depth=4, min_samples_split=4, n_estimators=100;, score=-52.889 total time= 2.0min\n",
            "[CV 3/3] END max_depth=4, min_samples_split=4, n_estimators=100;, score=0.001 total time= 2.1min\n",
            "[CV 1/3] END max_depth=4, min_samples_split=100, n_estimators=30;, score=-160.403 total time=  37.0s\n",
            "[CV 2/3] END max_depth=4, min_samples_split=100, n_estimators=30;, score=-52.819 total time=  36.4s\n",
            "[CV 3/3] END max_depth=4, min_samples_split=100, n_estimators=30;, score=0.001 total time=  35.7s\n",
            "[CV 1/3] END max_depth=4, min_samples_split=100, n_estimators=60;, score=-134.955 total time= 1.2min\n",
            "[CV 2/3] END max_depth=4, min_samples_split=100, n_estimators=60;, score=-41.193 total time= 1.2min\n",
            "[CV 3/3] END max_depth=4, min_samples_split=100, n_estimators=60;, score=0.001 total time= 1.2min\n",
            "[CV 1/3] END max_depth=4, min_samples_split=100, n_estimators=100;, score=-132.754 total time= 2.0min\n",
            "[CV 2/3] END max_depth=4, min_samples_split=100, n_estimators=100;, score=-41.646 total time= 2.0min\n",
            "[CV 3/3] END max_depth=4, min_samples_split=100, n_estimators=100;, score=0.001 total time= 2.0min\n",
            "[CV 1/3] END max_depth=4, min_samples_split=1000, n_estimators=30;, score=0.011 total time=  36.5s\n",
            "[CV 2/3] END max_depth=4, min_samples_split=1000, n_estimators=30;, score=0.076 total time=  37.0s\n",
            "[CV 3/3] END max_depth=4, min_samples_split=1000, n_estimators=30;, score=0.001 total time=  35.9s\n",
            "[CV 1/3] END max_depth=4, min_samples_split=1000, n_estimators=60;, score=0.062 total time= 1.2min\n",
            "[CV 2/3] END max_depth=4, min_samples_split=1000, n_estimators=60;, score=0.129 total time= 1.2min\n",
            "[CV 3/3] END max_depth=4, min_samples_split=1000, n_estimators=60;, score=0.001 total time= 1.2min\n",
            "[CV 1/3] END max_depth=4, min_samples_split=1000, n_estimators=100;, score=0.108 total time= 2.0min\n",
            "[CV 2/3] END max_depth=4, min_samples_split=1000, n_estimators=100;, score=0.153 total time= 2.0min\n",
            "[CV 3/3] END max_depth=4, min_samples_split=1000, n_estimators=100;, score=0.001 total time= 2.0min\n",
            "[CV 1/3] END max_depth=8, min_samples_split=4, n_estimators=30;, score=-467.650 total time= 1.1min\n",
            "[CV 2/3] END max_depth=8, min_samples_split=4, n_estimators=30;, score=-535.408 total time= 1.2min\n",
            "[CV 3/3] END max_depth=8, min_samples_split=4, n_estimators=30;, score=0.001 total time= 1.1min\n",
            "[CV 1/3] END max_depth=8, min_samples_split=4, n_estimators=60;, score=-351.684 total time= 2.3min\n",
            "[CV 2/3] END max_depth=8, min_samples_split=4, n_estimators=60;, score=-492.994 total time= 2.4min\n",
            "[CV 3/3] END max_depth=8, min_samples_split=4, n_estimators=60;, score=0.001 total time= 2.3min\n",
            "[CV 1/3] END max_depth=8, min_samples_split=4, n_estimators=100;, score=-338.675 total time= 3.9min\n",
            "[CV 2/3] END max_depth=8, min_samples_split=4, n_estimators=100;, score=-433.362 total time= 3.8min\n",
            "[CV 3/3] END max_depth=8, min_samples_split=4, n_estimators=100;, score=0.001 total time= 3.7min\n",
            "[CV 1/3] END max_depth=8, min_samples_split=100, n_estimators=30;, score=-160.283 total time= 1.1min\n",
            "[CV 2/3] END max_depth=8, min_samples_split=100, n_estimators=30;, score=-52.729 total time= 1.1min\n",
            "[CV 3/3] END max_depth=8, min_samples_split=100, n_estimators=30;, score=0.001 total time= 1.1min\n",
            "[CV 1/3] END max_depth=8, min_samples_split=100, n_estimators=60;, score=-134.837 total time= 2.3min\n",
            "[CV 2/3] END max_depth=8, min_samples_split=100, n_estimators=60;, score=-41.104 total time= 2.2min\n",
            "[CV 3/3] END max_depth=8, min_samples_split=100, n_estimators=60;, score=0.001 total time= 2.2min\n",
            "[CV 1/3] END max_depth=8, min_samples_split=100, n_estimators=100;, score=-132.637 total time= 3.7min\n",
            "[CV 2/3] END max_depth=8, min_samples_split=100, n_estimators=100;, score=-41.555 total time= 3.7min\n",
            "[CV 3/3] END max_depth=8, min_samples_split=100, n_estimators=100;, score=0.001 total time= 3.7min\n",
            "[CV 1/3] END max_depth=8, min_samples_split=1000, n_estimators=30;, score=0.091 total time= 1.1min\n",
            "[CV 2/3] END max_depth=8, min_samples_split=1000, n_estimators=30;, score=0.163 total time= 1.1min\n",
            "[CV 3/3] END max_depth=8, min_samples_split=1000, n_estimators=30;, score=0.001 total time= 1.1min\n",
            "[CV 1/3] END max_depth=8, min_samples_split=1000, n_estimators=60;, score=0.144 total time= 2.2min\n",
            "[CV 2/3] END max_depth=8, min_samples_split=1000, n_estimators=60;, score=0.213 total time= 2.2min\n",
            "[CV 3/3] END max_depth=8, min_samples_split=1000, n_estimators=60;, score=0.001 total time= 2.2min\n",
            "[CV 1/3] END max_depth=8, min_samples_split=1000, n_estimators=100;, score=0.188 total time= 3.7min\n",
            "[CV 2/3] END max_depth=8, min_samples_split=1000, n_estimators=100;, score=0.235 total time= 3.7min\n",
            "[CV 3/3] END max_depth=8, min_samples_split=1000, n_estimators=100;, score=0.001 total time= 3.6min\n",
            "CPU times: user 3h 25min 33s, sys: 30.4 s, total: 3h 26min 4s\n",
            "Wall time: 1h 58min 45s\n"
          ]
        },
        {
          "output_type": "execute_result",
          "data": {
            "text/plain": [
              "GridSearchCV(cv=3, estimator=RandomForestRegressor(n_jobs=-1, random_state=1),\n",
              "             param_grid=[{'max_depth': [2, 4, 8],\n",
              "                          'min_samples_split': [4, 100, 1000],\n",
              "                          'n_estimators': [30, 60, 100]}],\n",
              "             verbose=3)"
            ],
            "text/html": [
              "<style>#sk-container-id-3 {color: black;}#sk-container-id-3 pre{padding: 0;}#sk-container-id-3 div.sk-toggleable {background-color: white;}#sk-container-id-3 label.sk-toggleable__label {cursor: pointer;display: block;width: 100%;margin-bottom: 0;padding: 0.3em;box-sizing: border-box;text-align: center;}#sk-container-id-3 label.sk-toggleable__label-arrow:before {content: \"▸\";float: left;margin-right: 0.25em;color: #696969;}#sk-container-id-3 label.sk-toggleable__label-arrow:hover:before {color: black;}#sk-container-id-3 div.sk-estimator:hover label.sk-toggleable__label-arrow:before {color: black;}#sk-container-id-3 div.sk-toggleable__content {max-height: 0;max-width: 0;overflow: hidden;text-align: left;background-color: #f0f8ff;}#sk-container-id-3 div.sk-toggleable__content pre {margin: 0.2em;color: black;border-radius: 0.25em;background-color: #f0f8ff;}#sk-container-id-3 input.sk-toggleable__control:checked~div.sk-toggleable__content {max-height: 200px;max-width: 100%;overflow: auto;}#sk-container-id-3 input.sk-toggleable__control:checked~label.sk-toggleable__label-arrow:before {content: \"▾\";}#sk-container-id-3 div.sk-estimator input.sk-toggleable__control:checked~label.sk-toggleable__label {background-color: #d4ebff;}#sk-container-id-3 div.sk-label input.sk-toggleable__control:checked~label.sk-toggleable__label {background-color: #d4ebff;}#sk-container-id-3 input.sk-hidden--visually {border: 0;clip: rect(1px 1px 1px 1px);clip: rect(1px, 1px, 1px, 1px);height: 1px;margin: -1px;overflow: hidden;padding: 0;position: absolute;width: 1px;}#sk-container-id-3 div.sk-estimator {font-family: monospace;background-color: #f0f8ff;border: 1px dotted black;border-radius: 0.25em;box-sizing: border-box;margin-bottom: 0.5em;}#sk-container-id-3 div.sk-estimator:hover {background-color: #d4ebff;}#sk-container-id-3 div.sk-parallel-item::after {content: \"\";width: 100%;border-bottom: 1px solid gray;flex-grow: 1;}#sk-container-id-3 div.sk-label:hover label.sk-toggleable__label {background-color: #d4ebff;}#sk-container-id-3 div.sk-serial::before {content: \"\";position: absolute;border-left: 1px solid gray;box-sizing: border-box;top: 0;bottom: 0;left: 50%;z-index: 0;}#sk-container-id-3 div.sk-serial {display: flex;flex-direction: column;align-items: center;background-color: white;padding-right: 0.2em;padding-left: 0.2em;position: relative;}#sk-container-id-3 div.sk-item {position: relative;z-index: 1;}#sk-container-id-3 div.sk-parallel {display: flex;align-items: stretch;justify-content: center;background-color: white;position: relative;}#sk-container-id-3 div.sk-item::before, #sk-container-id-3 div.sk-parallel-item::before {content: \"\";position: absolute;border-left: 1px solid gray;box-sizing: border-box;top: 0;bottom: 0;left: 50%;z-index: -1;}#sk-container-id-3 div.sk-parallel-item {display: flex;flex-direction: column;z-index: 1;position: relative;background-color: white;}#sk-container-id-3 div.sk-parallel-item:first-child::after {align-self: flex-end;width: 50%;}#sk-container-id-3 div.sk-parallel-item:last-child::after {align-self: flex-start;width: 50%;}#sk-container-id-3 div.sk-parallel-item:only-child::after {width: 0;}#sk-container-id-3 div.sk-dashed-wrapped {border: 1px dashed gray;margin: 0 0.4em 0.5em 0.4em;box-sizing: border-box;padding-bottom: 0.4em;background-color: white;}#sk-container-id-3 div.sk-label label {font-family: monospace;font-weight: bold;display: inline-block;line-height: 1.2em;}#sk-container-id-3 div.sk-label-container {text-align: center;}#sk-container-id-3 div.sk-container {/* jupyter's `normalize.less` sets `[hidden] { display: none; }` but bootstrap.min.css set `[hidden] { display: none !important; }` so we also need the `!important` here to be able to override the default hidden behavior on the sphinx rendered scikit-learn.org. See: https://github.com/scikit-learn/scikit-learn/issues/21755 */display: inline-block !important;position: relative;}#sk-container-id-3 div.sk-text-repr-fallback {display: none;}</style><div id=\"sk-container-id-3\" class=\"sk-top-container\"><div class=\"sk-text-repr-fallback\"><pre>GridSearchCV(cv=3, estimator=RandomForestRegressor(n_jobs=-1, random_state=1),\n",
              "             param_grid=[{&#x27;max_depth&#x27;: [2, 4, 8],\n",
              "                          &#x27;min_samples_split&#x27;: [4, 100, 1000],\n",
              "                          &#x27;n_estimators&#x27;: [30, 60, 100]}],\n",
              "             verbose=3)</pre><b>In a Jupyter environment, please rerun this cell to show the HTML representation or trust the notebook. <br />On GitHub, the HTML representation is unable to render, please try loading this page with nbviewer.org.</b></div><div class=\"sk-container\" hidden><div class=\"sk-item sk-dashed-wrapped\"><div class=\"sk-label-container\"><div class=\"sk-label sk-toggleable\"><input class=\"sk-toggleable__control sk-hidden--visually\" id=\"sk-estimator-id-15\" type=\"checkbox\" ><label for=\"sk-estimator-id-15\" class=\"sk-toggleable__label sk-toggleable__label-arrow\">GridSearchCV</label><div class=\"sk-toggleable__content\"><pre>GridSearchCV(cv=3, estimator=RandomForestRegressor(n_jobs=-1, random_state=1),\n",
              "             param_grid=[{&#x27;max_depth&#x27;: [2, 4, 8],\n",
              "                          &#x27;min_samples_split&#x27;: [4, 100, 1000],\n",
              "                          &#x27;n_estimators&#x27;: [30, 60, 100]}],\n",
              "             verbose=3)</pre></div></div></div><div class=\"sk-parallel\"><div class=\"sk-parallel-item\"><div class=\"sk-item\"><div class=\"sk-label-container\"><div class=\"sk-label sk-toggleable\"><input class=\"sk-toggleable__control sk-hidden--visually\" id=\"sk-estimator-id-16\" type=\"checkbox\" ><label for=\"sk-estimator-id-16\" class=\"sk-toggleable__label sk-toggleable__label-arrow\">estimator: RandomForestRegressor</label><div class=\"sk-toggleable__content\"><pre>RandomForestRegressor(n_jobs=-1, random_state=1)</pre></div></div></div><div class=\"sk-serial\"><div class=\"sk-item\"><div class=\"sk-estimator sk-toggleable\"><input class=\"sk-toggleable__control sk-hidden--visually\" id=\"sk-estimator-id-17\" type=\"checkbox\" ><label for=\"sk-estimator-id-17\" class=\"sk-toggleable__label sk-toggleable__label-arrow\">RandomForestRegressor</label><div class=\"sk-toggleable__content\"><pre>RandomForestRegressor(n_jobs=-1, random_state=1)</pre></div></div></div></div></div></div></div></div></div></div>"
            ]
          },
          "metadata": {},
          "execution_count": 32
        }
      ],
      "source": [
        "%%time\n",
        "# Perform grid search to find the best hyperparameters. This could take a while.\n",
        "rfr = RandomForestRegressor(random_state=1, n_jobs=-1, oob_score=False)\n",
        "# scoring='accuracy' for classifiers; use score for regressor\n",
        "reg = GridSearchCV(rfr, parameter_grid, cv=3, verbose=3)\n",
        "reg.fit(X_train, y_train.values.ravel())"
      ]
    },
    {
      "cell_type": "markdown",
      "metadata": {
        "id": "SaEkEvpEMOn7"
      },
      "source": [
        "Note: The 'scoring' parameter of GridSearchCV must be a str among {'precision_micro', 'precision_weighted', 'balanced_accuracy', 'max_error', 'neg_mean_gamma_deviance', 'completeness_score', 'roc_auc_ovr', 'precision', 'f1_samples', 'adjusted_rand_score', 'positive_likelihood_ratio', 'neg_brier_score', 'fowlkes_mallows_score', 'neg_mean_absolute_error', 'neg_root_mean_squared_error', 'f1', 'normalized_mutual_info_score', 'roc_auc_ovr_weighted', 'rand_score', 'neg_mean_absolute_percentage_error', 'roc_auc_ovo', 'recall_weighted', 'jaccard_macro', 'matthews_corrcoef', 'neg_median_absolute_error', 'r2', 'roc_auc_ovo_weighted', 'top_k_accuracy', 'f1_weighted', 'recall_macro', 'explained_variance', 'neg_mean_poisson_deviance', 'f1_micro', 'jaccard_samples', 'jaccard', 'v_measure_score', 'jaccard_micro', 'homogeneity_score', 'f1_macro', 'mutual_info_score', 'neg_mean_squared_log_error', 'precision_macro', 'recall', 'recall_micro', 'roc_auc', 'average_precision', 'jaccard_weighted', 'adjusted_mutual_info_score', 'neg_mean_squared_error', 'neg_negative_likelihood_ratio', 'neg_log_loss', 'precision_samples', 'accuracy', 'recall_samples'}, a callable, an instance of 'list', an instance of 'tuple', an instance of 'dict' or None."
      ]
    },
    {
      "cell_type": "code",
      "execution_count": null,
      "metadata": {
        "id": "_JO-wsm7a58f",
        "colab": {
          "base_uri": "https://localhost:8080/"
        },
        "outputId": "500c29ea-4bcd-4977-9ae5-fea7340ef3ae"
      },
      "outputs": [
        {
          "output_type": "stream",
          "name": "stdout",
          "text": [
            "{'max_depth': 2, 'min_samples_split': 4, 'n_estimators': 100}\n",
            "0.4197946354218076\n"
          ]
        }
      ],
      "source": [
        "# Get the best model and its parameters.\n",
        "print(reg.best_params_)\n",
        "print(reg.best_score_)"
      ]
    },
    {
      "cell_type": "markdown",
      "source": [
        "From the debug prints, best score is for <br>\n",
        "[CV 1/3] END max_depth=2, min_samples_split=4, n_estimators=100;, score=0.632 total time= 1.1min<br>\n",
        "[CV 1/3] END max_depth=2, min_samples_split=1000, n_estimators=100;, score=0.632 total time= 1.1min"
      ],
      "metadata": {
        "id": "e7GBN3PHXlcX"
      }
    },
    {
      "cell_type": "code",
      "execution_count": null,
      "metadata": {
        "colab": {
          "base_uri": "https://localhost:8080/",
          "height": 91
        },
        "id": "W7ier_bt23RS",
        "outputId": "fb1b8e06-a744-49b7-ce45-77b1f0835ab5"
      },
      "outputs": [
        {
          "output_type": "execute_result",
          "data": {
            "text/plain": [
              "RandomForestRegressor(max_depth=2, min_samples_split=4, n_jobs=-1,\n",
              "                      random_state=1)"
            ],
            "text/html": [
              "<style>#sk-container-id-4 {color: black;}#sk-container-id-4 pre{padding: 0;}#sk-container-id-4 div.sk-toggleable {background-color: white;}#sk-container-id-4 label.sk-toggleable__label {cursor: pointer;display: block;width: 100%;margin-bottom: 0;padding: 0.3em;box-sizing: border-box;text-align: center;}#sk-container-id-4 label.sk-toggleable__label-arrow:before {content: \"▸\";float: left;margin-right: 0.25em;color: #696969;}#sk-container-id-4 label.sk-toggleable__label-arrow:hover:before {color: black;}#sk-container-id-4 div.sk-estimator:hover label.sk-toggleable__label-arrow:before {color: black;}#sk-container-id-4 div.sk-toggleable__content {max-height: 0;max-width: 0;overflow: hidden;text-align: left;background-color: #f0f8ff;}#sk-container-id-4 div.sk-toggleable__content pre {margin: 0.2em;color: black;border-radius: 0.25em;background-color: #f0f8ff;}#sk-container-id-4 input.sk-toggleable__control:checked~div.sk-toggleable__content {max-height: 200px;max-width: 100%;overflow: auto;}#sk-container-id-4 input.sk-toggleable__control:checked~label.sk-toggleable__label-arrow:before {content: \"▾\";}#sk-container-id-4 div.sk-estimator input.sk-toggleable__control:checked~label.sk-toggleable__label {background-color: #d4ebff;}#sk-container-id-4 div.sk-label input.sk-toggleable__control:checked~label.sk-toggleable__label {background-color: #d4ebff;}#sk-container-id-4 input.sk-hidden--visually {border: 0;clip: rect(1px 1px 1px 1px);clip: rect(1px, 1px, 1px, 1px);height: 1px;margin: -1px;overflow: hidden;padding: 0;position: absolute;width: 1px;}#sk-container-id-4 div.sk-estimator {font-family: monospace;background-color: #f0f8ff;border: 1px dotted black;border-radius: 0.25em;box-sizing: border-box;margin-bottom: 0.5em;}#sk-container-id-4 div.sk-estimator:hover {background-color: #d4ebff;}#sk-container-id-4 div.sk-parallel-item::after {content: \"\";width: 100%;border-bottom: 1px solid gray;flex-grow: 1;}#sk-container-id-4 div.sk-label:hover label.sk-toggleable__label {background-color: #d4ebff;}#sk-container-id-4 div.sk-serial::before {content: \"\";position: absolute;border-left: 1px solid gray;box-sizing: border-box;top: 0;bottom: 0;left: 50%;z-index: 0;}#sk-container-id-4 div.sk-serial {display: flex;flex-direction: column;align-items: center;background-color: white;padding-right: 0.2em;padding-left: 0.2em;position: relative;}#sk-container-id-4 div.sk-item {position: relative;z-index: 1;}#sk-container-id-4 div.sk-parallel {display: flex;align-items: stretch;justify-content: center;background-color: white;position: relative;}#sk-container-id-4 div.sk-item::before, #sk-container-id-4 div.sk-parallel-item::before {content: \"\";position: absolute;border-left: 1px solid gray;box-sizing: border-box;top: 0;bottom: 0;left: 50%;z-index: -1;}#sk-container-id-4 div.sk-parallel-item {display: flex;flex-direction: column;z-index: 1;position: relative;background-color: white;}#sk-container-id-4 div.sk-parallel-item:first-child::after {align-self: flex-end;width: 50%;}#sk-container-id-4 div.sk-parallel-item:last-child::after {align-self: flex-start;width: 50%;}#sk-container-id-4 div.sk-parallel-item:only-child::after {width: 0;}#sk-container-id-4 div.sk-dashed-wrapped {border: 1px dashed gray;margin: 0 0.4em 0.5em 0.4em;box-sizing: border-box;padding-bottom: 0.4em;background-color: white;}#sk-container-id-4 div.sk-label label {font-family: monospace;font-weight: bold;display: inline-block;line-height: 1.2em;}#sk-container-id-4 div.sk-label-container {text-align: center;}#sk-container-id-4 div.sk-container {/* jupyter's `normalize.less` sets `[hidden] { display: none; }` but bootstrap.min.css set `[hidden] { display: none !important; }` so we also need the `!important` here to be able to override the default hidden behavior on the sphinx rendered scikit-learn.org. See: https://github.com/scikit-learn/scikit-learn/issues/21755 */display: inline-block !important;position: relative;}#sk-container-id-4 div.sk-text-repr-fallback {display: none;}</style><div id=\"sk-container-id-4\" class=\"sk-top-container\"><div class=\"sk-text-repr-fallback\"><pre>RandomForestRegressor(max_depth=2, min_samples_split=4, n_jobs=-1,\n",
              "                      random_state=1)</pre><b>In a Jupyter environment, please rerun this cell to show the HTML representation or trust the notebook. <br />On GitHub, the HTML representation is unable to render, please try loading this page with nbviewer.org.</b></div><div class=\"sk-container\" hidden><div class=\"sk-item\"><div class=\"sk-estimator sk-toggleable\"><input class=\"sk-toggleable__control sk-hidden--visually\" id=\"sk-estimator-id-18\" type=\"checkbox\" checked><label for=\"sk-estimator-id-18\" class=\"sk-toggleable__label sk-toggleable__label-arrow\">RandomForestRegressor</label><div class=\"sk-toggleable__content\"><pre>RandomForestRegressor(max_depth=2, min_samples_split=4, n_jobs=-1,\n",
              "                      random_state=1)</pre></div></div></div></div></div>"
            ]
          },
          "metadata": {},
          "execution_count": 36
        }
      ],
      "source": [
        "# Fit the best classifier on the training data.\n",
        "rfr_best = RandomForestRegressor(n_estimators=100, max_depth=2,\n",
        "                                    min_samples_split=4,\n",
        "                                    random_state=1, n_jobs=-1,\n",
        "                                    oob_score=False)\n",
        "rfr_best.fit(X_train, y_train.values.ravel())"
      ]
    },
    {
      "cell_type": "code",
      "execution_count": null,
      "metadata": {
        "id": "ZHPrwD41tq13"
      },
      "outputs": [],
      "source": [
        "# Make predictions on the test data\n",
        "y_pred_rfr_best = rfr_best.predict(X_test)"
      ]
    },
    {
      "cell_type": "code",
      "source": [
        "\n",
        "# evaluate the model using mean absolute error as a metric\n",
        "y_rfr_best_mae = mean_absolute_error(y_test, y_pred_rfr_best)\n",
        "print(y_rfr_best_mae)\n",
        "\n",
        "# Model Performance\n",
        "rfr_best_score = rfr_best.score(X_test, y_test)\n",
        "print(type(rfr_best_score), rfr_best_score)"
      ],
      "metadata": {
        "colab": {
          "base_uri": "https://localhost:8080/"
        },
        "id": "JCWPBDaVYlAf",
        "outputId": "1e14cab8-167a-4444-b406-2dabed7755ca"
      },
      "execution_count": null,
      "outputs": [
        {
          "output_type": "stream",
          "name": "stdout",
          "text": [
            "3.9667082863622727\n",
            "<class 'numpy.float64'> 0.6736309233705144\n"
          ]
        }
      ]
    },
    {
      "cell_type": "code",
      "source": [
        "%%time\n",
        "# Build random forest regressor model (n_jobs=-1 to use all processors)\n",
        "# Try hyperpram that gave the most negative score\n",
        "# max_depth=8, min_samples_split=4, n_estimators=30;, score=-535.408\n",
        "rfr_neg = RandomForestRegressor(n_estimators=30, max_depth=8,\n",
        "                                    min_samples_split=4,\n",
        "                                    random_state=1, n_jobs=-1,\n",
        "                                    oob_score=False)\n",
        "rfr_neg.fit(X_train, y_train.values.ravel())\n",
        "\n",
        "# Make predictions on the test data\n",
        "y_pred_rfr_neg = rfr_neg.predict(X_test)\n",
        "\n",
        "# evaluate the model using mean absolute error as a metric\n",
        "y_rfr_neg_mae = mean_absolute_error(y_test, y_pred_rfr_neg)\n",
        "print(y_rfr_neg_mae)\n",
        "\n",
        "# Model Performance\n",
        "rfr_neg_score = rfr_neg.score(X_test, y_test)\n",
        "print(type(rfr_neg_score), rfr_neg_score)"
      ],
      "metadata": {
        "colab": {
          "base_uri": "https://localhost:8080/"
        },
        "id": "57PBto5p3h-I",
        "outputId": "a33ec40e-861e-4c71-987e-e1986c43b864"
      },
      "execution_count": null,
      "outputs": [
        {
          "output_type": "stream",
          "name": "stdout",
          "text": [
            "1.8688383397444912\n",
            "<class 'numpy.float64'> -1.2953822721775885\n",
            "CPU times: user 3min 18s, sys: 617 ms, total: 3min 19s\n",
            "Wall time: 1min 56s\n"
          ]
        }
      ]
    },
    {
      "cell_type": "code",
      "source": [
        "%%time\n",
        "# Define the hyperparameters to tune - try2 with data prep (col_transformer)\n",
        "# Only search the space for the parameters 'n_estimators', 'max_depth', and 'min_samples_split'\n",
        "rfr = RandomForestRegressor(random_state=1, n_jobs=-1, oob_score=False)\n",
        "\n",
        "# define the data preparation and modeling pipeline\n",
        "pipe_rfr = Pipeline(steps=[('prep', col_transform), ('m', rfr)])\n",
        "\n",
        "n_est_list = [50, 100]\n",
        "max_depth_list = [2, 4, 5]\n",
        "min_samp_list = [2, 4]\n",
        "# Create the grid - use <component>__<parameter>\n",
        "parameter_grid = [{'m__n_estimators': n_est_list,\n",
        "                  'm__max_depth': max_depth_list,\n",
        "                  'm__min_samples_split': min_samp_list}]"
      ],
      "metadata": {
        "colab": {
          "base_uri": "https://localhost:8080/"
        },
        "id": "Kt_y3a0KUsZw",
        "outputId": "072b483c-7ec2-4fe0-a6c8-10772bf1c893"
      },
      "execution_count": null,
      "outputs": [
        {
          "output_type": "stream",
          "name": "stdout",
          "text": [
            "CPU times: user 82 µs, sys: 1e+03 ns, total: 83 µs\n",
            "Wall time: 88.7 µs\n"
          ]
        }
      ]
    },
    {
      "cell_type": "code",
      "source": [
        "%%time\n",
        "# Perform grid search to find the best hyperparameters. This could take a while.\n",
        "# scoring='accuracy' for classifiers; use score for regressor\n",
        "p_reg = GridSearchCV(pipe_rfr, parameter_grid, cv=3, verbose=3,\n",
        "                   scoring='r2')\n",
        "p_reg.fit(X_train, y_train.values.ravel())\n",
        "\n",
        "# Get the best model and its parameters.\n",
        "print(p_reg.best_params_)\n",
        "print(p_reg.best_score_)"
      ],
      "metadata": {
        "colab": {
          "base_uri": "https://localhost:8080/"
        },
        "id": "w6195gx1fxJ-",
        "outputId": "b1f81f87-e4e1-4e3c-e829-237bd840aa86"
      },
      "execution_count": null,
      "outputs": [
        {
          "output_type": "stream",
          "name": "stdout",
          "text": [
            "Fitting 3 folds for each of 12 candidates, totalling 36 fits\n",
            "[CV 1/3] END m__max_depth=2, m__min_samples_split=2, m__n_estimators=50;, score=0.361 total time=  46.5s\n",
            "[CV 2/3] END m__max_depth=2, m__min_samples_split=2, m__n_estimators=50;, score=0.474 total time=  47.6s\n",
            "[CV 3/3] END m__max_depth=2, m__min_samples_split=2, m__n_estimators=50;, score=0.001 total time=  48.0s\n",
            "[CV 1/3] END m__max_depth=2, m__min_samples_split=2, m__n_estimators=100;, score=0.384 total time= 1.5min\n",
            "[CV 2/3] END m__max_depth=2, m__min_samples_split=2, m__n_estimators=100;, score=0.488 total time= 1.6min\n",
            "[CV 3/3] END m__max_depth=2, m__min_samples_split=2, m__n_estimators=100;, score=0.001 total time= 1.6min\n",
            "[CV 1/3] END m__max_depth=2, m__min_samples_split=4, m__n_estimators=50;, score=0.361 total time=  46.5s\n",
            "[CV 2/3] END m__max_depth=2, m__min_samples_split=4, m__n_estimators=50;, score=0.474 total time=  46.6s\n",
            "[CV 3/3] END m__max_depth=2, m__min_samples_split=4, m__n_estimators=50;, score=0.001 total time=  46.0s\n",
            "[CV 1/3] END m__max_depth=2, m__min_samples_split=4, m__n_estimators=100;, score=0.384 total time= 1.6min\n",
            "[CV 2/3] END m__max_depth=2, m__min_samples_split=4, m__n_estimators=100;, score=0.488 total time= 1.5min\n",
            "[CV 3/3] END m__max_depth=2, m__min_samples_split=4, m__n_estimators=100;, score=0.001 total time= 1.5min\n",
            "[CV 1/3] END m__max_depth=4, m__min_samples_split=2, m__n_estimators=50;, score=-93.954 total time= 1.8min\n",
            "[CV 2/3] END m__max_depth=4, m__min_samples_split=2, m__n_estimators=50;, score=-3.294 total time= 1.8min\n",
            "[CV 3/3] END m__max_depth=4, m__min_samples_split=2, m__n_estimators=50;, score=0.001 total time= 1.7min\n",
            "[CV 1/3] END m__max_depth=4, m__min_samples_split=2, m__n_estimators=100;, score=-62.109 total time= 3.6min\n",
            "[CV 2/3] END m__max_depth=4, m__min_samples_split=2, m__n_estimators=100;, score=-5.080 total time= 3.5min\n",
            "[CV 3/3] END m__max_depth=4, m__min_samples_split=2, m__n_estimators=100;, score=0.001 total time= 3.5min\n",
            "[CV 1/3] END m__max_depth=4, m__min_samples_split=4, m__n_estimators=50;, score=-82.470 total time= 1.7min\n",
            "[CV 2/3] END m__max_depth=4, m__min_samples_split=4, m__n_estimators=50;, score=-3.294 total time= 1.7min\n",
            "[CV 3/3] END m__max_depth=4, m__min_samples_split=4, m__n_estimators=50;, score=0.001 total time= 1.8min\n",
            "[CV 1/3] END m__max_depth=4, m__min_samples_split=4, m__n_estimators=100;, score=-64.278 total time= 3.6min\n",
            "[CV 2/3] END m__max_depth=4, m__min_samples_split=4, m__n_estimators=100;, score=-5.080 total time= 3.4min\n",
            "[CV 3/3] END m__max_depth=4, m__min_samples_split=4, m__n_estimators=100;, score=0.001 total time= 3.5min\n",
            "[CV 1/3] END m__max_depth=5, m__min_samples_split=2, m__n_estimators=50;, score=-125.524 total time= 2.3min\n",
            "[CV 2/3] END m__max_depth=5, m__min_samples_split=2, m__n_estimators=50;, score=-7.056 total time= 2.3min\n",
            "[CV 3/3] END m__max_depth=5, m__min_samples_split=2, m__n_estimators=50;, score=0.001 total time= 2.4min\n",
            "[CV 1/3] END m__max_depth=5, m__min_samples_split=2, m__n_estimators=100;, score=-112.414 total time= 4.9min\n",
            "[CV 2/3] END m__max_depth=5, m__min_samples_split=2, m__n_estimators=100;, score=-4.979 total time= 4.8min\n",
            "[CV 3/3] END m__max_depth=5, m__min_samples_split=2, m__n_estimators=100;, score=0.001 total time= 4.9min\n",
            "[CV 1/3] END m__max_depth=5, m__min_samples_split=4, m__n_estimators=50;, score=-105.738 total time= 2.4min\n",
            "[CV 2/3] END m__max_depth=5, m__min_samples_split=4, m__n_estimators=50;, score=-7.056 total time= 2.5min\n",
            "[CV 3/3] END m__max_depth=5, m__min_samples_split=4, m__n_estimators=50;, score=0.001 total time= 2.4min\n",
            "[CV 1/3] END m__max_depth=5, m__min_samples_split=4, m__n_estimators=100;, score=-93.095 total time= 4.9min\n",
            "[CV 2/3] END m__max_depth=5, m__min_samples_split=4, m__n_estimators=100;, score=-4.979 total time= 4.8min\n",
            "[CV 3/3] END m__max_depth=5, m__min_samples_split=4, m__n_estimators=100;, score=0.001 total time= 4.8min\n",
            "{'m__max_depth': 2, 'm__min_samples_split': 2, 'm__n_estimators': 100}\n",
            "0.2908998718351085\n",
            "CPU times: user 2h 35min 37s, sys: 36 s, total: 2h 36min 13s\n",
            "Wall time: 1h 31min 11s\n"
          ]
        }
      ]
    },
    {
      "cell_type": "code",
      "source": [
        "# Get the best model and its parameters.\n",
        "print(p_reg.best_params_)\n",
        "print(p_reg.best_score_)"
      ],
      "metadata": {
        "colab": {
          "base_uri": "https://localhost:8080/"
        },
        "id": "RhNej7as3Xk4",
        "outputId": "eea47eda-583d-4d9e-e094-54bdd62f91eb"
      },
      "execution_count": null,
      "outputs": [
        {
          "output_type": "stream",
          "name": "stdout",
          "text": [
            "{'m__max_depth': 2, 'm__min_samples_split': 2, 'm__n_estimators': 100}\n",
            "0.2908998718351085\n"
          ]
        }
      ]
    },
    {
      "cell_type": "markdown",
      "source": [
        "Summary:\n",
        "1. Loaded yellow_tripdata_2022-01.parquet file into Pandas and added 'trip_duration' feature. <br>\n",
        "   y is the target variable which is the\n",
        "'total_amount'. This is what we are trying to predict.<br>\n",
        "   'feature_cols' has the feature names used to predict the 'total_amount'.\n",
        "\n",
        "2. For model evaluation<br>\n",
        "    First tried a baseline model using the mean value as predictor.\n",
        "    Then tried a pipeline object containing the column transformations and regression model.  \n",
        "       Mean baseline mean absolute error: 9.19\n",
        "       Linear Regression mean absolute error: 3.39\n",
        "       Random Forest max_depth 5, n_estimators=50, mean absolute error: 2.56\n",
        "         The top features of importance with this model are:\n",
        "         521    cont__trip_distance         0.469959\n",
        "         108  cat__PULocationID_107         0.296208\n",
        "         522    cont__trip_duration         0.143166\n",
        "         396  cat__DOLocationID_140         0.066259\n",
        "\n",
        "3. With GridSearchCV, with no column transformation; just RandomForestRegressor with parameter_grid with,<br>\n",
        "     n_est_list = [30, 60, 100]  max_depth_list = [2, 4, 8]  min_samp_list = [4, 100, 1000]<br>\n",
        "     Verbose=3 gives<br>\n",
        "       [CV 1/3] END max_depth=2, min_samples_split=4, n_estimators=100;, score=0.632 total time= 1.1min\n",
        "       [CV 1/3] END max_depth=2, min_samples_split=1000, n_estimators=100;, score=0.632 total time= 1.1min\n",
        "       [CV 2/3] END max_depth=8, min_samples_split=4, n_estimators=30;, score=-535.408 total time= 1.2min - most negative score\n",
        "     Using the best_params, {'max_depth': 2, 'min_samples_split': 4, 'n_estimators': 100} and trying RandomForestRegressor again,\n",
        "       mean absolute error = 3.96 (worse than 2. above)\n",
        "       rfr_best_score is 0.673 (matches verbose debug)\n",
        "     Using the params with the most negative score, {max_depth=8, min_samples_split=4, n_estimators=30}, score=-535.408 (from debug) and trying RandomForestRegressor again,\n",
        "       mean absolute error = 1.87 (least error)\n",
        "       rfr_score is -1.295\n",
        "\n",
        "4. With GridSearchCV, on pipeline with column transformation and RandomForestRegressor and scoring='r2' <br>\n",
        "     n_est_list = [50, 100]  max_depth_list = [2, 4, 5]  min_samp_list = [2, 4]<br>\n",
        "       [CV 2/3] END m__max_depth=2, m__min_samples_split=2, m__n_estimators=100;, score=0.488 total time= 1.6min\n",
        "       [CV 2/3] END m__max_depth=2, m__min_samples_split=4, m__n_estimators=100;, score=0.488 total time= 1.5min\n",
        "       [CV 1/3] END m__max_depth=5, m__min_samples_split=2, m__n_estimators=50;, score=-125.524 total time= 2.3min - most negative score\n",
        "     The most negative score is with, {max_depth=5, min_samples_split=2, n_estimators=50}, score=-125.524 (from debug). This matches what was tried in 2. above for model evaluation.\n",
        "\n",
        "       Mean absolute error (mae) with the different tries:\n",
        "        Baseline model to always predict mean: 9.19 - worst\n",
        "        Linear Regression: 3.39 - better\n",
        "        Random Forest Regressor (mae, score) values:\n",
        "         {max_depth=5, min_samples_split=2, n_estimators=50}: 2.56, -5.05\n",
        "         {max_depth=2, min_samples_split=4, n_estimators=100}: 3.96, 0.673 - best score\n",
        "         {max_depth=8, min_samples_split=4, n_estimators=30}: 1.87, -1.295 - best mae\n",
        "     With Random Forest Regressor, the best hyperparameters (score) got from GridSearchCV, don't seem to give the best mean absolute error."
      ],
      "metadata": {
        "id": "1iNn9Y92gO8v"
      }
    }
  ],
  "metadata": {
    "colab": {
      "provenance": [],
      "include_colab_link": true
    },
    "kernelspec": {
      "display_name": "Python 3",
      "name": "python3"
    },
    "language_info": {
      "name": "python"
    }
  },
  "nbformat": 4,
  "nbformat_minor": 0
}