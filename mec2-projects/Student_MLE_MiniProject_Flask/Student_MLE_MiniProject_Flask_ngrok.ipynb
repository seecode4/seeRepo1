{
  "cells": [
    {
      "cell_type": "markdown",
      "metadata": {
        "id": "view-in-github",
        "colab_type": "text"
      },
      "source": [
        "<a href=\"https://colab.research.google.com/github/seecode4/seeRepo1/blob/main/mec2-projects/Student_MLE_MiniProject_Flask/Student_MLE_MiniProject_Flask_ngrok.ipynb\" target=\"_parent\"><img src=\"https://colab.research.google.com/assets/colab-badge.svg\" alt=\"Open In Colab\"/></a>"
      ]
    },
    {
      "cell_type": "markdown",
      "metadata": {
        "id": "yPbWViOfnJFg"
      },
      "source": [
        "# Mini Project: Flask for ML Tasks\n",
        "\n",
        "Flask is a micro web framework for Python that simplifies the process of building web applications. It's designed to be lightweight, flexible, and easy to use, making it a popular choice for developing web applications, APIs, and microservices. Flask doesn't impose a lot of constraints on how you structure your application, giving you the freedom to design your application as needed.\n",
        "\n",
        "Here's how Flask works and how it can be used for machine learning engineering:\n",
        "\n",
        "**1. Web Application Basics:**\n",
        "Flask allows you to define routes (URLs) and associate them with Python functions. When a user visits a specific URL, the associated function is executed, and you can return HTML, JSON, images, or any other type of data as a response. This makes it great for building dynamic and interactive web applications.\n",
        "\n",
        "**2. Integration with Machine Learning:**\n",
        "Flask can be incredibly useful in the context of machine learning engineering for a variety of purposes:\n",
        "\n",
        "- **Model Deployment:** Flask can be used to deploy machine learning models as APIs. Once your model is trained, you can create a Flask app that exposes the model through a web API. This enables other applications, platforms, or services to easily interact with and use your trained models for making predictions.\n",
        "\n",
        "- **Data Visualization:** You can use Flask to create interactive visualizations of data and model predictions. This is particularly useful when you want to provide users with a graphical representation of your machine learning insights.\n",
        "\n",
        "- **Custom Preprocessing:** If your machine learning model requires preprocessing steps before making predictions, Flask can be used to create an interface where users can input data, and your app preprocesses the data and feeds it to the model for prediction.\n",
        "\n",
        "- **User Interface:** Flask can help you create user-friendly interfaces for your machine learning models, allowing non-technical users to interact with and utilize your models without writing code.\n",
        "\n",
        "- **A/B Testing and Experimentation:** Flask apps can be used to deploy different versions of your models for A/B testing or experimentation, allowing you to compare the performance of different models and make data-driven decisions.\n",
        "\n",
        "**3. Real-world Example:**\n",
        "Imagine you've trained a sentiment analysis model, and you want to allow users to input text and get predictions about the sentiment of the text. You can create a Flask app that provides a simple web interface where users can type in their text, and the app sends the text to your sentiment analysis model and displays the result."
      ]
    },
    {
      "cell_type": "markdown",
      "metadata": {
        "id": "yHTfSly5qyjK"
      },
      "source": [
        "A typical Flask application follows a specific structure that helps organize your code, templates, static files, and other resources. This structure is designed to keep your codebase organized and maintainable as your application grows. The layout typically consists of several key components:\n",
        "\n",
        "1. **Main Application File (`app.py` or similar):**\n",
        "   This is the entry point of your Flask application. It contains the core configuration, route definitions, and application setup. You define the routes (URLs) your application will respond to, and associate each route with a Python function that handles the logic for that route.\n",
        "\n",
        "2. **Templates Folder (`templates/`):**\n",
        "   This folder contains your HTML templates. Flask uses a templating engine (Jinja2 by default) to generate dynamic HTML content. Templates allow you to separate the presentation (HTML) from the logic (Python) in your application, making your code more organized and maintainable. Templates can also include placeholders for dynamic data that Flask fills in when rendering the template.\n",
        "\n",
        "3. **Static Folder (`static/`):**\n",
        "   The `static` folder holds static assets like CSS files, JavaScript files, images, fonts, and other resources that are directly served to the user's browser. These assets are typically used to style and enhance the appearance of your web application. By separating static assets from dynamic content, you can optimize the performance of your application.\n",
        "\n",
        "4. **Other Application Files and Modules:**\n",
        "   Depending on the complexity of your application, you might create additional modules or packages to handle different aspects of your application, such as database interactions, machine learning model deployment, authentication, and more. These modules help keep your codebase modular and maintainable.\n",
        "\n",
        "Here's a simplified example of the structure of a Flask application:\n",
        "\n",
        "```\n",
        "my_flask_app/\n",
        "├── app.py\n",
        "├── templates/\n",
        "│   ├── index.html\n",
        "│   ├── result.html\n",
        "├── static/\n",
        "│   ├── styles.css\n",
        "│   ├── script.js\n",
        "└── other_modules/\n",
        "    ├── database.py\n",
        "    ├── ml_model.py\n",
        "```\n",
        "\n",
        "In this example:\n",
        "\n",
        "- `app.py` is the main application file where you define routes, configure the app, and handle requests.\n",
        "- The `templates` folder contains HTML templates that define the structure of your web pages.\n",
        "- The `static` folder holds static assets like CSS and JavaScript files.\n",
        "- The `other_modules` folder might contain additional modules or packages for handling specific tasks, like interacting with a database (`database.py`) or deploying a machine learning model (`ml_model.py`).\n",
        "\n",
        "The separation of static files and templates helps you maintain clean and organized code. Static assets are served directly to users, while templates are used to dynamically generate HTML pages. This structure facilitates collaboration among team members and makes it easier to understand, maintain, and extend your Flask application."
      ]
    },
    {
      "cell_type": "markdown",
      "metadata": {
        "id": "ckZ-l9RTr_Ef"
      },
      "source": [
        "In this mini-project you'll be introduced to Flask by developing an application where your render a bar plot based on user-input data through an API. Note, colab is not a natural place for API development. Colab is mainly used here to be consistent with other mini-projects.\n",
        "\n",
        "As such, we'll need to leverage a tool called [ngrok](https://ngrok.com/). Ngrok is a tool that allows you to create secure tunnels from a public endpoint to a locally running web service or application. It enables you to expose your local server to the internet, making it accessible to others even if it's running on your own computer behind firewalls or NAT (Network Address Translation) devices. In this mini-project, we'll use ngrok to expose your colab instance to the wider internet. Again, you'd never use something like this for production.\n",
        "\n",
        "Go ahead and sign up for an ngrok account [here](https://ngrok.com/). It's free and useful for a wide variety of tasks."
      ]
    },
    {
      "cell_type": "code",
      "execution_count": 1,
      "metadata": {
        "colab": {
          "base_uri": "https://localhost:8080/"
        },
        "id": "Bc5p2nJfsxer",
        "outputId": "9b5d8ed8-0463-4287-c3dc-8aea39c98de7"
      },
      "outputs": [
        {
          "output_type": "stream",
          "name": "stdout",
          "text": [
            "Requirement already satisfied: pyngrok in /usr/local/lib/python3.10/dist-packages (7.2.1)\n",
            "Requirement already satisfied: PyYAML>=5.1 in /usr/local/lib/python3.10/dist-packages (from pyngrok) (6.0.2)\n",
            "Requirement already satisfied: flask in /usr/local/lib/python3.10/dist-packages (2.2.5)\n",
            "Requirement already satisfied: Werkzeug>=2.2.2 in /usr/local/lib/python3.10/dist-packages (from flask) (3.1.2)\n",
            "Requirement already satisfied: Jinja2>=3.0 in /usr/local/lib/python3.10/dist-packages (from flask) (3.1.4)\n",
            "Requirement already satisfied: itsdangerous>=2.0 in /usr/local/lib/python3.10/dist-packages (from flask) (2.2.0)\n",
            "Requirement already satisfied: click>=8.0 in /usr/local/lib/python3.10/dist-packages (from flask) (8.1.7)\n",
            "Requirement already satisfied: MarkupSafe>=2.0 in /usr/local/lib/python3.10/dist-packages (from Jinja2>=3.0->flask) (3.0.2)\n",
            "Requirement already satisfied: flask_ngrok in /usr/local/lib/python3.10/dist-packages (0.0.25)\n",
            "Requirement already satisfied: Flask>=0.8 in /usr/local/lib/python3.10/dist-packages (from flask_ngrok) (2.2.5)\n",
            "Requirement already satisfied: requests in /usr/local/lib/python3.10/dist-packages (from flask_ngrok) (2.32.3)\n",
            "Requirement already satisfied: Werkzeug>=2.2.2 in /usr/local/lib/python3.10/dist-packages (from Flask>=0.8->flask_ngrok) (3.1.2)\n",
            "Requirement already satisfied: Jinja2>=3.0 in /usr/local/lib/python3.10/dist-packages (from Flask>=0.8->flask_ngrok) (3.1.4)\n",
            "Requirement already satisfied: itsdangerous>=2.0 in /usr/local/lib/python3.10/dist-packages (from Flask>=0.8->flask_ngrok) (2.2.0)\n",
            "Requirement already satisfied: click>=8.0 in /usr/local/lib/python3.10/dist-packages (from Flask>=0.8->flask_ngrok) (8.1.7)\n",
            "Requirement already satisfied: charset-normalizer<4,>=2 in /usr/local/lib/python3.10/dist-packages (from requests->flask_ngrok) (3.4.0)\n",
            "Requirement already satisfied: idna<4,>=2.5 in /usr/local/lib/python3.10/dist-packages (from requests->flask_ngrok) (3.10)\n",
            "Requirement already satisfied: urllib3<3,>=1.21.1 in /usr/local/lib/python3.10/dist-packages (from requests->flask_ngrok) (2.2.3)\n",
            "Requirement already satisfied: certifi>=2017.4.17 in /usr/local/lib/python3.10/dist-packages (from requests->flask_ngrok) (2024.8.30)\n",
            "Requirement already satisfied: MarkupSafe>=2.0 in /usr/local/lib/python3.10/dist-packages (from Jinja2>=3.0->Flask>=0.8->flask_ngrok) (3.0.2)\n"
          ]
        }
      ],
      "source": [
        "!pip install pyngrok\n",
        "!pip install flask\n",
        "!pip install flask_ngrok"
      ]
    },
    {
      "cell_type": "code",
      "execution_count": 2,
      "metadata": {
        "colab": {
          "base_uri": "https://localhost:8080/"
        },
        "id": "JcQMe9d6tXeA",
        "outputId": "65a0d5cd-5cb8-4d66-c5a1-e36f61ebb9e0"
      },
      "outputs": [
        {
          "output_type": "stream",
          "name": "stdout",
          "text": [
            "/usr/local/bin/ngrok\n"
          ]
        }
      ],
      "source": [
        "!ls /usr/local/bin/ngrok"
      ]
    },
    {
      "cell_type": "code",
      "execution_count": 3,
      "metadata": {
        "colab": {
          "base_uri": "https://localhost:8080/"
        },
        "id": "vc8hwqdPnEtr",
        "outputId": "171f986b-f5cf-44d6-e682-4cfda0633941"
      },
      "outputs": [
        {
          "output_type": "stream",
          "name": "stdout",
          "text": [
            "Drive already mounted at /content/drive; to attempt to forcibly remount, call drive.mount(\"/content/drive\", force_remount=True).\n"
          ]
        }
      ],
      "source": [
        "from google.colab import drive\n",
        "drive.mount('/content/drive')"
      ]
    },
    {
      "cell_type": "code",
      "execution_count": 4,
      "metadata": {
        "colab": {
          "base_uri": "https://localhost:8080/"
        },
        "id": "InTUtK1pnWz1",
        "outputId": "793b1539-5a04-4588-9f21-6d0b89efd938"
      },
      "outputs": [
        {
          "output_type": "stream",
          "name": "stdout",
          "text": [
            "/content/drive/MyDrive/GDcc4/ColabNotebooks/cc4_curriculum/MiniProject_Flask\n",
            "mkdir: cannot create directory ‘/content/MiniProject_Flask’: File exists\n",
            "mkdir: cannot create directory ‘/content/MiniProject_Flask/static’: File exists\n",
            "mkdir: cannot create directory ‘/content/MiniProject_Flask/templates’: File exists\n",
            "-rw------- 1 root root 790 Oct 18 21:54 /content/MiniProject_Flask/templates/index.html\n",
            "-rw------- 1 root root 163 Nov 11 04:19 /content/MiniProject_Flask/static/styles.css\n",
            "/content/MiniProject_Flask\n",
            "/content/MiniProject_Flask\n",
            ".:\n",
            "templates  static  bar_plot.png\n",
            "\n",
            "./templates:\n",
            "index.html\n",
            "\n",
            "./static:\n",
            "styles.css\n"
          ]
        }
      ],
      "source": [
        "# Do this once to get static and templates directories to workspace\n",
        "%cd /content/drive/MyDrive/GDcc4/ColabNotebooks/cc4_curriculum/MiniProject_Flask\n",
        "!mkdir /content/MiniProject_Flask\n",
        "!mkdir /content/MiniProject_Flask/{static,templates}\n",
        "!cp -p static/styles.css /content/MiniProject_Flask/static\n",
        "!cp -p templates/index.html /content/MiniProject_Flask/templates\n",
        "!ls -rlt /content/MiniProject_Flask/*/*\n",
        "%cd /content/MiniProject_Flask\n",
        "!pwd\n",
        "!ls -rR"
      ]
    },
    {
      "cell_type": "code",
      "execution_count": 5,
      "metadata": {
        "colab": {
          "base_uri": "https://localhost:8080/"
        },
        "id": "RFHolVrLn4wA",
        "outputId": "0783929e-83e5-4bb8-ee4e-85ec79e858c6"
      },
      "outputs": [
        {
          "output_type": "stream",
          "name": "stdout",
          "text": [
            "/content/MiniProject_Flask\n",
            "static/styles.css\n",
            ".chart-container {\n",
            "    width: 80%;\n",
            "    margin: 20px auto;\n",
            "}\n",
            "\n",
            ".ml_topic-container {\n",
            "    background-color: #EFEFEF;\n",
            "    width: 80%;\n",
            "    margin: 20px auto;\n",
            "}\n",
            "templates/index.html\n",
            "<!DOCTYPE html>\n",
            "<html>\n",
            "<head>\n",
            " <title>Data Visualization with Flask</title>\n",
            " <link rel=\"stylesheet\" href=\"{{ url_for('static', filename='styles.css') }}\">\n",
            "</head>\n",
            "<body>\n",
            " <h1>Data Visualization with Flask</h1>\n",
            " <form method=\"POST\" action=\"/\">\n",
            "     <div>\n",
            "         <label for=\"categories\">Categories (comma-separated):</label>\n",
            "         <input type=\"text\" name=\"categories\" required>\n",
            "     </div>\n",
            "     <div>\n",
            "         <label for=\"values\">Values (comma-separated):</label>\n",
            "         <input type=\"text\" name=\"values\" required>\n",
            "     </div>\n",
            "     <button type=\"submit\">Generate Bar Chart</button>\n",
            " </form>\n",
            " <div class=\"chart-container\">\n",
            "     {% if chart_url %}\n",
            "         <img src=\"data:image/png;base64,{{ chart_url }}\" alt=\"Bar Chart\">\n",
            "     {% endif %}\n",
            " </div>\n",
            "</body>\n",
            "</html>"
          ]
        }
      ],
      "source": [
        "%cd /content/MiniProject_Flask\n",
        "!echo static/styles.css\n",
        "!cat static/styles.css\n",
        "!echo \"\"\n",
        "!echo templates/index.html\n",
        "!cat templates/index.html"
      ]
    },
    {
      "cell_type": "markdown",
      "metadata": {
        "id": "harGkq13JK9j"
      },
      "source": [
        "Execute the cell below to authenticate to ngrok. Paste your authentication token after copying it from [https://dashboard.ngrok.com/auth](https://dashboard.ngrok.com/auth). This assumes you've already created an ngrok account.  "
      ]
    },
    {
      "cell_type": "code",
      "execution_count": 6,
      "metadata": {
        "colab": {
          "base_uri": "https://localhost:8080/"
        },
        "id": "t_CERy7auqz3",
        "outputId": "23a50918-ba83-4601-a78c-dcf94ad1530d"
      },
      "outputs": [
        {
          "name": "stdout",
          "output_type": "stream",
          "text": [
            "Enter your authtoken, which can be copied from https://dashboard.ngrok.com/auth\n",
            "··········\n"
          ]
        }
      ],
      "source": [
        "import getpass\n",
        "from pyngrok import ngrok, conf\n",
        "\n",
        "# check https://dashboard.ngrok.com/get-started/your-authtoken to get authtoken\n",
        "# ngrok.set_auth_token(\"your_auth_token\")\n",
        "\n",
        "print(\"Enter your authtoken, which can be copied from https://dashboard.ngrok.com/auth\")\n",
        "conf.get_default().auth_token = getpass.getpass()"
      ]
    },
    {
      "cell_type": "code",
      "source": [
        "# Get the list of active tunnels - disconnect if any\n",
        "# https://dashboard.ngrok.com/agents - can stop tunnel session here too\n",
        "# !ngrok http://localhost:5000/\n",
        "# from pyngrok import ngrok\n",
        "tunnels = ngrok.get_tunnels()\n",
        "print(type(tunnels))\n",
        "print(f\"Num tunnels = {len(tunnels)}\")\n",
        "print(f\"Tunnels = {tunnels}\")\n",
        "# Terminate each tunnel\n",
        "if len(tunnels) > 0:\n",
        "  for tunnel in tunnels:\n",
        "    # tunnel.close()\n",
        "    ngrok.disconnect(tunnel.public_url)\n",
        "# # Disconnect all open tunnels\n",
        "# ngrok.disconnect()"
      ],
      "metadata": {
        "colab": {
          "base_uri": "https://localhost:8080/"
        },
        "id": "UHEsd9kiK3QK",
        "outputId": "b71652b4-29ff-4755-8d58-37d372d626ed"
      },
      "execution_count": 7,
      "outputs": [
        {
          "output_type": "stream",
          "name": "stdout",
          "text": [
            "<class 'list'>\n",
            "Num tunnels = 0\n",
            "Tunnels = []\n"
          ]
        }
      ]
    },
    {
      "cell_type": "code",
      "source": [
        "from flask import Flask, render_template, render_template_string, request\n",
        "from flask_ngrok import run_with_ngrok\n",
        "from pyngrok import ngrok\n",
        "import flask\n",
        "import threading\n",
        "import matplotlib.pyplot as plt\n",
        "import io\n",
        "import os\n",
        "import base64\n",
        "\n",
        "print(\"flask:\", flask.__version__)\n",
        "print(\"ngrok:\", ngrok.__version__)\n",
        "!pwd\n",
        "!ls -lrRt"
      ],
      "metadata": {
        "colab": {
          "base_uri": "https://localhost:8080/"
        },
        "id": "VrRoh5-mG-5K",
        "outputId": "10f9d498-154d-458e-ff4e-64ae6504d6d4"
      },
      "execution_count": 8,
      "outputs": [
        {
          "output_type": "stream",
          "name": "stdout",
          "text": [
            "flask: 2.2.5\n",
            "ngrok: 7.2.1\n",
            "/content/MiniProject_Flask\n",
            ".:\n",
            "total 24\n",
            "drwxr-xr-x 2 root root  4096 Nov 11 20:26 static\n",
            "drwxr-xr-x 2 root root  4096 Nov 11 20:26 templates\n",
            "-rw-r--r-- 1 root root 14339 Nov 11 23:36 bar_plot.png\n",
            "\n",
            "./static:\n",
            "total 4\n",
            "-rw------- 1 root root 163 Nov 11 04:19 styles.css\n",
            "\n",
            "./templates:\n",
            "total 4\n",
            "-rw------- 1 root root 790 Oct 18 21:54 index.html\n"
          ]
        }
      ]
    },
    {
      "cell_type": "markdown",
      "metadata": {
        "id": "N3tXQyHOKORk"
      },
      "source": [
        "Time to create our Flask application. Here are your tasks:\n",
        "\n",
        "1. In your colab notebook create a new folder named `static`. In the folder create a file called `styles.css` and populate it with the following code:\n",
        "```css\n",
        ".chart-container {\n",
        "    width: 80%;\n",
        "    margin: 20px auto;\n",
        "}\n",
        "```\n",
        "This creates parameters for the bar chart we'll be creating. Note, the full directory of the file should be `/content/static/styles.css`.\n",
        "2. Create another folder named `templates`. Create a file called `index.html` and populate it with the following html code:\n",
        "```html\n",
        "<!DOCTYPE html>\n",
        "<html>\n",
        "<head>\n",
        "    <title>Data Visualization with Flask</title>\n",
        "    <link rel=\"stylesheet\" href=\"{{ url_for('static', filename='styles.css') }}\">\n",
        "</head>\n",
        "<body>\n",
        "    <h1>Data Visualization with Flask</h1>\n",
        "    <form method=\"POST\" action=\"/\">\n",
        "        <div>\n",
        "            <label for=\"categories\">Categories (comma-separated):</label>\n",
        "            <input type=\"text\" name=\"categories\" required>\n",
        "        </div>\n",
        "        <div>\n",
        "            <label for=\"values\">Values (comma-separated):</label>\n",
        "            <input type=\"text\" name=\"values\" required>\n",
        "        </div>\n",
        "        <button type=\"submit\">Generate Bar Chart</button>\n",
        "    </form>\n",
        "    <div class=\"chart-container\">\n",
        "        {% if chart_url %}\n",
        "            <img src=\"data:image/png;base64,{{ chart_url }}\" alt=\"Bar Chart\">\n",
        "        {% endif %}\n",
        "    </div>\n",
        "</body>\n",
        "</html>\n",
        "```\n",
        "Html is a pretty intuitive language to understand. Go through each line and make sure you understand what's happening. An extremely useful skill for an engineer is to be able to *understand* any kind of code, even if the engineer doesn't fully know how to write in the language."
      ]
    },
    {
      "cell_type": "markdown",
      "metadata": {
        "id": "GC7RCUTzMOVs"
      },
      "source": [
        "1. Write a function called `generate_bar_chart` that takes a list of category names and respective values and generates a bar chart using [plt.bar](https://matplotlib.org/stable/api/_as_gen/matplotlib.pyplot.bar.html). In the function, return your barplot as a UTF-8 encoded string. It may be useful to create a BytesIO object using [io.BytesIO](https://docs.python.org/3/library/io.html#io.BytesIO) to store the barplot and then [base64.b64encode](https://docs.python.org/3/library/base64.html#base64.b64encode) to create the encoding.\n",
        "2. Now, you'll be filling in the `index` function that serves as the landing page for our application. If you're not too familiar with how HTTP works, read this quick primer [here](https://jaimelightfoot.com/blog/how-http-works/). From the form defined in `index.html`, extract the input for the `categories` field and store it in a list. Also, extract the input for the `values` field and store it in a list as well.\n",
        "3. Pass the two lists from the previous step to your function `generate_bar_chart`.\n",
        "4. The output of `generate_bar_chart` in the index function should then be passed to Flask's [render_template](https://flask.palletsprojects.com/en/2.3.x/api/#flask.render_template) and returned by the function.\n",
        "5. Execute the cell below with your code and click on the link output by \"ngrok tunnel\". This is the application landing page. See if everything works.\n",
        "6. Have fun with the application built here. See if you can extend it in some way. Make sure you understand how the python code interacts with the html template.\n",
        "\n",
        "**If you rerun the cell below and get a port issue, go ahead and restart the colab runtime environment and try again.**"
      ]
    },
    {
      "cell_type": "code",
      "source": [
        "# HTML for the dropdown form\n",
        "dropdown_html = \"\"\"\n",
        "<!DOCTYPE html>\n",
        "<html lang=\"en\">\n",
        "<head>\n",
        "    <meta charset=\"UTF-8\">\n",
        "    <meta name=\"viewport\" content=\"width=device-width, initial-scale=1.0\">\n",
        "    <title>Flask Dropdown Example</title>\n",
        "</head>\n",
        "<body>\n",
        "    <h2>ML Glossary - Select an Topic</h2>\n",
        "    <form action=\"/ml_info\" method=\"POST\">\n",
        "        <label for=\"option\">Choose an option:</label>\n",
        "        <select name=\"option\" id=\"option\">\n",
        "            {% for opt in options %}\n",
        "                <option value=\"{{ opt }}\" {% if opt == selected_option %}selected{% endif %}>{{ opt }}</option>\n",
        "            {% endfor %}\n",
        "        </select><br><br>\n",
        "\n",
        "        <input type=\"submit\" value=\"Submit\">\n",
        "    </form>\n",
        "    {% if message %}\n",
        "        <h4> {{ message }} </h4>\n",
        "    {% endif %}\n",
        "    <br><br>\n",
        "    <a href=\"https://cloud.google.com/learn/what-is-artificial-intelligence\">Google Cloud Reference</a>\n",
        "</body>\n",
        "</html>\n",
        "\"\"\"\n",
        "\n",
        "options = ['Artifical Intelligence', 'Machine Learning',\n",
        "           'Supervised Learning', 'Classification', 'Regression',\n",
        "           'Unsupervised Learning', 'Clustering', 'Association', 'Dimensionality Reduction',\n",
        "           'Reinforcement Learning', 'Overfitting', 'Underfitting',\n",
        "           'Neural Networks']\n",
        "def_ai = \"Artificial intelligence is a broad field, which refers to the use of technologies to build machines and computers that have the ability to mimic cognitive functions associated with human intelligence\"\n",
        "def_ml = \"Machine learning is a subset of artificial intelligence that automatically enables a machine or system to learn and improve from experience, with algorithms to analyze large amounts of data\"\n",
        "def_suplearn = \"Supervised learning is a category of machine learning that uses labeled datasets to train algorithms to predict outcomes and recognize patterns, by classification or regression\"\n",
        "def_classification = \"Classification algorithms are used to group data by predicting a categorical label or output variable based on the input data, when 2 or more classes\"\n",
        "def_regression = \"Regression algorithms are used to predict a real or continuous value, where the algorithm detects a relationship between two or more variables.\"\n",
        "def_unsuplearn = \"Unsupervised machine learning models are given unlabeled data to discover patterns and insights without any explicit guidance by clustering, association, dimensionality reduction etc.\"\n",
        "def_clustering = \"Clustering algorithms split data into natural groups by finding similar structures or patterns in uncategorized data, used in fraud detection, image classification\"\n",
        "def_association = \"Association rule mining is to find correlations in data, used to analyze retail baskets or transactional datasets\"\n",
        "def_dimreduction = \"Dimensionality reduction extracts important features from the dataset, reducing the number of irrelevant features by principle component analysis (PCA) and singular value decomposition (SVD) algorithms.\"\n",
        "def_reinlearn = \"Reinforcement Learning is learning to perform a defined task through a feedback loop until its performance is within a desirable range.\"\n",
        "def_overfit = \"Overfitting is a common problem in ML where a model learns the training data too well, including noise causing poor performance with new data\"\n",
        "def_underfit = \"Underfitting in a ML model happens when it is too simple and cannot capture the underlying patterns in the data\"\n",
        "def_nn = \"Neural Networks are a type of ML algorithm, where interconnected nodes called neurons use weights and bias to train and predict, used in image recognition and Natural Language Processing\"\n",
        "\n",
        "msgs = [def_ai, def_ml, def_suplearn, def_classification, def_regression,\n",
        "        def_unsuplearn, def_clustering, def_association, def_dimreduction,\n",
        "        def_reinlearn, def_overfit, def_underfit, def_nn]\n",
        "\n",
        "# ml_dict = dict(zip(options, msgs))\n",
        "# print(ml_dict.keys())\n"
      ],
      "metadata": {
        "id": "bF_1UYudGKbc"
      },
      "execution_count": 12,
      "outputs": []
    },
    {
      "cell_type": "code",
      "source": [
        "def generate_bar_chart(categories, values):\n",
        "    # Write code here for a fuction that takes a list of category names and\n",
        "    # respective values and generates a bar chart using plt.bar. Return your\n",
        "    # barplot as a UTF-8 encoded string.\n",
        "    plt.bar(categories, values)\n",
        "    plt.xlabel('Categories')\n",
        "    plt.ylabel('Values')\n",
        "    plt.title('Bar Chart Example')\n",
        "    # plt.show()\n",
        "    plt.savefig('bar_plot.png')\n",
        "    with open(\"bar_plot.png\", \"rb\") as img_file:\n",
        "      b64_bytes = base64.b64encode(img_file.read())\n",
        "      b64_string = b64_bytes.decode('utf-8')\n",
        "    return b64_string"
      ],
      "metadata": {
        "id": "8WtpANkVa2lZ"
      },
      "execution_count": 13,
      "outputs": []
    },
    {
      "cell_type": "code",
      "execution_count": 14,
      "metadata": {
        "id": "TOh3vvmKCCSL",
        "colab": {
          "base_uri": "https://localhost:8080/"
        },
        "outputId": "0dae7426-08c1-4328-b2fe-d57b2ffb6829"
      },
      "outputs": [
        {
          "output_type": "stream",
          "name": "stdout",
          "text": [
            " * ngrok tunnel \"https://f079-35-232-246-74.ngrok-free.app\" -> \"http://127.0.0.1:5000\"\n",
            " * Serving Flask app '__main__'\n",
            " * Debug mode: on\n"
          ]
        },
        {
          "output_type": "stream",
          "name": "stderr",
          "text": [
            "INFO:werkzeug:\u001b[31m\u001b[1mWARNING: This is a development server. Do not use it in a production deployment. Use a production WSGI server instead.\u001b[0m\n",
            " * Running on http://127.0.0.1:5000\n",
            "INFO:werkzeug:\u001b[33mPress CTRL+C to quit\u001b[0m\n"
          ]
        }
      ],
      "source": [
        "# Ref: https://stackoverflow.com/questions/66349664/display-image-with-python-flask-template-engine\n",
        "\n",
        "# Open a ngrok tunnel to the HTTP server\n",
        "port = 5000\n",
        "public_url = ngrok.connect(port).public_url\n",
        "print(' * ngrok tunnel \"{}\" -> \"http://127.0.0.1:{}\"'.format(public_url, port))\n",
        "\n",
        "# Create Flask app specifying template_folder\n",
        "os.environ[\"FLASK_DEBUG\"] = \"development\"\n",
        "app = Flask(__name__, template_folder='./templates')\n",
        "\n",
        "# Update any base URLs to use the public ngrok URL\n",
        "app.config[\"BASE_URL\"] = public_url\n",
        "\n",
        "@app.route('/', methods=['GET', 'POST'])\n",
        "def index():\n",
        "    chart_url = None\n",
        "    b64_str = None\n",
        "    print(\"request.method:\", request.method)\n",
        "    # if request.method == 'GET':\n",
        "    #    return render_template(\"templates/index.html\")\n",
        "    if request.method == 'POST':\n",
        "        categories_str = request.form['categories']\n",
        "        values_str = request.form['values']\n",
        "        # Extract categories from the request form and convert the string to a\n",
        "        # list.\n",
        "        # Whenever we enter Information and submit the data get transferred over to the POST request\n",
        "        # Extract values from the request form and convert the input string to a\n",
        "        # list of integers.\n",
        "        categories = categories_str.split(',')\n",
        "        values = [int(x) for x in values_str.split(',')]\n",
        "        # print(categories, values)\n",
        "        # Pass your categories and values to the generate_bar_chart function.\n",
        "        b64_str = generate_bar_chart(categories, values)\n",
        "\n",
        "    # Return a render_template function, passing your bar plot as input.\n",
        "    # return render_template(\"/content/MiniProject_Flask/templates/index.html\", data=b64_str)\n",
        "    return render_template(\"index.html\", chart_url=b64_str)\n",
        "\n",
        "@app.route(\"/hello\")\n",
        "def hello():\n",
        "    hstr = \"Hello from Flask in Colab!\"\n",
        "    return hstr\n",
        "\n",
        "@app.route(\"/ml_info\", methods=['GET', 'POST'])\n",
        "def ml_info():\n",
        "    selected_option = None\n",
        "    message = None\n",
        "    if request.method == 'POST':\n",
        "      selected_option = request.form.get('option')\n",
        "      num_opt = len(options)\n",
        "      for i in range(num_opt):\n",
        "        if (selected_option == options[i]):\n",
        "          message = msgs[i]\n",
        "    return render_template_string(dropdown_html, options=options,\n",
        "                                  selected_option=selected_option,\n",
        "                                  message=message)\n",
        "if __name__ == '__main__':\n",
        "    # Start the Flask server in a new thread\n",
        "  threading.Thread(target=app.run, kwargs={\"use_reloader\": False}).start()"
      ]
    },
    {
      "cell_type": "code",
      "source": [
        "# Disconnect when done\n",
        "# https://dashboard.ngrok.com/agents - stop instances of running ngrok agents\n",
        "# Get the list of active tunnels\n",
        "# from pyngrok import ngrok\n",
        "tunnels = ngrok.get_tunnels()\n",
        "print(type(tunnels))\n",
        "print(f\"Num tunnels = {len(tunnels)}\")\n",
        "print(f\"Tunnels = {tunnels}\")\n",
        "# Terminate each tunnel\n",
        "if len(tunnels) > 0:\n",
        "  for tunnel in tunnels:\n",
        "    # tunnel.close()\n",
        "    ngrok.disconnect(tunnel.public_url)"
      ],
      "metadata": {
        "colab": {
          "base_uri": "https://localhost:8080/"
        },
        "outputId": "cd179887-2bd4-4e64-cbda-07996f14e62a",
        "id": "fz9TFwMfdya4"
      },
      "execution_count": 15,
      "outputs": [
        {
          "output_type": "stream",
          "name": "stdout",
          "text": [
            "<class 'list'>\n",
            "Num tunnels = 1\n",
            "Tunnels = [<NgrokTunnel: \"https://f079-35-232-246-74.ngrok-free.app\" -> \"http://localhost:5000\">]\n"
          ]
        },
        {
          "output_type": "stream",
          "name": "stderr",
          "text": [
            "WARNING:pyngrok.process.ngrok:t=2024-11-12T00:20:44+0000 lvl=warn msg=\"Stopping forwarder\" name=http-5000-1993f0e4-f03d-4800-b9ae-75d09904b94c acceptErr=\"failed to accept connection: Listener closed\"\n"
          ]
        }
      ]
    },
    {
      "cell_type": "code",
      "source": [
        "# https://f079-35-232-246-74.ngrok-free.app/hello shows\n",
        "# Hello from Flask in Colab!\n",
        "# https://f079-35-232-246-74.ngrok-free.app/\n",
        "# Takes categories and values input and displays bar chart\n",
        "# https://f079-35-232-246-74.ngrok-free.app/ml_info\n",
        "# Shows a dropdown menu and prints text based on selection"
      ],
      "metadata": {
        "id": "CubsTJzQb_SU"
      },
      "execution_count": null,
      "outputs": []
    },
    {
      "cell_type": "markdown",
      "source": [
        "Summary:  \n",
        "\n",
        "Flask is a Python-based web framework used to build web applications, APIs and microservices.\n",
        "\n",
        "ngrok is a cross-platform application that allows developers to expose local web servers to the internet, with secure tunnels between a local web server and an endpoint on ngrok's servers. This allows developers to expose their local servers to the internet without needing a public IP or domain name. pyngrok is a Python wrapper for ngrok.\n",
        "\n",
        "Following were done for this MiniProject.<br>\n",
        "\n",
        "*   Install Flask and ngrok.<br>\n",
        "*   In a local directory /content/MiniProject_Flask created static/styles.css and templated/index.html files as described, to get input and display the bar chart at the browser.<br>\n",
        "*   Authenticated with ngrok and cleared any previous sessions or tunnels.<br>\n",
        "*   Just to try, also created a dropdown_html string to select a topic and get a brief description, like the beginnings of a Machine Learning glossary.\n",
        "\n",
        "Created a Flask app with the following routes.\n",
        "1.   / using index.html to get categories and values and render_template a bar chart using a byte64 encoded string for the image.<br>\n",
        "2.   /hello to display \"Hello from Flask in Colab!\" as a quick debug of the tunnel<br>\n",
        "3.   /ml_info using dropdown_html to pick a topic from a dropdown menu and get a brief text on the topic. Here render_template_string is used.<br>\n",
        "\n",
        "Opened a ngrok tunnel to the HTTP server on port 5000 and obtained the public_url tunnel endpoint. The other endpoint is the localhost of the laptop.\n",
        "\n",
        "Tried the 3 routes on the public_url (https://f079-35-232-246-74.ngrok-free.app) obtained. Captured example webpages for the 3 routes.<br>\n",
        " web_capture_bar_chart_input<br>\n",
        " web_capture_bar_chart_plot<br>\n",
        " web_capture_hello_print<br>\n",
        " web_capture_ml_info<br>\n",
        "\n",
        "\n",
        "This is a concept learning exercise. Some of this could be expanded depending on what it is used for.\n",
        "\n",
        "\n"
      ],
      "metadata": {
        "id": "6qQHuG-QtwvR"
      }
    },
    {
      "cell_type": "markdown",
      "source": [],
      "metadata": {
        "id": "og9RKMeftwT6"
      }
    }
  ],
  "metadata": {
    "colab": {
      "provenance": [],
      "include_colab_link": true
    },
    "kernelspec": {
      "display_name": "Python 3",
      "name": "python3"
    },
    "language_info": {
      "name": "python"
    }
  },
  "nbformat": 4,
  "nbformat_minor": 0
}